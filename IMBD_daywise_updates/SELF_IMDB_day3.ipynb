{
  "nbformat": 4,
  "nbformat_minor": 0,
  "metadata": {
    "colab": {
      "provenance": []
    },
    "kernelspec": {
      "name": "python3",
      "display_name": "Python 3"
    },
    "language_info": {
      "name": "python"
    }
  },
  "cells": [
    {
      "cell_type": "code",
      "execution_count": 2,
      "metadata": {
        "id": "OJsI03XNPFWP"
      },
      "outputs": [],
      "source": [
        "#IMDB==MOVIES RATING DATA"
      ]
    },
    {
      "cell_type": "code",
      "source": [
        "import numpy as np"
      ],
      "metadata": {
        "id": "8lVo_R3PP7xl"
      },
      "execution_count": 3,
      "outputs": []
    },
    {
      "cell_type": "code",
      "source": [
        "import pandas as pd"
      ],
      "metadata": {
        "id": "90uSRz_IQLMq"
      },
      "execution_count": 4,
      "outputs": []
    },
    {
      "cell_type": "code",
      "source": [
        "import matplotlib.pyplot as plt"
      ],
      "metadata": {
        "id": "uppWn0HOQOLM"
      },
      "execution_count": 5,
      "outputs": []
    },
    {
      "cell_type": "code",
      "source": [
        "import seaborn as sns"
      ],
      "metadata": {
        "id": "uX_D3cArQSlw"
      },
      "execution_count": 6,
      "outputs": []
    },
    {
      "cell_type": "code",
      "source": [
        "imdb=pd.read_csv(\"/content/imdb_data.csv\")"
      ],
      "metadata": {
        "id": "4YMVB2JCQUjv"
      },
      "execution_count": 7,
      "outputs": []
    },
    {
      "cell_type": "code",
      "source": [
        "imdb"
      ],
      "metadata": {
        "colab": {
          "base_uri": "https://localhost:8080/",
          "height": 635
        },
        "id": "RRLAyFw5QfxR",
        "outputId": "5d7cece0-e6c0-4266-897d-aac7273834b9"
      },
      "execution_count": 8,
      "outputs": [
        {
          "output_type": "execute_result",
          "data": {
            "text/plain": [
              "             id                          primaryTitle  \\\n",
              "0     tt0035423                        Kate & Leopold   \n",
              "1     tt0065421                        The Aristocats   \n",
              "2     tt0065938                        Kelly's Heroes   \n",
              "3     tt0066026                               M*A*S*H   \n",
              "4     tt0066206                                Patton   \n",
              "...         ...                                   ...   \n",
              "3343  tt9770150                             Nomadland   \n",
              "3344  tt9777666                      The Tomorrow War   \n",
              "3345  tt9784798           Judas and the Black Messiah   \n",
              "3346  tt9844522  Escape Room: Tournament of Champions   \n",
              "3347  tt9893250                          I Care a Lot   \n",
              "\n",
              "                             originalTitle  isAdult  runtimeMinutes  \\\n",
              "0                           Kate & Leopold        0             118   \n",
              "1                           The AristoCats        0              78   \n",
              "2                           Kelly's Heroes        0             144   \n",
              "3                                  M*A*S*H        0             116   \n",
              "4                                   Patton        0             172   \n",
              "...                                    ...      ...             ...   \n",
              "3343                             Nomadland        0             107   \n",
              "3344                      The Tomorrow War        0             138   \n",
              "3345           Judas and the Black Messiah        0             126   \n",
              "3346  Escape Room: Tournament of Champions        0              88   \n",
              "3347                          I Care a Lot        0             118   \n",
              "\n",
              "                          genres  averageRating  numVotes     budget  \\\n",
              "0         Comedy,Fantasy,Romance            6.4     87925   48000000   \n",
              "1     Adventure,Animation,Comedy            7.1    111758    4000000   \n",
              "2           Adventure,Comedy,War            7.6     52628    4000000   \n",
              "3               Comedy,Drama,War            7.4     75784    3500000   \n",
              "4            Biography,Drama,War            7.9    106476   12000000   \n",
              "...                          ...            ...       ...        ...   \n",
              "3343                       Drama            7.3    175977    5000000   \n",
              "3344      Action,Adventure,Drama            6.6    220617  200000000   \n",
              "3345     Biography,Drama,History            7.4     88568   26000000   \n",
              "3346     Action,Adventure,Horror            5.7     56955   15000000   \n",
              "3347          Comedy,Crime,Drama            6.4    141433   14000000   \n",
              "\n",
              "           gross        release_date              directors  \n",
              "0     76019048.0   December 11, 2001          James Mangold  \n",
              "1     35459543.0   December 11, 1970    Wolfgang Reitherman  \n",
              "2      5200000.0     January 1, 1970        Brian G. Hutton  \n",
              "3     81600000.0    January 25, 1970          Robert Altman  \n",
              "4     61749765.0    February 4, 1970  Franklin J. Schaffner  \n",
              "...          ...                 ...                    ...  \n",
              "3343  39458207.0  September 11, 2020             Chloé Zhao  \n",
              "3344  14400000.0       June 30, 2021            Chris McKay  \n",
              "3345   7478009.0    February 1, 2021             Shaka King  \n",
              "3346  65774490.0        July 1, 2021           Adam Robitel  \n",
              "3347   1351662.0  September 12, 2020             J Blakeson  \n",
              "\n",
              "[3348 rows x 12 columns]"
            ],
            "text/html": [
              "\n",
              "  <div id=\"df-3a0de186-f416-4447-84e8-6be2b08b2c55\" class=\"colab-df-container\">\n",
              "    <div>\n",
              "<style scoped>\n",
              "    .dataframe tbody tr th:only-of-type {\n",
              "        vertical-align: middle;\n",
              "    }\n",
              "\n",
              "    .dataframe tbody tr th {\n",
              "        vertical-align: top;\n",
              "    }\n",
              "\n",
              "    .dataframe thead th {\n",
              "        text-align: right;\n",
              "    }\n",
              "</style>\n",
              "<table border=\"1\" class=\"dataframe\">\n",
              "  <thead>\n",
              "    <tr style=\"text-align: right;\">\n",
              "      <th></th>\n",
              "      <th>id</th>\n",
              "      <th>primaryTitle</th>\n",
              "      <th>originalTitle</th>\n",
              "      <th>isAdult</th>\n",
              "      <th>runtimeMinutes</th>\n",
              "      <th>genres</th>\n",
              "      <th>averageRating</th>\n",
              "      <th>numVotes</th>\n",
              "      <th>budget</th>\n",
              "      <th>gross</th>\n",
              "      <th>release_date</th>\n",
              "      <th>directors</th>\n",
              "    </tr>\n",
              "  </thead>\n",
              "  <tbody>\n",
              "    <tr>\n",
              "      <th>0</th>\n",
              "      <td>tt0035423</td>\n",
              "      <td>Kate &amp; Leopold</td>\n",
              "      <td>Kate &amp; Leopold</td>\n",
              "      <td>0</td>\n",
              "      <td>118</td>\n",
              "      <td>Comedy,Fantasy,Romance</td>\n",
              "      <td>6.4</td>\n",
              "      <td>87925</td>\n",
              "      <td>48000000</td>\n",
              "      <td>76019048.0</td>\n",
              "      <td>December 11, 2001</td>\n",
              "      <td>James Mangold</td>\n",
              "    </tr>\n",
              "    <tr>\n",
              "      <th>1</th>\n",
              "      <td>tt0065421</td>\n",
              "      <td>The Aristocats</td>\n",
              "      <td>The AristoCats</td>\n",
              "      <td>0</td>\n",
              "      <td>78</td>\n",
              "      <td>Adventure,Animation,Comedy</td>\n",
              "      <td>7.1</td>\n",
              "      <td>111758</td>\n",
              "      <td>4000000</td>\n",
              "      <td>35459543.0</td>\n",
              "      <td>December 11, 1970</td>\n",
              "      <td>Wolfgang Reitherman</td>\n",
              "    </tr>\n",
              "    <tr>\n",
              "      <th>2</th>\n",
              "      <td>tt0065938</td>\n",
              "      <td>Kelly's Heroes</td>\n",
              "      <td>Kelly's Heroes</td>\n",
              "      <td>0</td>\n",
              "      <td>144</td>\n",
              "      <td>Adventure,Comedy,War</td>\n",
              "      <td>7.6</td>\n",
              "      <td>52628</td>\n",
              "      <td>4000000</td>\n",
              "      <td>5200000.0</td>\n",
              "      <td>January 1, 1970</td>\n",
              "      <td>Brian G. Hutton</td>\n",
              "    </tr>\n",
              "    <tr>\n",
              "      <th>3</th>\n",
              "      <td>tt0066026</td>\n",
              "      <td>M*A*S*H</td>\n",
              "      <td>M*A*S*H</td>\n",
              "      <td>0</td>\n",
              "      <td>116</td>\n",
              "      <td>Comedy,Drama,War</td>\n",
              "      <td>7.4</td>\n",
              "      <td>75784</td>\n",
              "      <td>3500000</td>\n",
              "      <td>81600000.0</td>\n",
              "      <td>January 25, 1970</td>\n",
              "      <td>Robert Altman</td>\n",
              "    </tr>\n",
              "    <tr>\n",
              "      <th>4</th>\n",
              "      <td>tt0066206</td>\n",
              "      <td>Patton</td>\n",
              "      <td>Patton</td>\n",
              "      <td>0</td>\n",
              "      <td>172</td>\n",
              "      <td>Biography,Drama,War</td>\n",
              "      <td>7.9</td>\n",
              "      <td>106476</td>\n",
              "      <td>12000000</td>\n",
              "      <td>61749765.0</td>\n",
              "      <td>February 4, 1970</td>\n",
              "      <td>Franklin J. Schaffner</td>\n",
              "    </tr>\n",
              "    <tr>\n",
              "      <th>...</th>\n",
              "      <td>...</td>\n",
              "      <td>...</td>\n",
              "      <td>...</td>\n",
              "      <td>...</td>\n",
              "      <td>...</td>\n",
              "      <td>...</td>\n",
              "      <td>...</td>\n",
              "      <td>...</td>\n",
              "      <td>...</td>\n",
              "      <td>...</td>\n",
              "      <td>...</td>\n",
              "      <td>...</td>\n",
              "    </tr>\n",
              "    <tr>\n",
              "      <th>3343</th>\n",
              "      <td>tt9770150</td>\n",
              "      <td>Nomadland</td>\n",
              "      <td>Nomadland</td>\n",
              "      <td>0</td>\n",
              "      <td>107</td>\n",
              "      <td>Drama</td>\n",
              "      <td>7.3</td>\n",
              "      <td>175977</td>\n",
              "      <td>5000000</td>\n",
              "      <td>39458207.0</td>\n",
              "      <td>September 11, 2020</td>\n",
              "      <td>Chloé Zhao</td>\n",
              "    </tr>\n",
              "    <tr>\n",
              "      <th>3344</th>\n",
              "      <td>tt9777666</td>\n",
              "      <td>The Tomorrow War</td>\n",
              "      <td>The Tomorrow War</td>\n",
              "      <td>0</td>\n",
              "      <td>138</td>\n",
              "      <td>Action,Adventure,Drama</td>\n",
              "      <td>6.6</td>\n",
              "      <td>220617</td>\n",
              "      <td>200000000</td>\n",
              "      <td>14400000.0</td>\n",
              "      <td>June 30, 2021</td>\n",
              "      <td>Chris McKay</td>\n",
              "    </tr>\n",
              "    <tr>\n",
              "      <th>3345</th>\n",
              "      <td>tt9784798</td>\n",
              "      <td>Judas and the Black Messiah</td>\n",
              "      <td>Judas and the Black Messiah</td>\n",
              "      <td>0</td>\n",
              "      <td>126</td>\n",
              "      <td>Biography,Drama,History</td>\n",
              "      <td>7.4</td>\n",
              "      <td>88568</td>\n",
              "      <td>26000000</td>\n",
              "      <td>7478009.0</td>\n",
              "      <td>February 1, 2021</td>\n",
              "      <td>Shaka King</td>\n",
              "    </tr>\n",
              "    <tr>\n",
              "      <th>3346</th>\n",
              "      <td>tt9844522</td>\n",
              "      <td>Escape Room: Tournament of Champions</td>\n",
              "      <td>Escape Room: Tournament of Champions</td>\n",
              "      <td>0</td>\n",
              "      <td>88</td>\n",
              "      <td>Action,Adventure,Horror</td>\n",
              "      <td>5.7</td>\n",
              "      <td>56955</td>\n",
              "      <td>15000000</td>\n",
              "      <td>65774490.0</td>\n",
              "      <td>July 1, 2021</td>\n",
              "      <td>Adam Robitel</td>\n",
              "    </tr>\n",
              "    <tr>\n",
              "      <th>3347</th>\n",
              "      <td>tt9893250</td>\n",
              "      <td>I Care a Lot</td>\n",
              "      <td>I Care a Lot</td>\n",
              "      <td>0</td>\n",
              "      <td>118</td>\n",
              "      <td>Comedy,Crime,Drama</td>\n",
              "      <td>6.4</td>\n",
              "      <td>141433</td>\n",
              "      <td>14000000</td>\n",
              "      <td>1351662.0</td>\n",
              "      <td>September 12, 2020</td>\n",
              "      <td>J Blakeson</td>\n",
              "    </tr>\n",
              "  </tbody>\n",
              "</table>\n",
              "<p>3348 rows × 12 columns</p>\n",
              "</div>\n",
              "    <div class=\"colab-df-buttons\">\n",
              "\n",
              "  <div class=\"colab-df-container\">\n",
              "    <button class=\"colab-df-convert\" onclick=\"convertToInteractive('df-3a0de186-f416-4447-84e8-6be2b08b2c55')\"\n",
              "            title=\"Convert this dataframe to an interactive table.\"\n",
              "            style=\"display:none;\">\n",
              "\n",
              "  <svg xmlns=\"http://www.w3.org/2000/svg\" height=\"24px\" viewBox=\"0 -960 960 960\">\n",
              "    <path d=\"M120-120v-720h720v720H120Zm60-500h600v-160H180v160Zm220 220h160v-160H400v160Zm0 220h160v-160H400v160ZM180-400h160v-160H180v160Zm440 0h160v-160H620v160ZM180-180h160v-160H180v160Zm440 0h160v-160H620v160Z\"/>\n",
              "  </svg>\n",
              "    </button>\n",
              "\n",
              "  <style>\n",
              "    .colab-df-container {\n",
              "      display:flex;\n",
              "      gap: 12px;\n",
              "    }\n",
              "\n",
              "    .colab-df-convert {\n",
              "      background-color: #E8F0FE;\n",
              "      border: none;\n",
              "      border-radius: 50%;\n",
              "      cursor: pointer;\n",
              "      display: none;\n",
              "      fill: #1967D2;\n",
              "      height: 32px;\n",
              "      padding: 0 0 0 0;\n",
              "      width: 32px;\n",
              "    }\n",
              "\n",
              "    .colab-df-convert:hover {\n",
              "      background-color: #E2EBFA;\n",
              "      box-shadow: 0px 1px 2px rgba(60, 64, 67, 0.3), 0px 1px 3px 1px rgba(60, 64, 67, 0.15);\n",
              "      fill: #174EA6;\n",
              "    }\n",
              "\n",
              "    .colab-df-buttons div {\n",
              "      margin-bottom: 4px;\n",
              "    }\n",
              "\n",
              "    [theme=dark] .colab-df-convert {\n",
              "      background-color: #3B4455;\n",
              "      fill: #D2E3FC;\n",
              "    }\n",
              "\n",
              "    [theme=dark] .colab-df-convert:hover {\n",
              "      background-color: #434B5C;\n",
              "      box-shadow: 0px 1px 3px 1px rgba(0, 0, 0, 0.15);\n",
              "      filter: drop-shadow(0px 1px 2px rgba(0, 0, 0, 0.3));\n",
              "      fill: #FFFFFF;\n",
              "    }\n",
              "  </style>\n",
              "\n",
              "    <script>\n",
              "      const buttonEl =\n",
              "        document.querySelector('#df-3a0de186-f416-4447-84e8-6be2b08b2c55 button.colab-df-convert');\n",
              "      buttonEl.style.display =\n",
              "        google.colab.kernel.accessAllowed ? 'block' : 'none';\n",
              "\n",
              "      async function convertToInteractive(key) {\n",
              "        const element = document.querySelector('#df-3a0de186-f416-4447-84e8-6be2b08b2c55');\n",
              "        const dataTable =\n",
              "          await google.colab.kernel.invokeFunction('convertToInteractive',\n",
              "                                                    [key], {});\n",
              "        if (!dataTable) return;\n",
              "\n",
              "        const docLinkHtml = 'Like what you see? Visit the ' +\n",
              "          '<a target=\"_blank\" href=https://colab.research.google.com/notebooks/data_table.ipynb>data table notebook</a>'\n",
              "          + ' to learn more about interactive tables.';\n",
              "        element.innerHTML = '';\n",
              "        dataTable['output_type'] = 'display_data';\n",
              "        await google.colab.output.renderOutput(dataTable, element);\n",
              "        const docLink = document.createElement('div');\n",
              "        docLink.innerHTML = docLinkHtml;\n",
              "        element.appendChild(docLink);\n",
              "      }\n",
              "    </script>\n",
              "  </div>\n",
              "\n",
              "\n",
              "<div id=\"df-078c96d0-6431-4771-973f-b9a548bdb58b\">\n",
              "  <button class=\"colab-df-quickchart\" onclick=\"quickchart('df-078c96d0-6431-4771-973f-b9a548bdb58b')\"\n",
              "            title=\"Suggest charts\"\n",
              "            style=\"display:none;\">\n",
              "\n",
              "<svg xmlns=\"http://www.w3.org/2000/svg\" height=\"24px\"viewBox=\"0 0 24 24\"\n",
              "     width=\"24px\">\n",
              "    <g>\n",
              "        <path d=\"M19 3H5c-1.1 0-2 .9-2 2v14c0 1.1.9 2 2 2h14c1.1 0 2-.9 2-2V5c0-1.1-.9-2-2-2zM9 17H7v-7h2v7zm4 0h-2V7h2v10zm4 0h-2v-4h2v4z\"/>\n",
              "    </g>\n",
              "</svg>\n",
              "  </button>\n",
              "\n",
              "<style>\n",
              "  .colab-df-quickchart {\n",
              "      --bg-color: #E8F0FE;\n",
              "      --fill-color: #1967D2;\n",
              "      --hover-bg-color: #E2EBFA;\n",
              "      --hover-fill-color: #174EA6;\n",
              "      --disabled-fill-color: #AAA;\n",
              "      --disabled-bg-color: #DDD;\n",
              "  }\n",
              "\n",
              "  [theme=dark] .colab-df-quickchart {\n",
              "      --bg-color: #3B4455;\n",
              "      --fill-color: #D2E3FC;\n",
              "      --hover-bg-color: #434B5C;\n",
              "      --hover-fill-color: #FFFFFF;\n",
              "      --disabled-bg-color: #3B4455;\n",
              "      --disabled-fill-color: #666;\n",
              "  }\n",
              "\n",
              "  .colab-df-quickchart {\n",
              "    background-color: var(--bg-color);\n",
              "    border: none;\n",
              "    border-radius: 50%;\n",
              "    cursor: pointer;\n",
              "    display: none;\n",
              "    fill: var(--fill-color);\n",
              "    height: 32px;\n",
              "    padding: 0;\n",
              "    width: 32px;\n",
              "  }\n",
              "\n",
              "  .colab-df-quickchart:hover {\n",
              "    background-color: var(--hover-bg-color);\n",
              "    box-shadow: 0 1px 2px rgba(60, 64, 67, 0.3), 0 1px 3px 1px rgba(60, 64, 67, 0.15);\n",
              "    fill: var(--button-hover-fill-color);\n",
              "  }\n",
              "\n",
              "  .colab-df-quickchart-complete:disabled,\n",
              "  .colab-df-quickchart-complete:disabled:hover {\n",
              "    background-color: var(--disabled-bg-color);\n",
              "    fill: var(--disabled-fill-color);\n",
              "    box-shadow: none;\n",
              "  }\n",
              "\n",
              "  .colab-df-spinner {\n",
              "    border: 2px solid var(--fill-color);\n",
              "    border-color: transparent;\n",
              "    border-bottom-color: var(--fill-color);\n",
              "    animation:\n",
              "      spin 1s steps(1) infinite;\n",
              "  }\n",
              "\n",
              "  @keyframes spin {\n",
              "    0% {\n",
              "      border-color: transparent;\n",
              "      border-bottom-color: var(--fill-color);\n",
              "      border-left-color: var(--fill-color);\n",
              "    }\n",
              "    20% {\n",
              "      border-color: transparent;\n",
              "      border-left-color: var(--fill-color);\n",
              "      border-top-color: var(--fill-color);\n",
              "    }\n",
              "    30% {\n",
              "      border-color: transparent;\n",
              "      border-left-color: var(--fill-color);\n",
              "      border-top-color: var(--fill-color);\n",
              "      border-right-color: var(--fill-color);\n",
              "    }\n",
              "    40% {\n",
              "      border-color: transparent;\n",
              "      border-right-color: var(--fill-color);\n",
              "      border-top-color: var(--fill-color);\n",
              "    }\n",
              "    60% {\n",
              "      border-color: transparent;\n",
              "      border-right-color: var(--fill-color);\n",
              "    }\n",
              "    80% {\n",
              "      border-color: transparent;\n",
              "      border-right-color: var(--fill-color);\n",
              "      border-bottom-color: var(--fill-color);\n",
              "    }\n",
              "    90% {\n",
              "      border-color: transparent;\n",
              "      border-bottom-color: var(--fill-color);\n",
              "    }\n",
              "  }\n",
              "</style>\n",
              "\n",
              "  <script>\n",
              "    async function quickchart(key) {\n",
              "      const quickchartButtonEl =\n",
              "        document.querySelector('#' + key + ' button');\n",
              "      quickchartButtonEl.disabled = true;  // To prevent multiple clicks.\n",
              "      quickchartButtonEl.classList.add('colab-df-spinner');\n",
              "      try {\n",
              "        const charts = await google.colab.kernel.invokeFunction(\n",
              "            'suggestCharts', [key], {});\n",
              "      } catch (error) {\n",
              "        console.error('Error during call to suggestCharts:', error);\n",
              "      }\n",
              "      quickchartButtonEl.classList.remove('colab-df-spinner');\n",
              "      quickchartButtonEl.classList.add('colab-df-quickchart-complete');\n",
              "    }\n",
              "    (() => {\n",
              "      let quickchartButtonEl =\n",
              "        document.querySelector('#df-078c96d0-6431-4771-973f-b9a548bdb58b button');\n",
              "      quickchartButtonEl.style.display =\n",
              "        google.colab.kernel.accessAllowed ? 'block' : 'none';\n",
              "    })();\n",
              "  </script>\n",
              "</div>\n",
              "\n",
              "  <div id=\"id_478187b4-ff06-458f-9914-46cdb3f6f980\">\n",
              "    <style>\n",
              "      .colab-df-generate {\n",
              "        background-color: #E8F0FE;\n",
              "        border: none;\n",
              "        border-radius: 50%;\n",
              "        cursor: pointer;\n",
              "        display: none;\n",
              "        fill: #1967D2;\n",
              "        height: 32px;\n",
              "        padding: 0 0 0 0;\n",
              "        width: 32px;\n",
              "      }\n",
              "\n",
              "      .colab-df-generate:hover {\n",
              "        background-color: #E2EBFA;\n",
              "        box-shadow: 0px 1px 2px rgba(60, 64, 67, 0.3), 0px 1px 3px 1px rgba(60, 64, 67, 0.15);\n",
              "        fill: #174EA6;\n",
              "      }\n",
              "\n",
              "      [theme=dark] .colab-df-generate {\n",
              "        background-color: #3B4455;\n",
              "        fill: #D2E3FC;\n",
              "      }\n",
              "\n",
              "      [theme=dark] .colab-df-generate:hover {\n",
              "        background-color: #434B5C;\n",
              "        box-shadow: 0px 1px 3px 1px rgba(0, 0, 0, 0.15);\n",
              "        filter: drop-shadow(0px 1px 2px rgba(0, 0, 0, 0.3));\n",
              "        fill: #FFFFFF;\n",
              "      }\n",
              "    </style>\n",
              "    <button class=\"colab-df-generate\" onclick=\"generateWithVariable('imdb')\"\n",
              "            title=\"Generate code using this dataframe.\"\n",
              "            style=\"display:none;\">\n",
              "\n",
              "  <svg xmlns=\"http://www.w3.org/2000/svg\" height=\"24px\"viewBox=\"0 0 24 24\"\n",
              "       width=\"24px\">\n",
              "    <path d=\"M7,19H8.4L18.45,9,17,7.55,7,17.6ZM5,21V16.75L18.45,3.32a2,2,0,0,1,2.83,0l1.4,1.43a1.91,1.91,0,0,1,.58,1.4,1.91,1.91,0,0,1-.58,1.4L9.25,21ZM18.45,9,17,7.55Zm-12,3A5.31,5.31,0,0,0,4.9,8.1,5.31,5.31,0,0,0,1,6.5,5.31,5.31,0,0,0,4.9,4.9,5.31,5.31,0,0,0,6.5,1,5.31,5.31,0,0,0,8.1,4.9,5.31,5.31,0,0,0,12,6.5,5.46,5.46,0,0,0,6.5,12Z\"/>\n",
              "  </svg>\n",
              "    </button>\n",
              "    <script>\n",
              "      (() => {\n",
              "      const buttonEl =\n",
              "        document.querySelector('#id_478187b4-ff06-458f-9914-46cdb3f6f980 button.colab-df-generate');\n",
              "      buttonEl.style.display =\n",
              "        google.colab.kernel.accessAllowed ? 'block' : 'none';\n",
              "\n",
              "      buttonEl.onclick = () => {\n",
              "        google.colab.notebook.generateWithVariable('imdb');\n",
              "      }\n",
              "      })();\n",
              "    </script>\n",
              "  </div>\n",
              "\n",
              "    </div>\n",
              "  </div>\n"
            ],
            "application/vnd.google.colaboratory.intrinsic+json": {
              "type": "dataframe",
              "variable_name": "imdb",
              "summary": "{\n  \"name\": \"imdb\",\n  \"rows\": 3348,\n  \"fields\": [\n    {\n      \"column\": \"id\",\n      \"properties\": {\n        \"dtype\": \"string\",\n        \"num_unique_values\": 3348,\n        \"samples\": [\n          \"tt0816692\",\n          \"tt1840309\",\n          \"tt0424345\"\n        ],\n        \"semantic_type\": \"\",\n        \"description\": \"\"\n      }\n    },\n    {\n      \"column\": \"primaryTitle\",\n      \"properties\": {\n        \"dtype\": \"string\",\n        \"num_unique_values\": 3295,\n        \"samples\": [\n          \"Ocean's Eight\",\n          \"A Bad Moms Christmas\",\n          \"Love, Simon\"\n        ],\n        \"semantic_type\": \"\",\n        \"description\": \"\"\n      }\n    },\n    {\n      \"column\": \"originalTitle\",\n      \"properties\": {\n        \"dtype\": \"string\",\n        \"num_unique_values\": 3298,\n        \"samples\": [\n          \"2012\",\n          \"Stuck on You\",\n          \"Boss Level\"\n        ],\n        \"semantic_type\": \"\",\n        \"description\": \"\"\n      }\n    },\n    {\n      \"column\": \"isAdult\",\n      \"properties\": {\n        \"dtype\": \"number\",\n        \"std\": 0,\n        \"min\": 0,\n        \"max\": 0,\n        \"num_unique_values\": 1,\n        \"samples\": [\n          0\n        ],\n        \"semantic_type\": \"\",\n        \"description\": \"\"\n      }\n    },\n    {\n      \"column\": \"runtimeMinutes\",\n      \"properties\": {\n        \"dtype\": \"number\",\n        \"std\": 19,\n        \"min\": 63,\n        \"max\": 242,\n        \"num_unique_values\": 125,\n        \"samples\": [\n          110\n        ],\n        \"semantic_type\": \"\",\n        \"description\": \"\"\n      }\n    },\n    {\n      \"column\": \"genres\",\n      \"properties\": {\n        \"dtype\": \"category\",\n        \"num_unique_values\": 287,\n        \"samples\": [\n          \"Action,Crime,Drama\"\n        ],\n        \"semantic_type\": \"\",\n        \"description\": \"\"\n      }\n    },\n    {\n      \"column\": \"averageRating\",\n      \"properties\": {\n        \"dtype\": \"number\",\n        \"std\": 0.8822096497526334,\n        \"min\": 1.0,\n        \"max\": 9.3,\n        \"num_unique_values\": 68,\n        \"samples\": [\n          4.9\n        ],\n        \"semantic_type\": \"\",\n        \"description\": \"\"\n      }\n    },\n    {\n      \"column\": \"numVotes\",\n      \"properties\": {\n        \"dtype\": \"number\",\n        \"std\": 248021,\n        \"min\": 50004,\n        \"max\": 2817283,\n        \"num_unique_values\": 3328,\n        \"samples\": [\n          105868\n        ],\n        \"semantic_type\": \"\",\n        \"description\": \"\"\n      }\n    },\n    {\n      \"column\": \"budget\",\n      \"properties\": {\n        \"dtype\": \"number\",\n        \"std\": 51786142,\n        \"min\": 18,\n        \"max\": 356000000,\n        \"num_unique_values\": 343,\n        \"samples\": [\n          300000000\n        ],\n        \"semantic_type\": \"\",\n        \"description\": \"\"\n      }\n    },\n    {\n      \"column\": \"gross\",\n      \"properties\": {\n        \"dtype\": \"number\",\n        \"std\": 236650674.74826702,\n        \"min\": 210.0,\n        \"max\": 2923706026.0,\n        \"num_unique_values\": 3296,\n        \"samples\": [\n          470116094.0\n        ],\n        \"semantic_type\": \"\",\n        \"description\": \"\"\n      }\n    },\n    {\n      \"column\": \"release_date\",\n      \"properties\": {\n        \"dtype\": \"string\",\n        \"num_unique_values\": 2805,\n        \"samples\": [\n          \"August 23, 2004\"\n        ],\n        \"semantic_type\": \"\",\n        \"description\": \"\"\n      }\n    },\n    {\n      \"column\": \"directors\",\n      \"properties\": {\n        \"dtype\": \"category\",\n        \"num_unique_values\": 1356,\n        \"samples\": [\n          \"John Badham\"\n        ],\n        \"semantic_type\": \"\",\n        \"description\": \"\"\n      }\n    }\n  ]\n}"
            }
          },
          "metadata": {},
          "execution_count": 8
        }
      ]
    },
    {
      "cell_type": "code",
      "source": [
        "#lets check the data is load or not,check first 5 rows."
      ],
      "metadata": {
        "id": "IE0zazuLQlet"
      },
      "execution_count": 9,
      "outputs": []
    },
    {
      "cell_type": "code",
      "source": [
        "imdb.head()"
      ],
      "metadata": {
        "colab": {
          "base_uri": "https://localhost:8080/",
          "height": 313
        },
        "id": "WZUCoRR5QzwQ",
        "outputId": "f6d0fc3e-e754-4100-d0ca-2552ea7d5ad3"
      },
      "execution_count": 10,
      "outputs": [
        {
          "output_type": "execute_result",
          "data": {
            "text/plain": [
              "          id    primaryTitle   originalTitle  isAdult  runtimeMinutes  \\\n",
              "0  tt0035423  Kate & Leopold  Kate & Leopold        0             118   \n",
              "1  tt0065421  The Aristocats  The AristoCats        0              78   \n",
              "2  tt0065938  Kelly's Heroes  Kelly's Heroes        0             144   \n",
              "3  tt0066026         M*A*S*H         M*A*S*H        0             116   \n",
              "4  tt0066206          Patton          Patton        0             172   \n",
              "\n",
              "                       genres  averageRating  numVotes    budget       gross  \\\n",
              "0      Comedy,Fantasy,Romance            6.4     87925  48000000  76019048.0   \n",
              "1  Adventure,Animation,Comedy            7.1    111758   4000000  35459543.0   \n",
              "2        Adventure,Comedy,War            7.6     52628   4000000   5200000.0   \n",
              "3            Comedy,Drama,War            7.4     75784   3500000  81600000.0   \n",
              "4         Biography,Drama,War            7.9    106476  12000000  61749765.0   \n",
              "\n",
              "        release_date              directors  \n",
              "0  December 11, 2001          James Mangold  \n",
              "1  December 11, 1970    Wolfgang Reitherman  \n",
              "2    January 1, 1970        Brian G. Hutton  \n",
              "3   January 25, 1970          Robert Altman  \n",
              "4   February 4, 1970  Franklin J. Schaffner  "
            ],
            "text/html": [
              "\n",
              "  <div id=\"df-75233448-b6f1-4b02-9731-f8ec7ce4b5cd\" class=\"colab-df-container\">\n",
              "    <div>\n",
              "<style scoped>\n",
              "    .dataframe tbody tr th:only-of-type {\n",
              "        vertical-align: middle;\n",
              "    }\n",
              "\n",
              "    .dataframe tbody tr th {\n",
              "        vertical-align: top;\n",
              "    }\n",
              "\n",
              "    .dataframe thead th {\n",
              "        text-align: right;\n",
              "    }\n",
              "</style>\n",
              "<table border=\"1\" class=\"dataframe\">\n",
              "  <thead>\n",
              "    <tr style=\"text-align: right;\">\n",
              "      <th></th>\n",
              "      <th>id</th>\n",
              "      <th>primaryTitle</th>\n",
              "      <th>originalTitle</th>\n",
              "      <th>isAdult</th>\n",
              "      <th>runtimeMinutes</th>\n",
              "      <th>genres</th>\n",
              "      <th>averageRating</th>\n",
              "      <th>numVotes</th>\n",
              "      <th>budget</th>\n",
              "      <th>gross</th>\n",
              "      <th>release_date</th>\n",
              "      <th>directors</th>\n",
              "    </tr>\n",
              "  </thead>\n",
              "  <tbody>\n",
              "    <tr>\n",
              "      <th>0</th>\n",
              "      <td>tt0035423</td>\n",
              "      <td>Kate &amp; Leopold</td>\n",
              "      <td>Kate &amp; Leopold</td>\n",
              "      <td>0</td>\n",
              "      <td>118</td>\n",
              "      <td>Comedy,Fantasy,Romance</td>\n",
              "      <td>6.4</td>\n",
              "      <td>87925</td>\n",
              "      <td>48000000</td>\n",
              "      <td>76019048.0</td>\n",
              "      <td>December 11, 2001</td>\n",
              "      <td>James Mangold</td>\n",
              "    </tr>\n",
              "    <tr>\n",
              "      <th>1</th>\n",
              "      <td>tt0065421</td>\n",
              "      <td>The Aristocats</td>\n",
              "      <td>The AristoCats</td>\n",
              "      <td>0</td>\n",
              "      <td>78</td>\n",
              "      <td>Adventure,Animation,Comedy</td>\n",
              "      <td>7.1</td>\n",
              "      <td>111758</td>\n",
              "      <td>4000000</td>\n",
              "      <td>35459543.0</td>\n",
              "      <td>December 11, 1970</td>\n",
              "      <td>Wolfgang Reitherman</td>\n",
              "    </tr>\n",
              "    <tr>\n",
              "      <th>2</th>\n",
              "      <td>tt0065938</td>\n",
              "      <td>Kelly's Heroes</td>\n",
              "      <td>Kelly's Heroes</td>\n",
              "      <td>0</td>\n",
              "      <td>144</td>\n",
              "      <td>Adventure,Comedy,War</td>\n",
              "      <td>7.6</td>\n",
              "      <td>52628</td>\n",
              "      <td>4000000</td>\n",
              "      <td>5200000.0</td>\n",
              "      <td>January 1, 1970</td>\n",
              "      <td>Brian G. Hutton</td>\n",
              "    </tr>\n",
              "    <tr>\n",
              "      <th>3</th>\n",
              "      <td>tt0066026</td>\n",
              "      <td>M*A*S*H</td>\n",
              "      <td>M*A*S*H</td>\n",
              "      <td>0</td>\n",
              "      <td>116</td>\n",
              "      <td>Comedy,Drama,War</td>\n",
              "      <td>7.4</td>\n",
              "      <td>75784</td>\n",
              "      <td>3500000</td>\n",
              "      <td>81600000.0</td>\n",
              "      <td>January 25, 1970</td>\n",
              "      <td>Robert Altman</td>\n",
              "    </tr>\n",
              "    <tr>\n",
              "      <th>4</th>\n",
              "      <td>tt0066206</td>\n",
              "      <td>Patton</td>\n",
              "      <td>Patton</td>\n",
              "      <td>0</td>\n",
              "      <td>172</td>\n",
              "      <td>Biography,Drama,War</td>\n",
              "      <td>7.9</td>\n",
              "      <td>106476</td>\n",
              "      <td>12000000</td>\n",
              "      <td>61749765.0</td>\n",
              "      <td>February 4, 1970</td>\n",
              "      <td>Franklin J. Schaffner</td>\n",
              "    </tr>\n",
              "  </tbody>\n",
              "</table>\n",
              "</div>\n",
              "    <div class=\"colab-df-buttons\">\n",
              "\n",
              "  <div class=\"colab-df-container\">\n",
              "    <button class=\"colab-df-convert\" onclick=\"convertToInteractive('df-75233448-b6f1-4b02-9731-f8ec7ce4b5cd')\"\n",
              "            title=\"Convert this dataframe to an interactive table.\"\n",
              "            style=\"display:none;\">\n",
              "\n",
              "  <svg xmlns=\"http://www.w3.org/2000/svg\" height=\"24px\" viewBox=\"0 -960 960 960\">\n",
              "    <path d=\"M120-120v-720h720v720H120Zm60-500h600v-160H180v160Zm220 220h160v-160H400v160Zm0 220h160v-160H400v160ZM180-400h160v-160H180v160Zm440 0h160v-160H620v160ZM180-180h160v-160H180v160Zm440 0h160v-160H620v160Z\"/>\n",
              "  </svg>\n",
              "    </button>\n",
              "\n",
              "  <style>\n",
              "    .colab-df-container {\n",
              "      display:flex;\n",
              "      gap: 12px;\n",
              "    }\n",
              "\n",
              "    .colab-df-convert {\n",
              "      background-color: #E8F0FE;\n",
              "      border: none;\n",
              "      border-radius: 50%;\n",
              "      cursor: pointer;\n",
              "      display: none;\n",
              "      fill: #1967D2;\n",
              "      height: 32px;\n",
              "      padding: 0 0 0 0;\n",
              "      width: 32px;\n",
              "    }\n",
              "\n",
              "    .colab-df-convert:hover {\n",
              "      background-color: #E2EBFA;\n",
              "      box-shadow: 0px 1px 2px rgba(60, 64, 67, 0.3), 0px 1px 3px 1px rgba(60, 64, 67, 0.15);\n",
              "      fill: #174EA6;\n",
              "    }\n",
              "\n",
              "    .colab-df-buttons div {\n",
              "      margin-bottom: 4px;\n",
              "    }\n",
              "\n",
              "    [theme=dark] .colab-df-convert {\n",
              "      background-color: #3B4455;\n",
              "      fill: #D2E3FC;\n",
              "    }\n",
              "\n",
              "    [theme=dark] .colab-df-convert:hover {\n",
              "      background-color: #434B5C;\n",
              "      box-shadow: 0px 1px 3px 1px rgba(0, 0, 0, 0.15);\n",
              "      filter: drop-shadow(0px 1px 2px rgba(0, 0, 0, 0.3));\n",
              "      fill: #FFFFFF;\n",
              "    }\n",
              "  </style>\n",
              "\n",
              "    <script>\n",
              "      const buttonEl =\n",
              "        document.querySelector('#df-75233448-b6f1-4b02-9731-f8ec7ce4b5cd button.colab-df-convert');\n",
              "      buttonEl.style.display =\n",
              "        google.colab.kernel.accessAllowed ? 'block' : 'none';\n",
              "\n",
              "      async function convertToInteractive(key) {\n",
              "        const element = document.querySelector('#df-75233448-b6f1-4b02-9731-f8ec7ce4b5cd');\n",
              "        const dataTable =\n",
              "          await google.colab.kernel.invokeFunction('convertToInteractive',\n",
              "                                                    [key], {});\n",
              "        if (!dataTable) return;\n",
              "\n",
              "        const docLinkHtml = 'Like what you see? Visit the ' +\n",
              "          '<a target=\"_blank\" href=https://colab.research.google.com/notebooks/data_table.ipynb>data table notebook</a>'\n",
              "          + ' to learn more about interactive tables.';\n",
              "        element.innerHTML = '';\n",
              "        dataTable['output_type'] = 'display_data';\n",
              "        await google.colab.output.renderOutput(dataTable, element);\n",
              "        const docLink = document.createElement('div');\n",
              "        docLink.innerHTML = docLinkHtml;\n",
              "        element.appendChild(docLink);\n",
              "      }\n",
              "    </script>\n",
              "  </div>\n",
              "\n",
              "\n",
              "<div id=\"df-94a2c75e-7b5a-4199-92c9-49c10dacaeb6\">\n",
              "  <button class=\"colab-df-quickchart\" onclick=\"quickchart('df-94a2c75e-7b5a-4199-92c9-49c10dacaeb6')\"\n",
              "            title=\"Suggest charts\"\n",
              "            style=\"display:none;\">\n",
              "\n",
              "<svg xmlns=\"http://www.w3.org/2000/svg\" height=\"24px\"viewBox=\"0 0 24 24\"\n",
              "     width=\"24px\">\n",
              "    <g>\n",
              "        <path d=\"M19 3H5c-1.1 0-2 .9-2 2v14c0 1.1.9 2 2 2h14c1.1 0 2-.9 2-2V5c0-1.1-.9-2-2-2zM9 17H7v-7h2v7zm4 0h-2V7h2v10zm4 0h-2v-4h2v4z\"/>\n",
              "    </g>\n",
              "</svg>\n",
              "  </button>\n",
              "\n",
              "<style>\n",
              "  .colab-df-quickchart {\n",
              "      --bg-color: #E8F0FE;\n",
              "      --fill-color: #1967D2;\n",
              "      --hover-bg-color: #E2EBFA;\n",
              "      --hover-fill-color: #174EA6;\n",
              "      --disabled-fill-color: #AAA;\n",
              "      --disabled-bg-color: #DDD;\n",
              "  }\n",
              "\n",
              "  [theme=dark] .colab-df-quickchart {\n",
              "      --bg-color: #3B4455;\n",
              "      --fill-color: #D2E3FC;\n",
              "      --hover-bg-color: #434B5C;\n",
              "      --hover-fill-color: #FFFFFF;\n",
              "      --disabled-bg-color: #3B4455;\n",
              "      --disabled-fill-color: #666;\n",
              "  }\n",
              "\n",
              "  .colab-df-quickchart {\n",
              "    background-color: var(--bg-color);\n",
              "    border: none;\n",
              "    border-radius: 50%;\n",
              "    cursor: pointer;\n",
              "    display: none;\n",
              "    fill: var(--fill-color);\n",
              "    height: 32px;\n",
              "    padding: 0;\n",
              "    width: 32px;\n",
              "  }\n",
              "\n",
              "  .colab-df-quickchart:hover {\n",
              "    background-color: var(--hover-bg-color);\n",
              "    box-shadow: 0 1px 2px rgba(60, 64, 67, 0.3), 0 1px 3px 1px rgba(60, 64, 67, 0.15);\n",
              "    fill: var(--button-hover-fill-color);\n",
              "  }\n",
              "\n",
              "  .colab-df-quickchart-complete:disabled,\n",
              "  .colab-df-quickchart-complete:disabled:hover {\n",
              "    background-color: var(--disabled-bg-color);\n",
              "    fill: var(--disabled-fill-color);\n",
              "    box-shadow: none;\n",
              "  }\n",
              "\n",
              "  .colab-df-spinner {\n",
              "    border: 2px solid var(--fill-color);\n",
              "    border-color: transparent;\n",
              "    border-bottom-color: var(--fill-color);\n",
              "    animation:\n",
              "      spin 1s steps(1) infinite;\n",
              "  }\n",
              "\n",
              "  @keyframes spin {\n",
              "    0% {\n",
              "      border-color: transparent;\n",
              "      border-bottom-color: var(--fill-color);\n",
              "      border-left-color: var(--fill-color);\n",
              "    }\n",
              "    20% {\n",
              "      border-color: transparent;\n",
              "      border-left-color: var(--fill-color);\n",
              "      border-top-color: var(--fill-color);\n",
              "    }\n",
              "    30% {\n",
              "      border-color: transparent;\n",
              "      border-left-color: var(--fill-color);\n",
              "      border-top-color: var(--fill-color);\n",
              "      border-right-color: var(--fill-color);\n",
              "    }\n",
              "    40% {\n",
              "      border-color: transparent;\n",
              "      border-right-color: var(--fill-color);\n",
              "      border-top-color: var(--fill-color);\n",
              "    }\n",
              "    60% {\n",
              "      border-color: transparent;\n",
              "      border-right-color: var(--fill-color);\n",
              "    }\n",
              "    80% {\n",
              "      border-color: transparent;\n",
              "      border-right-color: var(--fill-color);\n",
              "      border-bottom-color: var(--fill-color);\n",
              "    }\n",
              "    90% {\n",
              "      border-color: transparent;\n",
              "      border-bottom-color: var(--fill-color);\n",
              "    }\n",
              "  }\n",
              "</style>\n",
              "\n",
              "  <script>\n",
              "    async function quickchart(key) {\n",
              "      const quickchartButtonEl =\n",
              "        document.querySelector('#' + key + ' button');\n",
              "      quickchartButtonEl.disabled = true;  // To prevent multiple clicks.\n",
              "      quickchartButtonEl.classList.add('colab-df-spinner');\n",
              "      try {\n",
              "        const charts = await google.colab.kernel.invokeFunction(\n",
              "            'suggestCharts', [key], {});\n",
              "      } catch (error) {\n",
              "        console.error('Error during call to suggestCharts:', error);\n",
              "      }\n",
              "      quickchartButtonEl.classList.remove('colab-df-spinner');\n",
              "      quickchartButtonEl.classList.add('colab-df-quickchart-complete');\n",
              "    }\n",
              "    (() => {\n",
              "      let quickchartButtonEl =\n",
              "        document.querySelector('#df-94a2c75e-7b5a-4199-92c9-49c10dacaeb6 button');\n",
              "      quickchartButtonEl.style.display =\n",
              "        google.colab.kernel.accessAllowed ? 'block' : 'none';\n",
              "    })();\n",
              "  </script>\n",
              "</div>\n",
              "\n",
              "    </div>\n",
              "  </div>\n"
            ],
            "application/vnd.google.colaboratory.intrinsic+json": {
              "type": "dataframe",
              "variable_name": "imdb",
              "summary": "{\n  \"name\": \"imdb\",\n  \"rows\": 3348,\n  \"fields\": [\n    {\n      \"column\": \"id\",\n      \"properties\": {\n        \"dtype\": \"string\",\n        \"num_unique_values\": 3348,\n        \"samples\": [\n          \"tt0816692\",\n          \"tt1840309\",\n          \"tt0424345\"\n        ],\n        \"semantic_type\": \"\",\n        \"description\": \"\"\n      }\n    },\n    {\n      \"column\": \"primaryTitle\",\n      \"properties\": {\n        \"dtype\": \"string\",\n        \"num_unique_values\": 3295,\n        \"samples\": [\n          \"Ocean's Eight\",\n          \"A Bad Moms Christmas\",\n          \"Love, Simon\"\n        ],\n        \"semantic_type\": \"\",\n        \"description\": \"\"\n      }\n    },\n    {\n      \"column\": \"originalTitle\",\n      \"properties\": {\n        \"dtype\": \"string\",\n        \"num_unique_values\": 3298,\n        \"samples\": [\n          \"2012\",\n          \"Stuck on You\",\n          \"Boss Level\"\n        ],\n        \"semantic_type\": \"\",\n        \"description\": \"\"\n      }\n    },\n    {\n      \"column\": \"isAdult\",\n      \"properties\": {\n        \"dtype\": \"number\",\n        \"std\": 0,\n        \"min\": 0,\n        \"max\": 0,\n        \"num_unique_values\": 1,\n        \"samples\": [\n          0\n        ],\n        \"semantic_type\": \"\",\n        \"description\": \"\"\n      }\n    },\n    {\n      \"column\": \"runtimeMinutes\",\n      \"properties\": {\n        \"dtype\": \"number\",\n        \"std\": 19,\n        \"min\": 63,\n        \"max\": 242,\n        \"num_unique_values\": 125,\n        \"samples\": [\n          110\n        ],\n        \"semantic_type\": \"\",\n        \"description\": \"\"\n      }\n    },\n    {\n      \"column\": \"genres\",\n      \"properties\": {\n        \"dtype\": \"category\",\n        \"num_unique_values\": 287,\n        \"samples\": [\n          \"Action,Crime,Drama\"\n        ],\n        \"semantic_type\": \"\",\n        \"description\": \"\"\n      }\n    },\n    {\n      \"column\": \"averageRating\",\n      \"properties\": {\n        \"dtype\": \"number\",\n        \"std\": 0.8822096497526334,\n        \"min\": 1.0,\n        \"max\": 9.3,\n        \"num_unique_values\": 68,\n        \"samples\": [\n          4.9\n        ],\n        \"semantic_type\": \"\",\n        \"description\": \"\"\n      }\n    },\n    {\n      \"column\": \"numVotes\",\n      \"properties\": {\n        \"dtype\": \"number\",\n        \"std\": 248021,\n        \"min\": 50004,\n        \"max\": 2817283,\n        \"num_unique_values\": 3328,\n        \"samples\": [\n          105868\n        ],\n        \"semantic_type\": \"\",\n        \"description\": \"\"\n      }\n    },\n    {\n      \"column\": \"budget\",\n      \"properties\": {\n        \"dtype\": \"number\",\n        \"std\": 51786142,\n        \"min\": 18,\n        \"max\": 356000000,\n        \"num_unique_values\": 343,\n        \"samples\": [\n          300000000\n        ],\n        \"semantic_type\": \"\",\n        \"description\": \"\"\n      }\n    },\n    {\n      \"column\": \"gross\",\n      \"properties\": {\n        \"dtype\": \"number\",\n        \"std\": 236650674.74826702,\n        \"min\": 210.0,\n        \"max\": 2923706026.0,\n        \"num_unique_values\": 3296,\n        \"samples\": [\n          470116094.0\n        ],\n        \"semantic_type\": \"\",\n        \"description\": \"\"\n      }\n    },\n    {\n      \"column\": \"release_date\",\n      \"properties\": {\n        \"dtype\": \"string\",\n        \"num_unique_values\": 2805,\n        \"samples\": [\n          \"August 23, 2004\"\n        ],\n        \"semantic_type\": \"\",\n        \"description\": \"\"\n      }\n    },\n    {\n      \"column\": \"directors\",\n      \"properties\": {\n        \"dtype\": \"category\",\n        \"num_unique_values\": 1356,\n        \"samples\": [\n          \"John Badham\"\n        ],\n        \"semantic_type\": \"\",\n        \"description\": \"\"\n      }\n    }\n  ]\n}"
            }
          },
          "metadata": {},
          "execution_count": 10
        }
      ]
    },
    {
      "cell_type": "code",
      "source": [
        "#basic information about datset"
      ],
      "metadata": {
        "id": "t9Hf-3DcQ5eU"
      },
      "execution_count": 11,
      "outputs": []
    },
    {
      "cell_type": "code",
      "source": [
        "imdb.info()  # to check the info of the data"
      ],
      "metadata": {
        "colab": {
          "base_uri": "https://localhost:8080/"
        },
        "id": "EkSPVLmwRB32",
        "outputId": "86c67480-3fe7-42ba-85e8-0a496bcc8bfe"
      },
      "execution_count": 12,
      "outputs": [
        {
          "output_type": "stream",
          "name": "stdout",
          "text": [
            "<class 'pandas.core.frame.DataFrame'>\n",
            "RangeIndex: 3348 entries, 0 to 3347\n",
            "Data columns (total 12 columns):\n",
            " #   Column          Non-Null Count  Dtype  \n",
            "---  ------          --------------  -----  \n",
            " 0   id              3348 non-null   object \n",
            " 1   primaryTitle    3348 non-null   object \n",
            " 2   originalTitle   3348 non-null   object \n",
            " 3   isAdult         3348 non-null   int64  \n",
            " 4   runtimeMinutes  3348 non-null   int64  \n",
            " 5   genres          3348 non-null   object \n",
            " 6   averageRating   3348 non-null   float64\n",
            " 7   numVotes        3348 non-null   int64  \n",
            " 8   budget          3348 non-null   int64  \n",
            " 9   gross           3297 non-null   float64\n",
            " 10  release_date    3343 non-null   object \n",
            " 11  directors       3348 non-null   object \n",
            "dtypes: float64(2), int64(4), object(6)\n",
            "memory usage: 314.0+ KB\n"
          ]
        }
      ]
    },
    {
      "cell_type": "markdown",
      "source": [
        "# INSIGHTS\n",
        "-- the dataset contain 3348 rows and 12 columns\n",
        "\n",
        "--there are 6 object data type,4 integers and 2 float columns.\n",
        "\n",
        "-- is adult column showing integer,we need to convert this yes and no format to analyze the data properly.\n",
        "\n",
        "-- release data columns is an object,which should be convert to date time format or we seperate the data ,year and month for better analysis."
      ],
      "metadata": {
        "id": "u7BhcOcuRR2T"
      }
    },
    {
      "cell_type": "code",
      "source": [
        "#lets check for the missing values."
      ],
      "metadata": {
        "id": "7A8FyyQRRUKU"
      },
      "execution_count": 13,
      "outputs": []
    },
    {
      "cell_type": "code",
      "source": [
        "imdb.isnull().sum()"
      ],
      "metadata": {
        "colab": {
          "base_uri": "https://localhost:8080/",
          "height": 460
        },
        "id": "FP3TubzwSfzh",
        "outputId": "608f3936-c2fe-45c1-985c-c14ff29d796d"
      },
      "execution_count": 14,
      "outputs": [
        {
          "output_type": "execute_result",
          "data": {
            "text/plain": [
              "id                 0\n",
              "primaryTitle       0\n",
              "originalTitle      0\n",
              "isAdult            0\n",
              "runtimeMinutes     0\n",
              "genres             0\n",
              "averageRating      0\n",
              "numVotes           0\n",
              "budget             0\n",
              "gross             51\n",
              "release_date       5\n",
              "directors          0\n",
              "dtype: int64"
            ],
            "text/html": [
              "<div>\n",
              "<style scoped>\n",
              "    .dataframe tbody tr th:only-of-type {\n",
              "        vertical-align: middle;\n",
              "    }\n",
              "\n",
              "    .dataframe tbody tr th {\n",
              "        vertical-align: top;\n",
              "    }\n",
              "\n",
              "    .dataframe thead th {\n",
              "        text-align: right;\n",
              "    }\n",
              "</style>\n",
              "<table border=\"1\" class=\"dataframe\">\n",
              "  <thead>\n",
              "    <tr style=\"text-align: right;\">\n",
              "      <th></th>\n",
              "      <th>0</th>\n",
              "    </tr>\n",
              "  </thead>\n",
              "  <tbody>\n",
              "    <tr>\n",
              "      <th>id</th>\n",
              "      <td>0</td>\n",
              "    </tr>\n",
              "    <tr>\n",
              "      <th>primaryTitle</th>\n",
              "      <td>0</td>\n",
              "    </tr>\n",
              "    <tr>\n",
              "      <th>originalTitle</th>\n",
              "      <td>0</td>\n",
              "    </tr>\n",
              "    <tr>\n",
              "      <th>isAdult</th>\n",
              "      <td>0</td>\n",
              "    </tr>\n",
              "    <tr>\n",
              "      <th>runtimeMinutes</th>\n",
              "      <td>0</td>\n",
              "    </tr>\n",
              "    <tr>\n",
              "      <th>genres</th>\n",
              "      <td>0</td>\n",
              "    </tr>\n",
              "    <tr>\n",
              "      <th>averageRating</th>\n",
              "      <td>0</td>\n",
              "    </tr>\n",
              "    <tr>\n",
              "      <th>numVotes</th>\n",
              "      <td>0</td>\n",
              "    </tr>\n",
              "    <tr>\n",
              "      <th>budget</th>\n",
              "      <td>0</td>\n",
              "    </tr>\n",
              "    <tr>\n",
              "      <th>gross</th>\n",
              "      <td>51</td>\n",
              "    </tr>\n",
              "    <tr>\n",
              "      <th>release_date</th>\n",
              "      <td>5</td>\n",
              "    </tr>\n",
              "    <tr>\n",
              "      <th>directors</th>\n",
              "      <td>0</td>\n",
              "    </tr>\n",
              "  </tbody>\n",
              "</table>\n",
              "</div><br><label><b>dtype:</b> int64</label>"
            ]
          },
          "metadata": {},
          "execution_count": 14
        }
      ]
    },
    {
      "cell_type": "markdown",
      "source": [
        "INSIGHTS\n",
        "-- gross(51 missing values)\n",
        "\n",
        "-- gross represents total earning of a movies missing values may indicates that data was unavailable or the movie is underperformeed.\n",
        "\n",
        "--possible solution : 1)missing values replace with mean or median\n",
        "                      2)drop rows with missing values-51 rows will be dropped from the dataset.\n",
        "                      3)if budget is availabl,then we estimate the gross using a median.\n",
        "\n",
        "  -- missing dates--incomplete record.\n",
        "\n",
        "  --possible solution--drop the rows.\n",
        "  "
      ],
      "metadata": {
        "id": "qLX4VbmUSmLf"
      }
    },
    {
      "cell_type": "code",
      "source": [
        "# lets replace the missing values of gross with KNN imputation. ( knn is a part of machine learning )"
      ],
      "metadata": {
        "id": "ccE-WFgFTdwM"
      },
      "execution_count": 15,
      "outputs": []
    },
    {
      "cell_type": "markdown",
      "source": [
        "THEORY :----\n",
        " KNN means taking  a nearest values\n",
        "\n",
        " -- if suppose we have two data so knn will take the nearest values of them."
      ],
      "metadata": {
        "id": "A3zkKXh8UaT6"
      }
    },
    {
      "cell_type": "code",
      "source": [
        "# import the libraries for KNN"
      ],
      "metadata": {
        "id": "VrtqPfhHUqZg"
      },
      "execution_count": 16,
      "outputs": []
    },
    {
      "cell_type": "code",
      "source": [
        "from sklearn.impute import KNNImputer"
      ],
      "metadata": {
        "id": "WS2te1TKUuBe"
      },
      "execution_count": 17,
      "outputs": []
    },
    {
      "cell_type": "code",
      "source": [
        "imputer=KNNImputer(n_neighbors=5)   # we can change the neghbour number"
      ],
      "metadata": {
        "id": "kpX_H8NhU5lV"
      },
      "execution_count": 18,
      "outputs": []
    },
    {
      "cell_type": "code",
      "source": [
        "imdb[[\"budget\",\"gross\"]]=imputer.fit_transform(imdb[[\"budget\",\"gross\"]])"
      ],
      "metadata": {
        "id": "9vSZ4dM5VDt2"
      },
      "execution_count": 19,
      "outputs": []
    },
    {
      "cell_type": "code",
      "source": [
        "imdb.isnull().sum()"
      ],
      "metadata": {
        "colab": {
          "base_uri": "https://localhost:8080/",
          "height": 460
        },
        "id": "DNPxompLV85_",
        "outputId": "d8fbf053-4fc6-44f7-ebbc-eda012fb6771"
      },
      "execution_count": 20,
      "outputs": [
        {
          "output_type": "execute_result",
          "data": {
            "text/plain": [
              "id                0\n",
              "primaryTitle      0\n",
              "originalTitle     0\n",
              "isAdult           0\n",
              "runtimeMinutes    0\n",
              "genres            0\n",
              "averageRating     0\n",
              "numVotes          0\n",
              "budget            0\n",
              "gross             0\n",
              "release_date      5\n",
              "directors         0\n",
              "dtype: int64"
            ],
            "text/html": [
              "<div>\n",
              "<style scoped>\n",
              "    .dataframe tbody tr th:only-of-type {\n",
              "        vertical-align: middle;\n",
              "    }\n",
              "\n",
              "    .dataframe tbody tr th {\n",
              "        vertical-align: top;\n",
              "    }\n",
              "\n",
              "    .dataframe thead th {\n",
              "        text-align: right;\n",
              "    }\n",
              "</style>\n",
              "<table border=\"1\" class=\"dataframe\">\n",
              "  <thead>\n",
              "    <tr style=\"text-align: right;\">\n",
              "      <th></th>\n",
              "      <th>0</th>\n",
              "    </tr>\n",
              "  </thead>\n",
              "  <tbody>\n",
              "    <tr>\n",
              "      <th>id</th>\n",
              "      <td>0</td>\n",
              "    </tr>\n",
              "    <tr>\n",
              "      <th>primaryTitle</th>\n",
              "      <td>0</td>\n",
              "    </tr>\n",
              "    <tr>\n",
              "      <th>originalTitle</th>\n",
              "      <td>0</td>\n",
              "    </tr>\n",
              "    <tr>\n",
              "      <th>isAdult</th>\n",
              "      <td>0</td>\n",
              "    </tr>\n",
              "    <tr>\n",
              "      <th>runtimeMinutes</th>\n",
              "      <td>0</td>\n",
              "    </tr>\n",
              "    <tr>\n",
              "      <th>genres</th>\n",
              "      <td>0</td>\n",
              "    </tr>\n",
              "    <tr>\n",
              "      <th>averageRating</th>\n",
              "      <td>0</td>\n",
              "    </tr>\n",
              "    <tr>\n",
              "      <th>numVotes</th>\n",
              "      <td>0</td>\n",
              "    </tr>\n",
              "    <tr>\n",
              "      <th>budget</th>\n",
              "      <td>0</td>\n",
              "    </tr>\n",
              "    <tr>\n",
              "      <th>gross</th>\n",
              "      <td>0</td>\n",
              "    </tr>\n",
              "    <tr>\n",
              "      <th>release_date</th>\n",
              "      <td>5</td>\n",
              "    </tr>\n",
              "    <tr>\n",
              "      <th>directors</th>\n",
              "      <td>0</td>\n",
              "    </tr>\n",
              "  </tbody>\n",
              "</table>\n",
              "</div><br><label><b>dtype:</b> int64</label>"
            ]
          },
          "metadata": {},
          "execution_count": 20
        }
      ]
    },
    {
      "cell_type": "code",
      "source": [
        "#drop the release date rows"
      ],
      "metadata": {
        "id": "G43zc4yjWJX1"
      },
      "execution_count": 21,
      "outputs": []
    },
    {
      "cell_type": "code",
      "source": [
        "imdb=imdb.dropna(subset=[\"release_date\"]) #dropna =na is null value , subset =use for check na values and drop rows ,(not the entire column)"
      ],
      "metadata": {
        "id": "7DrBqdrkWNKk"
      },
      "execution_count": 22,
      "outputs": []
    },
    {
      "cell_type": "code",
      "source": [
        "imdb.shape"
      ],
      "metadata": {
        "colab": {
          "base_uri": "https://localhost:8080/"
        },
        "id": "oc6VTUKYWS4a",
        "outputId": "edd786d4-a7b7-42b5-e779-abd31b115b82"
      },
      "execution_count": 23,
      "outputs": [
        {
          "output_type": "execute_result",
          "data": {
            "text/plain": [
              "(3343, 12)"
            ]
          },
          "metadata": {},
          "execution_count": 23
        }
      ]
    },
    {
      "cell_type": "markdown",
      "source": [
        "# insights\n",
        "-- after succesfullly removing the null values we have clean dataset.\n",
        "\n",
        "-- total 3343 rows and 12 columns.\n",
        "\n",
        "-- so lets start to do"
      ],
      "metadata": {
        "id": "QTo4Tt0tWxLJ"
      }
    },
    {
      "cell_type": "markdown",
      "source": [
        "***## EXPLORATORY DATA ANALYSIS (EDA) :---- ***\n",
        "\n",
        "**QUE1) Lets find out how many unique movies are in the dataset?**\n"
      ],
      "metadata": {
        "id": "wgUzobUwXFOc"
      }
    },
    {
      "cell_type": "code",
      "source": [
        "imdb[\"id\"].unique()   # unique=checking unique data"
      ],
      "metadata": {
        "id": "hlZLDWTEZPl4",
        "colab": {
          "base_uri": "https://localhost:8080/"
        },
        "outputId": "9dd54561-21db-4235-d5c2-959f6873d867"
      },
      "execution_count": 24,
      "outputs": [
        {
          "output_type": "execute_result",
          "data": {
            "text/plain": [
              "array(['tt0035423', 'tt0065421', 'tt0065938', ..., 'tt9784798',\n",
              "       'tt9844522', 'tt9893250'], dtype=object)"
            ]
          },
          "metadata": {},
          "execution_count": 24
        }
      ]
    },
    {
      "cell_type": "markdown",
      "source": [
        "# INSIGHTS\n",
        "\n",
        "--We have 3343 unique movies so that mean we do not have any duplicated values in the dataset."
      ],
      "metadata": {
        "id": "KaQGBFc8FVpz"
      }
    },
    {
      "cell_type": "code",
      "source": [],
      "metadata": {
        "id": "-JdhgcyLF2EF"
      },
      "execution_count": 24,
      "outputs": []
    },
    {
      "cell_type": "markdown",
      "source": [
        "**QUE 2) What is the overall distribution of movies runtimes ? ( #runtime=hours of the movie ......)**"
      ],
      "metadata": {
        "id": "1jejEh4HGCC7"
      }
    },
    {
      "cell_type": "code",
      "source": [
        "plt.figure(figsize=(6,5))\n",
        "sns.histplot(imdb[\"runtimeMinutes\"],bins=60,kde=True,color=\"green\") #kde=show the skew on the graph\n",
        "plt.xlabel(\"runtime(minutes)\")\n",
        "plt.ylabel(\"count of the movies\")\n",
        "plt.title(\"distribution of movie runtime\")"
      ],
      "metadata": {
        "colab": {
          "base_uri": "https://localhost:8080/",
          "height": 504
        },
        "id": "hYaqMbsQGh_H",
        "outputId": "b6fabaa4-2d34-4d5e-8a2b-f9d116601486"
      },
      "execution_count": 25,
      "outputs": [
        {
          "output_type": "execute_result",
          "data": {
            "text/plain": [
              "Text(0.5, 1.0, 'distribution of movie runtime')"
            ]
          },
          "metadata": {},
          "execution_count": 25
        },
        {
          "output_type": "display_data",
          "data": {
            "text/plain": [
              "<Figure size 600x500 with 1 Axes>"
            ],
            "image/png": "[encoded data removed]"
          },
          "metadata": {}
        }
      ]
    },
    {
      "cell_type": "markdown",
      "source": [
        "#INSIGHTS\n",
        "\n",
        "--as we see the distribution ,it seems like normal distribution ,but lets check for the outliers also.\n",
        "\n"
      ],
      "metadata": {
        "id": "IHSRF4JaInGe"
      }
    },
    {
      "cell_type": "code",
      "source": [
        "#draw the box plot"
      ],
      "metadata": {
        "id": "3y7mXIuEJBLm"
      },
      "execution_count": 26,
      "outputs": []
    },
    {
      "cell_type": "code",
      "source": [
        "plt.figure(figsize=(6,5))\n",
        "sns.boxplot(imdb[\"runtimeMinutes\"])\n",
        "plt.title(\"boxplot of movie runtime\")\n",
        "plt.savefig('runtime.jpg',dpi=300)  #savefig=if we want to share the plot with manager at that time we use the savefig cmmand."
      ],
      "metadata": {
        "colab": {
          "base_uri": "https://localhost:8080/",
          "height": 449
        },
        "id": "e3-3xIX3JCxN",
        "outputId": "b7256c8f-9681-40bb-c378-c6f653a04067"
      },
      "execution_count": 27,
      "outputs": [
        {
          "output_type": "display_data",
          "data": {
            "text/plain": [
              "<Figure size 600x500 with 1 Axes>"
            ],
            "image/png": "[encoded data removed]"
          },
          "metadata": {}
        }
      ]
    },
    {
      "cell_type": "markdown",
      "source": [
        "**QUE 3) How many movies are marked as\"adult\"(isadult=1) vs non-adult(isadult=0)**\n",
        "      #**[isadult=below 18 ]**"
      ],
      "metadata": {
        "id": "7g6rkzc7KAWC"
      }
    },
    {
      "cell_type": "code",
      "source": [],
      "metadata": {
        "id": "SGV5n61EPHeW"
      },
      "execution_count": 27,
      "outputs": []
    },
    {
      "cell_type": "code",
      "source": [
        "imdb.head(2)  #head=checking data as sample."
      ],
      "metadata": {
        "colab": {
          "base_uri": "https://localhost:8080/",
          "height": 167
        },
        "id": "cd-hq2vPKRns",
        "outputId": "0f4c7aa3-0a82-4b01-f3cb-10002897fb64"
      },
      "execution_count": 28,
      "outputs": [
        {
          "output_type": "execute_result",
          "data": {
            "text/plain": [
              "          id    primaryTitle   originalTitle  isAdult  runtimeMinutes  \\\n",
              "0  tt0035423  Kate & Leopold  Kate & Leopold        0             118   \n",
              "1  tt0065421  The Aristocats  The AristoCats        0              78   \n",
              "\n",
              "                       genres  averageRating  numVotes      budget  \\\n",
              "0      Comedy,Fantasy,Romance            6.4     87925  48000000.0   \n",
              "1  Adventure,Animation,Comedy            7.1    111758   4000000.0   \n",
              "\n",
              "        gross       release_date            directors  \n",
              "0  76019048.0  December 11, 2001        James Mangold  \n",
              "1  35459543.0  December 11, 1970  Wolfgang Reitherman  "
            ],
            "text/html": [
              "\n",
              "  <div id=\"df-58533ee2-064f-4ebc-958d-43babbbd66e2\" class=\"colab-df-container\">\n",
              "    <div>\n",
              "<style scoped>\n",
              "    .dataframe tbody tr th:only-of-type {\n",
              "        vertical-align: middle;\n",
              "    }\n",
              "\n",
              "    .dataframe tbody tr th {\n",
              "        vertical-align: top;\n",
              "    }\n",
              "\n",
              "    .dataframe thead th {\n",
              "        text-align: right;\n",
              "    }\n",
              "</style>\n",
              "<table border=\"1\" class=\"dataframe\">\n",
              "  <thead>\n",
              "    <tr style=\"text-align: right;\">\n",
              "      <th></th>\n",
              "      <th>id</th>\n",
              "      <th>primaryTitle</th>\n",
              "      <th>originalTitle</th>\n",
              "      <th>isAdult</th>\n",
              "      <th>runtimeMinutes</th>\n",
              "      <th>genres</th>\n",
              "      <th>averageRating</th>\n",
              "      <th>numVotes</th>\n",
              "      <th>budget</th>\n",
              "      <th>gross</th>\n",
              "      <th>release_date</th>\n",
              "      <th>directors</th>\n",
              "    </tr>\n",
              "  </thead>\n",
              "  <tbody>\n",
              "    <tr>\n",
              "      <th>0</th>\n",
              "      <td>tt0035423</td>\n",
              "      <td>Kate &amp; Leopold</td>\n",
              "      <td>Kate &amp; Leopold</td>\n",
              "      <td>0</td>\n",
              "      <td>118</td>\n",
              "      <td>Comedy,Fantasy,Romance</td>\n",
              "      <td>6.4</td>\n",
              "      <td>87925</td>\n",
              "      <td>48000000.0</td>\n",
              "      <td>76019048.0</td>\n",
              "      <td>December 11, 2001</td>\n",
              "      <td>James Mangold</td>\n",
              "    </tr>\n",
              "    <tr>\n",
              "      <th>1</th>\n",
              "      <td>tt0065421</td>\n",
              "      <td>The Aristocats</td>\n",
              "      <td>The AristoCats</td>\n",
              "      <td>0</td>\n",
              "      <td>78</td>\n",
              "      <td>Adventure,Animation,Comedy</td>\n",
              "      <td>7.1</td>\n",
              "      <td>111758</td>\n",
              "      <td>4000000.0</td>\n",
              "      <td>35459543.0</td>\n",
              "      <td>December 11, 1970</td>\n",
              "      <td>Wolfgang Reitherman</td>\n",
              "    </tr>\n",
              "  </tbody>\n",
              "</table>\n",
              "</div>\n",
              "    <div class=\"colab-df-buttons\">\n",
              "\n",
              "  <div class=\"colab-df-container\">\n",
              "    <button class=\"colab-df-convert\" onclick=\"convertToInteractive('df-58533ee2-064f-4ebc-958d-43babbbd66e2')\"\n",
              "            title=\"Convert this dataframe to an interactive table.\"\n",
              "            style=\"display:none;\">\n",
              "\n",
              "  <svg xmlns=\"http://www.w3.org/2000/svg\" height=\"24px\" viewBox=\"0 -960 960 960\">\n",
              "    <path d=\"M120-120v-720h720v720H120Zm60-500h600v-160H180v160Zm220 220h160v-160H400v160Zm0 220h160v-160H400v160ZM180-400h160v-160H180v160Zm440 0h160v-160H620v160ZM180-180h160v-160H180v160Zm440 0h160v-160H620v160Z\"/>\n",
              "  </svg>\n",
              "    </button>\n",
              "\n",
              "  <style>\n",
              "    .colab-df-container {\n",
              "      display:flex;\n",
              "      gap: 12px;\n",
              "    }\n",
              "\n",
              "    .colab-df-convert {\n",
              "      background-color: #E8F0FE;\n",
              "      border: none;\n",
              "      border-radius: 50%;\n",
              "      cursor: pointer;\n",
              "      display: none;\n",
              "      fill: #1967D2;\n",
              "      height: 32px;\n",
              "      padding: 0 0 0 0;\n",
              "      width: 32px;\n",
              "    }\n",
              "\n",
              "    .colab-df-convert:hover {\n",
              "      background-color: #E2EBFA;\n",
              "      box-shadow: 0px 1px 2px rgba(60, 64, 67, 0.3), 0px 1px 3px 1px rgba(60, 64, 67, 0.15);\n",
              "      fill: #174EA6;\n",
              "    }\n",
              "\n",
              "    .colab-df-buttons div {\n",
              "      margin-bottom: 4px;\n",
              "    }\n",
              "\n",
              "    [theme=dark] .colab-df-convert {\n",
              "      background-color: #3B4455;\n",
              "      fill: #D2E3FC;\n",
              "    }\n",
              "\n",
              "    [theme=dark] .colab-df-convert:hover {\n",
              "      background-color: #434B5C;\n",
              "      box-shadow: 0px 1px 3px 1px rgba(0, 0, 0, 0.15);\n",
              "      filter: drop-shadow(0px 1px 2px rgba(0, 0, 0, 0.3));\n",
              "      fill: #FFFFFF;\n",
              "    }\n",
              "  </style>\n",
              "\n",
              "    <script>\n",
              "      const buttonEl =\n",
              "        document.querySelector('#df-58533ee2-064f-4ebc-958d-43babbbd66e2 button.colab-df-convert');\n",
              "      buttonEl.style.display =\n",
              "        google.colab.kernel.accessAllowed ? 'block' : 'none';\n",
              "\n",
              "      async function convertToInteractive(key) {\n",
              "        const element = document.querySelector('#df-58533ee2-064f-4ebc-958d-43babbbd66e2');\n",
              "        const dataTable =\n",
              "          await google.colab.kernel.invokeFunction('convertToInteractive',\n",
              "                                                    [key], {});\n",
              "        if (!dataTable) return;\n",
              "\n",
              "        const docLinkHtml = 'Like what you see? Visit the ' +\n",
              "          '<a target=\"_blank\" href=https://colab.research.google.com/notebooks/data_table.ipynb>data table notebook</a>'\n",
              "          + ' to learn more about interactive tables.';\n",
              "        element.innerHTML = '';\n",
              "        dataTable['output_type'] = 'display_data';\n",
              "        await google.colab.output.renderOutput(dataTable, element);\n",
              "        const docLink = document.createElement('div');\n",
              "        docLink.innerHTML = docLinkHtml;\n",
              "        element.appendChild(docLink);\n",
              "      }\n",
              "    </script>\n",
              "  </div>\n",
              "\n",
              "\n",
              "<div id=\"df-39136133-079f-46b0-800d-49af41dd6704\">\n",
              "  <button class=\"colab-df-quickchart\" onclick=\"quickchart('df-39136133-079f-46b0-800d-49af41dd6704')\"\n",
              "            title=\"Suggest charts\"\n",
              "            style=\"display:none;\">\n",
              "\n",
              "<svg xmlns=\"http://www.w3.org/2000/svg\" height=\"24px\"viewBox=\"0 0 24 24\"\n",
              "     width=\"24px\">\n",
              "    <g>\n",
              "        <path d=\"M19 3H5c-1.1 0-2 .9-2 2v14c0 1.1.9 2 2 2h14c1.1 0 2-.9 2-2V5c0-1.1-.9-2-2-2zM9 17H7v-7h2v7zm4 0h-2V7h2v10zm4 0h-2v-4h2v4z\"/>\n",
              "    </g>\n",
              "</svg>\n",
              "  </button>\n",
              "\n",
              "<style>\n",
              "  .colab-df-quickchart {\n",
              "      --bg-color: #E8F0FE;\n",
              "      --fill-color: #1967D2;\n",
              "      --hover-bg-color: #E2EBFA;\n",
              "      --hover-fill-color: #174EA6;\n",
              "      --disabled-fill-color: #AAA;\n",
              "      --disabled-bg-color: #DDD;\n",
              "  }\n",
              "\n",
              "  [theme=dark] .colab-df-quickchart {\n",
              "      --bg-color: #3B4455;\n",
              "      --fill-color: #D2E3FC;\n",
              "      --hover-bg-color: #434B5C;\n",
              "      --hover-fill-color: #FFFFFF;\n",
              "      --disabled-bg-color: #3B4455;\n",
              "      --disabled-fill-color: #666;\n",
              "  }\n",
              "\n",
              "  .colab-df-quickchart {\n",
              "    background-color: var(--bg-color);\n",
              "    border: none;\n",
              "    border-radius: 50%;\n",
              "    cursor: pointer;\n",
              "    display: none;\n",
              "    fill: var(--fill-color);\n",
              "    height: 32px;\n",
              "    padding: 0;\n",
              "    width: 32px;\n",
              "  }\n",
              "\n",
              "  .colab-df-quickchart:hover {\n",
              "    background-color: var(--hover-bg-color);\n",
              "    box-shadow: 0 1px 2px rgba(60, 64, 67, 0.3), 0 1px 3px 1px rgba(60, 64, 67, 0.15);\n",
              "    fill: var(--button-hover-fill-color);\n",
              "  }\n",
              "\n",
              "  .colab-df-quickchart-complete:disabled,\n",
              "  .colab-df-quickchart-complete:disabled:hover {\n",
              "    background-color: var(--disabled-bg-color);\n",
              "    fill: var(--disabled-fill-color);\n",
              "    box-shadow: none;\n",
              "  }\n",
              "\n",
              "  .colab-df-spinner {\n",
              "    border: 2px solid var(--fill-color);\n",
              "    border-color: transparent;\n",
              "    border-bottom-color: var(--fill-color);\n",
              "    animation:\n",
              "      spin 1s steps(1) infinite;\n",
              "  }\n",
              "\n",
              "  @keyframes spin {\n",
              "    0% {\n",
              "      border-color: transparent;\n",
              "      border-bottom-color: var(--fill-color);\n",
              "      border-left-color: var(--fill-color);\n",
              "    }\n",
              "    20% {\n",
              "      border-color: transparent;\n",
              "      border-left-color: var(--fill-color);\n",
              "      border-top-color: var(--fill-color);\n",
              "    }\n",
              "    30% {\n",
              "      border-color: transparent;\n",
              "      border-left-color: var(--fill-color);\n",
              "      border-top-color: var(--fill-color);\n",
              "      border-right-color: var(--fill-color);\n",
              "    }\n",
              "    40% {\n",
              "      border-color: transparent;\n",
              "      border-right-color: var(--fill-color);\n",
              "      border-top-color: var(--fill-color);\n",
              "    }\n",
              "    60% {\n",
              "      border-color: transparent;\n",
              "      border-right-color: var(--fill-color);\n",
              "    }\n",
              "    80% {\n",
              "      border-color: transparent;\n",
              "      border-right-color: var(--fill-color);\n",
              "      border-bottom-color: var(--fill-color);\n",
              "    }\n",
              "    90% {\n",
              "      border-color: transparent;\n",
              "      border-bottom-color: var(--fill-color);\n",
              "    }\n",
              "  }\n",
              "</style>\n",
              "\n",
              "  <script>\n",
              "    async function quickchart(key) {\n",
              "      const quickchartButtonEl =\n",
              "        document.querySelector('#' + key + ' button');\n",
              "      quickchartButtonEl.disabled = true;  // To prevent multiple clicks.\n",
              "      quickchartButtonEl.classList.add('colab-df-spinner');\n",
              "      try {\n",
              "        const charts = await google.colab.kernel.invokeFunction(\n",
              "            'suggestCharts', [key], {});\n",
              "      } catch (error) {\n",
              "        console.error('Error during call to suggestCharts:', error);\n",
              "      }\n",
              "      quickchartButtonEl.classList.remove('colab-df-spinner');\n",
              "      quickchartButtonEl.classList.add('colab-df-quickchart-complete');\n",
              "    }\n",
              "    (() => {\n",
              "      let quickchartButtonEl =\n",
              "        document.querySelector('#df-39136133-079f-46b0-800d-49af41dd6704 button');\n",
              "      quickchartButtonEl.style.display =\n",
              "        google.colab.kernel.accessAllowed ? 'block' : 'none';\n",
              "    })();\n",
              "  </script>\n",
              "</div>\n",
              "\n",
              "    </div>\n",
              "  </div>\n"
            ],
            "application/vnd.google.colaboratory.intrinsic+json": {
              "type": "dataframe",
              "variable_name": "imdb",
              "summary": "{\n  \"name\": \"imdb\",\n  \"rows\": 3343,\n  \"fields\": [\n    {\n      \"column\": \"id\",\n      \"properties\": {\n        \"dtype\": \"string\",\n        \"num_unique_values\": 3343,\n        \"samples\": [\n          \"tt0107798\",\n          \"tt0327554\",\n          \"tt0185183\"\n        ],\n        \"semantic_type\": \"\",\n        \"description\": \"\"\n      }\n    },\n    {\n      \"column\": \"primaryTitle\",\n      \"properties\": {\n        \"dtype\": \"string\",\n        \"num_unique_values\": 3290,\n        \"samples\": [\n          \"Dark Water\",\n          \"A Bad Moms Christmas\",\n          \"5 Centimeters per Second\"\n        ],\n        \"semantic_type\": \"\",\n        \"description\": \"\"\n      }\n    },\n    {\n      \"column\": \"originalTitle\",\n      \"properties\": {\n        \"dtype\": \"string\",\n        \"num_unique_values\": 3293,\n        \"samples\": [\n          \"Terminator: Dark Fate\",\n          \"A Bad Moms Christmas\",\n          \"Love, Simon\"\n        ],\n        \"semantic_type\": \"\",\n        \"description\": \"\"\n      }\n    },\n    {\n      \"column\": \"isAdult\",\n      \"properties\": {\n        \"dtype\": \"number\",\n        \"std\": 0,\n        \"min\": 0,\n        \"max\": 0,\n        \"num_unique_values\": 1,\n        \"samples\": [\n          0\n        ],\n        \"semantic_type\": \"\",\n        \"description\": \"\"\n      }\n    },\n    {\n      \"column\": \"runtimeMinutes\",\n      \"properties\": {\n        \"dtype\": \"number\",\n        \"std\": 19,\n        \"min\": 63,\n        \"max\": 242,\n        \"num_unique_values\": 125,\n        \"samples\": [\n          110\n        ],\n        \"semantic_type\": \"\",\n        \"description\": \"\"\n      }\n    },\n    {\n      \"column\": \"genres\",\n      \"properties\": {\n        \"dtype\": \"category\",\n        \"num_unique_values\": 287,\n        \"samples\": [\n          \"Action,Crime,Drama\"\n        ],\n        \"semantic_type\": \"\",\n        \"description\": \"\"\n      }\n    },\n    {\n      \"column\": \"averageRating\",\n      \"properties\": {\n        \"dtype\": \"number\",\n        \"std\": 0.882405307139313,\n        \"min\": 1.0,\n        \"max\": 9.3,\n        \"num_unique_values\": 68,\n        \"samples\": [\n          4.9\n        ],\n        \"semantic_type\": \"\",\n        \"description\": \"\"\n      }\n    },\n    {\n      \"column\": \"numVotes\",\n      \"properties\": {\n        \"dtype\": \"number\",\n        \"std\": 248053,\n        \"min\": 50004,\n        \"max\": 2817283,\n        \"num_unique_values\": 3324,\n        \"samples\": [\n          130397\n        ],\n        \"semantic_type\": \"\",\n        \"description\": \"\"\n      }\n    },\n    {\n      \"column\": \"budget\",\n      \"properties\": {\n        \"dtype\": \"number\",\n        \"std\": 51808808.83932105,\n        \"min\": 18.0,\n        \"max\": 356000000.0,\n        \"num_unique_values\": 343,\n        \"samples\": [\n          4800000.0\n        ],\n        \"semantic_type\": \"\",\n        \"description\": \"\"\n      }\n    },\n    {\n      \"column\": \"gross\",\n      \"properties\": {\n        \"dtype\": \"number\",\n        \"std\": 235479093.16013917,\n        \"min\": 210.0,\n        \"max\": 2923706026.0,\n        \"num_unique_values\": 3333,\n        \"samples\": [\n          2913644.0\n        ],\n        \"semantic_type\": \"\",\n        \"description\": \"\"\n      }\n    },\n    {\n      \"column\": \"release_date\",\n      \"properties\": {\n        \"dtype\": \"string\",\n        \"num_unique_values\": 2805,\n        \"samples\": [\n          \"August 23, 2004\"\n        ],\n        \"semantic_type\": \"\",\n        \"description\": \"\"\n      }\n    },\n    {\n      \"column\": \"directors\",\n      \"properties\": {\n        \"dtype\": \"category\",\n        \"num_unique_values\": 1354,\n        \"samples\": [\n          \"John Badham\"\n        ],\n        \"semantic_type\": \"\",\n        \"description\": \"\"\n      }\n    }\n  ]\n}"
            }
          },
          "metadata": {},
          "execution_count": 28
        }
      ]
    },
    {
      "cell_type": "code",
      "source": [
        "imdb[\"isAdult\"].unique()"
      ],
      "metadata": {
        "colab": {
          "base_uri": "https://localhost:8080/"
        },
        "id": "Watt-VKiKkl-",
        "outputId": "97f6b854-6680-453c-c1c7-cd774a321b21"
      },
      "execution_count": 29,
      "outputs": [
        {
          "output_type": "execute_result",
          "data": {
            "text/plain": [
              "array([0])"
            ]
          },
          "metadata": {},
          "execution_count": 29
        }
      ]
    },
    {
      "cell_type": "markdown",
      "source": [
        "#INSIGHTS\n",
        "\n",
        "-as we can see we have only one category in adult section,that mean all movies is only for adult so for better analysis ,we drop the column."
      ],
      "metadata": {
        "id": "qBlH0mUHK5Qu"
      }
    },
    {
      "cell_type": "code",
      "source": [
        "imdb.drop(columns=['isAdult'],inplace=True)  #drop:drop the column #inplace=for delete permntly"
      ],
      "metadata": {
        "colab": {
          "base_uri": "https://localhost:8080/"
        },
        "id": "AegjD5UVM32D",
        "outputId": "f13c28a2-b43d-4738-b5dd-0efb30b8cc4f"
      },
      "execution_count": 30,
      "outputs": [
        {
          "output_type": "stream",
          "name": "stderr",
          "text": [
            "<ipython-input-30-13834ffc0c8d>:1: SettingWithCopyWarning: \n",
            "A value is trying to be set on a copy of a slice from a DataFrame\n",
            "\n",
            "See the caveats in the documentation: https://pandas.pydata.org/pandas-docs/stable/user_guide/indexing.html#returning-a-view-versus-a-copy\n",
            "  imdb.drop(columns=['isAdult'],inplace=True)  #drop:drop the column #inplace=for delete permntly\n"
          ]
        }
      ]
    },
    {
      "cell_type": "code",
      "source": [
        "imdb.isnull().sum() #isnull().sum()=for checking the data that isadult delted or not"
      ],
      "metadata": {
        "colab": {
          "base_uri": "https://localhost:8080/",
          "height": 429
        },
        "id": "wTqUi6wqOTv7",
        "outputId": "7ba9f581-2fc2-4a5e-8ebb-8b8a72565c6b"
      },
      "execution_count": 31,
      "outputs": [
        {
          "output_type": "execute_result",
          "data": {
            "text/plain": [
              "id                0\n",
              "primaryTitle      0\n",
              "originalTitle     0\n",
              "runtimeMinutes    0\n",
              "genres            0\n",
              "averageRating     0\n",
              "numVotes          0\n",
              "budget            0\n",
              "gross             0\n",
              "release_date      0\n",
              "directors         0\n",
              "dtype: int64"
            ],
            "text/html": [
              "<div>\n",
              "<style scoped>\n",
              "    .dataframe tbody tr th:only-of-type {\n",
              "        vertical-align: middle;\n",
              "    }\n",
              "\n",
              "    .dataframe tbody tr th {\n",
              "        vertical-align: top;\n",
              "    }\n",
              "\n",
              "    .dataframe thead th {\n",
              "        text-align: right;\n",
              "    }\n",
              "</style>\n",
              "<table border=\"1\" class=\"dataframe\">\n",
              "  <thead>\n",
              "    <tr style=\"text-align: right;\">\n",
              "      <th></th>\n",
              "      <th>0</th>\n",
              "    </tr>\n",
              "  </thead>\n",
              "  <tbody>\n",
              "    <tr>\n",
              "      <th>id</th>\n",
              "      <td>0</td>\n",
              "    </tr>\n",
              "    <tr>\n",
              "      <th>primaryTitle</th>\n",
              "      <td>0</td>\n",
              "    </tr>\n",
              "    <tr>\n",
              "      <th>originalTitle</th>\n",
              "      <td>0</td>\n",
              "    </tr>\n",
              "    <tr>\n",
              "      <th>runtimeMinutes</th>\n",
              "      <td>0</td>\n",
              "    </tr>\n",
              "    <tr>\n",
              "      <th>genres</th>\n",
              "      <td>0</td>\n",
              "    </tr>\n",
              "    <tr>\n",
              "      <th>averageRating</th>\n",
              "      <td>0</td>\n",
              "    </tr>\n",
              "    <tr>\n",
              "      <th>numVotes</th>\n",
              "      <td>0</td>\n",
              "    </tr>\n",
              "    <tr>\n",
              "      <th>budget</th>\n",
              "      <td>0</td>\n",
              "    </tr>\n",
              "    <tr>\n",
              "      <th>gross</th>\n",
              "      <td>0</td>\n",
              "    </tr>\n",
              "    <tr>\n",
              "      <th>release_date</th>\n",
              "      <td>0</td>\n",
              "    </tr>\n",
              "    <tr>\n",
              "      <th>directors</th>\n",
              "      <td>0</td>\n",
              "    </tr>\n",
              "  </tbody>\n",
              "</table>\n",
              "</div><br><label><b>dtype:</b> int64</label>"
            ]
          },
          "metadata": {},
          "execution_count": 31
        }
      ]
    },
    {
      "cell_type": "code",
      "source": [],
      "metadata": {
        "id": "VfisoacmOWfA"
      },
      "execution_count": 31,
      "outputs": []
    },
    {
      "cell_type": "markdown",
      "source": [
        "**QUE 4)What are the top 10 most common movie genres? (generes=movie category)**"
      ],
      "metadata": {
        "id": "OPoWghD8Oh8k"
      }
    },
    {
      "cell_type": "code",
      "source": [
        "imdb.head(1)"
      ],
      "metadata": {
        "colab": {
          "base_uri": "https://localhost:8080/",
          "height": 98
        },
        "id": "XpxVb3mjOuCU",
        "outputId": "783781df-9160-473e-acaa-f0f6f18e7f68"
      },
      "execution_count": 32,
      "outputs": [
        {
          "output_type": "execute_result",
          "data": {
            "text/plain": [
              "          id    primaryTitle   originalTitle  runtimeMinutes  \\\n",
              "0  tt0035423  Kate & Leopold  Kate & Leopold             118   \n",
              "\n",
              "                   genres  averageRating  numVotes      budget       gross  \\\n",
              "0  Comedy,Fantasy,Romance            6.4     87925  48000000.0  76019048.0   \n",
              "\n",
              "        release_date      directors  \n",
              "0  December 11, 2001  James Mangold  "
            ],
            "text/html": [
              "\n",
              "  <div id=\"df-e4a73a85-8bf0-4286-990c-e9051b6f4f62\" class=\"colab-df-container\">\n",
              "    <div>\n",
              "<style scoped>\n",
              "    .dataframe tbody tr th:only-of-type {\n",
              "        vertical-align: middle;\n",
              "    }\n",
              "\n",
              "    .dataframe tbody tr th {\n",
              "        vertical-align: top;\n",
              "    }\n",
              "\n",
              "    .dataframe thead th {\n",
              "        text-align: right;\n",
              "    }\n",
              "</style>\n",
              "<table border=\"1\" class=\"dataframe\">\n",
              "  <thead>\n",
              "    <tr style=\"text-align: right;\">\n",
              "      <th></th>\n",
              "      <th>id</th>\n",
              "      <th>primaryTitle</th>\n",
              "      <th>originalTitle</th>\n",
              "      <th>runtimeMinutes</th>\n",
              "      <th>genres</th>\n",
              "      <th>averageRating</th>\n",
              "      <th>numVotes</th>\n",
              "      <th>budget</th>\n",
              "      <th>gross</th>\n",
              "      <th>release_date</th>\n",
              "      <th>directors</th>\n",
              "    </tr>\n",
              "  </thead>\n",
              "  <tbody>\n",
              "    <tr>\n",
              "      <th>0</th>\n",
              "      <td>tt0035423</td>\n",
              "      <td>Kate &amp; Leopold</td>\n",
              "      <td>Kate &amp; Leopold</td>\n",
              "      <td>118</td>\n",
              "      <td>Comedy,Fantasy,Romance</td>\n",
              "      <td>6.4</td>\n",
              "      <td>87925</td>\n",
              "      <td>48000000.0</td>\n",
              "      <td>76019048.0</td>\n",
              "      <td>December 11, 2001</td>\n",
              "      <td>James Mangold</td>\n",
              "    </tr>\n",
              "  </tbody>\n",
              "</table>\n",
              "</div>\n",
              "    <div class=\"colab-df-buttons\">\n",
              "\n",
              "  <div class=\"colab-df-container\">\n",
              "    <button class=\"colab-df-convert\" onclick=\"convertToInteractive('df-e4a73a85-8bf0-4286-990c-e9051b6f4f62')\"\n",
              "            title=\"Convert this dataframe to an interactive table.\"\n",
              "            style=\"display:none;\">\n",
              "\n",
              "  <svg xmlns=\"http://www.w3.org/2000/svg\" height=\"24px\" viewBox=\"0 -960 960 960\">\n",
              "    <path d=\"M120-120v-720h720v720H120Zm60-500h600v-160H180v160Zm220 220h160v-160H400v160Zm0 220h160v-160H400v160ZM180-400h160v-160H180v160Zm440 0h160v-160H620v160ZM180-180h160v-160H180v160Zm440 0h160v-160H620v160Z\"/>\n",
              "  </svg>\n",
              "    </button>\n",
              "\n",
              "  <style>\n",
              "    .colab-df-container {\n",
              "      display:flex;\n",
              "      gap: 12px;\n",
              "    }\n",
              "\n",
              "    .colab-df-convert {\n",
              "      background-color: #E8F0FE;\n",
              "      border: none;\n",
              "      border-radius: 50%;\n",
              "      cursor: pointer;\n",
              "      display: none;\n",
              "      fill: #1967D2;\n",
              "      height: 32px;\n",
              "      padding: 0 0 0 0;\n",
              "      width: 32px;\n",
              "    }\n",
              "\n",
              "    .colab-df-convert:hover {\n",
              "      background-color: #E2EBFA;\n",
              "      box-shadow: 0px 1px 2px rgba(60, 64, 67, 0.3), 0px 1px 3px 1px rgba(60, 64, 67, 0.15);\n",
              "      fill: #174EA6;\n",
              "    }\n",
              "\n",
              "    .colab-df-buttons div {\n",
              "      margin-bottom: 4px;\n",
              "    }\n",
              "\n",
              "    [theme=dark] .colab-df-convert {\n",
              "      background-color: #3B4455;\n",
              "      fill: #D2E3FC;\n",
              "    }\n",
              "\n",
              "    [theme=dark] .colab-df-convert:hover {\n",
              "      background-color: #434B5C;\n",
              "      box-shadow: 0px 1px 3px 1px rgba(0, 0, 0, 0.15);\n",
              "      filter: drop-shadow(0px 1px 2px rgba(0, 0, 0, 0.3));\n",
              "      fill: #FFFFFF;\n",
              "    }\n",
              "  </style>\n",
              "\n",
              "    <script>\n",
              "      const buttonEl =\n",
              "        document.querySelector('#df-e4a73a85-8bf0-4286-990c-e9051b6f4f62 button.colab-df-convert');\n",
              "      buttonEl.style.display =\n",
              "        google.colab.kernel.accessAllowed ? 'block' : 'none';\n",
              "\n",
              "      async function convertToInteractive(key) {\n",
              "        const element = document.querySelector('#df-e4a73a85-8bf0-4286-990c-e9051b6f4f62');\n",
              "        const dataTable =\n",
              "          await google.colab.kernel.invokeFunction('convertToInteractive',\n",
              "                                                    [key], {});\n",
              "        if (!dataTable) return;\n",
              "\n",
              "        const docLinkHtml = 'Like what you see? Visit the ' +\n",
              "          '<a target=\"_blank\" href=https://colab.research.google.com/notebooks/data_table.ipynb>data table notebook</a>'\n",
              "          + ' to learn more about interactive tables.';\n",
              "        element.innerHTML = '';\n",
              "        dataTable['output_type'] = 'display_data';\n",
              "        await google.colab.output.renderOutput(dataTable, element);\n",
              "        const docLink = document.createElement('div');\n",
              "        docLink.innerHTML = docLinkHtml;\n",
              "        element.appendChild(docLink);\n",
              "      }\n",
              "    </script>\n",
              "  </div>\n",
              "\n",
              "\n",
              "    </div>\n",
              "  </div>\n"
            ],
            "application/vnd.google.colaboratory.intrinsic+json": {
              "type": "dataframe",
              "variable_name": "imdb",
              "summary": "{\n  \"name\": \"imdb\",\n  \"rows\": 3343,\n  \"fields\": [\n    {\n      \"column\": \"id\",\n      \"properties\": {\n        \"dtype\": \"string\",\n        \"num_unique_values\": 3343,\n        \"samples\": [\n          \"tt0107798\",\n          \"tt0327554\",\n          \"tt0185183\"\n        ],\n        \"semantic_type\": \"\",\n        \"description\": \"\"\n      }\n    },\n    {\n      \"column\": \"primaryTitle\",\n      \"properties\": {\n        \"dtype\": \"string\",\n        \"num_unique_values\": 3290,\n        \"samples\": [\n          \"Dark Water\",\n          \"A Bad Moms Christmas\",\n          \"5 Centimeters per Second\"\n        ],\n        \"semantic_type\": \"\",\n        \"description\": \"\"\n      }\n    },\n    {\n      \"column\": \"originalTitle\",\n      \"properties\": {\n        \"dtype\": \"string\",\n        \"num_unique_values\": 3293,\n        \"samples\": [\n          \"Terminator: Dark Fate\",\n          \"A Bad Moms Christmas\",\n          \"Love, Simon\"\n        ],\n        \"semantic_type\": \"\",\n        \"description\": \"\"\n      }\n    },\n    {\n      \"column\": \"runtimeMinutes\",\n      \"properties\": {\n        \"dtype\": \"number\",\n        \"std\": 19,\n        \"min\": 63,\n        \"max\": 242,\n        \"num_unique_values\": 125,\n        \"samples\": [\n          110,\n          114,\n          138\n        ],\n        \"semantic_type\": \"\",\n        \"description\": \"\"\n      }\n    },\n    {\n      \"column\": \"genres\",\n      \"properties\": {\n        \"dtype\": \"category\",\n        \"num_unique_values\": 287,\n        \"samples\": [\n          \"Action,Crime,Drama\",\n          \"Crime,Horror,Mystery\",\n          \"Comedy,Family,Romance\"\n        ],\n        \"semantic_type\": \"\",\n        \"description\": \"\"\n      }\n    },\n    {\n      \"column\": \"averageRating\",\n      \"properties\": {\n        \"dtype\": \"number\",\n        \"std\": 0.882405307139313,\n        \"min\": 1.0,\n        \"max\": 9.3,\n        \"num_unique_values\": 68,\n        \"samples\": [\n          4.9,\n          7.0,\n          7.9\n        ],\n        \"semantic_type\": \"\",\n        \"description\": \"\"\n      }\n    },\n    {\n      \"column\": \"numVotes\",\n      \"properties\": {\n        \"dtype\": \"number\",\n        \"std\": 248053,\n        \"min\": 50004,\n        \"max\": 2817283,\n        \"num_unique_values\": 3324,\n        \"samples\": [\n          130397,\n          65196,\n          68336\n        ],\n        \"semantic_type\": \"\",\n        \"description\": \"\"\n      }\n    },\n    {\n      \"column\": \"budget\",\n      \"properties\": {\n        \"dtype\": \"number\",\n        \"std\": 51808808.83932105,\n        \"min\": 18.0,\n        \"max\": 356000000.0,\n        \"num_unique_values\": 343,\n        \"samples\": [\n          4800000.0,\n          42000000.0,\n          60000000.0\n        ],\n        \"semantic_type\": \"\",\n        \"description\": \"\"\n      }\n    },\n    {\n      \"column\": \"gross\",\n      \"properties\": {\n        \"dtype\": \"number\",\n        \"std\": 235479093.16013917,\n        \"min\": 210.0,\n        \"max\": 2923706026.0,\n        \"num_unique_values\": 3333,\n        \"samples\": [\n          2913644.0,\n          20275812.0,\n          58834384.0\n        ],\n        \"semantic_type\": \"\",\n        \"description\": \"\"\n      }\n    },\n    {\n      \"column\": \"release_date\",\n      \"properties\": {\n        \"dtype\": \"string\",\n        \"num_unique_values\": 2805,\n        \"samples\": [\n          \"August 23, 2004\",\n          \"May 30, 2003\",\n          \"May 29, 2008\"\n        ],\n        \"semantic_type\": \"\",\n        \"description\": \"\"\n      }\n    },\n    {\n      \"column\": \"directors\",\n      \"properties\": {\n        \"dtype\": \"category\",\n        \"num_unique_values\": 1354,\n        \"samples\": [\n          \"John Badham\",\n          \"Anders Thomas Jensen\",\n          \"Jon S. Baird\"\n        ],\n        \"semantic_type\": \"\",\n        \"description\": \"\"\n      }\n    }\n  ]\n}"
            }
          },
          "metadata": {},
          "execution_count": 32
        }
      ]
    },
    {
      "cell_type": "code",
      "source": [
        "#as we check,in genres ,we have more than one category like ,comedy,fantacy and remance so we need to seprate the category"
      ],
      "metadata": {
        "id": "TATELHG2PTNB"
      },
      "execution_count": 33,
      "outputs": []
    },
    {
      "cell_type": "code",
      "source": [
        "genres_list=imdb[\"genres\"].str.split(\",\").explode()    #str=its a catefory form , #split=want to split(divide with comma),explode=and explode the data"
      ],
      "metadata": {
        "id": "tAnxk4DtP5tQ"
      },
      "execution_count": 34,
      "outputs": []
    },
    {
      "cell_type": "code",
      "source": [
        "genres_list"
      ],
      "metadata": {
        "colab": {
          "base_uri": "https://localhost:8080/",
          "height": 458
        },
        "id": "rwqV6VmGQQ9B",
        "outputId": "bb609882-aa2f-434f-85c1-1f8f0c0b916c"
      },
      "execution_count": 35,
      "outputs": [
        {
          "output_type": "execute_result",
          "data": {
            "text/plain": [
              "0          Comedy\n",
              "0         Fantasy\n",
              "0         Romance\n",
              "1       Adventure\n",
              "1       Animation\n",
              "          ...    \n",
              "3346    Adventure\n",
              "3346       Horror\n",
              "3347       Comedy\n",
              "3347        Crime\n",
              "3347        Drama\n",
              "Name: genres, Length: 8948, dtype: object"
            ],
            "text/html": [
              "<div>\n",
              "<style scoped>\n",
              "    .dataframe tbody tr th:only-of-type {\n",
              "        vertical-align: middle;\n",
              "    }\n",
              "\n",
              "    .dataframe tbody tr th {\n",
              "        vertical-align: top;\n",
              "    }\n",
              "\n",
              "    .dataframe thead th {\n",
              "        text-align: right;\n",
              "    }\n",
              "</style>\n",
              "<table border=\"1\" class=\"dataframe\">\n",
              "  <thead>\n",
              "    <tr style=\"text-align: right;\">\n",
              "      <th></th>\n",
              "      <th>genres</th>\n",
              "    </tr>\n",
              "  </thead>\n",
              "  <tbody>\n",
              "    <tr>\n",
              "      <th>0</th>\n",
              "      <td>Comedy</td>\n",
              "    </tr>\n",
              "    <tr>\n",
              "      <th>0</th>\n",
              "      <td>Fantasy</td>\n",
              "    </tr>\n",
              "    <tr>\n",
              "      <th>0</th>\n",
              "      <td>Romance</td>\n",
              "    </tr>\n",
              "    <tr>\n",
              "      <th>1</th>\n",
              "      <td>Adventure</td>\n",
              "    </tr>\n",
              "    <tr>\n",
              "      <th>1</th>\n",
              "      <td>Animation</td>\n",
              "    </tr>\n",
              "    <tr>\n",
              "      <th>...</th>\n",
              "      <td>...</td>\n",
              "    </tr>\n",
              "    <tr>\n",
              "      <th>3346</th>\n",
              "      <td>Adventure</td>\n",
              "    </tr>\n",
              "    <tr>\n",
              "      <th>3346</th>\n",
              "      <td>Horror</td>\n",
              "    </tr>\n",
              "    <tr>\n",
              "      <th>3347</th>\n",
              "      <td>Comedy</td>\n",
              "    </tr>\n",
              "    <tr>\n",
              "      <th>3347</th>\n",
              "      <td>Crime</td>\n",
              "    </tr>\n",
              "    <tr>\n",
              "      <th>3347</th>\n",
              "      <td>Drama</td>\n",
              "    </tr>\n",
              "  </tbody>\n",
              "</table>\n",
              "<p>8948 rows × 1 columns</p>\n",
              "</div><br><label><b>dtype:</b> object</label>"
            ]
          },
          "metadata": {},
          "execution_count": 35
        }
      ]
    },
    {
      "cell_type": "code",
      "source": [
        "genres_count=genres_list.value_counts() #value_counts= used for how many values/number/data in one category"
      ],
      "metadata": {
        "id": "YBwWj7XFQSke"
      },
      "execution_count": 36,
      "outputs": []
    },
    {
      "cell_type": "code",
      "source": [
        "genres_count"
      ],
      "metadata": {
        "colab": {
          "base_uri": "https://localhost:8080/",
          "height": 805
        },
        "id": "xZ02Lyk-QlJh",
        "outputId": "70246334-4548-4bbc-fb66-267a4f63cbff"
      },
      "execution_count": 37,
      "outputs": [
        {
          "output_type": "execute_result",
          "data": {
            "text/plain": [
              "genres\n",
              "Drama          1542\n",
              "Comedy         1176\n",
              "Action         1171\n",
              "Adventure       894\n",
              "Crime           652\n",
              "Thriller        632\n",
              "Romance         441\n",
              "Horror          402\n",
              "Mystery         376\n",
              "Sci-Fi          376\n",
              "Fantasy         334\n",
              "Biography       231\n",
              "Animation       198\n",
              "Family          179\n",
              "History          93\n",
              "Music            73\n",
              "Sport            69\n",
              "War              49\n",
              "Musical          28\n",
              "Western          18\n",
              "Documentary      13\n",
              "News              1\n",
              "Name: count, dtype: int64"
            ],
            "text/html": [
              "<div>\n",
              "<style scoped>\n",
              "    .dataframe tbody tr th:only-of-type {\n",
              "        vertical-align: middle;\n",
              "    }\n",
              "\n",
              "    .dataframe tbody tr th {\n",
              "        vertical-align: top;\n",
              "    }\n",
              "\n",
              "    .dataframe thead th {\n",
              "        text-align: right;\n",
              "    }\n",
              "</style>\n",
              "<table border=\"1\" class=\"dataframe\">\n",
              "  <thead>\n",
              "    <tr style=\"text-align: right;\">\n",
              "      <th></th>\n",
              "      <th>count</th>\n",
              "    </tr>\n",
              "    <tr>\n",
              "      <th>genres</th>\n",
              "      <th></th>\n",
              "    </tr>\n",
              "  </thead>\n",
              "  <tbody>\n",
              "    <tr>\n",
              "      <th>Drama</th>\n",
              "      <td>1542</td>\n",
              "    </tr>\n",
              "    <tr>\n",
              "      <th>Comedy</th>\n",
              "      <td>1176</td>\n",
              "    </tr>\n",
              "    <tr>\n",
              "      <th>Action</th>\n",
              "      <td>1171</td>\n",
              "    </tr>\n",
              "    <tr>\n",
              "      <th>Adventure</th>\n",
              "      <td>894</td>\n",
              "    </tr>\n",
              "    <tr>\n",
              "      <th>Crime</th>\n",
              "      <td>652</td>\n",
              "    </tr>\n",
              "    <tr>\n",
              "      <th>Thriller</th>\n",
              "      <td>632</td>\n",
              "    </tr>\n",
              "    <tr>\n",
              "      <th>Romance</th>\n",
              "      <td>441</td>\n",
              "    </tr>\n",
              "    <tr>\n",
              "      <th>Horror</th>\n",
              "      <td>402</td>\n",
              "    </tr>\n",
              "    <tr>\n",
              "      <th>Mystery</th>\n",
              "      <td>376</td>\n",
              "    </tr>\n",
              "    <tr>\n",
              "      <th>Sci-Fi</th>\n",
              "      <td>376</td>\n",
              "    </tr>\n",
              "    <tr>\n",
              "      <th>Fantasy</th>\n",
              "      <td>334</td>\n",
              "    </tr>\n",
              "    <tr>\n",
              "      <th>Biography</th>\n",
              "      <td>231</td>\n",
              "    </tr>\n",
              "    <tr>\n",
              "      <th>Animation</th>\n",
              "      <td>198</td>\n",
              "    </tr>\n",
              "    <tr>\n",
              "      <th>Family</th>\n",
              "      <td>179</td>\n",
              "    </tr>\n",
              "    <tr>\n",
              "      <th>History</th>\n",
              "      <td>93</td>\n",
              "    </tr>\n",
              "    <tr>\n",
              "      <th>Music</th>\n",
              "      <td>73</td>\n",
              "    </tr>\n",
              "    <tr>\n",
              "      <th>Sport</th>\n",
              "      <td>69</td>\n",
              "    </tr>\n",
              "    <tr>\n",
              "      <th>War</th>\n",
              "      <td>49</td>\n",
              "    </tr>\n",
              "    <tr>\n",
              "      <th>Musical</th>\n",
              "      <td>28</td>\n",
              "    </tr>\n",
              "    <tr>\n",
              "      <th>Western</th>\n",
              "      <td>18</td>\n",
              "    </tr>\n",
              "    <tr>\n",
              "      <th>Documentary</th>\n",
              "      <td>13</td>\n",
              "    </tr>\n",
              "    <tr>\n",
              "      <th>News</th>\n",
              "      <td>1</td>\n",
              "    </tr>\n",
              "  </tbody>\n",
              "</table>\n",
              "</div><br><label><b>dtype:</b> int64</label>"
            ]
          },
          "metadata": {},
          "execution_count": 37
        }
      ]
    },
    {
      "cell_type": "code",
      "source": [
        "#we want top 10 movies"
      ],
      "metadata": {
        "id": "B1_J-KfjQmpZ"
      },
      "execution_count": 38,
      "outputs": []
    },
    {
      "cell_type": "code",
      "source": [
        "genres_count.head(10)  #head=top 10 data from beginning"
      ],
      "metadata": {
        "colab": {
          "base_uri": "https://localhost:8080/",
          "height": 429
        },
        "id": "udHg6li2QxYH",
        "outputId": "9deb101f-7550-472e-c394-6c30190125be"
      },
      "execution_count": 39,
      "outputs": [
        {
          "output_type": "execute_result",
          "data": {
            "text/plain": [
              "genres\n",
              "Drama        1542\n",
              "Comedy       1176\n",
              "Action       1171\n",
              "Adventure     894\n",
              "Crime         652\n",
              "Thriller      632\n",
              "Romance       441\n",
              "Horror        402\n",
              "Mystery       376\n",
              "Sci-Fi        376\n",
              "Name: count, dtype: int64"
            ],
            "text/html": [
              "<div>\n",
              "<style scoped>\n",
              "    .dataframe tbody tr th:only-of-type {\n",
              "        vertical-align: middle;\n",
              "    }\n",
              "\n",
              "    .dataframe tbody tr th {\n",
              "        vertical-align: top;\n",
              "    }\n",
              "\n",
              "    .dataframe thead th {\n",
              "        text-align: right;\n",
              "    }\n",
              "</style>\n",
              "<table border=\"1\" class=\"dataframe\">\n",
              "  <thead>\n",
              "    <tr style=\"text-align: right;\">\n",
              "      <th></th>\n",
              "      <th>count</th>\n",
              "    </tr>\n",
              "    <tr>\n",
              "      <th>genres</th>\n",
              "      <th></th>\n",
              "    </tr>\n",
              "  </thead>\n",
              "  <tbody>\n",
              "    <tr>\n",
              "      <th>Drama</th>\n",
              "      <td>1542</td>\n",
              "    </tr>\n",
              "    <tr>\n",
              "      <th>Comedy</th>\n",
              "      <td>1176</td>\n",
              "    </tr>\n",
              "    <tr>\n",
              "      <th>Action</th>\n",
              "      <td>1171</td>\n",
              "    </tr>\n",
              "    <tr>\n",
              "      <th>Adventure</th>\n",
              "      <td>894</td>\n",
              "    </tr>\n",
              "    <tr>\n",
              "      <th>Crime</th>\n",
              "      <td>652</td>\n",
              "    </tr>\n",
              "    <tr>\n",
              "      <th>Thriller</th>\n",
              "      <td>632</td>\n",
              "    </tr>\n",
              "    <tr>\n",
              "      <th>Romance</th>\n",
              "      <td>441</td>\n",
              "    </tr>\n",
              "    <tr>\n",
              "      <th>Horror</th>\n",
              "      <td>402</td>\n",
              "    </tr>\n",
              "    <tr>\n",
              "      <th>Mystery</th>\n",
              "      <td>376</td>\n",
              "    </tr>\n",
              "    <tr>\n",
              "      <th>Sci-Fi</th>\n",
              "      <td>376</td>\n",
              "    </tr>\n",
              "  </tbody>\n",
              "</table>\n",
              "</div><br><label><b>dtype:</b> int64</label>"
            ]
          },
          "metadata": {},
          "execution_count": 39
        }
      ]
    },
    {
      "cell_type": "code",
      "source": [
        "#draw bar plot"
      ],
      "metadata": {
        "id": "5oqWiCt8RFlr"
      },
      "execution_count": 40,
      "outputs": []
    },
    {
      "cell_type": "code",
      "source": [
        "plt.figure(figsize=(12,10))\n",
        "sns.barplot(x=genres_count.index,y=genres_count.values,palette=\"Set1\")\n",
        "plt.xlabel('top 10 genres')\n",
        "plt.ylabel(\"count of genres\")\n",
        "plt.title(\"top 10 most common genres\")\n",
        "plt.savefig(\"top 10 movies\",dpi=400)"
      ],
      "metadata": {
        "colab": {
          "base_uri": "https://localhost:8080/",
          "height": 979
        },
        "id": "dFrIh_67ROCq",
        "outputId": "5e6be517-4878-4921-e3c3-98d5ca531956"
      },
      "execution_count": 41,
      "outputs": [
        {
          "output_type": "stream",
          "name": "stderr",
          "text": [
            "<ipython-input-41-d370ea2feed2>:2: FutureWarning: \n",
            "\n",
            "Passing `palette` without assigning `hue` is deprecated and will be removed in v0.14.0. Assign the `x` variable to `hue` and set `legend=False` for the same effect.\n",
            "\n",
            "  sns.barplot(x=genres_count.index,y=genres_count.values,palette=\"Set1\")\n"
          ]
        },
        {
          "output_type": "display_data",
          "data": {
            "text/plain": [
              "<Figure size 1200x1000 with 1 Axes>"
            ],
            "image/png": "[encoded data removed]"
          },
          "metadata": {}
        }
      ]
    },
    {
      "cell_type": "markdown",
      "source": [
        "#INSIGHTS\n",
        "\n",
        "-- drama is the most dominant genre with 1542 movies.\n",
        "\n",
        "--comedy and action are almost equal ~1170.\n",
        "\n",
        "-- advantures,crime and thriller are strong contenders.\n",
        "\n",
        "-- romance,horror ,mystry and si-fi are mid tier genres."
      ],
      "metadata": {
        "id": "fd4sPTOzR3kw"
      }
    },
    {
      "cell_type": "code",
      "source": [],
      "metadata": {
        "id": "5DTk_PFYR9XM"
      },
      "execution_count": 41,
      "outputs": []
    },
    {
      "cell_type": "markdown",
      "source": [
        "QUE 5) what is the distribution of average rating ?are ratings skewed toward high or low values ?"
      ],
      "metadata": {
        "id": "PKRmJB0AgBRj"
      }
    },
    {
      "cell_type": "code",
      "source": [
        "imdb.columns"
      ],
      "metadata": {
        "colab": {
          "base_uri": "https://localhost:8080/"
        },
        "id": "FO1vDfpSgOJi",
        "outputId": "6a002303-fe02-411a-9d41-f9485cb24d46"
      },
      "execution_count": 42,
      "outputs": [
        {
          "output_type": "execute_result",
          "data": {
            "text/plain": [
              "Index(['id', 'primaryTitle', 'originalTitle', 'runtimeMinutes', 'genres',\n",
              "       'averageRating', 'numVotes', 'budget', 'gross', 'release_date',\n",
              "       'directors'],\n",
              "      dtype='object')"
            ]
          },
          "metadata": {},
          "execution_count": 42
        }
      ]
    },
    {
      "cell_type": "code",
      "source": [
        "#draw histogram plot"
      ],
      "metadata": {
        "id": "yQms3oVogSNU"
      },
      "execution_count": 43,
      "outputs": []
    },
    {
      "cell_type": "code",
      "source": [
        "plt.figure(figsize=(6,6))\n",
        "sns.histplot(imdb[\"averageRating\"],bins=40,kde=True)\n",
        "plt.title(\"distribution of average rating\")\n",
        "plt.xlabel(\"average rating\")\n",
        "plt.ylabel(\"counts\")"
      ],
      "metadata": {
        "colab": {
          "base_uri": "https://localhost:8080/",
          "height": 581
        },
        "id": "qtM_9qYSgW_a",
        "outputId": "546a6be5-64cc-4f3f-9a75-321555d0b0ca"
      },
      "execution_count": 45,
      "outputs": [
        {
          "output_type": "execute_result",
          "data": {
            "text/plain": [
              "Text(0, 0.5, 'counts')"
            ]
          },
          "metadata": {},
          "execution_count": 45
        },
        {
          "output_type": "display_data",
          "data": {
            "text/plain": [
              "<Figure size 600x600 with 1 Axes>"
            ],
            "image/png": "[encoded data removed]"
          },
          "metadata": {}
        }
      ]
    },
    {
      "cell_type": "code",
      "source": [
        "#lets see how many movies are very low and high rated"
      ],
      "metadata": {
        "id": "M9fkaZt4g74L"
      },
      "execution_count": 46,
      "outputs": []
    },
    {
      "cell_type": "code",
      "source": [
        "#draw boxplot"
      ],
      "metadata": {
        "id": "GUmg4yxkhGr-"
      },
      "execution_count": 48,
      "outputs": []
    },
    {
      "cell_type": "code",
      "source": [
        "plt.figure(figsize=(6,5))\n",
        "sns.boxplot(imdb[\"averageRating\"])\n",
        "plt.xlabel(\"average rating\")\n",
        "plt.ylabel(\"counts\")\n",
        "plt.title(\"boxplot of average rating \")"
      ],
      "metadata": {
        "colab": {
          "base_uri": "https://localhost:8080/",
          "height": 490
        },
        "id": "9OZuW97HhJRc",
        "outputId": "871fbcc8-740b-43ce-e12a-bd5266f855cd"
      },
      "execution_count": 49,
      "outputs": [
        {
          "output_type": "execute_result",
          "data": {
            "text/plain": [
              "Text(0.5, 1.0, 'boxplot of average rating ')"
            ]
          },
          "metadata": {},
          "execution_count": 49
        },
        {
          "output_type": "display_data",
          "data": {
            "text/plain": [
              "<Figure size 600x500 with 1 Axes>"
            ],
            "image/png": "[encoded data removed]"
          },
          "metadata": {}
        }
      ]
    },
    {
      "cell_type": "code",
      "source": [
        "#lets find out the outlier"
      ],
      "metadata": {
        "id": "g_Yjcn19hb-L"
      },
      "execution_count": 50,
      "outputs": []
    },
    {
      "cell_type": "code",
      "source": [
        "Q1=imdb[\"averageRating\"].quantile(0.25)"
      ],
      "metadata": {
        "id": "q9W6CsNOhjvs"
      },
      "execution_count": 52,
      "outputs": []
    },
    {
      "cell_type": "code",
      "source": [
        "Q3=imdb[\"averageRating\"].quantile(0.75)"
      ],
      "metadata": {
        "id": "vVI8usCRhpcx"
      },
      "execution_count": 54,
      "outputs": []
    },
    {
      "cell_type": "code",
      "source": [
        "IQR=Q3-Q1"
      ],
      "metadata": {
        "id": "jdtL465Chvxx"
      },
      "execution_count": 55,
      "outputs": []
    },
    {
      "cell_type": "code",
      "source": [
        "lower_bond=Q1-1.5*IQR"
      ],
      "metadata": {
        "id": "ixIE1-M8klTf"
      },
      "execution_count": 66,
      "outputs": []
    },
    {
      "cell_type": "code",
      "source": [
        "lower_bond"
      ],
      "metadata": {
        "colab": {
          "base_uri": "https://localhost:8080/"
        },
        "id": "XMdkbtcWkpqe",
        "outputId": "48c2c008-e31b-43c1-e67b-193321aacbda"
      },
      "execution_count": 67,
      "outputs": [
        {
          "output_type": "execute_result",
          "data": {
            "text/plain": [
              "np.float64(4.550000000000001)"
            ]
          },
          "metadata": {},
          "execution_count": 67
        }
      ]
    },
    {
      "cell_type": "code",
      "source": [
        "upper_bond=Q3+1.5*IQR"
      ],
      "metadata": {
        "id": "nN_4ejVIhzf4"
      },
      "execution_count": 56,
      "outputs": []
    },
    {
      "cell_type": "code",
      "source": [
        "upper_bond"
      ],
      "metadata": {
        "colab": {
          "base_uri": "https://localhost:8080/"
        },
        "id": "ZcddKpJKh3qX",
        "outputId": "2b27d208-61ac-42d1-e0b5-3c18856e76d6"
      },
      "execution_count": 57,
      "outputs": [
        {
          "output_type": "execute_result",
          "data": {
            "text/plain": [
              "np.float64(8.95)"
            ]
          },
          "metadata": {},
          "execution_count": 57
        }
      ]
    },
    {
      "cell_type": "code",
      "source": [
        "clean_data_for_avaragerating = imdb[(imdb[\"averageRating\"] <= upper_bond)& (imdb[\"averageRating\"]>=lower_bond)]\n"
      ],
      "metadata": {
        "id": "1i8sVPmWh5dR"
      },
      "execution_count": 70,
      "outputs": []
    },
    {
      "cell_type": "code",
      "source": [
        "clean_data_for_avaragerating"
      ],
      "metadata": {
        "colab": {
          "base_uri": "https://localhost:8080/",
          "height": 635
        },
        "id": "D9qADc50lTAh",
        "outputId": "38edd368-916a-4a6d-9018-7ff0a639d1a9"
      },
      "execution_count": 71,
      "outputs": [
        {
          "output_type": "execute_result",
          "data": {
            "text/plain": [
              "             id                          primaryTitle  \\\n",
              "0     tt0035423                        Kate & Leopold   \n",
              "1     tt0065421                        The Aristocats   \n",
              "2     tt0065938                        Kelly's Heroes   \n",
              "3     tt0066026                               M*A*S*H   \n",
              "4     tt0066206                                Patton   \n",
              "...         ...                                   ...   \n",
              "3343  tt9770150                             Nomadland   \n",
              "3344  tt9777666                      The Tomorrow War   \n",
              "3345  tt9784798           Judas and the Black Messiah   \n",
              "3346  tt9844522  Escape Room: Tournament of Champions   \n",
              "3347  tt9893250                          I Care a Lot   \n",
              "\n",
              "                             originalTitle  runtimeMinutes  \\\n",
              "0                           Kate & Leopold             118   \n",
              "1                           The AristoCats              78   \n",
              "2                           Kelly's Heroes             144   \n",
              "3                                  M*A*S*H             116   \n",
              "4                                   Patton             172   \n",
              "...                                    ...             ...   \n",
              "3343                             Nomadland             107   \n",
              "3344                      The Tomorrow War             138   \n",
              "3345           Judas and the Black Messiah             126   \n",
              "3346  Escape Room: Tournament of Champions              88   \n",
              "3347                          I Care a Lot             118   \n",
              "\n",
              "                          genres  averageRating  numVotes       budget  \\\n",
              "0         Comedy,Fantasy,Romance            6.4     87925   48000000.0   \n",
              "1     Adventure,Animation,Comedy            7.1    111758    4000000.0   \n",
              "2           Adventure,Comedy,War            7.6     52628    4000000.0   \n",
              "3               Comedy,Drama,War            7.4     75784    3500000.0   \n",
              "4            Biography,Drama,War            7.9    106476   12000000.0   \n",
              "...                          ...            ...       ...          ...   \n",
              "3343                       Drama            7.3    175977    5000000.0   \n",
              "3344      Action,Adventure,Drama            6.6    220617  200000000.0   \n",
              "3345     Biography,Drama,History            7.4     88568   26000000.0   \n",
              "3346     Action,Adventure,Horror            5.7     56955   15000000.0   \n",
              "3347          Comedy,Crime,Drama            6.4    141433   14000000.0   \n",
              "\n",
              "           gross        release_date              directors  \n",
              "0     76019048.0   December 11, 2001          James Mangold  \n",
              "1     35459543.0   December 11, 1970    Wolfgang Reitherman  \n",
              "2      5200000.0     January 1, 1970        Brian G. Hutton  \n",
              "3     81600000.0    January 25, 1970          Robert Altman  \n",
              "4     61749765.0    February 4, 1970  Franklin J. Schaffner  \n",
              "...          ...                 ...                    ...  \n",
              "3343  39458207.0  September 11, 2020             Chloé Zhao  \n",
              "3344  14400000.0       June 30, 2021            Chris McKay  \n",
              "3345   7478009.0    February 1, 2021             Shaka King  \n",
              "3346  65774490.0        July 1, 2021           Adam Robitel  \n",
              "3347   1351662.0  September 12, 2020             J Blakeson  \n",
              "\n",
              "[3288 rows x 11 columns]"
            ],
            "text/html": [
              "\n",
              "  <div id=\"df-44708124-9cc6-4c95-8dc7-d1f76229fb28\" class=\"colab-df-container\">\n",
              "    <div>\n",
              "<style scoped>\n",
              "    .dataframe tbody tr th:only-of-type {\n",
              "        vertical-align: middle;\n",
              "    }\n",
              "\n",
              "    .dataframe tbody tr th {\n",
              "        vertical-align: top;\n",
              "    }\n",
              "\n",
              "    .dataframe thead th {\n",
              "        text-align: right;\n",
              "    }\n",
              "</style>\n",
              "<table border=\"1\" class=\"dataframe\">\n",
              "  <thead>\n",
              "    <tr style=\"text-align: right;\">\n",
              "      <th></th>\n",
              "      <th>id</th>\n",
              "      <th>primaryTitle</th>\n",
              "      <th>originalTitle</th>\n",
              "      <th>runtimeMinutes</th>\n",
              "      <th>genres</th>\n",
              "      <th>averageRating</th>\n",
              "      <th>numVotes</th>\n",
              "      <th>budget</th>\n",
              "      <th>gross</th>\n",
              "      <th>release_date</th>\n",
              "      <th>directors</th>\n",
              "    </tr>\n",
              "  </thead>\n",
              "  <tbody>\n",
              "    <tr>\n",
              "      <th>0</th>\n",
              "      <td>tt0035423</td>\n",
              "      <td>Kate &amp; Leopold</td>\n",
              "      <td>Kate &amp; Leopold</td>\n",
              "      <td>118</td>\n",
              "      <td>Comedy,Fantasy,Romance</td>\n",
              "      <td>6.4</td>\n",
              "      <td>87925</td>\n",
              "      <td>48000000.0</td>\n",
              "      <td>76019048.0</td>\n",
              "      <td>December 11, 2001</td>\n",
              "      <td>James Mangold</td>\n",
              "    </tr>\n",
              "    <tr>\n",
              "      <th>1</th>\n",
              "      <td>tt0065421</td>\n",
              "      <td>The Aristocats</td>\n",
              "      <td>The AristoCats</td>\n",
              "      <td>78</td>\n",
              "      <td>Adventure,Animation,Comedy</td>\n",
              "      <td>7.1</td>\n",
              "      <td>111758</td>\n",
              "      <td>4000000.0</td>\n",
              "      <td>35459543.0</td>\n",
              "      <td>December 11, 1970</td>\n",
              "      <td>Wolfgang Reitherman</td>\n",
              "    </tr>\n",
              "    <tr>\n",
              "      <th>2</th>\n",
              "      <td>tt0065938</td>\n",
              "      <td>Kelly's Heroes</td>\n",
              "      <td>Kelly's Heroes</td>\n",
              "      <td>144</td>\n",
              "      <td>Adventure,Comedy,War</td>\n",
              "      <td>7.6</td>\n",
              "      <td>52628</td>\n",
              "      <td>4000000.0</td>\n",
              "      <td>5200000.0</td>\n",
              "      <td>January 1, 1970</td>\n",
              "      <td>Brian G. Hutton</td>\n",
              "    </tr>\n",
              "    <tr>\n",
              "      <th>3</th>\n",
              "      <td>tt0066026</td>\n",
              "      <td>M*A*S*H</td>\n",
              "      <td>M*A*S*H</td>\n",
              "      <td>116</td>\n",
              "      <td>Comedy,Drama,War</td>\n",
              "      <td>7.4</td>\n",
              "      <td>75784</td>\n",
              "      <td>3500000.0</td>\n",
              "      <td>81600000.0</td>\n",
              "      <td>January 25, 1970</td>\n",
              "      <td>Robert Altman</td>\n",
              "    </tr>\n",
              "    <tr>\n",
              "      <th>4</th>\n",
              "      <td>tt0066206</td>\n",
              "      <td>Patton</td>\n",
              "      <td>Patton</td>\n",
              "      <td>172</td>\n",
              "      <td>Biography,Drama,War</td>\n",
              "      <td>7.9</td>\n",
              "      <td>106476</td>\n",
              "      <td>12000000.0</td>\n",
              "      <td>61749765.0</td>\n",
              "      <td>February 4, 1970</td>\n",
              "      <td>Franklin J. Schaffner</td>\n",
              "    </tr>\n",
              "    <tr>\n",
              "      <th>...</th>\n",
              "      <td>...</td>\n",
              "      <td>...</td>\n",
              "      <td>...</td>\n",
              "      <td>...</td>\n",
              "      <td>...</td>\n",
              "      <td>...</td>\n",
              "      <td>...</td>\n",
              "      <td>...</td>\n",
              "      <td>...</td>\n",
              "      <td>...</td>\n",
              "      <td>...</td>\n",
              "    </tr>\n",
              "    <tr>\n",
              "      <th>3343</th>\n",
              "      <td>tt9770150</td>\n",
              "      <td>Nomadland</td>\n",
              "      <td>Nomadland</td>\n",
              "      <td>107</td>\n",
              "      <td>Drama</td>\n",
              "      <td>7.3</td>\n",
              "      <td>175977</td>\n",
              "      <td>5000000.0</td>\n",
              "      <td>39458207.0</td>\n",
              "      <td>September 11, 2020</td>\n",
              "      <td>Chloé Zhao</td>\n",
              "    </tr>\n",
              "    <tr>\n",
              "      <th>3344</th>\n",
              "      <td>tt9777666</td>\n",
              "      <td>The Tomorrow War</td>\n",
              "      <td>The Tomorrow War</td>\n",
              "      <td>138</td>\n",
              "      <td>Action,Adventure,Drama</td>\n",
              "      <td>6.6</td>\n",
              "      <td>220617</td>\n",
              "      <td>200000000.0</td>\n",
              "      <td>14400000.0</td>\n",
              "      <td>June 30, 2021</td>\n",
              "      <td>Chris McKay</td>\n",
              "    </tr>\n",
              "    <tr>\n",
              "      <th>3345</th>\n",
              "      <td>tt9784798</td>\n",
              "      <td>Judas and the Black Messiah</td>\n",
              "      <td>Judas and the Black Messiah</td>\n",
              "      <td>126</td>\n",
              "      <td>Biography,Drama,History</td>\n",
              "      <td>7.4</td>\n",
              "      <td>88568</td>\n",
              "      <td>26000000.0</td>\n",
              "      <td>7478009.0</td>\n",
              "      <td>February 1, 2021</td>\n",
              "      <td>Shaka King</td>\n",
              "    </tr>\n",
              "    <tr>\n",
              "      <th>3346</th>\n",
              "      <td>tt9844522</td>\n",
              "      <td>Escape Room: Tournament of Champions</td>\n",
              "      <td>Escape Room: Tournament of Champions</td>\n",
              "      <td>88</td>\n",
              "      <td>Action,Adventure,Horror</td>\n",
              "      <td>5.7</td>\n",
              "      <td>56955</td>\n",
              "      <td>15000000.0</td>\n",
              "      <td>65774490.0</td>\n",
              "      <td>July 1, 2021</td>\n",
              "      <td>Adam Robitel</td>\n",
              "    </tr>\n",
              "    <tr>\n",
              "      <th>3347</th>\n",
              "      <td>tt9893250</td>\n",
              "      <td>I Care a Lot</td>\n",
              "      <td>I Care a Lot</td>\n",
              "      <td>118</td>\n",
              "      <td>Comedy,Crime,Drama</td>\n",
              "      <td>6.4</td>\n",
              "      <td>141433</td>\n",
              "      <td>14000000.0</td>\n",
              "      <td>1351662.0</td>\n",
              "      <td>September 12, 2020</td>\n",
              "      <td>J Blakeson</td>\n",
              "    </tr>\n",
              "  </tbody>\n",
              "</table>\n",
              "<p>3288 rows × 11 columns</p>\n",
              "</div>\n",
              "    <div class=\"colab-df-buttons\">\n",
              "\n",
              "  <div class=\"colab-df-container\">\n",
              "    <button class=\"colab-df-convert\" onclick=\"convertToInteractive('df-44708124-9cc6-4c95-8dc7-d1f76229fb28')\"\n",
              "            title=\"Convert this dataframe to an interactive table.\"\n",
              "            style=\"display:none;\">\n",
              "\n",
              "  <svg xmlns=\"http://www.w3.org/2000/svg\" height=\"24px\" viewBox=\"0 -960 960 960\">\n",
              "    <path d=\"M120-120v-720h720v720H120Zm60-500h600v-160H180v160Zm220 220h160v-160H400v160Zm0 220h160v-160H400v160ZM180-400h160v-160H180v160Zm440 0h160v-160H620v160ZM180-180h160v-160H180v160Zm440 0h160v-160H620v160Z\"/>\n",
              "  </svg>\n",
              "    </button>\n",
              "\n",
              "  <style>\n",
              "    .colab-df-container {\n",
              "      display:flex;\n",
              "      gap: 12px;\n",
              "    }\n",
              "\n",
              "    .colab-df-convert {\n",
              "      background-color: #E8F0FE;\n",
              "      border: none;\n",
              "      border-radius: 50%;\n",
              "      cursor: pointer;\n",
              "      display: none;\n",
              "      fill: #1967D2;\n",
              "      height: 32px;\n",
              "      padding: 0 0 0 0;\n",
              "      width: 32px;\n",
              "    }\n",
              "\n",
              "    .colab-df-convert:hover {\n",
              "      background-color: #E2EBFA;\n",
              "      box-shadow: 0px 1px 2px rgba(60, 64, 67, 0.3), 0px 1px 3px 1px rgba(60, 64, 67, 0.15);\n",
              "      fill: #174EA6;\n",
              "    }\n",
              "\n",
              "    .colab-df-buttons div {\n",
              "      margin-bottom: 4px;\n",
              "    }\n",
              "\n",
              "    [theme=dark] .colab-df-convert {\n",
              "      background-color: #3B4455;\n",
              "      fill: #D2E3FC;\n",
              "    }\n",
              "\n",
              "    [theme=dark] .colab-df-convert:hover {\n",
              "      background-color: #434B5C;\n",
              "      box-shadow: 0px 1px 3px 1px rgba(0, 0, 0, 0.15);\n",
              "      filter: drop-shadow(0px 1px 2px rgba(0, 0, 0, 0.3));\n",
              "      fill: #FFFFFF;\n",
              "    }\n",
              "  </style>\n",
              "\n",
              "    <script>\n",
              "      const buttonEl =\n",
              "        document.querySelector('#df-44708124-9cc6-4c95-8dc7-d1f76229fb28 button.colab-df-convert');\n",
              "      buttonEl.style.display =\n",
              "        google.colab.kernel.accessAllowed ? 'block' : 'none';\n",
              "\n",
              "      async function convertToInteractive(key) {\n",
              "        const element = document.querySelector('#df-44708124-9cc6-4c95-8dc7-d1f76229fb28');\n",
              "        const dataTable =\n",
              "          await google.colab.kernel.invokeFunction('convertToInteractive',\n",
              "                                                    [key], {});\n",
              "        if (!dataTable) return;\n",
              "\n",
              "        const docLinkHtml = 'Like what you see? Visit the ' +\n",
              "          '<a target=\"_blank\" href=https://colab.research.google.com/notebooks/data_table.ipynb>data table notebook</a>'\n",
              "          + ' to learn more about interactive tables.';\n",
              "        element.innerHTML = '';\n",
              "        dataTable['output_type'] = 'display_data';\n",
              "        await google.colab.output.renderOutput(dataTable, element);\n",
              "        const docLink = document.createElement('div');\n",
              "        docLink.innerHTML = docLinkHtml;\n",
              "        element.appendChild(docLink);\n",
              "      }\n",
              "    </script>\n",
              "  </div>\n",
              "\n",
              "\n",
              "<div id=\"df-3000f513-d67e-4e85-9073-641b4410e657\">\n",
              "  <button class=\"colab-df-quickchart\" onclick=\"quickchart('df-3000f513-d67e-4e85-9073-641b4410e657')\"\n",
              "            title=\"Suggest charts\"\n",
              "            style=\"display:none;\">\n",
              "\n",
              "<svg xmlns=\"http://www.w3.org/2000/svg\" height=\"24px\"viewBox=\"0 0 24 24\"\n",
              "     width=\"24px\">\n",
              "    <g>\n",
              "        <path d=\"M19 3H5c-1.1 0-2 .9-2 2v14c0 1.1.9 2 2 2h14c1.1 0 2-.9 2-2V5c0-1.1-.9-2-2-2zM9 17H7v-7h2v7zm4 0h-2V7h2v10zm4 0h-2v-4h2v4z\"/>\n",
              "    </g>\n",
              "</svg>\n",
              "  </button>\n",
              "\n",
              "<style>\n",
              "  .colab-df-quickchart {\n",
              "      --bg-color: #E8F0FE;\n",
              "      --fill-color: #1967D2;\n",
              "      --hover-bg-color: #E2EBFA;\n",
              "      --hover-fill-color: #174EA6;\n",
              "      --disabled-fill-color: #AAA;\n",
              "      --disabled-bg-color: #DDD;\n",
              "  }\n",
              "\n",
              "  [theme=dark] .colab-df-quickchart {\n",
              "      --bg-color: #3B4455;\n",
              "      --fill-color: #D2E3FC;\n",
              "      --hover-bg-color: #434B5C;\n",
              "      --hover-fill-color: #FFFFFF;\n",
              "      --disabled-bg-color: #3B4455;\n",
              "      --disabled-fill-color: #666;\n",
              "  }\n",
              "\n",
              "  .colab-df-quickchart {\n",
              "    background-color: var(--bg-color);\n",
              "    border: none;\n",
              "    border-radius: 50%;\n",
              "    cursor: pointer;\n",
              "    display: none;\n",
              "    fill: var(--fill-color);\n",
              "    height: 32px;\n",
              "    padding: 0;\n",
              "    width: 32px;\n",
              "  }\n",
              "\n",
              "  .colab-df-quickchart:hover {\n",
              "    background-color: var(--hover-bg-color);\n",
              "    box-shadow: 0 1px 2px rgba(60, 64, 67, 0.3), 0 1px 3px 1px rgba(60, 64, 67, 0.15);\n",
              "    fill: var(--button-hover-fill-color);\n",
              "  }\n",
              "\n",
              "  .colab-df-quickchart-complete:disabled,\n",
              "  .colab-df-quickchart-complete:disabled:hover {\n",
              "    background-color: var(--disabled-bg-color);\n",
              "    fill: var(--disabled-fill-color);\n",
              "    box-shadow: none;\n",
              "  }\n",
              "\n",
              "  .colab-df-spinner {\n",
              "    border: 2px solid var(--fill-color);\n",
              "    border-color: transparent;\n",
              "    border-bottom-color: var(--fill-color);\n",
              "    animation:\n",
              "      spin 1s steps(1) infinite;\n",
              "  }\n",
              "\n",
              "  @keyframes spin {\n",
              "    0% {\n",
              "      border-color: transparent;\n",
              "      border-bottom-color: var(--fill-color);\n",
              "      border-left-color: var(--fill-color);\n",
              "    }\n",
              "    20% {\n",
              "      border-color: transparent;\n",
              "      border-left-color: var(--fill-color);\n",
              "      border-top-color: var(--fill-color);\n",
              "    }\n",
              "    30% {\n",
              "      border-color: transparent;\n",
              "      border-left-color: var(--fill-color);\n",
              "      border-top-color: var(--fill-color);\n",
              "      border-right-color: var(--fill-color);\n",
              "    }\n",
              "    40% {\n",
              "      border-color: transparent;\n",
              "      border-right-color: var(--fill-color);\n",
              "      border-top-color: var(--fill-color);\n",
              "    }\n",
              "    60% {\n",
              "      border-color: transparent;\n",
              "      border-right-color: var(--fill-color);\n",
              "    }\n",
              "    80% {\n",
              "      border-color: transparent;\n",
              "      border-right-color: var(--fill-color);\n",
              "      border-bottom-color: var(--fill-color);\n",
              "    }\n",
              "    90% {\n",
              "      border-color: transparent;\n",
              "      border-bottom-color: var(--fill-color);\n",
              "    }\n",
              "  }\n",
              "</style>\n",
              "\n",
              "  <script>\n",
              "    async function quickchart(key) {\n",
              "      const quickchartButtonEl =\n",
              "        document.querySelector('#' + key + ' button');\n",
              "      quickchartButtonEl.disabled = true;  // To prevent multiple clicks.\n",
              "      quickchartButtonEl.classList.add('colab-df-spinner');\n",
              "      try {\n",
              "        const charts = await google.colab.kernel.invokeFunction(\n",
              "            'suggestCharts', [key], {});\n",
              "      } catch (error) {\n",
              "        console.error('Error during call to suggestCharts:', error);\n",
              "      }\n",
              "      quickchartButtonEl.classList.remove('colab-df-spinner');\n",
              "      quickchartButtonEl.classList.add('colab-df-quickchart-complete');\n",
              "    }\n",
              "    (() => {\n",
              "      let quickchartButtonEl =\n",
              "        document.querySelector('#df-3000f513-d67e-4e85-9073-641b4410e657 button');\n",
              "      quickchartButtonEl.style.display =\n",
              "        google.colab.kernel.accessAllowed ? 'block' : 'none';\n",
              "    })();\n",
              "  </script>\n",
              "</div>\n",
              "\n",
              "  <div id=\"id_e57744f9-d066-4cc3-80ea-b0d8a91de0f3\">\n",
              "    <style>\n",
              "      .colab-df-generate {\n",
              "        background-color: #E8F0FE;\n",
              "        border: none;\n",
              "        border-radius: 50%;\n",
              "        cursor: pointer;\n",
              "        display: none;\n",
              "        fill: #1967D2;\n",
              "        height: 32px;\n",
              "        padding: 0 0 0 0;\n",
              "        width: 32px;\n",
              "      }\n",
              "\n",
              "      .colab-df-generate:hover {\n",
              "        background-color: #E2EBFA;\n",
              "        box-shadow: 0px 1px 2px rgba(60, 64, 67, 0.3), 0px 1px 3px 1px rgba(60, 64, 67, 0.15);\n",
              "        fill: #174EA6;\n",
              "      }\n",
              "\n",
              "      [theme=dark] .colab-df-generate {\n",
              "        background-color: #3B4455;\n",
              "        fill: #D2E3FC;\n",
              "      }\n",
              "\n",
              "      [theme=dark] .colab-df-generate:hover {\n",
              "        background-color: #434B5C;\n",
              "        box-shadow: 0px 1px 3px 1px rgba(0, 0, 0, 0.15);\n",
              "        filter: drop-shadow(0px 1px 2px rgba(0, 0, 0, 0.3));\n",
              "        fill: #FFFFFF;\n",
              "      }\n",
              "    </style>\n",
              "    <button class=\"colab-df-generate\" onclick=\"generateWithVariable('clean_data_for_avaragerating')\"\n",
              "            title=\"Generate code using this dataframe.\"\n",
              "            style=\"display:none;\">\n",
              "\n",
              "  <svg xmlns=\"http://www.w3.org/2000/svg\" height=\"24px\"viewBox=\"0 0 24 24\"\n",
              "       width=\"24px\">\n",
              "    <path d=\"M7,19H8.4L18.45,9,17,7.55,7,17.6ZM5,21V16.75L18.45,3.32a2,2,0,0,1,2.83,0l1.4,1.43a1.91,1.91,0,0,1,.58,1.4,1.91,1.91,0,0,1-.58,1.4L9.25,21ZM18.45,9,17,7.55Zm-12,3A5.31,5.31,0,0,0,4.9,8.1,5.31,5.31,0,0,0,1,6.5,5.31,5.31,0,0,0,4.9,4.9,5.31,5.31,0,0,0,6.5,1,5.31,5.31,0,0,0,8.1,4.9,5.31,5.31,0,0,0,12,6.5,5.46,5.46,0,0,0,6.5,12Z\"/>\n",
              "  </svg>\n",
              "    </button>\n",
              "    <script>\n",
              "      (() => {\n",
              "      const buttonEl =\n",
              "        document.querySelector('#id_e57744f9-d066-4cc3-80ea-b0d8a91de0f3 button.colab-df-generate');\n",
              "      buttonEl.style.display =\n",
              "        google.colab.kernel.accessAllowed ? 'block' : 'none';\n",
              "\n",
              "      buttonEl.onclick = () => {\n",
              "        google.colab.notebook.generateWithVariable('clean_data_for_avaragerating');\n",
              "      }\n",
              "      })();\n",
              "    </script>\n",
              "  </div>\n",
              "\n",
              "    </div>\n",
              "  </div>\n"
            ],
            "application/vnd.google.colaboratory.intrinsic+json": {
              "type": "dataframe",
              "variable_name": "clean_data_for_avaragerating",
              "summary": "{\n  \"name\": \"clean_data_for_avaragerating\",\n  \"rows\": 3288,\n  \"fields\": [\n    {\n      \"column\": \"id\",\n      \"properties\": {\n        \"dtype\": \"string\",\n        \"num_unique_values\": 3288,\n        \"samples\": [\n          \"tt1291150\",\n          \"tt0119081\",\n          \"tt2262227\"\n        ],\n        \"semantic_type\": \"\",\n        \"description\": \"\"\n      }\n    },\n    {\n      \"column\": \"primaryTitle\",\n      \"properties\": {\n        \"dtype\": \"string\",\n        \"num_unique_values\": 3237,\n        \"samples\": [\n          \"Spider-Man\",\n          \"Abduction\",\n          \"Nanny McPhee\"\n        ],\n        \"semantic_type\": \"\",\n        \"description\": \"\"\n      }\n    },\n    {\n      \"column\": \"originalTitle\",\n      \"properties\": {\n        \"dtype\": \"string\",\n        \"num_unique_values\": 3240,\n        \"samples\": [\n          \"Oblivion\",\n          \"Ocean's Twelve\",\n          \"Paranormal Activity 3\"\n        ],\n        \"semantic_type\": \"\",\n        \"description\": \"\"\n      }\n    },\n    {\n      \"column\": \"runtimeMinutes\",\n      \"properties\": {\n        \"dtype\": \"number\",\n        \"std\": 19,\n        \"min\": 63,\n        \"max\": 242,\n        \"num_unique_values\": 123,\n        \"samples\": [\n          94,\n          183,\n          143\n        ],\n        \"semantic_type\": \"\",\n        \"description\": \"\"\n      }\n    },\n    {\n      \"column\": \"genres\",\n      \"properties\": {\n        \"dtype\": \"category\",\n        \"num_unique_values\": 286,\n        \"samples\": [\n          \"Action,Crime,Drama\",\n          \"Drama,History,Romance\",\n          \"Crime,Thriller\"\n        ],\n        \"semantic_type\": \"\",\n        \"description\": \"\"\n      }\n    },\n    {\n      \"column\": \"averageRating\",\n      \"properties\": {\n        \"dtype\": \"number\",\n        \"std\": 0.793283826950557,\n        \"min\": 4.6,\n        \"max\": 8.9,\n        \"num_unique_values\": 44,\n        \"samples\": [\n          4.7,\n          8.4,\n          6.2\n        ],\n        \"semantic_type\": \"\",\n        \"description\": \"\"\n      }\n    },\n    {\n      \"column\": \"numVotes\",\n      \"properties\": {\n        \"dtype\": \"number\",\n        \"std\": 235666,\n        \"min\": 50004,\n        \"max\": 2484142,\n        \"num_unique_values\": 3270,\n        \"samples\": [\n          61595,\n          453053,\n          101769\n        ],\n        \"semantic_type\": \"\",\n        \"description\": \"\"\n      }\n    },\n    {\n      \"column\": \"budget\",\n      \"properties\": {\n        \"dtype\": \"number\",\n        \"std\": 51916635.860423066,\n        \"min\": 18.0,\n        \"max\": 356000000.0,\n        \"num_unique_values\": 341,\n        \"samples\": [\n          104000000.0,\n          42000000.0,\n          60000000.0\n        ],\n        \"semantic_type\": \"\",\n        \"description\": \"\"\n      }\n    },\n    {\n      \"column\": \"gross\",\n      \"properties\": {\n        \"dtype\": \"number\",\n        \"std\": 235811317.36980352,\n        \"min\": 210.0,\n        \"max\": 2923706026.0,\n        \"num_unique_values\": 3278,\n        \"samples\": [\n          6903033.0,\n          162360636.0,\n          158964610.0\n        ],\n        \"semantic_type\": \"\",\n        \"description\": \"\"\n      }\n    },\n    {\n      \"column\": \"release_date\",\n      \"properties\": {\n        \"dtype\": \"string\",\n        \"num_unique_values\": 2769,\n        \"samples\": [\n          \"August 31, 2006\",\n          \"May 13, 2009\",\n          \"November 19, 1993\"\n        ],\n        \"semantic_type\": \"\",\n        \"description\": \"\"\n      }\n    },\n    {\n      \"column\": \"directors\",\n      \"properties\": {\n        \"dtype\": \"category\",\n        \"num_unique_values\": 1331,\n        \"samples\": [\n          \"Jeff Fowler\",\n          \"Harmony Korine\",\n          \"Albert Hughes\"\n        ],\n        \"semantic_type\": \"\",\n        \"description\": \"\"\n      }\n    }\n  ]\n}"
            }
          },
          "metadata": {},
          "execution_count": 71
        }
      ]
    },
    {
      "cell_type": "code",
      "source": [
        "#draw the histogram plot"
      ],
      "metadata": {
        "id": "zs-5QVP3kNT6"
      },
      "execution_count": 63,
      "outputs": []
    },
    {
      "cell_type": "code",
      "source": [
        "plt.figure(figsize=(6,6))\n",
        "sns.histplot(clean_data_for_avaragerating[\"averageRating\"],bins=40,kde=True)\n",
        "plt.title(\"distribution of average rating\")\n",
        "plt.xlabel(\"average rating\")\n",
        "plt.ylabel(\"counts\")"
      ],
      "metadata": {
        "colab": {
          "base_uri": "https://localhost:8080/",
          "height": 581
        },
        "id": "uclmg_VnjCkq",
        "outputId": "762c05ff-ba5c-4489-c65e-8a0f184f060e"
      },
      "execution_count": 72,
      "outputs": [
        {
          "output_type": "execute_result",
          "data": {
            "text/plain": [
              "Text(0, 0.5, 'counts')"
            ]
          },
          "metadata": {},
          "execution_count": 72
        },
        {
          "output_type": "display_data",
          "data": {
            "text/plain": [
              "<Figure size 600x600 with 1 Axes>"
            ],
            "image/png": "[encoded data removed]"
          },
          "metadata": {}
        }
      ]
    },
    {
      "cell_type": "code",
      "source": [
        "#draw boxplot"
      ],
      "metadata": {
        "id": "DmmyozAbjcjD"
      },
      "execution_count": 64,
      "outputs": []
    },
    {
      "cell_type": "code",
      "source": [
        "plt.figure(figsize=(6,5))\n",
        "sns.boxplot(clean_data_for_avaragerating[\"averageRating\"])\n",
        "plt.xlabel(\"average rating\")\n",
        "plt.ylabel(\"counts\")\n",
        "plt.title(\"boxplot of avaerage rating\")"
      ],
      "metadata": {
        "colab": {
          "base_uri": "https://localhost:8080/",
          "height": 490
        },
        "id": "53BlEmT4kUvS",
        "outputId": "155a64b3-ca60-425f-8f59-1a37a0fc5e4f"
      },
      "execution_count": 73,
      "outputs": [
        {
          "output_type": "execute_result",
          "data": {
            "text/plain": [
              "Text(0.5, 1.0, 'boxplot of avaerage rating')"
            ]
          },
          "metadata": {},
          "execution_count": 73
        },
        {
          "output_type": "display_data",
          "data": {
            "text/plain": [
              "<Figure size 600x500 with 1 Axes>"
            ],
            "image/png": "[encoded data removed]"
          },
          "metadata": {}
        }
      ]
    },
    {
      "cell_type": "markdown",
      "source": [
        "INSIGHTS\n",
        "\n",
        "--most movies are well rated.\n",
        "\n",
        "--the majority of rating are above 6 to 8 indication positive bias in user reviews.\n",
        "\n",
        "--some movies are high rated looks like outliers.\n",
        "\n",
        "-- there are fewer low rated movies,looks outliers ,meanng people dont bother to rate them,low rated movies -probably dislike by audience."
      ],
      "metadata": {
        "id": "fPj6alhXleEn"
      }
    },
    {
      "cell_type": "code",
      "source": [],
      "metadata": {
        "id": "Ig9EmWgOmBFW"
      },
      "execution_count": null,
      "outputs": []
    },
    {
      "cell_type": "markdown",
      "source": [
        "QUE 6) how many movies have received over 100000 votes(numvotes>100,000)"
      ],
      "metadata": {
        "id": "5ep5ejtfmICk"
      }
    },
    {
      "cell_type": "code",
      "source": [
        "imdb.columns"
      ],
      "metadata": {
        "colab": {
          "base_uri": "https://localhost:8080/"
        },
        "id": "0kw_cKfXmeMw",
        "outputId": "68ca9ebe-03c8-4c58-e632-81cd5135e81f"
      },
      "execution_count": 74,
      "outputs": [
        {
          "output_type": "execute_result",
          "data": {
            "text/plain": [
              "Index(['id', 'primaryTitle', 'originalTitle', 'runtimeMinutes', 'genres',\n",
              "       'averageRating', 'numVotes', 'budget', 'gross', 'release_date',\n",
              "       'directors'],\n",
              "      dtype='object')"
            ]
          },
          "metadata": {},
          "execution_count": 74
        }
      ]
    },
    {
      "cell_type": "code",
      "source": [
        "high_votes_movies=imdb[imdb[\"numVotes\"]>100000]"
      ],
      "metadata": {
        "id": "ikJFky6YmhH5"
      },
      "execution_count": 77,
      "outputs": []
    },
    {
      "cell_type": "code",
      "source": [
        "high_votes_movies.shape  #shape=how many rows and columns are present in the dataset."
      ],
      "metadata": {
        "colab": {
          "base_uri": "https://localhost:8080/"
        },
        "id": "rrscikLzms_-",
        "outputId": "0c28052b-11e8-4a14-8287-5d835ce1c380"
      },
      "execution_count": 80,
      "outputs": [
        {
          "output_type": "execute_result",
          "data": {
            "text/plain": [
              "(2099, 11)"
            ]
          },
          "metadata": {},
          "execution_count": 80
        }
      ]
    },
    {
      "cell_type": "code",
      "source": [
        "#histogram plot"
      ],
      "metadata": {
        "id": "gM99cO55m69Y"
      },
      "execution_count": 79,
      "outputs": []
    },
    {
      "cell_type": "code",
      "source": [
        "plt.figure(figsize=(6,5))\n",
        "sns.histplot(imdb[\"numVotes\"],bins=40,kde=True)\n",
        "plt.xlabel(\"number of votes\")\n",
        "plt.ylabel(\"counts\")\n",
        "plt.title(\"distribution of movies votes\")\n"
      ],
      "metadata": {
        "colab": {
          "base_uri": "https://localhost:8080/",
          "height": 504
        },
        "id": "zFHIkGT0nPKS",
        "outputId": "9f1bbf15-3be6-4f8a-cb02-9ed5b21e8ef7"
      },
      "execution_count": 82,
      "outputs": [
        {
          "output_type": "execute_result",
          "data": {
            "text/plain": [
              "Text(0.5, 1.0, 'distribution of movies votes')"
            ]
          },
          "metadata": {},
          "execution_count": 82
        },
        {
          "output_type": "display_data",
          "data": {
            "text/plain": [
              "<Figure size 600x500 with 1 Axes>"
            ],
            "image/png": "[encoded data removed]"
          },
          "metadata": {}
        }
      ]
    },
    {
      "cell_type": "markdown",
      "source": [
        "#insights\n",
        " ----The distribution is right-skewed, meaning most movies have fewer votes, while only a few have very high votes.\n",
        "2️⃣ A majority of movies received low to moderate votes, indicating that only a small percentage of movies gain massive audience attention.\n",
        "3️⃣ There are outliers (movies with an exceptionally high number of votes), likely popular blockbusters or classics with a strong fanbase.\n",
        "4️⃣ The KDE line suggests a smooth trend where vote counts gradually decrease as the number of votes increases."
      ],
      "metadata": {
        "id": "QQt7iP4WoiZN"
      }
    },
    {
      "cell_type": "code",
      "source": [],
      "metadata": {
        "id": "lbQANvdvoSkB"
      },
      "execution_count": null,
      "outputs": []
    },
    {
      "cell_type": "markdown",
      "source": [
        "**QUE 7) What is the ditribution of movies budgets?**\n"
      ],
      "metadata": {
        "id": "MTTjfJt4p2fe"
      }
    },
    {
      "cell_type": "code",
      "source": [
        "imdb.head(1)  #head=checking as sample"
      ],
      "metadata": {
        "colab": {
          "base_uri": "https://localhost:8080/",
          "height": 98
        },
        "id": "I6Yys9eHp-FO",
        "outputId": "7263fd21-0007-40d9-8871-07d07a044835"
      },
      "execution_count": 83,
      "outputs": [
        {
          "output_type": "execute_result",
          "data": {
            "text/plain": [
              "          id    primaryTitle   originalTitle  runtimeMinutes  \\\n",
              "0  tt0035423  Kate & Leopold  Kate & Leopold             118   \n",
              "\n",
              "                   genres  averageRating  numVotes      budget       gross  \\\n",
              "0  Comedy,Fantasy,Romance            6.4     87925  48000000.0  76019048.0   \n",
              "\n",
              "        release_date      directors  \n",
              "0  December 11, 2001  James Mangold  "
            ],
            "text/html": [
              "\n",
              "  <div id=\"df-fa325a10-355f-4cd5-863e-afb73ee9709f\" class=\"colab-df-container\">\n",
              "    <div>\n",
              "<style scoped>\n",
              "    .dataframe tbody tr th:only-of-type {\n",
              "        vertical-align: middle;\n",
              "    }\n",
              "\n",
              "    .dataframe tbody tr th {\n",
              "        vertical-align: top;\n",
              "    }\n",
              "\n",
              "    .dataframe thead th {\n",
              "        text-align: right;\n",
              "    }\n",
              "</style>\n",
              "<table border=\"1\" class=\"dataframe\">\n",
              "  <thead>\n",
              "    <tr style=\"text-align: right;\">\n",
              "      <th></th>\n",
              "      <th>id</th>\n",
              "      <th>primaryTitle</th>\n",
              "      <th>originalTitle</th>\n",
              "      <th>runtimeMinutes</th>\n",
              "      <th>genres</th>\n",
              "      <th>averageRating</th>\n",
              "      <th>numVotes</th>\n",
              "      <th>budget</th>\n",
              "      <th>gross</th>\n",
              "      <th>release_date</th>\n",
              "      <th>directors</th>\n",
              "    </tr>\n",
              "  </thead>\n",
              "  <tbody>\n",
              "    <tr>\n",
              "      <th>0</th>\n",
              "      <td>tt0035423</td>\n",
              "      <td>Kate &amp; Leopold</td>\n",
              "      <td>Kate &amp; Leopold</td>\n",
              "      <td>118</td>\n",
              "      <td>Comedy,Fantasy,Romance</td>\n",
              "      <td>6.4</td>\n",
              "      <td>87925</td>\n",
              "      <td>48000000.0</td>\n",
              "      <td>76019048.0</td>\n",
              "      <td>December 11, 2001</td>\n",
              "      <td>James Mangold</td>\n",
              "    </tr>\n",
              "  </tbody>\n",
              "</table>\n",
              "</div>\n",
              "    <div class=\"colab-df-buttons\">\n",
              "\n",
              "  <div class=\"colab-df-container\">\n",
              "    <button class=\"colab-df-convert\" onclick=\"convertToInteractive('df-fa325a10-355f-4cd5-863e-afb73ee9709f')\"\n",
              "            title=\"Convert this dataframe to an interactive table.\"\n",
              "            style=\"display:none;\">\n",
              "\n",
              "  <svg xmlns=\"http://www.w3.org/2000/svg\" height=\"24px\" viewBox=\"0 -960 960 960\">\n",
              "    <path d=\"M120-120v-720h720v720H120Zm60-500h600v-160H180v160Zm220 220h160v-160H400v160Zm0 220h160v-160H400v160ZM180-400h160v-160H180v160Zm440 0h160v-160H620v160ZM180-180h160v-160H180v160Zm440 0h160v-160H620v160Z\"/>\n",
              "  </svg>\n",
              "    </button>\n",
              "\n",
              "  <style>\n",
              "    .colab-df-container {\n",
              "      display:flex;\n",
              "      gap: 12px;\n",
              "    }\n",
              "\n",
              "    .colab-df-convert {\n",
              "      background-color: #E8F0FE;\n",
              "      border: none;\n",
              "      border-radius: 50%;\n",
              "      cursor: pointer;\n",
              "      display: none;\n",
              "      fill: #1967D2;\n",
              "      height: 32px;\n",
              "      padding: 0 0 0 0;\n",
              "      width: 32px;\n",
              "    }\n",
              "\n",
              "    .colab-df-convert:hover {\n",
              "      background-color: #E2EBFA;\n",
              "      box-shadow: 0px 1px 2px rgba(60, 64, 67, 0.3), 0px 1px 3px 1px rgba(60, 64, 67, 0.15);\n",
              "      fill: #174EA6;\n",
              "    }\n",
              "\n",
              "    .colab-df-buttons div {\n",
              "      margin-bottom: 4px;\n",
              "    }\n",
              "\n",
              "    [theme=dark] .colab-df-convert {\n",
              "      background-color: #3B4455;\n",
              "      fill: #D2E3FC;\n",
              "    }\n",
              "\n",
              "    [theme=dark] .colab-df-convert:hover {\n",
              "      background-color: #434B5C;\n",
              "      box-shadow: 0px 1px 3px 1px rgba(0, 0, 0, 0.15);\n",
              "      filter: drop-shadow(0px 1px 2px rgba(0, 0, 0, 0.3));\n",
              "      fill: #FFFFFF;\n",
              "    }\n",
              "  </style>\n",
              "\n",
              "    <script>\n",
              "      const buttonEl =\n",
              "        document.querySelector('#df-fa325a10-355f-4cd5-863e-afb73ee9709f button.colab-df-convert');\n",
              "      buttonEl.style.display =\n",
              "        google.colab.kernel.accessAllowed ? 'block' : 'none';\n",
              "\n",
              "      async function convertToInteractive(key) {\n",
              "        const element = document.querySelector('#df-fa325a10-355f-4cd5-863e-afb73ee9709f');\n",
              "        const dataTable =\n",
              "          await google.colab.kernel.invokeFunction('convertToInteractive',\n",
              "                                                    [key], {});\n",
              "        if (!dataTable) return;\n",
              "\n",
              "        const docLinkHtml = 'Like what you see? Visit the ' +\n",
              "          '<a target=\"_blank\" href=https://colab.research.google.com/notebooks/data_table.ipynb>data table notebook</a>'\n",
              "          + ' to learn more about interactive tables.';\n",
              "        element.innerHTML = '';\n",
              "        dataTable['output_type'] = 'display_data';\n",
              "        await google.colab.output.renderOutput(dataTable, element);\n",
              "        const docLink = document.createElement('div');\n",
              "        docLink.innerHTML = docLinkHtml;\n",
              "        element.appendChild(docLink);\n",
              "      }\n",
              "    </script>\n",
              "  </div>\n",
              "\n",
              "\n",
              "    </div>\n",
              "  </div>\n"
            ],
            "application/vnd.google.colaboratory.intrinsic+json": {
              "type": "dataframe",
              "variable_name": "imdb",
              "summary": "{\n  \"name\": \"imdb\",\n  \"rows\": 3343,\n  \"fields\": [\n    {\n      \"column\": \"id\",\n      \"properties\": {\n        \"dtype\": \"string\",\n        \"num_unique_values\": 3343,\n        \"samples\": [\n          \"tt0107798\",\n          \"tt0327554\",\n          \"tt0185183\"\n        ],\n        \"semantic_type\": \"\",\n        \"description\": \"\"\n      }\n    },\n    {\n      \"column\": \"primaryTitle\",\n      \"properties\": {\n        \"dtype\": \"string\",\n        \"num_unique_values\": 3290,\n        \"samples\": [\n          \"Dark Water\",\n          \"A Bad Moms Christmas\",\n          \"5 Centimeters per Second\"\n        ],\n        \"semantic_type\": \"\",\n        \"description\": \"\"\n      }\n    },\n    {\n      \"column\": \"originalTitle\",\n      \"properties\": {\n        \"dtype\": \"string\",\n        \"num_unique_values\": 3293,\n        \"samples\": [\n          \"Terminator: Dark Fate\",\n          \"A Bad Moms Christmas\",\n          \"Love, Simon\"\n        ],\n        \"semantic_type\": \"\",\n        \"description\": \"\"\n      }\n    },\n    {\n      \"column\": \"runtimeMinutes\",\n      \"properties\": {\n        \"dtype\": \"number\",\n        \"std\": 19,\n        \"min\": 63,\n        \"max\": 242,\n        \"num_unique_values\": 125,\n        \"samples\": [\n          110,\n          114,\n          138\n        ],\n        \"semantic_type\": \"\",\n        \"description\": \"\"\n      }\n    },\n    {\n      \"column\": \"genres\",\n      \"properties\": {\n        \"dtype\": \"category\",\n        \"num_unique_values\": 287,\n        \"samples\": [\n          \"Action,Crime,Drama\",\n          \"Crime,Horror,Mystery\",\n          \"Comedy,Family,Romance\"\n        ],\n        \"semantic_type\": \"\",\n        \"description\": \"\"\n      }\n    },\n    {\n      \"column\": \"averageRating\",\n      \"properties\": {\n        \"dtype\": \"number\",\n        \"std\": 0.882405307139313,\n        \"min\": 1.0,\n        \"max\": 9.3,\n        \"num_unique_values\": 68,\n        \"samples\": [\n          4.9,\n          7.0,\n          7.9\n        ],\n        \"semantic_type\": \"\",\n        \"description\": \"\"\n      }\n    },\n    {\n      \"column\": \"numVotes\",\n      \"properties\": {\n        \"dtype\": \"number\",\n        \"std\": 248053,\n        \"min\": 50004,\n        \"max\": 2817283,\n        \"num_unique_values\": 3324,\n        \"samples\": [\n          130397,\n          65196,\n          68336\n        ],\n        \"semantic_type\": \"\",\n        \"description\": \"\"\n      }\n    },\n    {\n      \"column\": \"budget\",\n      \"properties\": {\n        \"dtype\": \"number\",\n        \"std\": 51808808.83932105,\n        \"min\": 18.0,\n        \"max\": 356000000.0,\n        \"num_unique_values\": 343,\n        \"samples\": [\n          4800000.0,\n          42000000.0,\n          60000000.0\n        ],\n        \"semantic_type\": \"\",\n        \"description\": \"\"\n      }\n    },\n    {\n      \"column\": \"gross\",\n      \"properties\": {\n        \"dtype\": \"number\",\n        \"std\": 235479093.16013917,\n        \"min\": 210.0,\n        \"max\": 2923706026.0,\n        \"num_unique_values\": 3333,\n        \"samples\": [\n          2913644.0,\n          20275812.0,\n          58834384.0\n        ],\n        \"semantic_type\": \"\",\n        \"description\": \"\"\n      }\n    },\n    {\n      \"column\": \"release_date\",\n      \"properties\": {\n        \"dtype\": \"string\",\n        \"num_unique_values\": 2805,\n        \"samples\": [\n          \"August 23, 2004\",\n          \"May 30, 2003\",\n          \"May 29, 2008\"\n        ],\n        \"semantic_type\": \"\",\n        \"description\": \"\"\n      }\n    },\n    {\n      \"column\": \"directors\",\n      \"properties\": {\n        \"dtype\": \"category\",\n        \"num_unique_values\": 1354,\n        \"samples\": [\n          \"John Badham\",\n          \"Anders Thomas Jensen\",\n          \"Jon S. Baird\"\n        ],\n        \"semantic_type\": \"\",\n        \"description\": \"\"\n      }\n    }\n  ]\n}"
            }
          },
          "metadata": {},
          "execution_count": 83
        }
      ]
    },
    {
      "cell_type": "code",
      "source": [
        "#draw istogramplot"
      ],
      "metadata": {
        "id": "zu9v6CFoqCaa"
      },
      "execution_count": 84,
      "outputs": []
    },
    {
      "cell_type": "code",
      "source": [
        "plt.figure(figsize=(6,5))\n",
        "sns.histplot(imdb[\"budget\"],bins=40,kde=True)\n",
        "plt.xlabel(\"budget of movies\")\n",
        "plt.ylabel(\"counts\")\n",
        "plt.title(\"distribution of movies budget\")"
      ],
      "metadata": {
        "colab": {
          "base_uri": "https://localhost:8080/",
          "height": 504
        },
        "id": "qQfNZhb0qIys",
        "outputId": "1c0f30d7-fb59-48ae-e99f-056cb1b89baf"
      },
      "execution_count": 85,
      "outputs": [
        {
          "output_type": "execute_result",
          "data": {
            "text/plain": [
              "Text(0.5, 1.0, 'distribution of movies budget')"
            ]
          },
          "metadata": {},
          "execution_count": 85
        },
        {
          "output_type": "display_data",
          "data": {
            "text/plain": [
              "<Figure size 600x500 with 1 Axes>"
            ],
            "image/png": "[encoded data removed]"
          },
          "metadata": {}
        }
      ]
    },
    {
      "cell_type": "markdown",
      "source": [
        "INSIGHTS\n",
        "\n",
        "--the budget distribution is right skewed.\n",
        "--many movies has low budget movies.\n",
        "-- few movies only had high budget."
      ],
      "metadata": {
        "id": "r659UhuLqiim"
      }
    },
    {
      "cell_type": "code",
      "source": [
        "#lets check how many movies have hugh budget(find outliers)"
      ],
      "metadata": {
        "id": "YaTjMsi8qmgE"
      },
      "execution_count": 86,
      "outputs": []
    },
    {
      "cell_type": "code",
      "source": [
        "#fraw boxplot"
      ],
      "metadata": {
        "id": "iTRqt9Rrq2gV"
      },
      "execution_count": 87,
      "outputs": []
    },
    {
      "cell_type": "code",
      "source": [
        "plt.figure(figsize=(6,5))\n",
        "sns.boxplot(imdb[\"budget\"])\n",
        "plt.xlabel(\"budget of movies\")\n",
        "plt.ylabel(\"counts\")\n",
        "plt.title(\"boxplot of movie budget\")"
      ],
      "metadata": {
        "colab": {
          "base_uri": "https://localhost:8080/",
          "height": 490
        },
        "id": "Bh4kCQXUq37u",
        "outputId": "62180ac4-a8d6-4954-df25-f9f33a632475"
      },
      "execution_count": 88,
      "outputs": [
        {
          "output_type": "execute_result",
          "data": {
            "text/plain": [
              "Text(0.5, 1.0, 'boxplot of movie budget')"
            ]
          },
          "metadata": {},
          "execution_count": 88
        },
        {
          "output_type": "display_data",
          "data": {
            "text/plain": [
              "<Figure size 600x500 with 1 Axes>"
            ],
            "image/png": "[encoded data removed]"
          },
          "metadata": {}
        }
      ]
    },
    {
      "cell_type": "code",
      "source": [
        "Q1=imdb[\"budget\"].quantile(0.25)"
      ],
      "metadata": {
        "id": "xSc3jzRWrHnD"
      },
      "execution_count": 89,
      "outputs": []
    },
    {
      "cell_type": "code",
      "source": [
        "Q3=imdb['budget'].quantile(0.75)"
      ],
      "metadata": {
        "id": "i-u-TVrDrNEX"
      },
      "execution_count": 90,
      "outputs": []
    },
    {
      "cell_type": "code",
      "source": [
        "IQR=Q3-Q1"
      ],
      "metadata": {
        "id": "pgO4MBOgrSfj"
      },
      "execution_count": 91,
      "outputs": []
    },
    {
      "cell_type": "code",
      "source": [
        "upper_bond=Q3+1.5*IQR"
      ],
      "metadata": {
        "id": "IO6EHjOVrUU6"
      },
      "execution_count": 92,
      "outputs": []
    },
    {
      "cell_type": "code",
      "source": [
        "upper_bond"
      ],
      "metadata": {
        "colab": {
          "base_uri": "https://localhost:8080/"
        },
        "id": "qkpuqmlfrYsc",
        "outputId": "f00b4004-4f1c-4a4e-8631-26e3f9d3164e"
      },
      "execution_count": 93,
      "outputs": [
        {
          "output_type": "execute_result",
          "data": {
            "text/plain": [
              "np.float64(147500000.0)"
            ]
          },
          "metadata": {},
          "execution_count": 93
        }
      ]
    },
    {
      "cell_type": "code",
      "source": [
        "budget_clean_data=imdb[(imdb[\"budget\"]<=upper_bond)]"
      ],
      "metadata": {
        "id": "5qcxgtVXraNn"
      },
      "execution_count": 94,
      "outputs": []
    },
    {
      "cell_type": "code",
      "source": [
        "#draw histogram"
      ],
      "metadata": {
        "id": "zg12AY6grj-B"
      },
      "execution_count": 97,
      "outputs": []
    },
    {
      "cell_type": "code",
      "source": [
        "plt.figure(figsize=(6,5))\n",
        "sns.histplot(budget_clean_data[\"budget\"],bins=40,kde=True)\n",
        "plt.xlabel(\"budget of movies\")\n",
        "plt.ylabel(\"counts\")\n",
        "plt.title(\"distribution of movies budget\")"
      ],
      "metadata": {
        "colab": {
          "base_uri": "https://localhost:8080/",
          "height": 504
        },
        "id": "Uw_pgqJVrnmW",
        "outputId": "f83c356b-add7-4400-98e2-f4429047c13c"
      },
      "execution_count": 98,
      "outputs": [
        {
          "output_type": "execute_result",
          "data": {
            "text/plain": [
              "Text(0.5, 1.0, 'distribution of movies budget')"
            ]
          },
          "metadata": {},
          "execution_count": 98
        },
        {
          "output_type": "display_data",
          "data": {
            "text/plain": [
              "<Figure size 600x500 with 1 Axes>"
            ],
            "image/png": "[encoded data removed]"
          },
          "metadata": {}
        }
      ]
    },
    {
      "cell_type": "code",
      "source": [
        "#draw boxplot"
      ],
      "metadata": {
        "id": "ZrjLLHZ1r1JF"
      },
      "execution_count": 99,
      "outputs": []
    },
    {
      "cell_type": "code",
      "source": [
        "plt.figure(figsize=(6,5))\n",
        "sns.boxplot(budget_clean_data[\"budget\"])\n",
        "plt.xlabel(\"budget of movies\")\n",
        "plt.ylabel(\"counts\")\n",
        "plt.title(\"boxplot of movie budget\")"
      ],
      "metadata": {
        "colab": {
          "base_uri": "https://localhost:8080/",
          "height": 490
        },
        "id": "yNOI4T_ar4cM",
        "outputId": "b99b28a0-e576-4961-a5f5-4cffef9b3083"
      },
      "execution_count": 100,
      "outputs": [
        {
          "output_type": "execute_result",
          "data": {
            "text/plain": [
              "Text(0.5, 1.0, 'boxplot of movie budget')"
            ]
          },
          "metadata": {},
          "execution_count": 100
        },
        {
          "output_type": "display_data",
          "data": {
            "text/plain": [
              "<Figure size 600x500 with 1 Axes>"
            ],
            "image/png": "[encoded data removed]"
          },
          "metadata": {}
        }
      ]
    },
    {
      "cell_type": "code",
      "source": [
        "#find outlier again"
      ],
      "metadata": {
        "id": "G8Uax720r-st"
      },
      "execution_count": 101,
      "outputs": []
    },
    {
      "cell_type": "code",
      "source": [
        "Q1=budget_clean_data['budget'].quantile(0.25)"
      ],
      "metadata": {
        "id": "MnlmAW5QsDJa"
      },
      "execution_count": 102,
      "outputs": []
    },
    {
      "cell_type": "code",
      "source": [
        "Q3=budget_clean_data['budget'].quantile(0.75)\n"
      ],
      "metadata": {
        "id": "MzpFFnjEsOmH"
      },
      "execution_count": 103,
      "outputs": []
    },
    {
      "cell_type": "code",
      "source": [
        "IQR=Q3-Q1"
      ],
      "metadata": {
        "id": "qu0R0tTvsV46"
      },
      "execution_count": 104,
      "outputs": []
    },
    {
      "cell_type": "code",
      "source": [
        "upper_bond=Q3+1.5*IQR"
      ],
      "metadata": {
        "id": "H00yaiCXsXep"
      },
      "execution_count": 105,
      "outputs": []
    },
    {
      "cell_type": "code",
      "source": [
        "budget_fresh=budget_clean_data[(budget_clean_data[\"budget\"]<=upper_bond)]"
      ],
      "metadata": {
        "id": "3mQ6sJ31sadD"
      },
      "execution_count": 109,
      "outputs": []
    },
    {
      "cell_type": "code",
      "source": [
        "plt.figure(figsize=(6,5))\n",
        "sns.boxplot(budget_fresh[\"budget\"])\n",
        "plt.xlabel(\"budget of movies\")\n",
        "plt.ylabel(\"counts\")\n",
        "plt.title(\"boxplot of movie budget\")"
      ],
      "metadata": {
        "colab": {
          "base_uri": "https://localhost:8080/",
          "height": 490
        },
        "id": "pbrm8vLnslkq",
        "outputId": "4729ddc1-567b-4807-be29-a0b7e462d425"
      },
      "execution_count": 111,
      "outputs": [
        {
          "output_type": "execute_result",
          "data": {
            "text/plain": [
              "Text(0.5, 1.0, 'boxplot of movie budget')"
            ]
          },
          "metadata": {},
          "execution_count": 111
        },
        {
          "output_type": "display_data",
          "data": {
            "text/plain": [
              "<Figure size 600x500 with 1 Axes>"
            ],
            "image/png": "[encoded data removed]"
          },
          "metadata": {}
        }
      ]
    },
    {
      "cell_type": "code",
      "source": [
        "#find outlier again"
      ],
      "metadata": {
        "id": "-NKCc1JZsySK"
      },
      "execution_count": 112,
      "outputs": []
    },
    {
      "cell_type": "code",
      "source": [
        "Q1=budget_fresh['budget'].quantile(0.25)"
      ],
      "metadata": {
        "id": "84O2MkHKtBWq"
      },
      "execution_count": 113,
      "outputs": []
    },
    {
      "cell_type": "code",
      "source": [
        "Q3=budget_fresh['budget'].quantile(0.75)"
      ],
      "metadata": {
        "id": "PStO6T-OtDt9"
      },
      "execution_count": 114,
      "outputs": []
    },
    {
      "cell_type": "code",
      "source": [
        "IQR=Q3-Q1\n"
      ],
      "metadata": {
        "id": "f-0crHoatHEH"
      },
      "execution_count": 115,
      "outputs": []
    },
    {
      "cell_type": "code",
      "source": [
        "upper_bond=Q3+1.5*IQR"
      ],
      "metadata": {
        "id": "ClbkmzZCtL-V"
      },
      "execution_count": 116,
      "outputs": []
    },
    {
      "cell_type": "code",
      "source": [
        "budget_fresh_2=budget_fresh[(budget_fresh[\"budget\"]<=upper_bond)]"
      ],
      "metadata": {
        "id": "VHKm7D5BtPT5"
      },
      "execution_count": 118,
      "outputs": []
    },
    {
      "cell_type": "code",
      "source": [
        "plt.figure(figsize=(6,5))\n",
        "sns.boxplot(budget_fresh_2[\"budget\"])\n",
        "plt.xlabel(\"budget of movies\")\n",
        "plt.ylabel(\"counts\")\n",
        "plt.title(\"boxplot of movie budget\")"
      ],
      "metadata": {
        "colab": {
          "base_uri": "https://localhost:8080/",
          "height": 490
        },
        "id": "Odh9svMStT-4",
        "outputId": "2ec9f2d3-34fb-4250-d468-1ffc26e29b28"
      },
      "execution_count": 119,
      "outputs": [
        {
          "output_type": "execute_result",
          "data": {
            "text/plain": [
              "Text(0.5, 1.0, 'boxplot of movie budget')"
            ]
          },
          "metadata": {},
          "execution_count": 119
        },
        {
          "output_type": "display_data",
          "data": {
            "text/plain": [
              "<Figure size 600x500 with 1 Axes>"
            ],
            "image/png": "[encoded data removed]"
          },
          "metadata": {}
        }
      ]
    },
    {
      "cell_type": "code",
      "source": [
        "plt.figure(figsize=(6,5))\n",
        "sns.histplot(budget_fresh_2[\"budget\"],bins=40,kde=True)\n",
        "plt.xlabel(\"budget of movies\")\n",
        "plt.ylabel(\"counts\")\n",
        "plt.title(\"distribution of movies budget\")"
      ],
      "metadata": {
        "colab": {
          "base_uri": "https://localhost:8080/",
          "height": 504
        },
        "id": "s09I8jdVtwOz",
        "outputId": "5fa500b4-b129-4dc9-fa6f-b8604c493bf7"
      },
      "execution_count": 120,
      "outputs": [
        {
          "output_type": "execute_result",
          "data": {
            "text/plain": [
              "Text(0.5, 1.0, 'distribution of movies budget')"
            ]
          },
          "metadata": {},
          "execution_count": 120
        },
        {
          "output_type": "display_data",
          "data": {
            "text/plain": [
              "<Figure size 600x500 with 1 Axes>"
            ],
            "image/png": "[encoded data removed]"
          },
          "metadata": {}
        }
      ]
    },
    {
      "cell_type": "markdown",
      "source": [
        "#insights\n",
        "--Most movies have small to moderate budgets, while a few high-budget movies dominate the industry.\n",
        "\n",
        "--The distribution is likely right-skewed, meaning big-budget movies are rare but significantly impact the industry.\n",
        "\n",
        "--\n",
        "Further analysis can help identify the median budget and common budget range for most films.\n",
        "\n",
        "\n",
        "\n"
      ],
      "metadata": {
        "id": "Zv_PRqW7tikV"
      }
    },
    {
      "cell_type": "markdown",
      "source": [
        "***QUE 8) what is the ditribution of gross revenue? ***\n",
        "\n",
        "\n"
      ],
      "metadata": {
        "id": "icxqOmjDuQgi"
      }
    },
    {
      "cell_type": "code",
      "source": [
        "imdb.columns"
      ],
      "metadata": {
        "colab": {
          "base_uri": "https://localhost:8080/"
        },
        "id": "i6mNX2YGudz7",
        "outputId": "d4b29240-8e2c-4c0f-e124-49e120af3570"
      },
      "execution_count": 126,
      "outputs": [
        {
          "output_type": "execute_result",
          "data": {
            "text/plain": [
              "Index(['id', 'primaryTitle', 'originalTitle', 'runtimeMinutes', 'genres',\n",
              "       'averageRating', 'numVotes', 'budget', 'gross', 'release_date',\n",
              "       'directors'],\n",
              "      dtype='object')"
            ]
          },
          "metadata": {},
          "execution_count": 126
        }
      ]
    },
    {
      "cell_type": "code",
      "source": [
        "#drwa hist plot"
      ],
      "metadata": {
        "id": "Bu7qt2CAuxDi"
      },
      "execution_count": 127,
      "outputs": []
    },
    {
      "cell_type": "code",
      "source": [
        "plt.figure(figsize=(6,5))\n",
        "sns.histplot(x=imdb[\"gross\"],bins=40,kde=True)\n",
        "plt.xlabel(\"gross revenue of the movies\")\n",
        "plt.ylabel(\"count\")\n",
        "plt.title(\"ditribution of gross revenue\")"
      ],
      "metadata": {
        "colab": {
          "base_uri": "https://localhost:8080/",
          "height": 504
        },
        "id": "ezgIo1GOuy6F",
        "outputId": "12db09d1-a1d6-48e1-976a-fa2f8b785c1c"
      },
      "execution_count": 128,
      "outputs": [
        {
          "output_type": "execute_result",
          "data": {
            "text/plain": [
              "Text(0.5, 1.0, 'ditribution of gross revenue')"
            ]
          },
          "metadata": {},
          "execution_count": 128
        },
        {
          "output_type": "display_data",
          "data": {
            "text/plain": [
              "<Figure size 600x500 with 1 Axes>"
            ],
            "image/png": "[encoded data removed]"
          },
          "metadata": {}
        }
      ]
    },
    {
      "cell_type": "code",
      "source": [
        "#lets check how many movies have high gross revenue"
      ],
      "metadata": {
        "id": "3xM7ELO6vOIj"
      },
      "execution_count": 129,
      "outputs": []
    },
    {
      "cell_type": "code",
      "source": [
        "plt.figure(figsize=(6,5))\n",
        "sns.boxplot(imdb['gross'])\n",
        "plt.xlabel(\"gross revenue of the movies\")\n",
        "plt.ylabel(\"counts\")\n",
        "plt.title('bx plot of gross revenue')"
      ],
      "metadata": {
        "colab": {
          "base_uri": "https://localhost:8080/",
          "height": 490
        },
        "id": "vjTEEmLuvXZR",
        "outputId": "c6c1209c-22f2-4910-96fb-b1b54ba67f73"
      },
      "execution_count": 131,
      "outputs": [
        {
          "output_type": "execute_result",
          "data": {
            "text/plain": [
              "Text(0.5, 1.0, 'bx plot of gross revenue')"
            ]
          },
          "metadata": {},
          "execution_count": 131
        },
        {
          "output_type": "display_data",
          "data": {
            "text/plain": [
              "<Figure size 600x500 with 1 Axes>"
            ],
            "image/png": "[encoded data removed]"
          },
          "metadata": {}
        }
      ]
    },
    {
      "cell_type": "markdown",
      "source": [
        "#insights\n",
        "\n",
        "--gross revenue distribution is  right skewed.\n",
        "\n",
        "--a few blockbuster movies had earning massive amount\n",
        "\n",
        "-- there outliers movies with extreme earnings."
      ],
      "metadata": {
        "id": "Bd9lp9ojvqGp"
      }
    },
    {
      "cell_type": "markdown",
      "source": [
        "**QUE 10) What is the average budget and gross revenue of movies?**"
      ],
      "metadata": {
        "id": "cZRnHj_rwF6Y"
      }
    },
    {
      "cell_type": "code",
      "source": [
        "avg_budget=imdb[\"budget\"].mean()"
      ],
      "metadata": {
        "id": "6nkqBzO4wQjl"
      },
      "execution_count": 132,
      "outputs": []
    },
    {
      "cell_type": "code",
      "source": [
        "avg_gross=imdb[\"gross\"].mean()"
      ],
      "metadata": {
        "id": "g6iwjivVwX4W"
      },
      "execution_count": 133,
      "outputs": []
    },
    {
      "cell_type": "code",
      "source": [
        "avg_budget"
      ],
      "metadata": {
        "colab": {
          "base_uri": "https://localhost:8080/"
        },
        "id": "Q0kC5vPCwbo_",
        "outputId": "7db2fe40-05f5-4219-e2de-b4d1133f418d"
      },
      "execution_count": 134,
      "outputs": [
        {
          "output_type": "execute_result",
          "data": {
            "text/plain": [
              "np.float64(50425817.86299731)"
            ]
          },
          "metadata": {},
          "execution_count": 134
        }
      ]
    },
    {
      "cell_type": "code",
      "source": [
        "avg_gross"
      ],
      "metadata": {
        "colab": {
          "base_uri": "https://localhost:8080/"
        },
        "id": "72mAnVzJwePY",
        "outputId": "50fd599c-9ffb-42a2-bc1c-f480b51d601c"
      },
      "execution_count": 137,
      "outputs": [
        {
          "output_type": "execute_result",
          "data": {
            "text/plain": [
              "np.float64(167729001.37349686)"
            ]
          },
          "metadata": {},
          "execution_count": 137
        }
      ]
    },
    {
      "cell_type": "code",
      "source": [
        "#draw bar plot"
      ],
      "metadata": {
        "id": "myNs4lBQwshX"
      },
      "execution_count": 138,
      "outputs": []
    },
    {
      "cell_type": "code",
      "source": [
        "plt.figure(figsize=(6,5))\n",
        "sns.barplot(x=[\"avg_budget\",\"avg_gross\"],y=[avg_budget,avg_gross],palette=\"Set1\")  #y=put values in y column\n",
        "plt.title(\"comparision of avg budget vs gross\")"
      ],
      "metadata": {
        "colab": {
          "base_uri": "https://localhost:8080/",
          "height": 592
        },
        "id": "7o8PWFvtwtxN",
        "outputId": "7a95768e-5026-4909-8e85-ce1c33781ca8"
      },
      "execution_count": 145,
      "outputs": [
        {
          "output_type": "stream",
          "name": "stderr",
          "text": [
            "<ipython-input-145-a555d0ead347>:2: FutureWarning: \n",
            "\n",
            "Passing `palette` without assigning `hue` is deprecated and will be removed in v0.14.0. Assign the `x` variable to `hue` and set `legend=False` for the same effect.\n",
            "\n",
            "  sns.barplot(x=[\"avg_budget\",\"avg_gross\"],y=[avg_budget,avg_gross],palette=\"Set1\")  #y=put values in y column\n"
          ]
        },
        {
          "output_type": "execute_result",
          "data": {
            "text/plain": [
              "Text(0.5, 1.0, 'comparision of avg budget vs gross')"
            ]
          },
          "metadata": {},
          "execution_count": 145
        },
        {
          "output_type": "display_data",
          "data": {
            "text/plain": [
              "<Figure size 600x500 with 1 Axes>"
            ],
            "image/png": "[encoded data removed]"
          },
          "metadata": {}
        }
      ]
    },
    {
      "cell_type": "markdown",
      "source": [
        "#insights\n",
        "\n",
        "--average gross exceed the average budget indicating overall profitability."
      ],
      "metadata": {
        "id": "3c0IzntTyQa1"
      }
    },
    {
      "cell_type": "code",
      "source": [],
      "metadata": {
        "id": "lVG55w5HyZmb"
      },
      "execution_count": null,
      "outputs": []
    }
  ]
}