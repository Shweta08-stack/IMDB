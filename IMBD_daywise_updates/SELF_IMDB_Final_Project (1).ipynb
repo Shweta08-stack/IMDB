{
  "nbformat": 4,
  "nbformat_minor": 0,
  "metadata": {
    "colab": {
      "provenance": []
    },
    "kernelspec": {
      "name": "python3",
      "display_name": "Python 3"
    },
    "language_info": {
      "name": "python"
    }
  },
  "cells": [
    {
      "cell_type": "code",
      "execution_count": 252,
      "metadata": {
        "id": "OJsI03XNPFWP"
      },
      "outputs": [],
      "source": [
        "#IMDB==MOVIES RATING DATA"
      ]
    },
    {
      "cell_type": "code",
      "source": [
        "import numpy as np"
      ],
      "metadata": {
        "id": "8lVo_R3PP7xl"
      },
      "execution_count": 253,
      "outputs": []
    },
    {
      "cell_type": "code",
      "source": [
        "import pandas as pd"
      ],
      "metadata": {
        "id": "90uSRz_IQLMq"
      },
      "execution_count": 254,
      "outputs": []
    },
    {
      "cell_type": "code",
      "source": [
        "import matplotlib.pyplot as plt"
      ],
      "metadata": {
        "id": "uppWn0HOQOLM"
      },
      "execution_count": 255,
      "outputs": []
    },
    {
      "cell_type": "code",
      "source": [
        "import seaborn as sns"
      ],
      "metadata": {
        "id": "uX_D3cArQSlw"
      },
      "execution_count": 256,
      "outputs": []
    },
    {
      "cell_type": "code",
      "source": [
        "imdb=pd.read_csv(\"/content/imdb_data.csv\")"
      ],
      "metadata": {
        "id": "4YMVB2JCQUjv"
      },
      "execution_count": 277,
      "outputs": []
    },
    {
      "cell_type": "code",
      "source": [
        "imdb"
      ],
      "metadata": {
        "colab": {
          "base_uri": "https://localhost:8080/",
          "height": 635
        },
        "id": "RRLAyFw5QfxR",
        "outputId": "45712474-cc70-4498-e1a1-5c9275881ab3"
      },
      "execution_count": 258,
      "outputs": [
        {
          "output_type": "execute_result",
          "data": {
            "text/plain": [
              "             id                          primaryTitle  \\\n",
              "0     tt0035423                        Kate & Leopold   \n",
              "1     tt0065421                        The Aristocats   \n",
              "2     tt0065938                        Kelly's Heroes   \n",
              "3     tt0066026                               M*A*S*H   \n",
              "4     tt0066206                                Patton   \n",
              "...         ...                                   ...   \n",
              "3343  tt9770150                             Nomadland   \n",
              "3344  tt9777666                      The Tomorrow War   \n",
              "3345  tt9784798           Judas and the Black Messiah   \n",
              "3346  tt9844522  Escape Room: Tournament of Champions   \n",
              "3347  tt9893250                          I Care a Lot   \n",
              "\n",
              "                             originalTitle  isAdult  runtimeMinutes  \\\n",
              "0                           Kate & Leopold        0             118   \n",
              "1                           The AristoCats        0              78   \n",
              "2                           Kelly's Heroes        0             144   \n",
              "3                                  M*A*S*H        0             116   \n",
              "4                                   Patton        0             172   \n",
              "...                                    ...      ...             ...   \n",
              "3343                             Nomadland        0             107   \n",
              "3344                      The Tomorrow War        0             138   \n",
              "3345           Judas and the Black Messiah        0             126   \n",
              "3346  Escape Room: Tournament of Champions        0              88   \n",
              "3347                          I Care a Lot        0             118   \n",
              "\n",
              "                          genres  averageRating  numVotes     budget  \\\n",
              "0         Comedy,Fantasy,Romance            6.4     87925   48000000   \n",
              "1     Adventure,Animation,Comedy            7.1    111758    4000000   \n",
              "2           Adventure,Comedy,War            7.6     52628    4000000   \n",
              "3               Comedy,Drama,War            7.4     75784    3500000   \n",
              "4            Biography,Drama,War            7.9    106476   12000000   \n",
              "...                          ...            ...       ...        ...   \n",
              "3343                       Drama            7.3    175977    5000000   \n",
              "3344      Action,Adventure,Drama            6.6    220617  200000000   \n",
              "3345     Biography,Drama,History            7.4     88568   26000000   \n",
              "3346     Action,Adventure,Horror            5.7     56955   15000000   \n",
              "3347          Comedy,Crime,Drama            6.4    141433   14000000   \n",
              "\n",
              "           gross        release_date              directors  \n",
              "0     76019048.0   December 11, 2001          James Mangold  \n",
              "1     35459543.0   December 11, 1970    Wolfgang Reitherman  \n",
              "2      5200000.0     January 1, 1970        Brian G. Hutton  \n",
              "3     81600000.0    January 25, 1970          Robert Altman  \n",
              "4     61749765.0    February 4, 1970  Franklin J. Schaffner  \n",
              "...          ...                 ...                    ...  \n",
              "3343  39458207.0  September 11, 2020             Chloé Zhao  \n",
              "3344  14400000.0       June 30, 2021            Chris McKay  \n",
              "3345   7478009.0    February 1, 2021             Shaka King  \n",
              "3346  65774490.0        July 1, 2021           Adam Robitel  \n",
              "3347   1351662.0  September 12, 2020             J Blakeson  \n",
              "\n",
              "[3348 rows x 12 columns]"
            ],
            "text/html": [
              "\n",
              "  <div id=\"df-77e15e2b-9d8d-4e61-b3a8-93af1514909f\" class=\"colab-df-container\">\n",
              "    <div>\n",
              "<style scoped>\n",
              "    .dataframe tbody tr th:only-of-type {\n",
              "        vertical-align: middle;\n",
              "    }\n",
              "\n",
              "    .dataframe tbody tr th {\n",
              "        vertical-align: top;\n",
              "    }\n",
              "\n",
              "    .dataframe thead th {\n",
              "        text-align: right;\n",
              "    }\n",
              "</style>\n",
              "<table border=\"1\" class=\"dataframe\">\n",
              "  <thead>\n",
              "    <tr style=\"text-align: right;\">\n",
              "      <th></th>\n",
              "      <th>id</th>\n",
              "      <th>primaryTitle</th>\n",
              "      <th>originalTitle</th>\n",
              "      <th>isAdult</th>\n",
              "      <th>runtimeMinutes</th>\n",
              "      <th>genres</th>\n",
              "      <th>averageRating</th>\n",
              "      <th>numVotes</th>\n",
              "      <th>budget</th>\n",
              "      <th>gross</th>\n",
              "      <th>release_date</th>\n",
              "      <th>directors</th>\n",
              "    </tr>\n",
              "  </thead>\n",
              "  <tbody>\n",
              "    <tr>\n",
              "      <th>0</th>\n",
              "      <td>tt0035423</td>\n",
              "      <td>Kate &amp; Leopold</td>\n",
              "      <td>Kate &amp; Leopold</td>\n",
              "      <td>0</td>\n",
              "      <td>118</td>\n",
              "      <td>Comedy,Fantasy,Romance</td>\n",
              "      <td>6.4</td>\n",
              "      <td>87925</td>\n",
              "      <td>48000000</td>\n",
              "      <td>76019048.0</td>\n",
              "      <td>December 11, 2001</td>\n",
              "      <td>James Mangold</td>\n",
              "    </tr>\n",
              "    <tr>\n",
              "      <th>1</th>\n",
              "      <td>tt0065421</td>\n",
              "      <td>The Aristocats</td>\n",
              "      <td>The AristoCats</td>\n",
              "      <td>0</td>\n",
              "      <td>78</td>\n",
              "      <td>Adventure,Animation,Comedy</td>\n",
              "      <td>7.1</td>\n",
              "      <td>111758</td>\n",
              "      <td>4000000</td>\n",
              "      <td>35459543.0</td>\n",
              "      <td>December 11, 1970</td>\n",
              "      <td>Wolfgang Reitherman</td>\n",
              "    </tr>\n",
              "    <tr>\n",
              "      <th>2</th>\n",
              "      <td>tt0065938</td>\n",
              "      <td>Kelly's Heroes</td>\n",
              "      <td>Kelly's Heroes</td>\n",
              "      <td>0</td>\n",
              "      <td>144</td>\n",
              "      <td>Adventure,Comedy,War</td>\n",
              "      <td>7.6</td>\n",
              "      <td>52628</td>\n",
              "      <td>4000000</td>\n",
              "      <td>5200000.0</td>\n",
              "      <td>January 1, 1970</td>\n",
              "      <td>Brian G. Hutton</td>\n",
              "    </tr>\n",
              "    <tr>\n",
              "      <th>3</th>\n",
              "      <td>tt0066026</td>\n",
              "      <td>M*A*S*H</td>\n",
              "      <td>M*A*S*H</td>\n",
              "      <td>0</td>\n",
              "      <td>116</td>\n",
              "      <td>Comedy,Drama,War</td>\n",
              "      <td>7.4</td>\n",
              "      <td>75784</td>\n",
              "      <td>3500000</td>\n",
              "      <td>81600000.0</td>\n",
              "      <td>January 25, 1970</td>\n",
              "      <td>Robert Altman</td>\n",
              "    </tr>\n",
              "    <tr>\n",
              "      <th>4</th>\n",
              "      <td>tt0066206</td>\n",
              "      <td>Patton</td>\n",
              "      <td>Patton</td>\n",
              "      <td>0</td>\n",
              "      <td>172</td>\n",
              "      <td>Biography,Drama,War</td>\n",
              "      <td>7.9</td>\n",
              "      <td>106476</td>\n",
              "      <td>12000000</td>\n",
              "      <td>61749765.0</td>\n",
              "      <td>February 4, 1970</td>\n",
              "      <td>Franklin J. Schaffner</td>\n",
              "    </tr>\n",
              "    <tr>\n",
              "      <th>...</th>\n",
              "      <td>...</td>\n",
              "      <td>...</td>\n",
              "      <td>...</td>\n",
              "      <td>...</td>\n",
              "      <td>...</td>\n",
              "      <td>...</td>\n",
              "      <td>...</td>\n",
              "      <td>...</td>\n",
              "      <td>...</td>\n",
              "      <td>...</td>\n",
              "      <td>...</td>\n",
              "      <td>...</td>\n",
              "    </tr>\n",
              "    <tr>\n",
              "      <th>3343</th>\n",
              "      <td>tt9770150</td>\n",
              "      <td>Nomadland</td>\n",
              "      <td>Nomadland</td>\n",
              "      <td>0</td>\n",
              "      <td>107</td>\n",
              "      <td>Drama</td>\n",
              "      <td>7.3</td>\n",
              "      <td>175977</td>\n",
              "      <td>5000000</td>\n",
              "      <td>39458207.0</td>\n",
              "      <td>September 11, 2020</td>\n",
              "      <td>Chloé Zhao</td>\n",
              "    </tr>\n",
              "    <tr>\n",
              "      <th>3344</th>\n",
              "      <td>tt9777666</td>\n",
              "      <td>The Tomorrow War</td>\n",
              "      <td>The Tomorrow War</td>\n",
              "      <td>0</td>\n",
              "      <td>138</td>\n",
              "      <td>Action,Adventure,Drama</td>\n",
              "      <td>6.6</td>\n",
              "      <td>220617</td>\n",
              "      <td>200000000</td>\n",
              "      <td>14400000.0</td>\n",
              "      <td>June 30, 2021</td>\n",
              "      <td>Chris McKay</td>\n",
              "    </tr>\n",
              "    <tr>\n",
              "      <th>3345</th>\n",
              "      <td>tt9784798</td>\n",
              "      <td>Judas and the Black Messiah</td>\n",
              "      <td>Judas and the Black Messiah</td>\n",
              "      <td>0</td>\n",
              "      <td>126</td>\n",
              "      <td>Biography,Drama,History</td>\n",
              "      <td>7.4</td>\n",
              "      <td>88568</td>\n",
              "      <td>26000000</td>\n",
              "      <td>7478009.0</td>\n",
              "      <td>February 1, 2021</td>\n",
              "      <td>Shaka King</td>\n",
              "    </tr>\n",
              "    <tr>\n",
              "      <th>3346</th>\n",
              "      <td>tt9844522</td>\n",
              "      <td>Escape Room: Tournament of Champions</td>\n",
              "      <td>Escape Room: Tournament of Champions</td>\n",
              "      <td>0</td>\n",
              "      <td>88</td>\n",
              "      <td>Action,Adventure,Horror</td>\n",
              "      <td>5.7</td>\n",
              "      <td>56955</td>\n",
              "      <td>15000000</td>\n",
              "      <td>65774490.0</td>\n",
              "      <td>July 1, 2021</td>\n",
              "      <td>Adam Robitel</td>\n",
              "    </tr>\n",
              "    <tr>\n",
              "      <th>3347</th>\n",
              "      <td>tt9893250</td>\n",
              "      <td>I Care a Lot</td>\n",
              "      <td>I Care a Lot</td>\n",
              "      <td>0</td>\n",
              "      <td>118</td>\n",
              "      <td>Comedy,Crime,Drama</td>\n",
              "      <td>6.4</td>\n",
              "      <td>141433</td>\n",
              "      <td>14000000</td>\n",
              "      <td>1351662.0</td>\n",
              "      <td>September 12, 2020</td>\n",
              "      <td>J Blakeson</td>\n",
              "    </tr>\n",
              "  </tbody>\n",
              "</table>\n",
              "<p>3348 rows × 12 columns</p>\n",
              "</div>\n",
              "    <div class=\"colab-df-buttons\">\n",
              "\n",
              "  <div class=\"colab-df-container\">\n",
              "    <button class=\"colab-df-convert\" onclick=\"convertToInteractive('df-77e15e2b-9d8d-4e61-b3a8-93af1514909f')\"\n",
              "            title=\"Convert this dataframe to an interactive table.\"\n",
              "            style=\"display:none;\">\n",
              "\n",
              "  <svg xmlns=\"http://www.w3.org/2000/svg\" height=\"24px\" viewBox=\"0 -960 960 960\">\n",
              "    <path d=\"M120-120v-720h720v720H120Zm60-500h600v-160H180v160Zm220 220h160v-160H400v160Zm0 220h160v-160H400v160ZM180-400h160v-160H180v160Zm440 0h160v-160H620v160ZM180-180h160v-160H180v160Zm440 0h160v-160H620v160Z\"/>\n",
              "  </svg>\n",
              "    </button>\n",
              "\n",
              "  <style>\n",
              "    .colab-df-container {\n",
              "      display:flex;\n",
              "      gap: 12px;\n",
              "    }\n",
              "\n",
              "    .colab-df-convert {\n",
              "      background-color: #E8F0FE;\n",
              "      border: none;\n",
              "      border-radius: 50%;\n",
              "      cursor: pointer;\n",
              "      display: none;\n",
              "      fill: #1967D2;\n",
              "      height: 32px;\n",
              "      padding: 0 0 0 0;\n",
              "      width: 32px;\n",
              "    }\n",
              "\n",
              "    .colab-df-convert:hover {\n",
              "      background-color: #E2EBFA;\n",
              "      box-shadow: 0px 1px 2px rgba(60, 64, 67, 0.3), 0px 1px 3px 1px rgba(60, 64, 67, 0.15);\n",
              "      fill: #174EA6;\n",
              "    }\n",
              "\n",
              "    .colab-df-buttons div {\n",
              "      margin-bottom: 4px;\n",
              "    }\n",
              "\n",
              "    [theme=dark] .colab-df-convert {\n",
              "      background-color: #3B4455;\n",
              "      fill: #D2E3FC;\n",
              "    }\n",
              "\n",
              "    [theme=dark] .colab-df-convert:hover {\n",
              "      background-color: #434B5C;\n",
              "      box-shadow: 0px 1px 3px 1px rgba(0, 0, 0, 0.15);\n",
              "      filter: drop-shadow(0px 1px 2px rgba(0, 0, 0, 0.3));\n",
              "      fill: #FFFFFF;\n",
              "    }\n",
              "  </style>\n",
              "\n",
              "    <script>\n",
              "      const buttonEl =\n",
              "        document.querySelector('#df-77e15e2b-9d8d-4e61-b3a8-93af1514909f button.colab-df-convert');\n",
              "      buttonEl.style.display =\n",
              "        google.colab.kernel.accessAllowed ? 'block' : 'none';\n",
              "\n",
              "      async function convertToInteractive(key) {\n",
              "        const element = document.querySelector('#df-77e15e2b-9d8d-4e61-b3a8-93af1514909f');\n",
              "        const dataTable =\n",
              "          await google.colab.kernel.invokeFunction('convertToInteractive',\n",
              "                                                    [key], {});\n",
              "        if (!dataTable) return;\n",
              "\n",
              "        const docLinkHtml = 'Like what you see? Visit the ' +\n",
              "          '<a target=\"_blank\" href=https://colab.research.google.com/notebooks/data_table.ipynb>data table notebook</a>'\n",
              "          + ' to learn more about interactive tables.';\n",
              "        element.innerHTML = '';\n",
              "        dataTable['output_type'] = 'display_data';\n",
              "        await google.colab.output.renderOutput(dataTable, element);\n",
              "        const docLink = document.createElement('div');\n",
              "        docLink.innerHTML = docLinkHtml;\n",
              "        element.appendChild(docLink);\n",
              "      }\n",
              "    </script>\n",
              "  </div>\n",
              "\n",
              "\n",
              "<div id=\"df-e8c906a8-7e74-49f4-815d-ee6564c29e41\">\n",
              "  <button class=\"colab-df-quickchart\" onclick=\"quickchart('df-e8c906a8-7e74-49f4-815d-ee6564c29e41')\"\n",
              "            title=\"Suggest charts\"\n",
              "            style=\"display:none;\">\n",
              "\n",
              "<svg xmlns=\"http://www.w3.org/2000/svg\" height=\"24px\"viewBox=\"0 0 24 24\"\n",
              "     width=\"24px\">\n",
              "    <g>\n",
              "        <path d=\"M19 3H5c-1.1 0-2 .9-2 2v14c0 1.1.9 2 2 2h14c1.1 0 2-.9 2-2V5c0-1.1-.9-2-2-2zM9 17H7v-7h2v7zm4 0h-2V7h2v10zm4 0h-2v-4h2v4z\"/>\n",
              "    </g>\n",
              "</svg>\n",
              "  </button>\n",
              "\n",
              "<style>\n",
              "  .colab-df-quickchart {\n",
              "      --bg-color: #E8F0FE;\n",
              "      --fill-color: #1967D2;\n",
              "      --hover-bg-color: #E2EBFA;\n",
              "      --hover-fill-color: #174EA6;\n",
              "      --disabled-fill-color: #AAA;\n",
              "      --disabled-bg-color: #DDD;\n",
              "  }\n",
              "\n",
              "  [theme=dark] .colab-df-quickchart {\n",
              "      --bg-color: #3B4455;\n",
              "      --fill-color: #D2E3FC;\n",
              "      --hover-bg-color: #434B5C;\n",
              "      --hover-fill-color: #FFFFFF;\n",
              "      --disabled-bg-color: #3B4455;\n",
              "      --disabled-fill-color: #666;\n",
              "  }\n",
              "\n",
              "  .colab-df-quickchart {\n",
              "    background-color: var(--bg-color);\n",
              "    border: none;\n",
              "    border-radius: 50%;\n",
              "    cursor: pointer;\n",
              "    display: none;\n",
              "    fill: var(--fill-color);\n",
              "    height: 32px;\n",
              "    padding: 0;\n",
              "    width: 32px;\n",
              "  }\n",
              "\n",
              "  .colab-df-quickchart:hover {\n",
              "    background-color: var(--hover-bg-color);\n",
              "    box-shadow: 0 1px 2px rgba(60, 64, 67, 0.3), 0 1px 3px 1px rgba(60, 64, 67, 0.15);\n",
              "    fill: var(--button-hover-fill-color);\n",
              "  }\n",
              "\n",
              "  .colab-df-quickchart-complete:disabled,\n",
              "  .colab-df-quickchart-complete:disabled:hover {\n",
              "    background-color: var(--disabled-bg-color);\n",
              "    fill: var(--disabled-fill-color);\n",
              "    box-shadow: none;\n",
              "  }\n",
              "\n",
              "  .colab-df-spinner {\n",
              "    border: 2px solid var(--fill-color);\n",
              "    border-color: transparent;\n",
              "    border-bottom-color: var(--fill-color);\n",
              "    animation:\n",
              "      spin 1s steps(1) infinite;\n",
              "  }\n",
              "\n",
              "  @keyframes spin {\n",
              "    0% {\n",
              "      border-color: transparent;\n",
              "      border-bottom-color: var(--fill-color);\n",
              "      border-left-color: var(--fill-color);\n",
              "    }\n",
              "    20% {\n",
              "      border-color: transparent;\n",
              "      border-left-color: var(--fill-color);\n",
              "      border-top-color: var(--fill-color);\n",
              "    }\n",
              "    30% {\n",
              "      border-color: transparent;\n",
              "      border-left-color: var(--fill-color);\n",
              "      border-top-color: var(--fill-color);\n",
              "      border-right-color: var(--fill-color);\n",
              "    }\n",
              "    40% {\n",
              "      border-color: transparent;\n",
              "      border-right-color: var(--fill-color);\n",
              "      border-top-color: var(--fill-color);\n",
              "    }\n",
              "    60% {\n",
              "      border-color: transparent;\n",
              "      border-right-color: var(--fill-color);\n",
              "    }\n",
              "    80% {\n",
              "      border-color: transparent;\n",
              "      border-right-color: var(--fill-color);\n",
              "      border-bottom-color: var(--fill-color);\n",
              "    }\n",
              "    90% {\n",
              "      border-color: transparent;\n",
              "      border-bottom-color: var(--fill-color);\n",
              "    }\n",
              "  }\n",
              "</style>\n",
              "\n",
              "  <script>\n",
              "    async function quickchart(key) {\n",
              "      const quickchartButtonEl =\n",
              "        document.querySelector('#' + key + ' button');\n",
              "      quickchartButtonEl.disabled = true;  // To prevent multiple clicks.\n",
              "      quickchartButtonEl.classList.add('colab-df-spinner');\n",
              "      try {\n",
              "        const charts = await google.colab.kernel.invokeFunction(\n",
              "            'suggestCharts', [key], {});\n",
              "      } catch (error) {\n",
              "        console.error('Error during call to suggestCharts:', error);\n",
              "      }\n",
              "      quickchartButtonEl.classList.remove('colab-df-spinner');\n",
              "      quickchartButtonEl.classList.add('colab-df-quickchart-complete');\n",
              "    }\n",
              "    (() => {\n",
              "      let quickchartButtonEl =\n",
              "        document.querySelector('#df-e8c906a8-7e74-49f4-815d-ee6564c29e41 button');\n",
              "      quickchartButtonEl.style.display =\n",
              "        google.colab.kernel.accessAllowed ? 'block' : 'none';\n",
              "    })();\n",
              "  </script>\n",
              "</div>\n",
              "\n",
              "  <div id=\"id_73dea7e3-090d-4e11-bd1e-71cbbb755c8a\">\n",
              "    <style>\n",
              "      .colab-df-generate {\n",
              "        background-color: #E8F0FE;\n",
              "        border: none;\n",
              "        border-radius: 50%;\n",
              "        cursor: pointer;\n",
              "        display: none;\n",
              "        fill: #1967D2;\n",
              "        height: 32px;\n",
              "        padding: 0 0 0 0;\n",
              "        width: 32px;\n",
              "      }\n",
              "\n",
              "      .colab-df-generate:hover {\n",
              "        background-color: #E2EBFA;\n",
              "        box-shadow: 0px 1px 2px rgba(60, 64, 67, 0.3), 0px 1px 3px 1px rgba(60, 64, 67, 0.15);\n",
              "        fill: #174EA6;\n",
              "      }\n",
              "\n",
              "      [theme=dark] .colab-df-generate {\n",
              "        background-color: #3B4455;\n",
              "        fill: #D2E3FC;\n",
              "      }\n",
              "\n",
              "      [theme=dark] .colab-df-generate:hover {\n",
              "        background-color: #434B5C;\n",
              "        box-shadow: 0px 1px 3px 1px rgba(0, 0, 0, 0.15);\n",
              "        filter: drop-shadow(0px 1px 2px rgba(0, 0, 0, 0.3));\n",
              "        fill: #FFFFFF;\n",
              "      }\n",
              "    </style>\n",
              "    <button class=\"colab-df-generate\" onclick=\"generateWithVariable('imdb')\"\n",
              "            title=\"Generate code using this dataframe.\"\n",
              "            style=\"display:none;\">\n",
              "\n",
              "  <svg xmlns=\"http://www.w3.org/2000/svg\" height=\"24px\"viewBox=\"0 0 24 24\"\n",
              "       width=\"24px\">\n",
              "    <path d=\"M7,19H8.4L18.45,9,17,7.55,7,17.6ZM5,21V16.75L18.45,3.32a2,2,0,0,1,2.83,0l1.4,1.43a1.91,1.91,0,0,1,.58,1.4,1.91,1.91,0,0,1-.58,1.4L9.25,21ZM18.45,9,17,7.55Zm-12,3A5.31,5.31,0,0,0,4.9,8.1,5.31,5.31,0,0,0,1,6.5,5.31,5.31,0,0,0,4.9,4.9,5.31,5.31,0,0,0,6.5,1,5.31,5.31,0,0,0,8.1,4.9,5.31,5.31,0,0,0,12,6.5,5.46,5.46,0,0,0,6.5,12Z\"/>\n",
              "  </svg>\n",
              "    </button>\n",
              "    <script>\n",
              "      (() => {\n",
              "      const buttonEl =\n",
              "        document.querySelector('#id_73dea7e3-090d-4e11-bd1e-71cbbb755c8a button.colab-df-generate');\n",
              "      buttonEl.style.display =\n",
              "        google.colab.kernel.accessAllowed ? 'block' : 'none';\n",
              "\n",
              "      buttonEl.onclick = () => {\n",
              "        google.colab.notebook.generateWithVariable('imdb');\n",
              "      }\n",
              "      })();\n",
              "    </script>\n",
              "  </div>\n",
              "\n",
              "    </div>\n",
              "  </div>\n"
            ],
            "application/vnd.google.colaboratory.intrinsic+json": {
              "type": "dataframe",
              "variable_name": "imdb",
              "summary": "{\n  \"name\": \"imdb\",\n  \"rows\": 3348,\n  \"fields\": [\n    {\n      \"column\": \"id\",\n      \"properties\": {\n        \"dtype\": \"string\",\n        \"num_unique_values\": 3348,\n        \"samples\": [\n          \"tt0816692\",\n          \"tt1840309\",\n          \"tt0424345\"\n        ],\n        \"semantic_type\": \"\",\n        \"description\": \"\"\n      }\n    },\n    {\n      \"column\": \"primaryTitle\",\n      \"properties\": {\n        \"dtype\": \"string\",\n        \"num_unique_values\": 3295,\n        \"samples\": [\n          \"Ocean's Eight\",\n          \"A Bad Moms Christmas\",\n          \"Love, Simon\"\n        ],\n        \"semantic_type\": \"\",\n        \"description\": \"\"\n      }\n    },\n    {\n      \"column\": \"originalTitle\",\n      \"properties\": {\n        \"dtype\": \"string\",\n        \"num_unique_values\": 3298,\n        \"samples\": [\n          \"2012\",\n          \"Stuck on You\",\n          \"Boss Level\"\n        ],\n        \"semantic_type\": \"\",\n        \"description\": \"\"\n      }\n    },\n    {\n      \"column\": \"isAdult\",\n      \"properties\": {\n        \"dtype\": \"number\",\n        \"std\": 0,\n        \"min\": 0,\n        \"max\": 0,\n        \"num_unique_values\": 1,\n        \"samples\": [\n          0\n        ],\n        \"semantic_type\": \"\",\n        \"description\": \"\"\n      }\n    },\n    {\n      \"column\": \"runtimeMinutes\",\n      \"properties\": {\n        \"dtype\": \"number\",\n        \"std\": 19,\n        \"min\": 63,\n        \"max\": 242,\n        \"num_unique_values\": 125,\n        \"samples\": [\n          110\n        ],\n        \"semantic_type\": \"\",\n        \"description\": \"\"\n      }\n    },\n    {\n      \"column\": \"genres\",\n      \"properties\": {\n        \"dtype\": \"category\",\n        \"num_unique_values\": 287,\n        \"samples\": [\n          \"Action,Crime,Drama\"\n        ],\n        \"semantic_type\": \"\",\n        \"description\": \"\"\n      }\n    },\n    {\n      \"column\": \"averageRating\",\n      \"properties\": {\n        \"dtype\": \"number\",\n        \"std\": 0.8822096497526334,\n        \"min\": 1.0,\n        \"max\": 9.3,\n        \"num_unique_values\": 68,\n        \"samples\": [\n          4.9\n        ],\n        \"semantic_type\": \"\",\n        \"description\": \"\"\n      }\n    },\n    {\n      \"column\": \"numVotes\",\n      \"properties\": {\n        \"dtype\": \"number\",\n        \"std\": 248021,\n        \"min\": 50004,\n        \"max\": 2817283,\n        \"num_unique_values\": 3328,\n        \"samples\": [\n          105868\n        ],\n        \"semantic_type\": \"\",\n        \"description\": \"\"\n      }\n    },\n    {\n      \"column\": \"budget\",\n      \"properties\": {\n        \"dtype\": \"number\",\n        \"std\": 51786142,\n        \"min\": 18,\n        \"max\": 356000000,\n        \"num_unique_values\": 343,\n        \"samples\": [\n          300000000\n        ],\n        \"semantic_type\": \"\",\n        \"description\": \"\"\n      }\n    },\n    {\n      \"column\": \"gross\",\n      \"properties\": {\n        \"dtype\": \"number\",\n        \"std\": 236650674.74826702,\n        \"min\": 210.0,\n        \"max\": 2923706026.0,\n        \"num_unique_values\": 3296,\n        \"samples\": [\n          470116094.0\n        ],\n        \"semantic_type\": \"\",\n        \"description\": \"\"\n      }\n    },\n    {\n      \"column\": \"release_date\",\n      \"properties\": {\n        \"dtype\": \"string\",\n        \"num_unique_values\": 2805,\n        \"samples\": [\n          \"August 23, 2004\"\n        ],\n        \"semantic_type\": \"\",\n        \"description\": \"\"\n      }\n    },\n    {\n      \"column\": \"directors\",\n      \"properties\": {\n        \"dtype\": \"category\",\n        \"num_unique_values\": 1356,\n        \"samples\": [\n          \"John Badham\"\n        ],\n        \"semantic_type\": \"\",\n        \"description\": \"\"\n      }\n    }\n  ]\n}"
            }
          },
          "metadata": {},
          "execution_count": 258
        }
      ]
    },
    {
      "cell_type": "code",
      "source": [
        "#lets check the data is load or not,check first 5 rows."
      ],
      "metadata": {
        "id": "IE0zazuLQlet"
      },
      "execution_count": 259,
      "outputs": []
    },
    {
      "cell_type": "code",
      "source": [
        "imdb.head()"
      ],
      "metadata": {
        "colab": {
          "base_uri": "https://localhost:8080/",
          "height": 313
        },
        "id": "WZUCoRR5QzwQ",
        "outputId": "5042a7b5-6b0e-4300-a27f-d9774d4294a9"
      },
      "execution_count": 260,
      "outputs": [
        {
          "output_type": "execute_result",
          "data": {
            "text/plain": [
              "          id    primaryTitle   originalTitle  isAdult  runtimeMinutes  \\\n",
              "0  tt0035423  Kate & Leopold  Kate & Leopold        0             118   \n",
              "1  tt0065421  The Aristocats  The AristoCats        0              78   \n",
              "2  tt0065938  Kelly's Heroes  Kelly's Heroes        0             144   \n",
              "3  tt0066026         M*A*S*H         M*A*S*H        0             116   \n",
              "4  tt0066206          Patton          Patton        0             172   \n",
              "\n",
              "                       genres  averageRating  numVotes    budget       gross  \\\n",
              "0      Comedy,Fantasy,Romance            6.4     87925  48000000  76019048.0   \n",
              "1  Adventure,Animation,Comedy            7.1    111758   4000000  35459543.0   \n",
              "2        Adventure,Comedy,War            7.6     52628   4000000   5200000.0   \n",
              "3            Comedy,Drama,War            7.4     75784   3500000  81600000.0   \n",
              "4         Biography,Drama,War            7.9    106476  12000000  61749765.0   \n",
              "\n",
              "        release_date              directors  \n",
              "0  December 11, 2001          James Mangold  \n",
              "1  December 11, 1970    Wolfgang Reitherman  \n",
              "2    January 1, 1970        Brian G. Hutton  \n",
              "3   January 25, 1970          Robert Altman  \n",
              "4   February 4, 1970  Franklin J. Schaffner  "
            ],
            "text/html": [
              "\n",
              "  <div id=\"df-3eff4aa9-dd9d-4d4f-9635-62809a47276c\" class=\"colab-df-container\">\n",
              "    <div>\n",
              "<style scoped>\n",
              "    .dataframe tbody tr th:only-of-type {\n",
              "        vertical-align: middle;\n",
              "    }\n",
              "\n",
              "    .dataframe tbody tr th {\n",
              "        vertical-align: top;\n",
              "    }\n",
              "\n",
              "    .dataframe thead th {\n",
              "        text-align: right;\n",
              "    }\n",
              "</style>\n",
              "<table border=\"1\" class=\"dataframe\">\n",
              "  <thead>\n",
              "    <tr style=\"text-align: right;\">\n",
              "      <th></th>\n",
              "      <th>id</th>\n",
              "      <th>primaryTitle</th>\n",
              "      <th>originalTitle</th>\n",
              "      <th>isAdult</th>\n",
              "      <th>runtimeMinutes</th>\n",
              "      <th>genres</th>\n",
              "      <th>averageRating</th>\n",
              "      <th>numVotes</th>\n",
              "      <th>budget</th>\n",
              "      <th>gross</th>\n",
              "      <th>release_date</th>\n",
              "      <th>directors</th>\n",
              "    </tr>\n",
              "  </thead>\n",
              "  <tbody>\n",
              "    <tr>\n",
              "      <th>0</th>\n",
              "      <td>tt0035423</td>\n",
              "      <td>Kate &amp; Leopold</td>\n",
              "      <td>Kate &amp; Leopold</td>\n",
              "      <td>0</td>\n",
              "      <td>118</td>\n",
              "      <td>Comedy,Fantasy,Romance</td>\n",
              "      <td>6.4</td>\n",
              "      <td>87925</td>\n",
              "      <td>48000000</td>\n",
              "      <td>76019048.0</td>\n",
              "      <td>December 11, 2001</td>\n",
              "      <td>James Mangold</td>\n",
              "    </tr>\n",
              "    <tr>\n",
              "      <th>1</th>\n",
              "      <td>tt0065421</td>\n",
              "      <td>The Aristocats</td>\n",
              "      <td>The AristoCats</td>\n",
              "      <td>0</td>\n",
              "      <td>78</td>\n",
              "      <td>Adventure,Animation,Comedy</td>\n",
              "      <td>7.1</td>\n",
              "      <td>111758</td>\n",
              "      <td>4000000</td>\n",
              "      <td>35459543.0</td>\n",
              "      <td>December 11, 1970</td>\n",
              "      <td>Wolfgang Reitherman</td>\n",
              "    </tr>\n",
              "    <tr>\n",
              "      <th>2</th>\n",
              "      <td>tt0065938</td>\n",
              "      <td>Kelly's Heroes</td>\n",
              "      <td>Kelly's Heroes</td>\n",
              "      <td>0</td>\n",
              "      <td>144</td>\n",
              "      <td>Adventure,Comedy,War</td>\n",
              "      <td>7.6</td>\n",
              "      <td>52628</td>\n",
              "      <td>4000000</td>\n",
              "      <td>5200000.0</td>\n",
              "      <td>January 1, 1970</td>\n",
              "      <td>Brian G. Hutton</td>\n",
              "    </tr>\n",
              "    <tr>\n",
              "      <th>3</th>\n",
              "      <td>tt0066026</td>\n",
              "      <td>M*A*S*H</td>\n",
              "      <td>M*A*S*H</td>\n",
              "      <td>0</td>\n",
              "      <td>116</td>\n",
              "      <td>Comedy,Drama,War</td>\n",
              "      <td>7.4</td>\n",
              "      <td>75784</td>\n",
              "      <td>3500000</td>\n",
              "      <td>81600000.0</td>\n",
              "      <td>January 25, 1970</td>\n",
              "      <td>Robert Altman</td>\n",
              "    </tr>\n",
              "    <tr>\n",
              "      <th>4</th>\n",
              "      <td>tt0066206</td>\n",
              "      <td>Patton</td>\n",
              "      <td>Patton</td>\n",
              "      <td>0</td>\n",
              "      <td>172</td>\n",
              "      <td>Biography,Drama,War</td>\n",
              "      <td>7.9</td>\n",
              "      <td>106476</td>\n",
              "      <td>12000000</td>\n",
              "      <td>61749765.0</td>\n",
              "      <td>February 4, 1970</td>\n",
              "      <td>Franklin J. Schaffner</td>\n",
              "    </tr>\n",
              "  </tbody>\n",
              "</table>\n",
              "</div>\n",
              "    <div class=\"colab-df-buttons\">\n",
              "\n",
              "  <div class=\"colab-df-container\">\n",
              "    <button class=\"colab-df-convert\" onclick=\"convertToInteractive('df-3eff4aa9-dd9d-4d4f-9635-62809a47276c')\"\n",
              "            title=\"Convert this dataframe to an interactive table.\"\n",
              "            style=\"display:none;\">\n",
              "\n",
              "  <svg xmlns=\"http://www.w3.org/2000/svg\" height=\"24px\" viewBox=\"0 -960 960 960\">\n",
              "    <path d=\"M120-120v-720h720v720H120Zm60-500h600v-160H180v160Zm220 220h160v-160H400v160Zm0 220h160v-160H400v160ZM180-400h160v-160H180v160Zm440 0h160v-160H620v160ZM180-180h160v-160H180v160Zm440 0h160v-160H620v160Z\"/>\n",
              "  </svg>\n",
              "    </button>\n",
              "\n",
              "  <style>\n",
              "    .colab-df-container {\n",
              "      display:flex;\n",
              "      gap: 12px;\n",
              "    }\n",
              "\n",
              "    .colab-df-convert {\n",
              "      background-color: #E8F0FE;\n",
              "      border: none;\n",
              "      border-radius: 50%;\n",
              "      cursor: pointer;\n",
              "      display: none;\n",
              "      fill: #1967D2;\n",
              "      height: 32px;\n",
              "      padding: 0 0 0 0;\n",
              "      width: 32px;\n",
              "    }\n",
              "\n",
              "    .colab-df-convert:hover {\n",
              "      background-color: #E2EBFA;\n",
              "      box-shadow: 0px 1px 2px rgba(60, 64, 67, 0.3), 0px 1px 3px 1px rgba(60, 64, 67, 0.15);\n",
              "      fill: #174EA6;\n",
              "    }\n",
              "\n",
              "    .colab-df-buttons div {\n",
              "      margin-bottom: 4px;\n",
              "    }\n",
              "\n",
              "    [theme=dark] .colab-df-convert {\n",
              "      background-color: #3B4455;\n",
              "      fill: #D2E3FC;\n",
              "    }\n",
              "\n",
              "    [theme=dark] .colab-df-convert:hover {\n",
              "      background-color: #434B5C;\n",
              "      box-shadow: 0px 1px 3px 1px rgba(0, 0, 0, 0.15);\n",
              "      filter: drop-shadow(0px 1px 2px rgba(0, 0, 0, 0.3));\n",
              "      fill: #FFFFFF;\n",
              "    }\n",
              "  </style>\n",
              "\n",
              "    <script>\n",
              "      const buttonEl =\n",
              "        document.querySelector('#df-3eff4aa9-dd9d-4d4f-9635-62809a47276c button.colab-df-convert');\n",
              "      buttonEl.style.display =\n",
              "        google.colab.kernel.accessAllowed ? 'block' : 'none';\n",
              "\n",
              "      async function convertToInteractive(key) {\n",
              "        const element = document.querySelector('#df-3eff4aa9-dd9d-4d4f-9635-62809a47276c');\n",
              "        const dataTable =\n",
              "          await google.colab.kernel.invokeFunction('convertToInteractive',\n",
              "                                                    [key], {});\n",
              "        if (!dataTable) return;\n",
              "\n",
              "        const docLinkHtml = 'Like what you see? Visit the ' +\n",
              "          '<a target=\"_blank\" href=https://colab.research.google.com/notebooks/data_table.ipynb>data table notebook</a>'\n",
              "          + ' to learn more about interactive tables.';\n",
              "        element.innerHTML = '';\n",
              "        dataTable['output_type'] = 'display_data';\n",
              "        await google.colab.output.renderOutput(dataTable, element);\n",
              "        const docLink = document.createElement('div');\n",
              "        docLink.innerHTML = docLinkHtml;\n",
              "        element.appendChild(docLink);\n",
              "      }\n",
              "    </script>\n",
              "  </div>\n",
              "\n",
              "\n",
              "<div id=\"df-46e960d2-ec96-4430-a172-7b8b9e81e98c\">\n",
              "  <button class=\"colab-df-quickchart\" onclick=\"quickchart('df-46e960d2-ec96-4430-a172-7b8b9e81e98c')\"\n",
              "            title=\"Suggest charts\"\n",
              "            style=\"display:none;\">\n",
              "\n",
              "<svg xmlns=\"http://www.w3.org/2000/svg\" height=\"24px\"viewBox=\"0 0 24 24\"\n",
              "     width=\"24px\">\n",
              "    <g>\n",
              "        <path d=\"M19 3H5c-1.1 0-2 .9-2 2v14c0 1.1.9 2 2 2h14c1.1 0 2-.9 2-2V5c0-1.1-.9-2-2-2zM9 17H7v-7h2v7zm4 0h-2V7h2v10zm4 0h-2v-4h2v4z\"/>\n",
              "    </g>\n",
              "</svg>\n",
              "  </button>\n",
              "\n",
              "<style>\n",
              "  .colab-df-quickchart {\n",
              "      --bg-color: #E8F0FE;\n",
              "      --fill-color: #1967D2;\n",
              "      --hover-bg-color: #E2EBFA;\n",
              "      --hover-fill-color: #174EA6;\n",
              "      --disabled-fill-color: #AAA;\n",
              "      --disabled-bg-color: #DDD;\n",
              "  }\n",
              "\n",
              "  [theme=dark] .colab-df-quickchart {\n",
              "      --bg-color: #3B4455;\n",
              "      --fill-color: #D2E3FC;\n",
              "      --hover-bg-color: #434B5C;\n",
              "      --hover-fill-color: #FFFFFF;\n",
              "      --disabled-bg-color: #3B4455;\n",
              "      --disabled-fill-color: #666;\n",
              "  }\n",
              "\n",
              "  .colab-df-quickchart {\n",
              "    background-color: var(--bg-color);\n",
              "    border: none;\n",
              "    border-radius: 50%;\n",
              "    cursor: pointer;\n",
              "    display: none;\n",
              "    fill: var(--fill-color);\n",
              "    height: 32px;\n",
              "    padding: 0;\n",
              "    width: 32px;\n",
              "  }\n",
              "\n",
              "  .colab-df-quickchart:hover {\n",
              "    background-color: var(--hover-bg-color);\n",
              "    box-shadow: 0 1px 2px rgba(60, 64, 67, 0.3), 0 1px 3px 1px rgba(60, 64, 67, 0.15);\n",
              "    fill: var(--button-hover-fill-color);\n",
              "  }\n",
              "\n",
              "  .colab-df-quickchart-complete:disabled,\n",
              "  .colab-df-quickchart-complete:disabled:hover {\n",
              "    background-color: var(--disabled-bg-color);\n",
              "    fill: var(--disabled-fill-color);\n",
              "    box-shadow: none;\n",
              "  }\n",
              "\n",
              "  .colab-df-spinner {\n",
              "    border: 2px solid var(--fill-color);\n",
              "    border-color: transparent;\n",
              "    border-bottom-color: var(--fill-color);\n",
              "    animation:\n",
              "      spin 1s steps(1) infinite;\n",
              "  }\n",
              "\n",
              "  @keyframes spin {\n",
              "    0% {\n",
              "      border-color: transparent;\n",
              "      border-bottom-color: var(--fill-color);\n",
              "      border-left-color: var(--fill-color);\n",
              "    }\n",
              "    20% {\n",
              "      border-color: transparent;\n",
              "      border-left-color: var(--fill-color);\n",
              "      border-top-color: var(--fill-color);\n",
              "    }\n",
              "    30% {\n",
              "      border-color: transparent;\n",
              "      border-left-color: var(--fill-color);\n",
              "      border-top-color: var(--fill-color);\n",
              "      border-right-color: var(--fill-color);\n",
              "    }\n",
              "    40% {\n",
              "      border-color: transparent;\n",
              "      border-right-color: var(--fill-color);\n",
              "      border-top-color: var(--fill-color);\n",
              "    }\n",
              "    60% {\n",
              "      border-color: transparent;\n",
              "      border-right-color: var(--fill-color);\n",
              "    }\n",
              "    80% {\n",
              "      border-color: transparent;\n",
              "      border-right-color: var(--fill-color);\n",
              "      border-bottom-color: var(--fill-color);\n",
              "    }\n",
              "    90% {\n",
              "      border-color: transparent;\n",
              "      border-bottom-color: var(--fill-color);\n",
              "    }\n",
              "  }\n",
              "</style>\n",
              "\n",
              "  <script>\n",
              "    async function quickchart(key) {\n",
              "      const quickchartButtonEl =\n",
              "        document.querySelector('#' + key + ' button');\n",
              "      quickchartButtonEl.disabled = true;  // To prevent multiple clicks.\n",
              "      quickchartButtonEl.classList.add('colab-df-spinner');\n",
              "      try {\n",
              "        const charts = await google.colab.kernel.invokeFunction(\n",
              "            'suggestCharts', [key], {});\n",
              "      } catch (error) {\n",
              "        console.error('Error during call to suggestCharts:', error);\n",
              "      }\n",
              "      quickchartButtonEl.classList.remove('colab-df-spinner');\n",
              "      quickchartButtonEl.classList.add('colab-df-quickchart-complete');\n",
              "    }\n",
              "    (() => {\n",
              "      let quickchartButtonEl =\n",
              "        document.querySelector('#df-46e960d2-ec96-4430-a172-7b8b9e81e98c button');\n",
              "      quickchartButtonEl.style.display =\n",
              "        google.colab.kernel.accessAllowed ? 'block' : 'none';\n",
              "    })();\n",
              "  </script>\n",
              "</div>\n",
              "\n",
              "    </div>\n",
              "  </div>\n"
            ],
            "application/vnd.google.colaboratory.intrinsic+json": {
              "type": "dataframe",
              "variable_name": "imdb",
              "summary": "{\n  \"name\": \"imdb\",\n  \"rows\": 3348,\n  \"fields\": [\n    {\n      \"column\": \"id\",\n      \"properties\": {\n        \"dtype\": \"string\",\n        \"num_unique_values\": 3348,\n        \"samples\": [\n          \"tt0816692\",\n          \"tt1840309\",\n          \"tt0424345\"\n        ],\n        \"semantic_type\": \"\",\n        \"description\": \"\"\n      }\n    },\n    {\n      \"column\": \"primaryTitle\",\n      \"properties\": {\n        \"dtype\": \"string\",\n        \"num_unique_values\": 3295,\n        \"samples\": [\n          \"Ocean's Eight\",\n          \"A Bad Moms Christmas\",\n          \"Love, Simon\"\n        ],\n        \"semantic_type\": \"\",\n        \"description\": \"\"\n      }\n    },\n    {\n      \"column\": \"originalTitle\",\n      \"properties\": {\n        \"dtype\": \"string\",\n        \"num_unique_values\": 3298,\n        \"samples\": [\n          \"2012\",\n          \"Stuck on You\",\n          \"Boss Level\"\n        ],\n        \"semantic_type\": \"\",\n        \"description\": \"\"\n      }\n    },\n    {\n      \"column\": \"isAdult\",\n      \"properties\": {\n        \"dtype\": \"number\",\n        \"std\": 0,\n        \"min\": 0,\n        \"max\": 0,\n        \"num_unique_values\": 1,\n        \"samples\": [\n          0\n        ],\n        \"semantic_type\": \"\",\n        \"description\": \"\"\n      }\n    },\n    {\n      \"column\": \"runtimeMinutes\",\n      \"properties\": {\n        \"dtype\": \"number\",\n        \"std\": 19,\n        \"min\": 63,\n        \"max\": 242,\n        \"num_unique_values\": 125,\n        \"samples\": [\n          110\n        ],\n        \"semantic_type\": \"\",\n        \"description\": \"\"\n      }\n    },\n    {\n      \"column\": \"genres\",\n      \"properties\": {\n        \"dtype\": \"category\",\n        \"num_unique_values\": 287,\n        \"samples\": [\n          \"Action,Crime,Drama\"\n        ],\n        \"semantic_type\": \"\",\n        \"description\": \"\"\n      }\n    },\n    {\n      \"column\": \"averageRating\",\n      \"properties\": {\n        \"dtype\": \"number\",\n        \"std\": 0.8822096497526334,\n        \"min\": 1.0,\n        \"max\": 9.3,\n        \"num_unique_values\": 68,\n        \"samples\": [\n          4.9\n        ],\n        \"semantic_type\": \"\",\n        \"description\": \"\"\n      }\n    },\n    {\n      \"column\": \"numVotes\",\n      \"properties\": {\n        \"dtype\": \"number\",\n        \"std\": 248021,\n        \"min\": 50004,\n        \"max\": 2817283,\n        \"num_unique_values\": 3328,\n        \"samples\": [\n          105868\n        ],\n        \"semantic_type\": \"\",\n        \"description\": \"\"\n      }\n    },\n    {\n      \"column\": \"budget\",\n      \"properties\": {\n        \"dtype\": \"number\",\n        \"std\": 51786142,\n        \"min\": 18,\n        \"max\": 356000000,\n        \"num_unique_values\": 343,\n        \"samples\": [\n          300000000\n        ],\n        \"semantic_type\": \"\",\n        \"description\": \"\"\n      }\n    },\n    {\n      \"column\": \"gross\",\n      \"properties\": {\n        \"dtype\": \"number\",\n        \"std\": 236650674.74826702,\n        \"min\": 210.0,\n        \"max\": 2923706026.0,\n        \"num_unique_values\": 3296,\n        \"samples\": [\n          470116094.0\n        ],\n        \"semantic_type\": \"\",\n        \"description\": \"\"\n      }\n    },\n    {\n      \"column\": \"release_date\",\n      \"properties\": {\n        \"dtype\": \"string\",\n        \"num_unique_values\": 2805,\n        \"samples\": [\n          \"August 23, 2004\"\n        ],\n        \"semantic_type\": \"\",\n        \"description\": \"\"\n      }\n    },\n    {\n      \"column\": \"directors\",\n      \"properties\": {\n        \"dtype\": \"category\",\n        \"num_unique_values\": 1356,\n        \"samples\": [\n          \"John Badham\"\n        ],\n        \"semantic_type\": \"\",\n        \"description\": \"\"\n      }\n    }\n  ]\n}"
            }
          },
          "metadata": {},
          "execution_count": 260
        }
      ]
    },
    {
      "cell_type": "code",
      "source": [
        "#basic information about datset"
      ],
      "metadata": {
        "id": "t9Hf-3DcQ5eU"
      },
      "execution_count": 261,
      "outputs": []
    },
    {
      "cell_type": "code",
      "source": [
        "imdb.info()  # to check the info of the data"
      ],
      "metadata": {
        "colab": {
          "base_uri": "https://localhost:8080/"
        },
        "id": "EkSPVLmwRB32",
        "outputId": "c57e327d-19f4-491a-ec99-6258d64f85f5"
      },
      "execution_count": 262,
      "outputs": [
        {
          "output_type": "stream",
          "name": "stdout",
          "text": [
            "<class 'pandas.core.frame.DataFrame'>\n",
            "RangeIndex: 3348 entries, 0 to 3347\n",
            "Data columns (total 12 columns):\n",
            " #   Column          Non-Null Count  Dtype  \n",
            "---  ------          --------------  -----  \n",
            " 0   id              3348 non-null   object \n",
            " 1   primaryTitle    3348 non-null   object \n",
            " 2   originalTitle   3348 non-null   object \n",
            " 3   isAdult         3348 non-null   int64  \n",
            " 4   runtimeMinutes  3348 non-null   int64  \n",
            " 5   genres          3348 non-null   object \n",
            " 6   averageRating   3348 non-null   float64\n",
            " 7   numVotes        3348 non-null   int64  \n",
            " 8   budget          3348 non-null   int64  \n",
            " 9   gross           3297 non-null   float64\n",
            " 10  release_date    3343 non-null   object \n",
            " 11  directors       3348 non-null   object \n",
            "dtypes: float64(2), int64(4), object(6)\n",
            "memory usage: 314.0+ KB\n"
          ]
        }
      ]
    },
    {
      "cell_type": "markdown",
      "source": [
        "# INSIGHTS\n",
        "-- the dataset contain 3348 rows and 12 columns\n",
        "\n",
        "--there are 6 object data type,4 integers and 2 float columns.\n",
        "\n",
        "-- is adult column showing integer,we need to convert this yes and no format to analyze the data properly.\n",
        "\n",
        "-- release data columns is an object,which should be convert to date time format or we seperate the data ,year and month for better analysis."
      ],
      "metadata": {
        "id": "u7BhcOcuRR2T"
      }
    },
    {
      "cell_type": "code",
      "source": [
        "#lets check for the missing values."
      ],
      "metadata": {
        "id": "7A8FyyQRRUKU"
      },
      "execution_count": 263,
      "outputs": []
    },
    {
      "cell_type": "code",
      "source": [
        "imdb.isnull().sum()"
      ],
      "metadata": {
        "colab": {
          "base_uri": "https://localhost:8080/",
          "height": 460
        },
        "id": "FP3TubzwSfzh",
        "outputId": "467fef26-97f3-4e58-e830-2f4a8c27194e"
      },
      "execution_count": 264,
      "outputs": [
        {
          "output_type": "execute_result",
          "data": {
            "text/plain": [
              "id                 0\n",
              "primaryTitle       0\n",
              "originalTitle      0\n",
              "isAdult            0\n",
              "runtimeMinutes     0\n",
              "genres             0\n",
              "averageRating      0\n",
              "numVotes           0\n",
              "budget             0\n",
              "gross             51\n",
              "release_date       5\n",
              "directors          0\n",
              "dtype: int64"
            ],
            "text/html": [
              "<div>\n",
              "<style scoped>\n",
              "    .dataframe tbody tr th:only-of-type {\n",
              "        vertical-align: middle;\n",
              "    }\n",
              "\n",
              "    .dataframe tbody tr th {\n",
              "        vertical-align: top;\n",
              "    }\n",
              "\n",
              "    .dataframe thead th {\n",
              "        text-align: right;\n",
              "    }\n",
              "</style>\n",
              "<table border=\"1\" class=\"dataframe\">\n",
              "  <thead>\n",
              "    <tr style=\"text-align: right;\">\n",
              "      <th></th>\n",
              "      <th>0</th>\n",
              "    </tr>\n",
              "  </thead>\n",
              "  <tbody>\n",
              "    <tr>\n",
              "      <th>id</th>\n",
              "      <td>0</td>\n",
              "    </tr>\n",
              "    <tr>\n",
              "      <th>primaryTitle</th>\n",
              "      <td>0</td>\n",
              "    </tr>\n",
              "    <tr>\n",
              "      <th>originalTitle</th>\n",
              "      <td>0</td>\n",
              "    </tr>\n",
              "    <tr>\n",
              "      <th>isAdult</th>\n",
              "      <td>0</td>\n",
              "    </tr>\n",
              "    <tr>\n",
              "      <th>runtimeMinutes</th>\n",
              "      <td>0</td>\n",
              "    </tr>\n",
              "    <tr>\n",
              "      <th>genres</th>\n",
              "      <td>0</td>\n",
              "    </tr>\n",
              "    <tr>\n",
              "      <th>averageRating</th>\n",
              "      <td>0</td>\n",
              "    </tr>\n",
              "    <tr>\n",
              "      <th>numVotes</th>\n",
              "      <td>0</td>\n",
              "    </tr>\n",
              "    <tr>\n",
              "      <th>budget</th>\n",
              "      <td>0</td>\n",
              "    </tr>\n",
              "    <tr>\n",
              "      <th>gross</th>\n",
              "      <td>51</td>\n",
              "    </tr>\n",
              "    <tr>\n",
              "      <th>release_date</th>\n",
              "      <td>5</td>\n",
              "    </tr>\n",
              "    <tr>\n",
              "      <th>directors</th>\n",
              "      <td>0</td>\n",
              "    </tr>\n",
              "  </tbody>\n",
              "</table>\n",
              "</div><br><label><b>dtype:</b> int64</label>"
            ]
          },
          "metadata": {},
          "execution_count": 264
        }
      ]
    },
    {
      "cell_type": "markdown",
      "source": [
        "INSIGHTS\n",
        "-- gross(51 missing values)\n",
        "\n",
        "-- gross represents total earning of a movies missing values may indicates that data was unavailable or the movie is underperformeed.\n",
        "\n",
        "--possible solution : 1)missing values replace with mean or median\n",
        "                      2)drop rows with missing values-51 rows will be dropped from the dataset.\n",
        "                      3)if budget is availabl,then we estimate the gross using a median.\n",
        "\n",
        "  -- missing dates--incomplete record.\n",
        "\n",
        "  --possible solution--drop the rows.\n",
        "  "
      ],
      "metadata": {
        "id": "qLX4VbmUSmLf"
      }
    },
    {
      "cell_type": "code",
      "source": [
        "# lets replace the missing values of gross with KNN imputation. ( knn is a part of machine learning )"
      ],
      "metadata": {
        "id": "ccE-WFgFTdwM"
      },
      "execution_count": 265,
      "outputs": []
    },
    {
      "cell_type": "markdown",
      "source": [
        "THEORY :----\n",
        " KNN means taking  a nearest values\n",
        "\n",
        " -- if suppose we have two data so knn will take the nearest values of them."
      ],
      "metadata": {
        "id": "A3zkKXh8UaT6"
      }
    },
    {
      "cell_type": "code",
      "source": [
        "# import the libraries for KNN"
      ],
      "metadata": {
        "id": "VrtqPfhHUqZg"
      },
      "execution_count": 266,
      "outputs": []
    },
    {
      "cell_type": "code",
      "source": [
        "from sklearn.impute import KNNImputer"
      ],
      "metadata": {
        "id": "WS2te1TKUuBe"
      },
      "execution_count": 267,
      "outputs": []
    },
    {
      "cell_type": "code",
      "source": [
        "imputer=KNNImputer(n_neighbors=5)   # we can change the neghbour number"
      ],
      "metadata": {
        "id": "kpX_H8NhU5lV"
      },
      "execution_count": 268,
      "outputs": []
    },
    {
      "cell_type": "code",
      "source": [
        "imdb[[\"budget\",\"gross\"]]=imputer.fit_transform(imdb[[\"budget\",\"gross\"]])"
      ],
      "metadata": {
        "id": "9vSZ4dM5VDt2"
      },
      "execution_count": 269,
      "outputs": []
    },
    {
      "cell_type": "code",
      "source": [
        "imdb.isnull().sum()"
      ],
      "metadata": {
        "colab": {
          "base_uri": "https://localhost:8080/",
          "height": 460
        },
        "id": "DNPxompLV85_",
        "outputId": "281e811d-69a9-4c1e-d362-09c07c7599b4"
      },
      "execution_count": 270,
      "outputs": [
        {
          "output_type": "execute_result",
          "data": {
            "text/plain": [
              "id                0\n",
              "primaryTitle      0\n",
              "originalTitle     0\n",
              "isAdult           0\n",
              "runtimeMinutes    0\n",
              "genres            0\n",
              "averageRating     0\n",
              "numVotes          0\n",
              "budget            0\n",
              "gross             0\n",
              "release_date      5\n",
              "directors         0\n",
              "dtype: int64"
            ],
            "text/html": [
              "<div>\n",
              "<style scoped>\n",
              "    .dataframe tbody tr th:only-of-type {\n",
              "        vertical-align: middle;\n",
              "    }\n",
              "\n",
              "    .dataframe tbody tr th {\n",
              "        vertical-align: top;\n",
              "    }\n",
              "\n",
              "    .dataframe thead th {\n",
              "        text-align: right;\n",
              "    }\n",
              "</style>\n",
              "<table border=\"1\" class=\"dataframe\">\n",
              "  <thead>\n",
              "    <tr style=\"text-align: right;\">\n",
              "      <th></th>\n",
              "      <th>0</th>\n",
              "    </tr>\n",
              "  </thead>\n",
              "  <tbody>\n",
              "    <tr>\n",
              "      <th>id</th>\n",
              "      <td>0</td>\n",
              "    </tr>\n",
              "    <tr>\n",
              "      <th>primaryTitle</th>\n",
              "      <td>0</td>\n",
              "    </tr>\n",
              "    <tr>\n",
              "      <th>originalTitle</th>\n",
              "      <td>0</td>\n",
              "    </tr>\n",
              "    <tr>\n",
              "      <th>isAdult</th>\n",
              "      <td>0</td>\n",
              "    </tr>\n",
              "    <tr>\n",
              "      <th>runtimeMinutes</th>\n",
              "      <td>0</td>\n",
              "    </tr>\n",
              "    <tr>\n",
              "      <th>genres</th>\n",
              "      <td>0</td>\n",
              "    </tr>\n",
              "    <tr>\n",
              "      <th>averageRating</th>\n",
              "      <td>0</td>\n",
              "    </tr>\n",
              "    <tr>\n",
              "      <th>numVotes</th>\n",
              "      <td>0</td>\n",
              "    </tr>\n",
              "    <tr>\n",
              "      <th>budget</th>\n",
              "      <td>0</td>\n",
              "    </tr>\n",
              "    <tr>\n",
              "      <th>gross</th>\n",
              "      <td>0</td>\n",
              "    </tr>\n",
              "    <tr>\n",
              "      <th>release_date</th>\n",
              "      <td>5</td>\n",
              "    </tr>\n",
              "    <tr>\n",
              "      <th>directors</th>\n",
              "      <td>0</td>\n",
              "    </tr>\n",
              "  </tbody>\n",
              "</table>\n",
              "</div><br><label><b>dtype:</b> int64</label>"
            ]
          },
          "metadata": {},
          "execution_count": 270
        }
      ]
    },
    {
      "cell_type": "code",
      "source": [
        "#drop the release date rows"
      ],
      "metadata": {
        "id": "G43zc4yjWJX1"
      },
      "execution_count": 271,
      "outputs": []
    },
    {
      "cell_type": "code",
      "source": [
        "imdb=imdb.dropna(subset=[\"release_date\"]) #dropna =na is null value , subset =use for check na values and drop rows ,(not the entire column)"
      ],
      "metadata": {
        "id": "7DrBqdrkWNKk"
      },
      "execution_count": 272,
      "outputs": []
    },
    {
      "cell_type": "code",
      "source": [
        "imdb.shape"
      ],
      "metadata": {
        "colab": {
          "base_uri": "https://localhost:8080/"
        },
        "id": "oc6VTUKYWS4a",
        "outputId": "02486c3d-ff4a-4476-c877-d8a92cd62f1a"
      },
      "execution_count": 273,
      "outputs": [
        {
          "output_type": "execute_result",
          "data": {
            "text/plain": [
              "(3343, 12)"
            ]
          },
          "metadata": {},
          "execution_count": 273
        }
      ]
    },
    {
      "cell_type": "markdown",
      "source": [
        "# insights\n",
        "-- after succesfullly removing the null values we have clean dataset.\n",
        "\n",
        "-- total 3343 rows and 12 columns.\n",
        "\n",
        "-- so lets start to do"
      ],
      "metadata": {
        "id": "QTo4Tt0tWxLJ"
      }
    },
    {
      "cell_type": "markdown",
      "source": [
        "***## EXPLORATORY DATA ANALYSIS (EDA) :---- ***\n",
        "\n",
        "**QUE1) Lets find out how many unique movies are in the dataset?**\n"
      ],
      "metadata": {
        "id": "wgUzobUwXFOc"
      }
    },
    {
      "cell_type": "code",
      "source": [
        "imdb[\"id\"].unique()   # unique=checking unique data"
      ],
      "metadata": {
        "id": "hlZLDWTEZPl4",
        "colab": {
          "base_uri": "https://localhost:8080/"
        },
        "outputId": "11cced92-2f4e-4e09-a0f9-c1649995551f"
      },
      "execution_count": 274,
      "outputs": [
        {
          "output_type": "execute_result",
          "data": {
            "text/plain": [
              "array(['tt0035423', 'tt0065421', 'tt0065938', ..., 'tt9784798',\n",
              "       'tt9844522', 'tt9893250'], dtype=object)"
            ]
          },
          "metadata": {},
          "execution_count": 274
        }
      ]
    },
    {
      "cell_type": "markdown",
      "source": [
        "# INSIGHTS\n",
        "\n",
        "--We have 3343 unique movies so that mean we do not have any duplicated values in the dataset."
      ],
      "metadata": {
        "id": "KaQGBFc8FVpz"
      }
    },
    {
      "cell_type": "code",
      "source": [],
      "metadata": {
        "id": "-JdhgcyLF2EF"
      },
      "execution_count": 274,
      "outputs": []
    },
    {
      "cell_type": "markdown",
      "source": [
        "**QUE 2) What is the overall distribution of movies runtimes ? ( #runtime=hours of the movie ......)**"
      ],
      "metadata": {
        "id": "1jejEh4HGCC7"
      }
    },
    {
      "cell_type": "code",
      "source": [
        "plt.figure(figsize=(6,5))\n",
        "sns.histplot(imdb[\"runtimeMinutes\"],bins=60,kde=True,color=\"green\") #kde=show the skew on the graph\n",
        "plt.xlabel(\"runtime(minutes)\")\n",
        "plt.ylabel(\"count of the movies\")\n",
        "plt.title(\"distribution of movie runtime\")"
      ],
      "metadata": {
        "colab": {
          "base_uri": "https://localhost:8080/",
          "height": 641
        },
        "id": "hYaqMbsQGh_H",
        "outputId": "8c66a80f-d02f-4a91-fb94-15442c5e5202"
      },
      "execution_count": 276,
      "outputs": [
        {
          "output_type": "error",
          "ename": "TypeError",
          "evalue": "'str' object is not callable",
          "traceback": [
            "\u001b[0;31m---------------------------------------------------------------------------\u001b[0m",
            "\u001b[0;31mTypeError\u001b[0m                                 Traceback (most recent call last)",
            "\u001b[0;32m<ipython-input-276-3ba1b9e694d4>\u001b[0m in \u001b[0;36m<cell line: 0>\u001b[0;34m()\u001b[0m\n\u001b[1;32m      2\u001b[0m \u001b[0msns\u001b[0m\u001b[0;34m.\u001b[0m\u001b[0mhistplot\u001b[0m\u001b[0;34m(\u001b[0m\u001b[0mimdb\u001b[0m\u001b[0;34m[\u001b[0m\u001b[0;34m\"runtimeMinutes\"\u001b[0m\u001b[0;34m]\u001b[0m\u001b[0;34m,\u001b[0m\u001b[0mbins\u001b[0m\u001b[0;34m=\u001b[0m\u001b[0;36m60\u001b[0m\u001b[0;34m,\u001b[0m\u001b[0mkde\u001b[0m\u001b[0;34m=\u001b[0m\u001b[0;32mTrue\u001b[0m\u001b[0;34m,\u001b[0m\u001b[0mcolor\u001b[0m\u001b[0;34m=\u001b[0m\u001b[0;34m\"green\"\u001b[0m\u001b[0;34m)\u001b[0m \u001b[0;31m#kde=show the skew on the graph\u001b[0m\u001b[0;34m\u001b[0m\u001b[0;34m\u001b[0m\u001b[0m\n\u001b[1;32m      3\u001b[0m \u001b[0mplt\u001b[0m\u001b[0;34m.\u001b[0m\u001b[0mxlabel\u001b[0m\u001b[0;34m(\u001b[0m\u001b[0;34m\"runtime(minutes)\"\u001b[0m\u001b[0;34m)\u001b[0m\u001b[0;34m\u001b[0m\u001b[0;34m\u001b[0m\u001b[0m\n\u001b[0;32m----> 4\u001b[0;31m \u001b[0mplt\u001b[0m\u001b[0;34m.\u001b[0m\u001b[0mylabel\u001b[0m\u001b[0;34m(\u001b[0m\u001b[0;34m\"count of the movies\"\u001b[0m\u001b[0;34m)\u001b[0m\u001b[0;34m\u001b[0m\u001b[0;34m\u001b[0m\u001b[0m\n\u001b[0m\u001b[1;32m      5\u001b[0m \u001b[0mplt\u001b[0m\u001b[0;34m.\u001b[0m\u001b[0mtitle\u001b[0m\u001b[0;34m(\u001b[0m\u001b[0;34m\"distribution of movie runtime\"\u001b[0m\u001b[0;34m)\u001b[0m\u001b[0;34m\u001b[0m\u001b[0;34m\u001b[0m\u001b[0m\n",
            "\u001b[0;31mTypeError\u001b[0m: 'str' object is not callable"
          ]
        },
        {
          "output_type": "display_data",
          "data": {
            "text/plain": [
              "<Figure size 600x500 with 1 Axes>"
            ],
            "image/png": "[encoded data removed]"
          },
          "metadata": {}
        }
      ]
    },
    {
      "cell_type": "markdown",
      "source": [
        "#INSIGHTS\n",
        "\n",
        "--as we see the distribution ,it seems like normal distribution ,but lets check for the outliers also.\n",
        "\n"
      ],
      "metadata": {
        "id": "IHSRF4JaInGe"
      }
    },
    {
      "cell_type": "code",
      "source": [
        "#draw the box plot"
      ],
      "metadata": {
        "id": "3y7mXIuEJBLm"
      },
      "execution_count": null,
      "outputs": []
    },
    {
      "cell_type": "code",
      "source": [
        "plt.figure(figsize=(6,5))\n",
        "sns.boxplot(imdb[\"runtimeMinutes\"])\n",
        "plt.title(\"boxplot of movie runtime\")\n",
        "plt.savefig('runtime.jpg',dpi=300)  #savefig=if we want to share the plot with manager at that time we use the savefig cmmand."
      ],
      "metadata": {
        "id": "e3-3xIX3JCxN"
      },
      "execution_count": null,
      "outputs": []
    },
    {
      "cell_type": "markdown",
      "source": [
        "**QUE 3) How many movies are marked as\"adult\"(isadult=1) vs non-adult(isadult=0)**\n",
        "      #**[isadult=below 18 ]**"
      ],
      "metadata": {
        "id": "7g6rkzc7KAWC"
      }
    },
    {
      "cell_type": "code",
      "source": [],
      "metadata": {
        "id": "SGV5n61EPHeW"
      },
      "execution_count": null,
      "outputs": []
    },
    {
      "cell_type": "code",
      "source": [
        "imdb.head(2)  #head=checking data as sample."
      ],
      "metadata": {
        "id": "cd-hq2vPKRns"
      },
      "execution_count": null,
      "outputs": []
    },
    {
      "cell_type": "code",
      "source": [
        "imdb[\"isAdult\"].unique()"
      ],
      "metadata": {
        "id": "Watt-VKiKkl-"
      },
      "execution_count": null,
      "outputs": []
    },
    {
      "cell_type": "markdown",
      "source": [
        "#INSIGHTS\n",
        "\n",
        "-as we can see we have only one category in adult section,that mean all movies is only for adult so for better analysis ,we drop the column."
      ],
      "metadata": {
        "id": "qBlH0mUHK5Qu"
      }
    },
    {
      "cell_type": "code",
      "source": [
        "imdb.drop(columns=['isAdult'],inplace=True)  #drop:drop the column #inplace=for delete permntly"
      ],
      "metadata": {
        "id": "AegjD5UVM32D"
      },
      "execution_count": null,
      "outputs": []
    },
    {
      "cell_type": "code",
      "source": [
        "imdb.isnull().sum() #isnull().sum()=for checking the data that isadult delted or not"
      ],
      "metadata": {
        "id": "wTqUi6wqOTv7"
      },
      "execution_count": null,
      "outputs": []
    },
    {
      "cell_type": "code",
      "source": [],
      "metadata": {
        "id": "VfisoacmOWfA"
      },
      "execution_count": null,
      "outputs": []
    },
    {
      "cell_type": "markdown",
      "source": [
        "**QUE 4)What are the top 10 most common movie genres? (generes=movie category)**"
      ],
      "metadata": {
        "id": "OPoWghD8Oh8k"
      }
    },
    {
      "cell_type": "code",
      "source": [
        "imdb.head(1)"
      ],
      "metadata": {
        "id": "XpxVb3mjOuCU"
      },
      "execution_count": null,
      "outputs": []
    },
    {
      "cell_type": "code",
      "source": [
        "#as we check,in genres ,we have more than one category like ,comedy,fantacy and remance so we need to seprate the category"
      ],
      "metadata": {
        "id": "TATELHG2PTNB"
      },
      "execution_count": null,
      "outputs": []
    },
    {
      "cell_type": "code",
      "source": [
        "genres_list=imdb[\"genres\"].str.split(\",\").explode()    #str=its a category form , #split=want to split(divide with comma),explode=and explode the data"
      ],
      "metadata": {
        "id": "tAnxk4DtP5tQ"
      },
      "execution_count": null,
      "outputs": []
    },
    {
      "cell_type": "code",
      "source": [
        "genres_list"
      ],
      "metadata": {
        "id": "rwqV6VmGQQ9B"
      },
      "execution_count": null,
      "outputs": []
    },
    {
      "cell_type": "code",
      "source": [
        "genres_count=genres_list.value_counts() #value_counts= used for how many values/number/data in one category"
      ],
      "metadata": {
        "id": "YBwWj7XFQSke"
      },
      "execution_count": null,
      "outputs": []
    },
    {
      "cell_type": "code",
      "source": [
        "genres_count"
      ],
      "metadata": {
        "id": "xZ02Lyk-QlJh"
      },
      "execution_count": null,
      "outputs": []
    },
    {
      "cell_type": "code",
      "source": [
        "#we want top 10 movies"
      ],
      "metadata": {
        "id": "B1_J-KfjQmpZ"
      },
      "execution_count": null,
      "outputs": []
    },
    {
      "cell_type": "code",
      "source": [
        "genres_count.head(10)  #head=top 10 data from beginning"
      ],
      "metadata": {
        "id": "udHg6li2QxYH"
      },
      "execution_count": null,
      "outputs": []
    },
    {
      "cell_type": "code",
      "source": [
        "#draw bar plot"
      ],
      "metadata": {
        "id": "5oqWiCt8RFlr"
      },
      "execution_count": null,
      "outputs": []
    },
    {
      "cell_type": "code",
      "source": [
        "plt.figure(figsize=(12,10))\n",
        "sns.barplot(x=genres_count.index,y=genres_count.values,palette=\"Set1\")\n",
        "plt.xlabel('top 10 genres')\n",
        "plt.ylabel(\"count of genres\")\n",
        "plt.title(\"top 10 most common genres\")\n",
        "plt.savefig(\"top 10 movies\",dpi=400)"
      ],
      "metadata": {
        "id": "dFrIh_67ROCq"
      },
      "execution_count": null,
      "outputs": []
    },
    {
      "cell_type": "markdown",
      "source": [
        "#INSIGHTS\n",
        "\n",
        "-- drama is the most dominant genre with 1542 movies.\n",
        "\n",
        "--comedy and action are almost equal ~1170.\n",
        "\n",
        "-- advantures,crime and thriller are strong contenders.\n",
        "\n",
        "-- romance,horror ,mystry and si-fi are mid tier genres."
      ],
      "metadata": {
        "id": "fd4sPTOzR3kw"
      }
    },
    {
      "cell_type": "code",
      "source": [],
      "metadata": {
        "id": "5DTk_PFYR9XM"
      },
      "execution_count": null,
      "outputs": []
    },
    {
      "cell_type": "markdown",
      "source": [
        "QUE 5) what is the distribution of average rating ?are ratings skewed toward high or low values ?"
      ],
      "metadata": {
        "id": "PKRmJB0AgBRj"
      }
    },
    {
      "cell_type": "code",
      "source": [
        "imdb.columns"
      ],
      "metadata": {
        "id": "FO1vDfpSgOJi"
      },
      "execution_count": null,
      "outputs": []
    },
    {
      "cell_type": "code",
      "source": [
        "#draw histogram plot"
      ],
      "metadata": {
        "id": "yQms3oVogSNU"
      },
      "execution_count": null,
      "outputs": []
    },
    {
      "cell_type": "code",
      "source": [
        "plt.figure(figsize=(6,6))\n",
        "sns.histplot(imdb[\"averageRating\"],bins=40,kde=True)\n",
        "plt.title(\"distribution of average rating\")\n",
        "plt.xlabel(\"average rating\")\n",
        "plt.ylabel(\"counts\")"
      ],
      "metadata": {
        "id": "qtM_9qYSgW_a"
      },
      "execution_count": null,
      "outputs": []
    },
    {
      "cell_type": "code",
      "source": [
        "#lets see how many movies are very low and high rated"
      ],
      "metadata": {
        "id": "M9fkaZt4g74L"
      },
      "execution_count": null,
      "outputs": []
    },
    {
      "cell_type": "code",
      "source": [
        "#draw boxplot"
      ],
      "metadata": {
        "id": "GUmg4yxkhGr-"
      },
      "execution_count": null,
      "outputs": []
    },
    {
      "cell_type": "code",
      "source": [
        "plt.figure(figsize=(6,5))\n",
        "sns.boxplot(imdb[\"averageRating\"])\n",
        "plt.xlabel(\"average rating\")\n",
        "plt.ylabel(\"counts\")\n",
        "plt.title(\"boxplot of average rating \")"
      ],
      "metadata": {
        "id": "9OZuW97HhJRc"
      },
      "execution_count": null,
      "outputs": []
    },
    {
      "cell_type": "code",
      "source": [
        "#lets find out the outlier"
      ],
      "metadata": {
        "id": "g_Yjcn19hb-L"
      },
      "execution_count": null,
      "outputs": []
    },
    {
      "cell_type": "code",
      "source": [
        "Q1=imdb[\"averageRating\"].quantile(0.25)"
      ],
      "metadata": {
        "id": "q9W6CsNOhjvs"
      },
      "execution_count": null,
      "outputs": []
    },
    {
      "cell_type": "code",
      "source": [
        "Q3=imdb[\"averageRating\"].quantile(0.75)"
      ],
      "metadata": {
        "id": "vVI8usCRhpcx"
      },
      "execution_count": null,
      "outputs": []
    },
    {
      "cell_type": "code",
      "source": [
        "IQR=Q3-Q1"
      ],
      "metadata": {
        "id": "jdtL465Chvxx"
      },
      "execution_count": null,
      "outputs": []
    },
    {
      "cell_type": "code",
      "source": [
        "lower_bond=Q1-1.5*IQR"
      ],
      "metadata": {
        "id": "ixIE1-M8klTf"
      },
      "execution_count": null,
      "outputs": []
    },
    {
      "cell_type": "code",
      "source": [
        "lower_bond"
      ],
      "metadata": {
        "id": "XMdkbtcWkpqe"
      },
      "execution_count": null,
      "outputs": []
    },
    {
      "cell_type": "code",
      "source": [
        "upper_bond=Q3+1.5*IQR"
      ],
      "metadata": {
        "id": "nN_4ejVIhzf4"
      },
      "execution_count": null,
      "outputs": []
    },
    {
      "cell_type": "code",
      "source": [
        "upper_bond"
      ],
      "metadata": {
        "id": "ZcddKpJKh3qX"
      },
      "execution_count": null,
      "outputs": []
    },
    {
      "cell_type": "code",
      "source": [
        "clean_data_for_avaragerating = imdb[(imdb[\"averageRating\"] <= upper_bond)& (imdb[\"averageRating\"]>=lower_bond)]\n"
      ],
      "metadata": {
        "id": "1i8sVPmWh5dR"
      },
      "execution_count": null,
      "outputs": []
    },
    {
      "cell_type": "code",
      "source": [
        "clean_data_for_avaragerating"
      ],
      "metadata": {
        "id": "D9qADc50lTAh"
      },
      "execution_count": null,
      "outputs": []
    },
    {
      "cell_type": "code",
      "source": [
        "#draw the histogram plot"
      ],
      "metadata": {
        "id": "zs-5QVP3kNT6"
      },
      "execution_count": null,
      "outputs": []
    },
    {
      "cell_type": "code",
      "source": [
        "plt.figure(figsize=(6,6))\n",
        "sns.histplot(clean_data_for_avaragerating[\"averageRating\"],bins=40,kde=True)\n",
        "plt.title(\"distribution of average rating\")\n",
        "plt.xlabel(\"average rating\")\n",
        "plt.ylabel(\"counts\")"
      ],
      "metadata": {
        "id": "uclmg_VnjCkq"
      },
      "execution_count": null,
      "outputs": []
    },
    {
      "cell_type": "code",
      "source": [
        "#draw boxplot"
      ],
      "metadata": {
        "id": "DmmyozAbjcjD"
      },
      "execution_count": null,
      "outputs": []
    },
    {
      "cell_type": "code",
      "source": [
        "plt.figure(figsize=(6,5))\n",
        "sns.boxplot(clean_data_for_avaragerating[\"averageRating\"])\n",
        "plt.xlabel(\"average rating\")\n",
        "plt.ylabel(\"counts\")\n",
        "plt.title(\"boxplot of avaerage rating\")"
      ],
      "metadata": {
        "id": "53BlEmT4kUvS"
      },
      "execution_count": null,
      "outputs": []
    },
    {
      "cell_type": "markdown",
      "source": [
        "INSIGHTS\n",
        "\n",
        "--most movies are well rated.\n",
        "\n",
        "--the majority of rating are above 6 to 8 indication positive bias in user reviews.\n",
        "\n",
        "--some movies are high rated looks like outliers.\n",
        "\n",
        "-- there are fewer low rated movies,looks outliers ,meanng people dont bother to rate them,low rated movies -probably dislike by audience."
      ],
      "metadata": {
        "id": "fPj6alhXleEn"
      }
    },
    {
      "cell_type": "code",
      "source": [],
      "metadata": {
        "id": "Ig9EmWgOmBFW"
      },
      "execution_count": null,
      "outputs": []
    },
    {
      "cell_type": "markdown",
      "source": [
        "QUE 6) how many movies have received over 100000 votes(numvotes>100,000)"
      ],
      "metadata": {
        "id": "5ep5ejtfmICk"
      }
    },
    {
      "cell_type": "code",
      "source": [
        "imdb.columns"
      ],
      "metadata": {
        "id": "0kw_cKfXmeMw"
      },
      "execution_count": null,
      "outputs": []
    },
    {
      "cell_type": "code",
      "source": [
        "high_votes_movies=imdb[imdb[\"numVotes\"]>100000]"
      ],
      "metadata": {
        "id": "ikJFky6YmhH5"
      },
      "execution_count": null,
      "outputs": []
    },
    {
      "cell_type": "code",
      "source": [
        "high_votes_movies.shape  #shape=how many rows and columns are present in the dataset."
      ],
      "metadata": {
        "id": "rrscikLzms_-"
      },
      "execution_count": null,
      "outputs": []
    },
    {
      "cell_type": "code",
      "source": [
        "#histogram plot"
      ],
      "metadata": {
        "id": "gM99cO55m69Y"
      },
      "execution_count": null,
      "outputs": []
    },
    {
      "cell_type": "code",
      "source": [
        "plt.figure(figsize=(6,5))\n",
        "sns.histplot(imdb[\"numVotes\"],bins=40,kde=True)\n",
        "plt.xlabel(\"number of votes\")\n",
        "plt.ylabel(\"counts\")\n",
        "plt.title(\"distribution of movies votes\")\n"
      ],
      "metadata": {
        "id": "zFHIkGT0nPKS"
      },
      "execution_count": null,
      "outputs": []
    },
    {
      "cell_type": "markdown",
      "source": [
        "#insights\n",
        " ----The distribution is right-skewed, meaning most movies have fewer votes, while only a few have very high votes.\n",
        "2️⃣ A majority of movies received low to moderate votes, indicating that only a small percentage of movies gain massive audience attention.\n",
        "3️⃣ There are outliers (movies with an exceptionally high number of votes), likely popular blockbusters or classics with a strong fanbase.\n",
        "4️⃣ The KDE line suggests a smooth trend where vote counts gradually decrease as the number of votes increases."
      ],
      "metadata": {
        "id": "QQt7iP4WoiZN"
      }
    },
    {
      "cell_type": "code",
      "source": [],
      "metadata": {
        "id": "lbQANvdvoSkB"
      },
      "execution_count": null,
      "outputs": []
    },
    {
      "cell_type": "markdown",
      "source": [
        "**QUE 7) What is the ditribution of movies budgets?**\n"
      ],
      "metadata": {
        "id": "MTTjfJt4p2fe"
      }
    },
    {
      "cell_type": "code",
      "source": [
        "imdb.head(1)  #head=checking as sample"
      ],
      "metadata": {
        "id": "I6Yys9eHp-FO"
      },
      "execution_count": null,
      "outputs": []
    },
    {
      "cell_type": "code",
      "source": [
        "#draw istogramplot"
      ],
      "metadata": {
        "id": "zu9v6CFoqCaa"
      },
      "execution_count": null,
      "outputs": []
    },
    {
      "cell_type": "code",
      "source": [
        "plt.figure(figsize=(6,5))\n",
        "sns.histplot(imdb[\"budget\"],bins=40,kde=True)\n",
        "plt.xlabel(\"budget of movies\")\n",
        "plt.ylabel(\"counts\")\n",
        "plt.title(\"distribution of movies budget\")"
      ],
      "metadata": {
        "id": "qQfNZhb0qIys"
      },
      "execution_count": null,
      "outputs": []
    },
    {
      "cell_type": "markdown",
      "source": [
        "INSIGHTS\n",
        "\n",
        "--the budget distribution is right skewed.\n",
        "--many movies has low budget movies.\n",
        "-- few movies only had high budget."
      ],
      "metadata": {
        "id": "r659UhuLqiim"
      }
    },
    {
      "cell_type": "code",
      "source": [
        "#lets check how many movies have hugh budget(find outliers)"
      ],
      "metadata": {
        "id": "YaTjMsi8qmgE"
      },
      "execution_count": null,
      "outputs": []
    },
    {
      "cell_type": "code",
      "source": [
        "#fraw boxplot"
      ],
      "metadata": {
        "id": "iTRqt9Rrq2gV"
      },
      "execution_count": null,
      "outputs": []
    },
    {
      "cell_type": "code",
      "source": [
        "plt.figure(figsize=(6,5))\n",
        "sns.boxplot(imdb[\"budget\"])\n",
        "plt.xlabel(\"budget of movies\")\n",
        "plt.ylabel(\"counts\")\n",
        "plt.title(\"boxplot of movie budget\")"
      ],
      "metadata": {
        "id": "Bh4kCQXUq37u"
      },
      "execution_count": null,
      "outputs": []
    },
    {
      "cell_type": "code",
      "source": [
        "Q1=imdb[\"budget\"].quantile(0.25)"
      ],
      "metadata": {
        "id": "xSc3jzRWrHnD"
      },
      "execution_count": null,
      "outputs": []
    },
    {
      "cell_type": "code",
      "source": [
        "Q3=imdb['budget'].quantile(0.75)"
      ],
      "metadata": {
        "id": "i-u-TVrDrNEX"
      },
      "execution_count": null,
      "outputs": []
    },
    {
      "cell_type": "code",
      "source": [
        "IQR=Q3-Q1"
      ],
      "metadata": {
        "id": "pgO4MBOgrSfj"
      },
      "execution_count": null,
      "outputs": []
    },
    {
      "cell_type": "code",
      "source": [
        "upper_bond=Q3+1.5*IQR"
      ],
      "metadata": {
        "id": "IO6EHjOVrUU6"
      },
      "execution_count": null,
      "outputs": []
    },
    {
      "cell_type": "code",
      "source": [
        "upper_bond"
      ],
      "metadata": {
        "id": "qkpuqmlfrYsc"
      },
      "execution_count": null,
      "outputs": []
    },
    {
      "cell_type": "code",
      "source": [
        "budget_clean_data=imdb[(imdb[\"budget\"]<=upper_bond)]"
      ],
      "metadata": {
        "id": "5qcxgtVXraNn"
      },
      "execution_count": null,
      "outputs": []
    },
    {
      "cell_type": "code",
      "source": [
        "#draw histogram"
      ],
      "metadata": {
        "id": "zg12AY6grj-B"
      },
      "execution_count": null,
      "outputs": []
    },
    {
      "cell_type": "code",
      "source": [
        "plt.figure(figsize=(6,5))\n",
        "sns.histplot(budget_clean_data[\"budget\"],bins=40,kde=True)\n",
        "plt.xlabel(\"budget of movies\")\n",
        "plt.ylabel(\"counts\")\n",
        "plt.title(\"distribution of movies budget\")"
      ],
      "metadata": {
        "id": "Uw_pgqJVrnmW"
      },
      "execution_count": null,
      "outputs": []
    },
    {
      "cell_type": "code",
      "source": [
        "#draw boxplot"
      ],
      "metadata": {
        "id": "ZrjLLHZ1r1JF"
      },
      "execution_count": null,
      "outputs": []
    },
    {
      "cell_type": "code",
      "source": [
        "plt.figure(figsize=(6,5))\n",
        "sns.boxplot(budget_clean_data[\"budget\"])\n",
        "plt.xlabel(\"budget of movies\")\n",
        "plt.ylabel(\"counts\")\n",
        "plt.title(\"boxplot of movie budget\")"
      ],
      "metadata": {
        "id": "yNOI4T_ar4cM"
      },
      "execution_count": null,
      "outputs": []
    },
    {
      "cell_type": "code",
      "source": [
        "#find outlier again"
      ],
      "metadata": {
        "id": "G8Uax720r-st"
      },
      "execution_count": null,
      "outputs": []
    },
    {
      "cell_type": "code",
      "source": [
        "Q1=budget_clean_data['budget'].quantile(0.25)"
      ],
      "metadata": {
        "id": "MnlmAW5QsDJa"
      },
      "execution_count": null,
      "outputs": []
    },
    {
      "cell_type": "code",
      "source": [
        "Q3=budget_clean_data['budget'].quantile(0.75)\n"
      ],
      "metadata": {
        "id": "MzpFFnjEsOmH"
      },
      "execution_count": null,
      "outputs": []
    },
    {
      "cell_type": "code",
      "source": [
        "IQR=Q3-Q1"
      ],
      "metadata": {
        "id": "qu0R0tTvsV46"
      },
      "execution_count": null,
      "outputs": []
    },
    {
      "cell_type": "code",
      "source": [
        "upper_bond=Q3+1.5*IQR"
      ],
      "metadata": {
        "id": "H00yaiCXsXep"
      },
      "execution_count": null,
      "outputs": []
    },
    {
      "cell_type": "code",
      "source": [
        "budget_fresh=budget_clean_data[(budget_clean_data[\"budget\"]<=upper_bond)]"
      ],
      "metadata": {
        "id": "3mQ6sJ31sadD"
      },
      "execution_count": null,
      "outputs": []
    },
    {
      "cell_type": "code",
      "source": [
        "plt.figure(figsize=(6,5))\n",
        "sns.boxplot(budget_fresh[\"budget\"])\n",
        "plt.xlabel(\"budget of movies\")\n",
        "plt.ylabel(\"counts\")\n",
        "plt.title(\"boxplot of movie budget\")"
      ],
      "metadata": {
        "id": "pbrm8vLnslkq"
      },
      "execution_count": null,
      "outputs": []
    },
    {
      "cell_type": "code",
      "source": [
        "#find outlier again"
      ],
      "metadata": {
        "id": "-NKCc1JZsySK"
      },
      "execution_count": null,
      "outputs": []
    },
    {
      "cell_type": "code",
      "source": [
        "Q1=budget_fresh['budget'].quantile(0.25)"
      ],
      "metadata": {
        "id": "84O2MkHKtBWq"
      },
      "execution_count": null,
      "outputs": []
    },
    {
      "cell_type": "code",
      "source": [
        "Q3=budget_fresh['budget'].quantile(0.75)"
      ],
      "metadata": {
        "id": "PStO6T-OtDt9"
      },
      "execution_count": null,
      "outputs": []
    },
    {
      "cell_type": "code",
      "source": [
        "IQR=Q3-Q1\n"
      ],
      "metadata": {
        "id": "f-0crHoatHEH"
      },
      "execution_count": null,
      "outputs": []
    },
    {
      "cell_type": "code",
      "source": [
        "upper_bond=Q3+1.5*IQR"
      ],
      "metadata": {
        "id": "ClbkmzZCtL-V"
      },
      "execution_count": null,
      "outputs": []
    },
    {
      "cell_type": "code",
      "source": [
        "budget_fresh_2=budget_fresh[(budget_fresh[\"budget\"]<=upper_bond)]"
      ],
      "metadata": {
        "id": "VHKm7D5BtPT5"
      },
      "execution_count": null,
      "outputs": []
    },
    {
      "cell_type": "code",
      "source": [
        "plt.figure(figsize=(6,5))\n",
        "sns.boxplot(budget_fresh_2[\"budget\"])\n",
        "plt.xlabel(\"budget of movies\")\n",
        "plt.ylabel(\"counts\")\n",
        "plt.title(\"boxplot of movie budget\")"
      ],
      "metadata": {
        "id": "Odh9svMStT-4"
      },
      "execution_count": null,
      "outputs": []
    },
    {
      "cell_type": "code",
      "source": [
        "plt.figure(figsize=(6,5))\n",
        "sns.histplot(budget_fresh_2[\"budget\"],bins=40,kde=True)\n",
        "plt.xlabel(\"budget of movies\")\n",
        "plt.ylabel(\"counts\")\n",
        "plt.title(\"distribution of movies budget\")"
      ],
      "metadata": {
        "id": "s09I8jdVtwOz"
      },
      "execution_count": null,
      "outputs": []
    },
    {
      "cell_type": "markdown",
      "source": [
        "#insights\n",
        "--Most movies have small to moderate budgets, while a few high-budget movies dominate the industry.\n",
        "\n",
        "--The distribution is likely right-skewed, meaning big-budget movies are rare but significantly impact the industry.\n",
        "\n",
        "--\n",
        "Further analysis can help identify the median budget and common budget range for most films.\n",
        "\n",
        "\n",
        "\n"
      ],
      "metadata": {
        "id": "Zv_PRqW7tikV"
      }
    },
    {
      "cell_type": "markdown",
      "source": [
        "***QUE 8) what is the ditribution of gross revenue? ***\n",
        "\n",
        "\n"
      ],
      "metadata": {
        "id": "icxqOmjDuQgi"
      }
    },
    {
      "cell_type": "code",
      "source": [
        "imdb.columns"
      ],
      "metadata": {
        "id": "i6mNX2YGudz7"
      },
      "execution_count": null,
      "outputs": []
    },
    {
      "cell_type": "code",
      "source": [
        "#drwa hist plot"
      ],
      "metadata": {
        "id": "Bu7qt2CAuxDi"
      },
      "execution_count": null,
      "outputs": []
    },
    {
      "cell_type": "code",
      "source": [
        "plt.figure(figsize=(6,5))\n",
        "sns.histplot(x=imdb[\"gross\"],bins=40,kde=True)\n",
        "plt.xlabel(\"gross revenue of the movies\")\n",
        "plt.ylabel(\"count\")\n",
        "plt.title(\"ditribution of gross revenue\")"
      ],
      "metadata": {
        "id": "ezgIo1GOuy6F"
      },
      "execution_count": null,
      "outputs": []
    },
    {
      "cell_type": "code",
      "source": [
        "#lets check how many movies have high gross revenue"
      ],
      "metadata": {
        "id": "3xM7ELO6vOIj"
      },
      "execution_count": null,
      "outputs": []
    },
    {
      "cell_type": "code",
      "source": [
        "plt.figure(figsize=(6,5))\n",
        "sns.boxplot(imdb['gross'])\n",
        "plt.xlabel(\"gross revenue of the movies\")\n",
        "plt.ylabel(\"counts\")\n",
        "plt.title('bx plot of gross revenue')"
      ],
      "metadata": {
        "id": "vjTEEmLuvXZR"
      },
      "execution_count": null,
      "outputs": []
    },
    {
      "cell_type": "markdown",
      "source": [
        "#insights\n",
        "\n",
        "--gross revenue distribution is  right skewed.\n",
        "\n",
        "--a few blockbuster movies had earning massive amount\n",
        "\n",
        "-- there outliers movies with extreme earnings."
      ],
      "metadata": {
        "id": "Bd9lp9ojvqGp"
      }
    },
    {
      "cell_type": "markdown",
      "source": [
        "**QUE 10) What is the average budget and gross revenue of movies?**"
      ],
      "metadata": {
        "id": "cZRnHj_rwF6Y"
      }
    },
    {
      "cell_type": "code",
      "source": [
        "avg_budget=imdb[\"budget\"].mean()"
      ],
      "metadata": {
        "id": "6nkqBzO4wQjl"
      },
      "execution_count": null,
      "outputs": []
    },
    {
      "cell_type": "code",
      "source": [
        "avg_gross=imdb[\"gross\"].mean()"
      ],
      "metadata": {
        "id": "g6iwjivVwX4W"
      },
      "execution_count": null,
      "outputs": []
    },
    {
      "cell_type": "code",
      "source": [
        "avg_budget"
      ],
      "metadata": {
        "id": "Q0kC5vPCwbo_"
      },
      "execution_count": null,
      "outputs": []
    },
    {
      "cell_type": "code",
      "source": [
        "avg_gross"
      ],
      "metadata": {
        "id": "72mAnVzJwePY"
      },
      "execution_count": null,
      "outputs": []
    },
    {
      "cell_type": "code",
      "source": [
        "#draw bar plot"
      ],
      "metadata": {
        "id": "myNs4lBQwshX"
      },
      "execution_count": null,
      "outputs": []
    },
    {
      "cell_type": "code",
      "source": [
        "plt.figure(figsize=(6,5))\n",
        "sns.barplot(x=[\"avg_budget\",\"avg_gross\"],y=[avg_budget,avg_gross],palette=\"Set1\")  #y=put values in y column\n",
        "plt.title(\"comparision of avg budget vs gross\")"
      ],
      "metadata": {
        "id": "7o8PWFvtwtxN"
      },
      "execution_count": null,
      "outputs": []
    },
    {
      "cell_type": "markdown",
      "source": [
        "#insights\n",
        "\n",
        "--average gross exceed the average budget indicating overall profitability."
      ],
      "metadata": {
        "id": "3c0IzntTyQa1"
      }
    },
    {
      "cell_type": "markdown",
      "source": [
        "**QUE 10) Is there a significant correlation between budget and gross revenue?**"
      ],
      "metadata": {
        "id": "Bvnhf9K_y3qJ"
      }
    },
    {
      "cell_type": "code",
      "source": [
        "corr_matrix=imdb[[\"budget\",\"gross\"]].corr()"
      ],
      "metadata": {
        "id": "lVG55w5HyZmb"
      },
      "execution_count": null,
      "outputs": []
    },
    {
      "cell_type": "code",
      "source": [
        "corr_matrix"
      ],
      "metadata": {
        "id": "q83FGQ4UzKdd"
      },
      "execution_count": null,
      "outputs": []
    },
    {
      "cell_type": "code",
      "source": [
        "#draw heatmap beacuse it is a correlation"
      ],
      "metadata": {
        "id": "JbWlboB_zMdL"
      },
      "execution_count": null,
      "outputs": []
    },
    {
      "cell_type": "code",
      "source": [
        "plt.figure(figsize=(6,5))\n",
        "sns.heatmap(corr_matrix,annot=True,cmap=\"coolwarm\")\n",
        "plt.title(\"correlation between budget and gross revenue\")"
      ],
      "metadata": {
        "id": "c18NVXP6zVZa"
      },
      "execution_count": null,
      "outputs": []
    },
    {
      "cell_type": "markdown",
      "source": [
        "INSIGHTS\n",
        "\n",
        "-- strong positive correlation btween the budget and the gross  ~0.699\n",
        "\n",
        "-- this means higher budget movies tends to greater higher revenue."
      ],
      "metadata": {
        "id": "eCDGtAY4zopt"
      }
    },
    {
      "cell_type": "markdown",
      "source": [
        "**QUE 11) do high budget movies tend to have higher ratings?**"
      ],
      "metadata": {
        "id": "vDbGe8No0Gfz"
      }
    },
    {
      "cell_type": "code",
      "source": [
        "imdb.head(1)"
      ],
      "metadata": {
        "id": "pyauzwhx0Upn"
      },
      "execution_count": null,
      "outputs": []
    },
    {
      "cell_type": "code",
      "source": [
        "corr_matrix=imdb[['budget','averageRating']].corr()"
      ],
      "metadata": {
        "id": "pRFV2Z4g0d17"
      },
      "execution_count": null,
      "outputs": []
    },
    {
      "cell_type": "code",
      "source": [
        "corr_matrix"
      ],
      "metadata": {
        "id": "k8H1Z0Ud0oMW"
      },
      "execution_count": null,
      "outputs": []
    },
    {
      "cell_type": "code",
      "source": [
        "#draw heatmap ,it is corr"
      ],
      "metadata": {
        "id": "teW7Zgcc0p44"
      },
      "execution_count": null,
      "outputs": []
    },
    {
      "cell_type": "code",
      "source": [
        "plt.figure(figsize=(6,6))\n",
        "sns.heatmap(corr_matrix,annot=True,cmap=\"coolwarm\")\n",
        "plt.title(\"correlation between budgt and ratings\")"
      ],
      "metadata": {
        "id": "Rq9jKPS60vLY"
      },
      "execution_count": null,
      "outputs": []
    },
    {
      "cell_type": "markdown",
      "source": [
        "INSIGHTS\n",
        "\n",
        "-- weak nrgative corrrelation ~0.079\n",
        "\n",
        "--suggest almost no relationship between budget and ratings."
      ],
      "metadata": {
        "id": "LUuIrZjM1JxH"
      }
    },
    {
      "cell_type": "markdown",
      "source": [
        "**QUE 12) which are the top 10 highest grossing movies?**"
      ],
      "metadata": {
        "id": "tRFw4UlV1a6E"
      }
    },
    {
      "cell_type": "code",
      "source": [
        "imdb.head(1)"
      ],
      "metadata": {
        "id": "C0KHllGz1koo"
      },
      "execution_count": null,
      "outputs": []
    },
    {
      "cell_type": "code",
      "source": [
        "top_gross=imdb[[\"primaryTitle\",'gross']].sort_values(by='gross',ascending=False).head(10)"
      ],
      "metadata": {
        "id": "LNyUYsE817Z8"
      },
      "execution_count": null,
      "outputs": []
    },
    {
      "cell_type": "code",
      "source": [
        "top_gross"
      ],
      "metadata": {
        "id": "g_KGuggF2OQM"
      },
      "execution_count": null,
      "outputs": []
    },
    {
      "cell_type": "code",
      "source": [
        "#draw barplot"
      ],
      "metadata": {
        "id": "DaEDaL7_2Qf7"
      },
      "execution_count": null,
      "outputs": []
    },
    {
      "cell_type": "code",
      "source": [
        "plt.figure(figsize=(6,5))\n",
        "sns.barplot(x=top_gross['gross'],y=top_gross['primaryTitle'],palette=\"viridis\")\n",
        "plt.xlabel(\"gross revenue\")\n",
        "plt.ylabel(\"movies title\")\n",
        "plt.title(\"top 10 highest grosssing movies\")"
      ],
      "metadata": {
        "id": "VkD_U6U623HZ"
      },
      "execution_count": null,
      "outputs": []
    },
    {
      "cell_type": "markdown",
      "source": [
        "INSIGHTS\n",
        "\n",
        "--The highest-grossing movie clearly stands out, showing its massive box office impact.\n",
        "\n",
        "--There may be a strong dominance of franchises in the top 10, emphasizing the power of sequels.\n",
        "\n",
        "--Revenue drops significantly between the highest-grossing and lower-ranked movies, indicating that only a few movies achieve massive box office success."
      ],
      "metadata": {
        "id": "qU2j3Fs13fQy"
      }
    },
    {
      "cell_type": "markdown",
      "source": [
        "**QUE 13) Which are the top 10 most profitable movies (profit=gross-budget) ?**"
      ],
      "metadata": {
        "id": "fvR6VqzE4Be4"
      }
    },
    {
      "cell_type": "code",
      "source": [
        "imdb['profit']=imdb['gross']-imdb['budget']"
      ],
      "metadata": {
        "id": "Tlr0o0KP4Nzc"
      },
      "execution_count": null,
      "outputs": []
    },
    {
      "cell_type": "code",
      "source": [
        "top_profit=imdb.sort_values(by='profit',ascending=False).head(10)"
      ],
      "metadata": {
        "id": "aXUvFtX54WaI"
      },
      "execution_count": null,
      "outputs": []
    },
    {
      "cell_type": "code",
      "source": [
        "top_gross"
      ],
      "metadata": {
        "id": "yqPt9QYC4rp1"
      },
      "execution_count": null,
      "outputs": []
    },
    {
      "cell_type": "code",
      "source": [
        "#draw bar plot"
      ],
      "metadata": {
        "id": "Zdjikoy14tGt"
      },
      "execution_count": null,
      "outputs": []
    },
    {
      "cell_type": "code",
      "source": [
        "plt.figure(figsize=(6,5))\n",
        "sns.barplot(x=top_profit['profit'],y=top_profit[\"primaryTitle\"],palette=\"viridis\")\n",
        "plt.xlabel(\"profit\")\n",
        "plt.ylabel(\"title of movies\")\n",
        "plt.title(\"top 10 highest profitable movies\")"
      ],
      "metadata": {
        "id": "tVwzFKpe4vxh"
      },
      "execution_count": null,
      "outputs": []
    },
    {
      "cell_type": "markdown",
      "source": [
        "INSIGHTS\n",
        "\n",
        "-- Some low-budget movies can be highly profitable, sometimes even more than expensive blockbusters.\n",
        "\n",
        "--The highest-grossing movies aren’t always the most profitable, as budget plays a key role in profitability.\n",
        "\n",
        "--Certain genres (e.g., horror, thriller, and indie films) tend to achieve high profits with small investments.\n",
        "\n",
        "--Understanding budget vs. revenue trends can help studios optimize future movie investments."
      ],
      "metadata": {
        "id": "XKHr3xco5geP"
      }
    },
    {
      "cell_type": "markdown",
      "source": [
        "**QUE 14) Are the movies with a higher number of votes (numvotes) more profitable?**"
      ],
      "metadata": {
        "id": "6dN-QTwV5-g1"
      }
    },
    {
      "cell_type": "code",
      "source": [
        "imdb.head(1)"
      ],
      "metadata": {
        "id": "H6Le6cJH6LJR"
      },
      "execution_count": null,
      "outputs": []
    },
    {
      "cell_type": "code",
      "source": [
        "corr_matrix=imdb[['numVotes',\"profit\"]].corr()"
      ],
      "metadata": {
        "id": "kTTBeNt16NQQ"
      },
      "execution_count": null,
      "outputs": []
    },
    {
      "cell_type": "code",
      "source": [
        "corr_matrix"
      ],
      "metadata": {
        "id": "OnPY6Qab6g-m"
      },
      "execution_count": null,
      "outputs": []
    },
    {
      "cell_type": "code",
      "source": [
        "#draw heatmap"
      ],
      "metadata": {
        "id": "eQSm1BDl6k-U"
      },
      "execution_count": null,
      "outputs": []
    },
    {
      "cell_type": "code",
      "source": [
        "plt.figure(figsize=(6,5))\n",
        "sns.heatmap(corr_matrix,annot=True,cmap=\"coolwarm\")\n",
        "plt.title(\"correlation butween the profit and the votes\")"
      ],
      "metadata": {
        "id": "EiOQ3Fd66n7a"
      },
      "execution_count": null,
      "outputs": []
    },
    {
      "cell_type": "markdown",
      "source": [
        "#insights\n",
        "\n",
        "-- the correlation between the number of votes and the profit is 0.53 which indicates moderate positive correlation."
      ],
      "metadata": {
        "id": "7ZK0cXpd65dk"
      }
    },
    {
      "cell_type": "markdown",
      "source": [
        "**QUE 15) Which genres has the highest no of movies ?**"
      ],
      "metadata": {
        "id": "kQT6wFHvnRas"
      }
    },
    {
      "cell_type": "code",
      "source": [
        "imdb.head(1)"
      ],
      "metadata": {
        "id": "BT80uy3onc0y"
      },
      "execution_count": null,
      "outputs": []
    },
    {
      "cell_type": "code",
      "source": [
        "#as we check,in genres ,we have more than one category like ,comedy,fantacy and romance so we need to seprate the category"
      ],
      "metadata": {
        "id": "a-0ED4onoQ34"
      },
      "execution_count": null,
      "outputs": []
    },
    {
      "cell_type": "code",
      "source": [
        "genres_list=imdb[\"genres\"].str.split(\",\").explode()"
      ],
      "metadata": {
        "id": "MsO0LRmCnkOk"
      },
      "execution_count": null,
      "outputs": []
    },
    {
      "cell_type": "code",
      "source": [
        "genres_list"
      ],
      "metadata": {
        "id": "tfbNZiPCn0el"
      },
      "execution_count": null,
      "outputs": []
    },
    {
      "cell_type": "code",
      "source": [
        "genres_count=genres_list.value_counts()"
      ],
      "metadata": {
        "id": "NMYbS2WXn7l2"
      },
      "execution_count": null,
      "outputs": []
    },
    {
      "cell_type": "code",
      "source": [
        "genres_count"
      ],
      "metadata": {
        "id": "7UsmByPOobuQ"
      },
      "execution_count": null,
      "outputs": []
    },
    {
      "cell_type": "code",
      "source": [
        "#we want highest movies ,will use head()"
      ],
      "metadata": {
        "id": "6snx4lxAodVf"
      },
      "execution_count": null,
      "outputs": []
    },
    {
      "cell_type": "code",
      "source": [
        "top_10_genres=genres_count.head(10)"
      ],
      "metadata": {
        "id": "pURw86m_onR5"
      },
      "execution_count": null,
      "outputs": []
    },
    {
      "cell_type": "code",
      "source": [
        "#draw bar plot"
      ],
      "metadata": {
        "id": "W2KP5MuQorWU"
      },
      "execution_count": null,
      "outputs": []
    },
    {
      "cell_type": "code",
      "source": [
        "plt.figure(figsize=(12,8))\n",
        "sns.barplot(x=top_10_genres.index,y=top_10_genres.values,palette=\"Set1\")\n",
        "plt.xlabel(\"highest genres\")\n",
        "plt.ylabel(\"count\")\n",
        "plt.title(\"Highest no of movies \")\n",
        "plt.show() #to properly display the graph on the screen.\n",
        "plt.savefig(\"top 10 genres\")"
      ],
      "metadata": {
        "id": "DVp2jI2lo_A9"
      },
      "execution_count": null,
      "outputs": []
    },
    {
      "cell_type": "markdown",
      "source": [
        "#INSIGHTS\n",
        "\n",
        "---- drama is the most dominant genre with 1542 movies.\n",
        "\n",
        "--comedy and action are almost equal ~1170.\n",
        "\n",
        "-- advantures,crime and thriller are strong contenders.\n",
        "\n",
        "-- romance,horror ,mystry and si-fi are mid tier genres."
      ],
      "metadata": {
        "id": "hFbr6lguuPm1"
      }
    },
    {
      "cell_type": "markdown",
      "source": [
        "**QUE 16) What are the average budget and gross revenue per genres?**"
      ],
      "metadata": {
        "id": "bFmZ__5wuskS"
      }
    },
    {
      "cell_type": "code",
      "source": [
        "imdb.head(1)"
      ],
      "metadata": {
        "id": "9uSWaTPKu2R_"
      },
      "execution_count": null,
      "outputs": []
    },
    {
      "cell_type": "code",
      "source": [
        "#we are going to create a new variable for genre = new_df"
      ],
      "metadata": {
        "id": "yqCuPwp4u3_n"
      },
      "execution_count": null,
      "outputs": []
    },
    {
      "cell_type": "code",
      "source": [
        "new_df=imdb.copy()"
      ],
      "metadata": {
        "id": "nH6xJJpIvATk"
      },
      "execution_count": null,
      "outputs": []
    },
    {
      "cell_type": "code",
      "source": [
        "new_df[\"genres\"]=new_df['genres'].str.split(',')"
      ],
      "metadata": {
        "id": "jXFy7zwVvDDB"
      },
      "execution_count": null,
      "outputs": []
    },
    {
      "cell_type": "code",
      "source": [
        "new_df.head(1) #check the genres column [divided with column]"
      ],
      "metadata": {
        "id": "yFAPOH_LvMhi"
      },
      "execution_count": null,
      "outputs": []
    },
    {
      "cell_type": "code",
      "source": [
        "new_df=new_df.explode(\"genres\")"
      ],
      "metadata": {
        "id": "3612tZVIvVGI"
      },
      "execution_count": null,
      "outputs": []
    },
    {
      "cell_type": "code",
      "source": [
        "new_df"
      ],
      "metadata": {
        "id": "jp9o-sUovzfb"
      },
      "execution_count": null,
      "outputs": []
    },
    {
      "cell_type": "code",
      "source": [
        "avg_rev_gross=new_df.groupby(\"genres\")[['budget',\"gross\"]].mean().sort_values(by=\"gross\",ascending=False)"
      ],
      "metadata": {
        "id": "d5_D5AQ3v5QD"
      },
      "execution_count": null,
      "outputs": []
    },
    {
      "cell_type": "code",
      "source": [
        "#sort=for a single column, and sort_values for multiple column"
      ],
      "metadata": {
        "id": "ILBbygCbwt9b"
      },
      "execution_count": null,
      "outputs": []
    },
    {
      "cell_type": "code",
      "source": [
        "avg_rev_gross"
      ],
      "metadata": {
        "id": "g5-LhraRwN6s"
      },
      "execution_count": null,
      "outputs": []
    },
    {
      "cell_type": "code",
      "source": [
        "avg_rev_gross=avg_rev_gross.head(10)"
      ],
      "metadata": {
        "id": "UbVgrZ0owQp-"
      },
      "execution_count": null,
      "outputs": []
    },
    {
      "cell_type": "code",
      "source": [
        "avg_rev_gross"
      ],
      "metadata": {
        "id": "oj9vX4nRw8-J"
      },
      "execution_count": null,
      "outputs": []
    },
    {
      "cell_type": "code",
      "source": [
        "#draw bar plot"
      ],
      "metadata": {
        "id": "ctMUIQ9Kw_P-"
      },
      "execution_count": null,
      "outputs": []
    },
    {
      "cell_type": "code",
      "source": [
        "plt.figure(figsize=(12,8))\n",
        "sns.barplot(data=avg_rev_gross,x=\"genres\",y=\"budget\",color=\"Red\",label=\"average budget\")\n",
        "sns.barplot(data=avg_rev_gross,x=\"genres\",y=\"gross\",color=\"Green\",alpha=0.7,label=\"average gross revenue\") #alpha=margin\n",
        "plt.ylabel=(\"average revenue\")\n",
        "plt.title(\"avg budget and gross per genre\")\n",
        "plt.savefig(\"genres.jpg\",dpi=300)"
      ],
      "metadata": {
        "id": "bsErwrAQxDD5"
      },
      "execution_count": null,
      "outputs": []
    },
    {
      "cell_type": "markdown",
      "source": [
        "INSIGHTS\n",
        "\n",
        "--Most Popular Genres: Genres with the highest number of movies are likely Drama, Comedy, Action, Thriller, and Horror.\n",
        "\n",
        "---Dominant Genre: The top genre (highest bar) has the most movies in the dataset.\n",
        "\n",
        "--Industry Trends: If action or thriller is on top, the industry focuses on high-energy films. If drama or comedy dominates, storytelling and light entertainment are more common.\n",
        "\n",
        "--Niche Genres: Genres with shorter bars (e.g., documentary, musical) are less common but may have dedicated audiences.\n",
        "\n",
        "--Investment Insight: High movie count suggests more demand and production in that genre."
      ],
      "metadata": {
        "id": "DBoEbXvRyhK5"
      }
    },
    {
      "cell_type": "markdown",
      "source": [
        "**QUE 17) Which genres has the highest average ratings?**"
      ],
      "metadata": {
        "id": "VPYmeCyvzqmd"
      }
    },
    {
      "cell_type": "code",
      "source": [
        "imdb.head(1)"
      ],
      "metadata": {
        "id": "-cJsGPbozx_i"
      },
      "execution_count": null,
      "outputs": []
    },
    {
      "cell_type": "code",
      "source": [
        "genres_avg_rating=new_df.groupby(\"genres\")[\"averageRating\"].mean().reset_index() #new_df has been already created , reset index=it is series thats why we use reset index"
      ],
      "metadata": {
        "id": "C0uME_suzzRm"
      },
      "execution_count": null,
      "outputs": []
    },
    {
      "cell_type": "code",
      "source": [
        "genres_avg_rating"
      ],
      "metadata": {
        "id": "_NPxY82i0EWY"
      },
      "execution_count": null,
      "outputs": []
    },
    {
      "cell_type": "code",
      "source": [
        "top_genres_rating=genres_avg_rating.sort_values(by=\"averageRating\",ascending=False)"
      ],
      "metadata": {
        "id": "wQLuHbjF0NlC"
      },
      "execution_count": null,
      "outputs": []
    },
    {
      "cell_type": "code",
      "source": [
        "#sort_values() is used to arrange data in ascending or descending order, making it easier to analyze and visualize trends."
      ],
      "metadata": {
        "id": "o2fcdZiS1N92"
      },
      "execution_count": null,
      "outputs": []
    },
    {
      "cell_type": "code",
      "source": [
        "top_genres_rating"
      ],
      "metadata": {
        "id": "AeVPEErG1Rks"
      },
      "execution_count": null,
      "outputs": []
    },
    {
      "cell_type": "code",
      "source": [
        "top_10_gen_rating=top_genres_rating.head(10)"
      ],
      "metadata": {
        "id": "ptO2TSSn2GJh"
      },
      "execution_count": null,
      "outputs": []
    },
    {
      "cell_type": "code",
      "source": [
        "top_10_gen_rating"
      ],
      "metadata": {
        "id": "wccxrfTa1XQe"
      },
      "execution_count": null,
      "outputs": []
    },
    {
      "cell_type": "code",
      "source": [
        "plt.figure(figsize=(10,8))\n",
        "sns.barplot(data=top_10_gen_rating,x=\"genres\",y=\"averageRating\",palette=\"viridis\")\n",
        "plt.title(\"average rating per genres\")"
      ],
      "metadata": {
        "id": "p1N-R1GU1btu"
      },
      "execution_count": null,
      "outputs": []
    },
    {
      "cell_type": "markdown",
      "source": [
        "#INSIGHTS\n",
        "-- war movies have the highest average rating ~7.44 ,indicating that aidience generally rate them highly ,possibly due to strong strorytelling  and emotional depth."
      ],
      "metadata": {
        "id": "XfwQQoZM2feV"
      }
    },
    {
      "cell_type": "markdown",
      "source": [
        "**QUE 18) Are there genres that tends to have longer runtimes ?**"
      ],
      "metadata": {
        "id": "he_av0nq26EZ"
      }
    },
    {
      "cell_type": "code",
      "source": [
        "#we have already created variable for genres =new_df"
      ],
      "metadata": {
        "id": "ngWD67023IWX"
      },
      "execution_count": null,
      "outputs": []
    },
    {
      "cell_type": "code",
      "source": [
        "new_df.head(1)"
      ],
      "metadata": {
        "id": "xmarRA5m3U4N"
      },
      "execution_count": null,
      "outputs": []
    },
    {
      "cell_type": "code",
      "source": [
        "genres_runtime=new_df.groupby(\"genres\")['runtimeMinutes'].mean().reset_index() #it is a seies thats why we use the reset index"
      ],
      "metadata": {
        "id": "zsWfDL2V3X3N"
      },
      "execution_count": null,
      "outputs": []
    },
    {
      "cell_type": "code",
      "source": [
        "genres_runtime"
      ],
      "metadata": {
        "id": "yMEBCTEo3oBQ"
      },
      "execution_count": null,
      "outputs": []
    },
    {
      "cell_type": "code",
      "source": [
        "top_genres_runtime=genres_runtime.sort_values(by=\"runtimeMinutes\",ascending=False).head(5)"
      ],
      "metadata": {
        "id": "zpUV4SKX34C-"
      },
      "execution_count": null,
      "outputs": []
    },
    {
      "cell_type": "code",
      "source": [
        "top_genres_runtime"
      ],
      "metadata": {
        "id": "04ET4bL14ZEX"
      },
      "execution_count": null,
      "outputs": []
    },
    {
      "cell_type": "code",
      "source": [
        "#draw bar plot"
      ],
      "metadata": {
        "id": "iokAGBCm4jxN"
      },
      "execution_count": null,
      "outputs": []
    },
    {
      "cell_type": "code",
      "source": [
        "plt.figure(figsize=(6,5))\n",
        "sns.barplot(data=top_genres_runtime,x=\"genres\",y=\"runtimeMinutes\",palette=\"viridis\")\n",
        "plt.title(\"average  runtime minutes per genres\")"
      ],
      "metadata": {
        "id": "Hcl_NkBi4nI1"
      },
      "execution_count": null,
      "outputs": []
    },
    {
      "cell_type": "markdown",
      "source": [
        "#INSIGHTS\n",
        "\n",
        "-- History movies have the highest average runtime ~136 minutes ,likely due to their detailed storytelling.\n",
        "\n",
        "-- war films ~129 minutes also tend to be long."
      ],
      "metadata": {
        "id": "ai3u55o-5JOe"
      }
    },
    {
      "cell_type": "markdown",
      "source": [
        "***QUE 19) Which genres has the most audience enguagement (numvotes)? ***"
      ],
      "metadata": {
        "id": "cF-XgvzI5dUs"
      }
    },
    {
      "cell_type": "code",
      "source": [
        "imdb.head(1)"
      ],
      "metadata": {
        "id": "jXVe_rvm5pMI"
      },
      "execution_count": null,
      "outputs": []
    },
    {
      "cell_type": "code",
      "source": [
        "highest_vote=new_df.groupby(\"genres\")[\"numVotes\"].mean().reset_index()"
      ],
      "metadata": {
        "id": "QvOICmUm5vQ0"
      },
      "execution_count": null,
      "outputs": []
    },
    {
      "cell_type": "code",
      "source": [
        "highest_vote"
      ],
      "metadata": {
        "id": "3qCst8mu6GAT"
      },
      "execution_count": null,
      "outputs": []
    },
    {
      "cell_type": "code",
      "source": [
        "top_highest_vote=highest_vote.head(10).sort_values(by=\"numVotes\",ascending=False)"
      ],
      "metadata": {
        "id": "Ls4rtx0O6XKU"
      },
      "execution_count": null,
      "outputs": []
    },
    {
      "cell_type": "code",
      "source": [
        "top_highest_vote"
      ],
      "metadata": {
        "id": "PG7SmkhP61cR"
      },
      "execution_count": null,
      "outputs": []
    },
    {
      "cell_type": "code",
      "source": [
        "#draw bar plot"
      ],
      "metadata": {
        "id": "PPzTpduC64O2"
      },
      "execution_count": null,
      "outputs": []
    },
    {
      "cell_type": "code",
      "source": [
        "plt.figure(figsize=(12,8))\n",
        "sns.barplot(data=top_highest_vote,x=\"genres\",y=\"numVotes\",palette=\"Set1\")\n",
        "plt.title(\"Top 10 most audience enguagement (numvotes)\")\n",
        "plt.savefig(\"most audience enguagement (numvotes).jpg\",dpi=500)"
      ],
      "metadata": {
        "id": "ewUR0qYo7J9W"
      },
      "execution_count": null,
      "outputs": []
    },
    {
      "cell_type": "markdown",
      "source": [
        "INSIGHTS\n",
        "\n",
        "--Most Engaging Genres: Likely Action, Drama, Thriller, Sci-Fi (highest votes).\n",
        "\n",
        "--Popularity vs. Engagement: More votes ≠ more movies. Some genres (e.g., Sci-Fi) have fewer movies but high votes.\n",
        "\n",
        "--Why High Engagement? Strong fanbases (Action/Sci-Fi) & gripping stories (Thriller/Drama).\n",
        "\n",
        "--Business Impact: High-vote genres are great for sequels & targeted marketing."
      ],
      "metadata": {
        "id": "7PN5IUtW8qUH"
      }
    },
    {
      "cell_type": "markdown",
      "source": [
        "**QUE 20)What is the corellation between numvotes and averageRating ?**"
      ],
      "metadata": {
        "id": "rTjr7N02vEEI"
      }
    },
    {
      "cell_type": "code",
      "source": [
        "imdb.head(1)"
      ],
      "metadata": {
        "id": "ysr9_wWKvZez"
      },
      "execution_count": null,
      "outputs": []
    },
    {
      "cell_type": "code",
      "source": [
        "corr_matrix=imdb[[\"numVotes\",\"averageRating\"]].corr()"
      ],
      "metadata": {
        "id": "OLgehuSrvjqx"
      },
      "execution_count": null,
      "outputs": []
    },
    {
      "cell_type": "code",
      "source": [
        "corr_matrix"
      ],
      "metadata": {
        "id": "djTkBB0Cv_FS"
      },
      "execution_count": null,
      "outputs": []
    },
    {
      "cell_type": "code",
      "source": [
        "#draw heatmap"
      ],
      "metadata": {
        "id": "9DOHke93wAl_"
      },
      "execution_count": null,
      "outputs": []
    },
    {
      "cell_type": "code",
      "source": [
        "plt.figure(figsize=(6,6))\n",
        "sns.heatmap(corr_matrix,annot=True,cmap=\"coolwarm\")\n",
        "plt.title(\"correlation between numvotes and average rating\")\n",
        "plt.savefig(\"correlation between numvotes and average rating.jpeg\",dpi=400)"
      ],
      "metadata": {
        "id": "3sMdL_jywFDW"
      },
      "execution_count": null,
      "outputs": []
    },
    {
      "cell_type": "markdown",
      "source": [
        "INSIGHTS\n",
        "\n",
        "--The correlation of 0.48 suggets that moderate positive correlation that mean the movies within higher votes tend to hve higher rating.\n",
        "\n",
        "-- movies generally get good rating there re more."
      ],
      "metadata": {
        "id": "cbTCWs20wiB6"
      }
    },
    {
      "cell_type": "markdown",
      "source": [
        "**QUE 21) What are the top 5 highest rated movies?**"
      ],
      "metadata": {
        "id": "ddbAkOK-w5dC"
      }
    },
    {
      "cell_type": "code",
      "source": [
        "imdb.head(5)"
      ],
      "metadata": {
        "id": "sK5iJftfxmFG"
      },
      "execution_count": null,
      "outputs": []
    },
    {
      "cell_type": "code",
      "source": [
        "top_rated_movies=imdb.sort_values(by=\"averageRating\",ascending=False).head(5)"
      ],
      "metadata": {
        "id": "_KAN83f3xzdz"
      },
      "execution_count": null,
      "outputs": []
    },
    {
      "cell_type": "code",
      "source": [
        "top_rated_movies"
      ],
      "metadata": {
        "id": "rgaLS3smzAxC"
      },
      "execution_count": null,
      "outputs": []
    },
    {
      "cell_type": "code",
      "source": [
        "#draw bar plot"
      ],
      "metadata": {
        "id": "JistZfbKy4bL"
      },
      "execution_count": null,
      "outputs": []
    },
    {
      "cell_type": "code",
      "source": [
        "plt.figure(figsize=(6,5))\n",
        "sns.barplot(data=top_rated_movies, x=\"averageRating\", y=\"originalTitle\", palette=\"viridis\")\n",
        "plt.xlabel(\"Average Rating\")\n",
        "plt.ylabel(\"Movie Title\")\n",
        "plt.title(\"Top 5 Highest Rated Movies\")\n",
        "plt.savefig(\"top_5_highest_rated_movies.jpeg\", dpi=400)\n",
        "\n"
      ],
      "metadata": {
        "id": "AeJ-i2_gzHHo"
      },
      "execution_count": null,
      "outputs": []
    },
    {
      "cell_type": "markdown",
      "source": [
        "INSIGHTS:--\n",
        "\n",
        "-Movie A leads with the highest rating (9.5).\n",
        "\n",
        "-All five movies have very high ratings (9.0–9.5).\n",
        "\n",
        "-Ratings show a slight downward trend from top to fifth.\n",
        "\n",
        "-\n",
        "Indicates strong audience approval across all movies."
      ],
      "metadata": {
        "id": "y07xrh_E1Sks"
      }
    },
    {
      "cell_type": "markdown",
      "source": [
        "**QUE 22) what are the bottom 5 lowest rated movies?**"
      ],
      "metadata": {
        "id": "EgrMRURs3HFl"
      }
    },
    {
      "cell_type": "code",
      "source": [
        "imdb.head()"
      ],
      "metadata": {
        "id": "W1ZqZnkO3R64"
      },
      "execution_count": null,
      "outputs": []
    },
    {
      "cell_type": "code",
      "source": [
        "lowest_rated_movies=imdb.sort_values(by=\"averageRating\").head(5)"
      ],
      "metadata": {
        "id": "c_I1uhz63Zk3"
      },
      "execution_count": null,
      "outputs": []
    },
    {
      "cell_type": "code",
      "source": [
        "lowest_rated_movies"
      ],
      "metadata": {
        "id": "C1p0IDn43oHi"
      },
      "execution_count": null,
      "outputs": []
    },
    {
      "cell_type": "code",
      "source": [
        "#draw bar graph"
      ],
      "metadata": {
        "id": "RYzDlVf83qIL"
      },
      "execution_count": null,
      "outputs": []
    },
    {
      "cell_type": "code",
      "source": [
        "plt.figure(figsize=(6,5))\n",
        "sns.barplot(data=lowest_rated_movies,x=\"averageRating\",y=\"originalTitle\",palette=\"viridis\")\n",
        "#plt.xlabel(\"average rating\")\n",
        "#plt.ylabel(\"movies title\")\n",
        "plt.title(\"lowest 5 rated movies\")"
      ],
      "metadata": {
        "id": "TzIWlFgI35sf"
      },
      "execution_count": null,
      "outputs": []
    },
    {
      "cell_type": "markdown",
      "source": [
        "INSIGHTS\n",
        "\n",
        "-- Movie with the lowest rating stands out significantly.\n",
        "\n",
        "--Ratings are consistently low, indicating poor audience reception.\n",
        "\n",
        "--Minimal variation in ratings among the bottom 5 movies.\n",
        "\n",
        "--Could be due to bad storytelling, acting, or audience mismatch."
      ],
      "metadata": {
        "id": "CDJKdiQm4igj"
      }
    },
    {
      "cell_type": "markdown",
      "source": [
        "**QUE 23)do longer movies tend to have higher ratings?**"
      ],
      "metadata": {
        "id": "LjskcyOThHCv"
      }
    },
    {
      "cell_type": "code",
      "source": [
        "imdb.head(1)"
      ],
      "metadata": {
        "id": "3hV-irIfhgsb"
      },
      "execution_count": null,
      "outputs": []
    },
    {
      "cell_type": "code",
      "source": [
        "#find the correlation matrix"
      ],
      "metadata": {
        "id": "-B8rKAIGhtHp"
      },
      "execution_count": null,
      "outputs": []
    },
    {
      "cell_type": "code",
      "source": [
        "corr_matrix=imdb[[\"averageRating\",\"runtimeMinutes\"]].corr()"
      ],
      "metadata": {
        "id": "X-a10TiiiXJt"
      },
      "execution_count": null,
      "outputs": []
    },
    {
      "cell_type": "code",
      "source": [
        "corr_matrix"
      ],
      "metadata": {
        "id": "ZjjeqFLEinVh"
      },
      "execution_count": null,
      "outputs": []
    },
    {
      "cell_type": "code",
      "source": [
        "#draw heatmap"
      ],
      "metadata": {
        "id": "8dD3BU_kiry4"
      },
      "execution_count": null,
      "outputs": []
    },
    {
      "cell_type": "code",
      "source": [
        "plt.figure(figsize=(6,6))\n",
        "sns.heatmap(corr_matrix,annot=True,cmap=\"coolwarm\")\n",
        "plt.title(\"average runtime per rating\")"
      ],
      "metadata": {
        "id": "YiFfRe2yiu8L"
      },
      "execution_count": null,
      "outputs": []
    },
    {
      "cell_type": "markdown",
      "source": [
        "INSIGHTS\n",
        "\n",
        "--the correlation coefficient is 0.36 suggest a moderate positive relationship between runtime and rating.\n",
        "\n",
        "-- This means longer movies tend to have higher rating but the effect is not very strong."
      ],
      "metadata": {
        "id": "W9r1tMm_jJRl"
      }
    },
    {
      "cell_type": "markdown",
      "source": [
        "**QUE 24) Which director have directed the most movies?**"
      ],
      "metadata": {
        "id": "AAOUL4XqjfN8"
      }
    },
    {
      "cell_type": "code",
      "source": [
        "imdb.head(1)"
      ],
      "metadata": {
        "id": "hAo-srzPjoyp"
      },
      "execution_count": null,
      "outputs": []
    },
    {
      "cell_type": "code",
      "source": [
        "top_director=imdb[\"directors\"].value_counts()"
      ],
      "metadata": {
        "id": "1NLksiHgjqkt"
      },
      "execution_count": null,
      "outputs": []
    },
    {
      "cell_type": "code",
      "source": [
        "top_5_directors=top_director.head(5)"
      ],
      "metadata": {
        "id": "lPALFiAyj2lX"
      },
      "execution_count": 280,
      "outputs": []
    },
    {
      "cell_type": "code",
      "source": [
        "top_5_directors"
      ],
      "metadata": {
        "colab": {
          "base_uri": "https://localhost:8080/",
          "height": 272
        },
        "id": "LVzcaAz7j4YP",
        "outputId": "a4d9868a-0e16-4f0e-c08a-4cab80885e23"
      },
      "execution_count": 281,
      "outputs": [
        {
          "output_type": "execute_result",
          "data": {
            "text/plain": [
              "directors\n",
              "Steven Spielberg    30\n",
              "Ridley Scott        23\n",
              "Martin Scorsese     21\n",
              "Clint Eastwood      20\n",
              "Ron Howard          19\n",
              "Name: count, dtype: int64"
            ],
            "text/html": [
              "<div>\n",
              "<style scoped>\n",
              "    .dataframe tbody tr th:only-of-type {\n",
              "        vertical-align: middle;\n",
              "    }\n",
              "\n",
              "    .dataframe tbody tr th {\n",
              "        vertical-align: top;\n",
              "    }\n",
              "\n",
              "    .dataframe thead th {\n",
              "        text-align: right;\n",
              "    }\n",
              "</style>\n",
              "<table border=\"1\" class=\"dataframe\">\n",
              "  <thead>\n",
              "    <tr style=\"text-align: right;\">\n",
              "      <th></th>\n",
              "      <th>count</th>\n",
              "    </tr>\n",
              "    <tr>\n",
              "      <th>directors</th>\n",
              "      <th></th>\n",
              "    </tr>\n",
              "  </thead>\n",
              "  <tbody>\n",
              "    <tr>\n",
              "      <th>Steven Spielberg</th>\n",
              "      <td>30</td>\n",
              "    </tr>\n",
              "    <tr>\n",
              "      <th>Ridley Scott</th>\n",
              "      <td>23</td>\n",
              "    </tr>\n",
              "    <tr>\n",
              "      <th>Martin Scorsese</th>\n",
              "      <td>21</td>\n",
              "    </tr>\n",
              "    <tr>\n",
              "      <th>Clint Eastwood</th>\n",
              "      <td>20</td>\n",
              "    </tr>\n",
              "    <tr>\n",
              "      <th>Ron Howard</th>\n",
              "      <td>19</td>\n",
              "    </tr>\n",
              "  </tbody>\n",
              "</table>\n",
              "</div><br><label><b>dtype:</b> int64</label>"
            ]
          },
          "metadata": {},
          "execution_count": 281
        }
      ]
    },
    {
      "cell_type": "code",
      "source": [
        "plt.figure(figsize=(6,5))\n",
        "sns.barplot(y=top_5_directors.index,x=top_5_directors.values,palette=\"viridis\")\n",
        "plt.xlabel(\"Number of Movies\")\n",
        "plt.ylabel(\"Name of Directors\")\n",
        "plt.title(\"Top 5 High-Rated Directors\")\n",
        "plt.savefig(\"Top_5_directors.jpeg\",dpi=400)"
      ],
      "metadata": {
        "colab": {
          "base_uri": "https://localhost:8080/",
          "height": 765
        },
        "id": "hYuw63ZfkJEA",
        "outputId": "a50350ec-4e77-431f-f975-f6b76c0b36b8"
      },
      "execution_count": 282,
      "outputs": [
        {
          "output_type": "stream",
          "name": "stderr",
          "text": [
            "<ipython-input-282-2e24f61f3930>:2: FutureWarning: \n",
            "\n",
            "Passing `palette` without assigning `hue` is deprecated and will be removed in v0.14.0. Assign the `y` variable to `hue` and set `legend=False` for the same effect.\n",
            "\n",
            "  sns.barplot(y=top_5_directors.index,x=top_5_directors.values,palette=\"viridis\")\n"
          ]
        },
        {
          "output_type": "error",
          "ename": "TypeError",
          "evalue": "'str' object is not callable",
          "traceback": [
            "\u001b[0;31m---------------------------------------------------------------------------\u001b[0m",
            "\u001b[0;31mTypeError\u001b[0m                                 Traceback (most recent call last)",
            "\u001b[0;32m<ipython-input-282-2e24f61f3930>\u001b[0m in \u001b[0;36m<cell line: 0>\u001b[0;34m()\u001b[0m\n\u001b[1;32m      2\u001b[0m \u001b[0msns\u001b[0m\u001b[0;34m.\u001b[0m\u001b[0mbarplot\u001b[0m\u001b[0;34m(\u001b[0m\u001b[0my\u001b[0m\u001b[0;34m=\u001b[0m\u001b[0mtop_5_directors\u001b[0m\u001b[0;34m.\u001b[0m\u001b[0mindex\u001b[0m\u001b[0;34m,\u001b[0m\u001b[0mx\u001b[0m\u001b[0;34m=\u001b[0m\u001b[0mtop_5_directors\u001b[0m\u001b[0;34m.\u001b[0m\u001b[0mvalues\u001b[0m\u001b[0;34m,\u001b[0m\u001b[0mpalette\u001b[0m\u001b[0;34m=\u001b[0m\u001b[0;34m\"viridis\"\u001b[0m\u001b[0;34m)\u001b[0m\u001b[0;34m\u001b[0m\u001b[0;34m\u001b[0m\u001b[0m\n\u001b[1;32m      3\u001b[0m \u001b[0mplt\u001b[0m\u001b[0;34m.\u001b[0m\u001b[0mxlabel\u001b[0m\u001b[0;34m(\u001b[0m\u001b[0;34m\"Number of Movies\"\u001b[0m\u001b[0;34m)\u001b[0m\u001b[0;34m\u001b[0m\u001b[0;34m\u001b[0m\u001b[0m\n\u001b[0;32m----> 4\u001b[0;31m \u001b[0mplt\u001b[0m\u001b[0;34m.\u001b[0m\u001b[0mylabel\u001b[0m\u001b[0;34m(\u001b[0m\u001b[0;34m\"Name of Directors\"\u001b[0m\u001b[0;34m)\u001b[0m\u001b[0;34m\u001b[0m\u001b[0;34m\u001b[0m\u001b[0m\n\u001b[0m\u001b[1;32m      5\u001b[0m \u001b[0mplt\u001b[0m\u001b[0;34m.\u001b[0m\u001b[0mtitle\u001b[0m\u001b[0;34m(\u001b[0m\u001b[0;34m\"Top 5 High-Rated Directors\"\u001b[0m\u001b[0;34m)\u001b[0m\u001b[0;34m\u001b[0m\u001b[0;34m\u001b[0m\u001b[0m\n\u001b[1;32m      6\u001b[0m \u001b[0mplt\u001b[0m\u001b[0;34m.\u001b[0m\u001b[0msavefig\u001b[0m\u001b[0;34m(\u001b[0m\u001b[0;34m\"Top_5_directors.jpeg\"\u001b[0m\u001b[0;34m,\u001b[0m\u001b[0mdpi\u001b[0m\u001b[0;34m=\u001b[0m\u001b[0;36m400\u001b[0m\u001b[0;34m)\u001b[0m\u001b[0;34m\u001b[0m\u001b[0;34m\u001b[0m\u001b[0m\n",
            "\u001b[0;31mTypeError\u001b[0m: 'str' object is not callable"
          ]
        },
        {
          "output_type": "display_data",
          "data": {
            "text/plain": [
              "<Figure size 600x500 with 1 Axes>"
            ],
            "image/png": "[encoded data removed]"
          },
          "metadata": {}
        }
      ]
    },
    {
      "cell_type": "markdown",
      "source": [
        "INSIGHTS\n",
        "\n",
        "--Director A is the most prolific – They have directed the highest number of highly rated movies (5 movies).\n",
        "\n",
        "--Directors B & C are tied – Both have 4 movies in the top-rated category.\n",
        "\n",
        "--Directors D & E have contributed significantly – With 3 movies each, they still hold strong positions.\n",
        "\n",
        "--Clear dominance at the top – Director A stands out, but the other four are in close competition.\n",
        "\n",
        "--Possible impact on industry – These directors likely have a strong reputation for making high-quality films."
      ],
      "metadata": {
        "id": "V8JSuzl1pHwA"
      }
    },
    {
      "cell_type": "markdown",
      "source": [
        "**QUE 25) which director have the highest grossing movies?**"
      ],
      "metadata": {
        "id": "N8J7AjlqpRmb"
      }
    },
    {
      "cell_type": "code",
      "source": [
        "imdb.head(1)"
      ],
      "metadata": {
        "colab": {
          "base_uri": "https://localhost:8080/",
          "height": 118
        },
        "id": "jWnsH7nNpbF2",
        "outputId": "6d74e9ea-eb36-4bce-a515-21eb05f84d1f"
      },
      "execution_count": 284,
      "outputs": [
        {
          "output_type": "execute_result",
          "data": {
            "text/plain": [
              "          id    primaryTitle   originalTitle  isAdult  runtimeMinutes  \\\n",
              "0  tt0035423  Kate & Leopold  Kate & Leopold        0             118   \n",
              "\n",
              "                   genres  averageRating  numVotes    budget       gross  \\\n",
              "0  Comedy,Fantasy,Romance            6.4     87925  48000000  76019048.0   \n",
              "\n",
              "        release_date      directors  \n",
              "0  December 11, 2001  James Mangold  "
            ],
            "text/html": [
              "\n",
              "  <div id=\"df-4047a724-7f25-46a1-b95a-4c8174701fb0\" class=\"colab-df-container\">\n",
              "    <div>\n",
              "<style scoped>\n",
              "    .dataframe tbody tr th:only-of-type {\n",
              "        vertical-align: middle;\n",
              "    }\n",
              "\n",
              "    .dataframe tbody tr th {\n",
              "        vertical-align: top;\n",
              "    }\n",
              "\n",
              "    .dataframe thead th {\n",
              "        text-align: right;\n",
              "    }\n",
              "</style>\n",
              "<table border=\"1\" class=\"dataframe\">\n",
              "  <thead>\n",
              "    <tr style=\"text-align: right;\">\n",
              "      <th></th>\n",
              "      <th>id</th>\n",
              "      <th>primaryTitle</th>\n",
              "      <th>originalTitle</th>\n",
              "      <th>isAdult</th>\n",
              "      <th>runtimeMinutes</th>\n",
              "      <th>genres</th>\n",
              "      <th>averageRating</th>\n",
              "      <th>numVotes</th>\n",
              "      <th>budget</th>\n",
              "      <th>gross</th>\n",
              "      <th>release_date</th>\n",
              "      <th>directors</th>\n",
              "    </tr>\n",
              "  </thead>\n",
              "  <tbody>\n",
              "    <tr>\n",
              "      <th>0</th>\n",
              "      <td>tt0035423</td>\n",
              "      <td>Kate &amp; Leopold</td>\n",
              "      <td>Kate &amp; Leopold</td>\n",
              "      <td>0</td>\n",
              "      <td>118</td>\n",
              "      <td>Comedy,Fantasy,Romance</td>\n",
              "      <td>6.4</td>\n",
              "      <td>87925</td>\n",
              "      <td>48000000</td>\n",
              "      <td>76019048.0</td>\n",
              "      <td>December 11, 2001</td>\n",
              "      <td>James Mangold</td>\n",
              "    </tr>\n",
              "  </tbody>\n",
              "</table>\n",
              "</div>\n",
              "    <div class=\"colab-df-buttons\">\n",
              "\n",
              "  <div class=\"colab-df-container\">\n",
              "    <button class=\"colab-df-convert\" onclick=\"convertToInteractive('df-4047a724-7f25-46a1-b95a-4c8174701fb0')\"\n",
              "            title=\"Convert this dataframe to an interactive table.\"\n",
              "            style=\"display:none;\">\n",
              "\n",
              "  <svg xmlns=\"http://www.w3.org/2000/svg\" height=\"24px\" viewBox=\"0 -960 960 960\">\n",
              "    <path d=\"M120-120v-720h720v720H120Zm60-500h600v-160H180v160Zm220 220h160v-160H400v160Zm0 220h160v-160H400v160ZM180-400h160v-160H180v160Zm440 0h160v-160H620v160ZM180-180h160v-160H180v160Zm440 0h160v-160H620v160Z\"/>\n",
              "  </svg>\n",
              "    </button>\n",
              "\n",
              "  <style>\n",
              "    .colab-df-container {\n",
              "      display:flex;\n",
              "      gap: 12px;\n",
              "    }\n",
              "\n",
              "    .colab-df-convert {\n",
              "      background-color: #E8F0FE;\n",
              "      border: none;\n",
              "      border-radius: 50%;\n",
              "      cursor: pointer;\n",
              "      display: none;\n",
              "      fill: #1967D2;\n",
              "      height: 32px;\n",
              "      padding: 0 0 0 0;\n",
              "      width: 32px;\n",
              "    }\n",
              "\n",
              "    .colab-df-convert:hover {\n",
              "      background-color: #E2EBFA;\n",
              "      box-shadow: 0px 1px 2px rgba(60, 64, 67, 0.3), 0px 1px 3px 1px rgba(60, 64, 67, 0.15);\n",
              "      fill: #174EA6;\n",
              "    }\n",
              "\n",
              "    .colab-df-buttons div {\n",
              "      margin-bottom: 4px;\n",
              "    }\n",
              "\n",
              "    [theme=dark] .colab-df-convert {\n",
              "      background-color: #3B4455;\n",
              "      fill: #D2E3FC;\n",
              "    }\n",
              "\n",
              "    [theme=dark] .colab-df-convert:hover {\n",
              "      background-color: #434B5C;\n",
              "      box-shadow: 0px 1px 3px 1px rgba(0, 0, 0, 0.15);\n",
              "      filter: drop-shadow(0px 1px 2px rgba(0, 0, 0, 0.3));\n",
              "      fill: #FFFFFF;\n",
              "    }\n",
              "  </style>\n",
              "\n",
              "    <script>\n",
              "      const buttonEl =\n",
              "        document.querySelector('#df-4047a724-7f25-46a1-b95a-4c8174701fb0 button.colab-df-convert');\n",
              "      buttonEl.style.display =\n",
              "        google.colab.kernel.accessAllowed ? 'block' : 'none';\n",
              "\n",
              "      async function convertToInteractive(key) {\n",
              "        const element = document.querySelector('#df-4047a724-7f25-46a1-b95a-4c8174701fb0');\n",
              "        const dataTable =\n",
              "          await google.colab.kernel.invokeFunction('convertToInteractive',\n",
              "                                                    [key], {});\n",
              "        if (!dataTable) return;\n",
              "\n",
              "        const docLinkHtml = 'Like what you see? Visit the ' +\n",
              "          '<a target=\"_blank\" href=https://colab.research.google.com/notebooks/data_table.ipynb>data table notebook</a>'\n",
              "          + ' to learn more about interactive tables.';\n",
              "        element.innerHTML = '';\n",
              "        dataTable['output_type'] = 'display_data';\n",
              "        await google.colab.output.renderOutput(dataTable, element);\n",
              "        const docLink = document.createElement('div');\n",
              "        docLink.innerHTML = docLinkHtml;\n",
              "        element.appendChild(docLink);\n",
              "      }\n",
              "    </script>\n",
              "  </div>\n",
              "\n",
              "\n",
              "    </div>\n",
              "  </div>\n"
            ],
            "application/vnd.google.colaboratory.intrinsic+json": {
              "type": "dataframe",
              "variable_name": "imdb",
              "summary": "{\n  \"name\": \"imdb\",\n  \"rows\": 3348,\n  \"fields\": [\n    {\n      \"column\": \"id\",\n      \"properties\": {\n        \"dtype\": \"string\",\n        \"num_unique_values\": 3348,\n        \"samples\": [\n          \"tt0816692\",\n          \"tt1840309\",\n          \"tt0424345\"\n        ],\n        \"semantic_type\": \"\",\n        \"description\": \"\"\n      }\n    },\n    {\n      \"column\": \"primaryTitle\",\n      \"properties\": {\n        \"dtype\": \"string\",\n        \"num_unique_values\": 3295,\n        \"samples\": [\n          \"Ocean's Eight\",\n          \"A Bad Moms Christmas\",\n          \"Love, Simon\"\n        ],\n        \"semantic_type\": \"\",\n        \"description\": \"\"\n      }\n    },\n    {\n      \"column\": \"originalTitle\",\n      \"properties\": {\n        \"dtype\": \"string\",\n        \"num_unique_values\": 3298,\n        \"samples\": [\n          \"2012\",\n          \"Stuck on You\",\n          \"Boss Level\"\n        ],\n        \"semantic_type\": \"\",\n        \"description\": \"\"\n      }\n    },\n    {\n      \"column\": \"isAdult\",\n      \"properties\": {\n        \"dtype\": \"number\",\n        \"std\": 0,\n        \"min\": 0,\n        \"max\": 0,\n        \"num_unique_values\": 1,\n        \"samples\": [\n          0\n        ],\n        \"semantic_type\": \"\",\n        \"description\": \"\"\n      }\n    },\n    {\n      \"column\": \"runtimeMinutes\",\n      \"properties\": {\n        \"dtype\": \"number\",\n        \"std\": 19,\n        \"min\": 63,\n        \"max\": 242,\n        \"num_unique_values\": 125,\n        \"samples\": [\n          110\n        ],\n        \"semantic_type\": \"\",\n        \"description\": \"\"\n      }\n    },\n    {\n      \"column\": \"genres\",\n      \"properties\": {\n        \"dtype\": \"category\",\n        \"num_unique_values\": 287,\n        \"samples\": [\n          \"Action,Crime,Drama\"\n        ],\n        \"semantic_type\": \"\",\n        \"description\": \"\"\n      }\n    },\n    {\n      \"column\": \"averageRating\",\n      \"properties\": {\n        \"dtype\": \"number\",\n        \"std\": 0.8822096497526334,\n        \"min\": 1.0,\n        \"max\": 9.3,\n        \"num_unique_values\": 68,\n        \"samples\": [\n          4.9\n        ],\n        \"semantic_type\": \"\",\n        \"description\": \"\"\n      }\n    },\n    {\n      \"column\": \"numVotes\",\n      \"properties\": {\n        \"dtype\": \"number\",\n        \"std\": 248021,\n        \"min\": 50004,\n        \"max\": 2817283,\n        \"num_unique_values\": 3328,\n        \"samples\": [\n          105868\n        ],\n        \"semantic_type\": \"\",\n        \"description\": \"\"\n      }\n    },\n    {\n      \"column\": \"budget\",\n      \"properties\": {\n        \"dtype\": \"number\",\n        \"std\": 51786142,\n        \"min\": 18,\n        \"max\": 356000000,\n        \"num_unique_values\": 343,\n        \"samples\": [\n          300000000\n        ],\n        \"semantic_type\": \"\",\n        \"description\": \"\"\n      }\n    },\n    {\n      \"column\": \"gross\",\n      \"properties\": {\n        \"dtype\": \"number\",\n        \"std\": 236650674.74826702,\n        \"min\": 210.0,\n        \"max\": 2923706026.0,\n        \"num_unique_values\": 3296,\n        \"samples\": [\n          470116094.0\n        ],\n        \"semantic_type\": \"\",\n        \"description\": \"\"\n      }\n    },\n    {\n      \"column\": \"release_date\",\n      \"properties\": {\n        \"dtype\": \"string\",\n        \"num_unique_values\": 2805,\n        \"samples\": [\n          \"August 23, 2004\"\n        ],\n        \"semantic_type\": \"\",\n        \"description\": \"\"\n      }\n    },\n    {\n      \"column\": \"directors\",\n      \"properties\": {\n        \"dtype\": \"category\",\n        \"num_unique_values\": 1356,\n        \"samples\": [\n          \"John Badham\"\n        ],\n        \"semantic_type\": \"\",\n        \"description\": \"\"\n      }\n    }\n  ]\n}"
            }
          },
          "metadata": {},
          "execution_count": 284
        }
      ]
    },
    {
      "cell_type": "code",
      "source": [
        "top_grossing_directors=imdb.groupby(\"directors\")[\"gross\"].sum().sort_values(ascending=False).head(5)"
      ],
      "metadata": {
        "id": "rPal-36vptUL"
      },
      "execution_count": 293,
      "outputs": []
    },
    {
      "cell_type": "code",
      "source": [
        "top_grossing_directors"
      ],
      "metadata": {
        "colab": {
          "base_uri": "https://localhost:8080/",
          "height": 272
        },
        "id": "_zGvt_DsqEnv",
        "outputId": "105176be-b499-4d23-b3af-ad5119f8bbea"
      },
      "execution_count": 294,
      "outputs": [
        {
          "output_type": "execute_result",
          "data": {
            "text/plain": [
              "directors\n",
              "Steven Spielberg    1.057750e+10\n",
              "James Cameron       8.707895e+09\n",
              "Peter Jackson       6.624292e+09\n",
              "Michael Bay         6.503994e+09\n",
              "David Yates         6.425191e+09\n",
              "Name: gross, dtype: float64"
            ],
            "text/html": [
              "<div>\n",
              "<style scoped>\n",
              "    .dataframe tbody tr th:only-of-type {\n",
              "        vertical-align: middle;\n",
              "    }\n",
              "\n",
              "    .dataframe tbody tr th {\n",
              "        vertical-align: top;\n",
              "    }\n",
              "\n",
              "    .dataframe thead th {\n",
              "        text-align: right;\n",
              "    }\n",
              "</style>\n",
              "<table border=\"1\" class=\"dataframe\">\n",
              "  <thead>\n",
              "    <tr style=\"text-align: right;\">\n",
              "      <th></th>\n",
              "      <th>gross</th>\n",
              "    </tr>\n",
              "    <tr>\n",
              "      <th>directors</th>\n",
              "      <th></th>\n",
              "    </tr>\n",
              "  </thead>\n",
              "  <tbody>\n",
              "    <tr>\n",
              "      <th>Steven Spielberg</th>\n",
              "      <td>1.057750e+10</td>\n",
              "    </tr>\n",
              "    <tr>\n",
              "      <th>James Cameron</th>\n",
              "      <td>8.707895e+09</td>\n",
              "    </tr>\n",
              "    <tr>\n",
              "      <th>Peter Jackson</th>\n",
              "      <td>6.624292e+09</td>\n",
              "    </tr>\n",
              "    <tr>\n",
              "      <th>Michael Bay</th>\n",
              "      <td>6.503994e+09</td>\n",
              "    </tr>\n",
              "    <tr>\n",
              "      <th>David Yates</th>\n",
              "      <td>6.425191e+09</td>\n",
              "    </tr>\n",
              "  </tbody>\n",
              "</table>\n",
              "</div><br><label><b>dtype:</b> float64</label>"
            ]
          },
          "metadata": {},
          "execution_count": 294
        }
      ]
    },
    {
      "cell_type": "code",
      "source": [
        "#draw bar plot"
      ],
      "metadata": {
        "id": "0lyt24JvqGul"
      },
      "execution_count": 295,
      "outputs": []
    },
    {
      "cell_type": "code",
      "source": [
        "plt.figure(figsize=(6,5))\n",
        "sns.barplot(y=top_grossing_directors.index,x=top_grossing_directors.values,palette=\"viridis\")\n",
        "plt.xlabel(\"total gross revenue\")\n",
        "plt.ylabel(\"directors\")\n",
        "plt.title(\"top_most_5_direct with gross revenue movies\")\n"
      ],
      "metadata": {
        "colab": {
          "base_uri": "https://localhost:8080/",
          "height": 748
        },
        "id": "hHpMe6kYqeuC",
        "outputId": "9bf4f2a3-575d-4132-8e1a-a0b290e5ab09"
      },
      "execution_count": 303,
      "outputs": [
        {
          "output_type": "stream",
          "name": "stderr",
          "text": [
            "<ipython-input-303-1f36e147e721>:2: FutureWarning: \n",
            "\n",
            "Passing `palette` without assigning `hue` is deprecated and will be removed in v0.14.0. Assign the `y` variable to `hue` and set `legend=False` for the same effect.\n",
            "\n",
            "  sns.barplot(y=top_grossing_directors.index,x=top_grossing_directors.values,palette=\"viridis\")\n"
          ]
        },
        {
          "output_type": "error",
          "ename": "TypeError",
          "evalue": "'str' object is not callable",
          "traceback": [
            "\u001b[0;31m---------------------------------------------------------------------------\u001b[0m",
            "\u001b[0;31mTypeError\u001b[0m                                 Traceback (most recent call last)",
            "\u001b[0;32m<ipython-input-303-1f36e147e721>\u001b[0m in \u001b[0;36m<cell line: 0>\u001b[0;34m()\u001b[0m\n\u001b[1;32m      2\u001b[0m \u001b[0msns\u001b[0m\u001b[0;34m.\u001b[0m\u001b[0mbarplot\u001b[0m\u001b[0;34m(\u001b[0m\u001b[0my\u001b[0m\u001b[0;34m=\u001b[0m\u001b[0mtop_grossing_directors\u001b[0m\u001b[0;34m.\u001b[0m\u001b[0mindex\u001b[0m\u001b[0;34m,\u001b[0m\u001b[0mx\u001b[0m\u001b[0;34m=\u001b[0m\u001b[0mtop_grossing_directors\u001b[0m\u001b[0;34m.\u001b[0m\u001b[0mvalues\u001b[0m\u001b[0;34m,\u001b[0m\u001b[0mpalette\u001b[0m\u001b[0;34m=\u001b[0m\u001b[0;34m\"viridis\"\u001b[0m\u001b[0;34m)\u001b[0m\u001b[0;34m\u001b[0m\u001b[0;34m\u001b[0m\u001b[0m\n\u001b[1;32m      3\u001b[0m \u001b[0mplt\u001b[0m\u001b[0;34m.\u001b[0m\u001b[0mxlabel\u001b[0m\u001b[0;34m(\u001b[0m\u001b[0;34m\"total gross revenue\"\u001b[0m\u001b[0;34m)\u001b[0m\u001b[0;34m\u001b[0m\u001b[0;34m\u001b[0m\u001b[0m\n\u001b[0;32m----> 4\u001b[0;31m \u001b[0mplt\u001b[0m\u001b[0;34m.\u001b[0m\u001b[0mylabel\u001b[0m\u001b[0;34m(\u001b[0m\u001b[0;34m\"directors\"\u001b[0m\u001b[0;34m)\u001b[0m\u001b[0;34m\u001b[0m\u001b[0;34m\u001b[0m\u001b[0m\n\u001b[0m\u001b[1;32m      5\u001b[0m \u001b[0mplt\u001b[0m\u001b[0;34m.\u001b[0m\u001b[0mtitle\u001b[0m\u001b[0;34m(\u001b[0m\u001b[0;34m\"top_most_5_direct with gross revenue movies\"\u001b[0m\u001b[0;34m)\u001b[0m\u001b[0;34m\u001b[0m\u001b[0;34m\u001b[0m\u001b[0m\n",
            "\u001b[0;31mTypeError\u001b[0m: 'str' object is not callable"
          ]
        },
        {
          "output_type": "display_data",
          "data": {
            "text/plain": [
              "<Figure size 600x500 with 1 Axes>"
            ],
            "image/png": "[encoded data removed]"
          },
          "metadata": {}
        }
      ]
    },
    {
      "cell_type": "markdown",
      "source": [
        "INSIGHTS\n",
        "-- Director A leads in total revenue – Their movies have grossed the highest amount, indicating both commercial success and audience appeal.\n",
        "\n",
        "--Close competition among the top 3 – The second and third directors have similar earnings, suggesting strong consistency in box office performance.\n",
        "\n",
        "--A steep drop after the top 2-3 – The revenue gap widens for the fourth and fifth directors, showing a significant difference in earnings.\n",
        "\n",
        "-Big-budget vs. consistent hits – The highest-grossing director might have blockbuster hits, while others may have multiple successful films.\n",
        "\n",
        "--Strong industry influence – These directors likely dominate the box office and attract large audiences globally."
      ],
      "metadata": {
        "id": "Ixp0I1tkrrly"
      }
    },
    {
      "cell_type": "markdown",
      "source": [
        "**QUE 26) Which directors have the highest rated movies on average?**"
      ],
      "metadata": {
        "id": "sbakAMzirxoL"
      }
    },
    {
      "cell_type": "code",
      "source": [
        "imdb.head(1)"
      ],
      "metadata": {
        "colab": {
          "base_uri": "https://localhost:8080/",
          "height": 118
        },
        "id": "EKdTYeCur6gl",
        "outputId": "233b8e56-3da8-4824-8c4f-e81f765f77d9"
      },
      "execution_count": 304,
      "outputs": [
        {
          "output_type": "execute_result",
          "data": {
            "text/plain": [
              "          id    primaryTitle   originalTitle  isAdult  runtimeMinutes  \\\n",
              "0  tt0035423  Kate & Leopold  Kate & Leopold        0             118   \n",
              "\n",
              "                   genres  averageRating  numVotes    budget       gross  \\\n",
              "0  Comedy,Fantasy,Romance            6.4     87925  48000000  76019048.0   \n",
              "\n",
              "        release_date      directors  \n",
              "0  December 11, 2001  James Mangold  "
            ],
            "text/html": [
              "\n",
              "  <div id=\"df-472730ea-1512-4085-9e0b-34a5e85aaeca\" class=\"colab-df-container\">\n",
              "    <div>\n",
              "<style scoped>\n",
              "    .dataframe tbody tr th:only-of-type {\n",
              "        vertical-align: middle;\n",
              "    }\n",
              "\n",
              "    .dataframe tbody tr th {\n",
              "        vertical-align: top;\n",
              "    }\n",
              "\n",
              "    .dataframe thead th {\n",
              "        text-align: right;\n",
              "    }\n",
              "</style>\n",
              "<table border=\"1\" class=\"dataframe\">\n",
              "  <thead>\n",
              "    <tr style=\"text-align: right;\">\n",
              "      <th></th>\n",
              "      <th>id</th>\n",
              "      <th>primaryTitle</th>\n",
              "      <th>originalTitle</th>\n",
              "      <th>isAdult</th>\n",
              "      <th>runtimeMinutes</th>\n",
              "      <th>genres</th>\n",
              "      <th>averageRating</th>\n",
              "      <th>numVotes</th>\n",
              "      <th>budget</th>\n",
              "      <th>gross</th>\n",
              "      <th>release_date</th>\n",
              "      <th>directors</th>\n",
              "    </tr>\n",
              "  </thead>\n",
              "  <tbody>\n",
              "    <tr>\n",
              "      <th>0</th>\n",
              "      <td>tt0035423</td>\n",
              "      <td>Kate &amp; Leopold</td>\n",
              "      <td>Kate &amp; Leopold</td>\n",
              "      <td>0</td>\n",
              "      <td>118</td>\n",
              "      <td>Comedy,Fantasy,Romance</td>\n",
              "      <td>6.4</td>\n",
              "      <td>87925</td>\n",
              "      <td>48000000</td>\n",
              "      <td>76019048.0</td>\n",
              "      <td>December 11, 2001</td>\n",
              "      <td>James Mangold</td>\n",
              "    </tr>\n",
              "  </tbody>\n",
              "</table>\n",
              "</div>\n",
              "    <div class=\"colab-df-buttons\">\n",
              "\n",
              "  <div class=\"colab-df-container\">\n",
              "    <button class=\"colab-df-convert\" onclick=\"convertToInteractive('df-472730ea-1512-4085-9e0b-34a5e85aaeca')\"\n",
              "            title=\"Convert this dataframe to an interactive table.\"\n",
              "            style=\"display:none;\">\n",
              "\n",
              "  <svg xmlns=\"http://www.w3.org/2000/svg\" height=\"24px\" viewBox=\"0 -960 960 960\">\n",
              "    <path d=\"M120-120v-720h720v720H120Zm60-500h600v-160H180v160Zm220 220h160v-160H400v160Zm0 220h160v-160H400v160ZM180-400h160v-160H180v160Zm440 0h160v-160H620v160ZM180-180h160v-160H180v160Zm440 0h160v-160H620v160Z\"/>\n",
              "  </svg>\n",
              "    </button>\n",
              "\n",
              "  <style>\n",
              "    .colab-df-container {\n",
              "      display:flex;\n",
              "      gap: 12px;\n",
              "    }\n",
              "\n",
              "    .colab-df-convert {\n",
              "      background-color: #E8F0FE;\n",
              "      border: none;\n",
              "      border-radius: 50%;\n",
              "      cursor: pointer;\n",
              "      display: none;\n",
              "      fill: #1967D2;\n",
              "      height: 32px;\n",
              "      padding: 0 0 0 0;\n",
              "      width: 32px;\n",
              "    }\n",
              "\n",
              "    .colab-df-convert:hover {\n",
              "      background-color: #E2EBFA;\n",
              "      box-shadow: 0px 1px 2px rgba(60, 64, 67, 0.3), 0px 1px 3px 1px rgba(60, 64, 67, 0.15);\n",
              "      fill: #174EA6;\n",
              "    }\n",
              "\n",
              "    .colab-df-buttons div {\n",
              "      margin-bottom: 4px;\n",
              "    }\n",
              "\n",
              "    [theme=dark] .colab-df-convert {\n",
              "      background-color: #3B4455;\n",
              "      fill: #D2E3FC;\n",
              "    }\n",
              "\n",
              "    [theme=dark] .colab-df-convert:hover {\n",
              "      background-color: #434B5C;\n",
              "      box-shadow: 0px 1px 3px 1px rgba(0, 0, 0, 0.15);\n",
              "      filter: drop-shadow(0px 1px 2px rgba(0, 0, 0, 0.3));\n",
              "      fill: #FFFFFF;\n",
              "    }\n",
              "  </style>\n",
              "\n",
              "    <script>\n",
              "      const buttonEl =\n",
              "        document.querySelector('#df-472730ea-1512-4085-9e0b-34a5e85aaeca button.colab-df-convert');\n",
              "      buttonEl.style.display =\n",
              "        google.colab.kernel.accessAllowed ? 'block' : 'none';\n",
              "\n",
              "      async function convertToInteractive(key) {\n",
              "        const element = document.querySelector('#df-472730ea-1512-4085-9e0b-34a5e85aaeca');\n",
              "        const dataTable =\n",
              "          await google.colab.kernel.invokeFunction('convertToInteractive',\n",
              "                                                    [key], {});\n",
              "        if (!dataTable) return;\n",
              "\n",
              "        const docLinkHtml = 'Like what you see? Visit the ' +\n",
              "          '<a target=\"_blank\" href=https://colab.research.google.com/notebooks/data_table.ipynb>data table notebook</a>'\n",
              "          + ' to learn more about interactive tables.';\n",
              "        element.innerHTML = '';\n",
              "        dataTable['output_type'] = 'display_data';\n",
              "        await google.colab.output.renderOutput(dataTable, element);\n",
              "        const docLink = document.createElement('div');\n",
              "        docLink.innerHTML = docLinkHtml;\n",
              "        element.appendChild(docLink);\n",
              "      }\n",
              "    </script>\n",
              "  </div>\n",
              "\n",
              "\n",
              "    </div>\n",
              "  </div>\n"
            ],
            "application/vnd.google.colaboratory.intrinsic+json": {
              "type": "dataframe",
              "variable_name": "imdb",
              "summary": "{\n  \"name\": \"imdb\",\n  \"rows\": 3348,\n  \"fields\": [\n    {\n      \"column\": \"id\",\n      \"properties\": {\n        \"dtype\": \"string\",\n        \"num_unique_values\": 3348,\n        \"samples\": [\n          \"tt0816692\",\n          \"tt1840309\",\n          \"tt0424345\"\n        ],\n        \"semantic_type\": \"\",\n        \"description\": \"\"\n      }\n    },\n    {\n      \"column\": \"primaryTitle\",\n      \"properties\": {\n        \"dtype\": \"string\",\n        \"num_unique_values\": 3295,\n        \"samples\": [\n          \"Ocean's Eight\",\n          \"A Bad Moms Christmas\",\n          \"Love, Simon\"\n        ],\n        \"semantic_type\": \"\",\n        \"description\": \"\"\n      }\n    },\n    {\n      \"column\": \"originalTitle\",\n      \"properties\": {\n        \"dtype\": \"string\",\n        \"num_unique_values\": 3298,\n        \"samples\": [\n          \"2012\",\n          \"Stuck on You\",\n          \"Boss Level\"\n        ],\n        \"semantic_type\": \"\",\n        \"description\": \"\"\n      }\n    },\n    {\n      \"column\": \"isAdult\",\n      \"properties\": {\n        \"dtype\": \"number\",\n        \"std\": 0,\n        \"min\": 0,\n        \"max\": 0,\n        \"num_unique_values\": 1,\n        \"samples\": [\n          0\n        ],\n        \"semantic_type\": \"\",\n        \"description\": \"\"\n      }\n    },\n    {\n      \"column\": \"runtimeMinutes\",\n      \"properties\": {\n        \"dtype\": \"number\",\n        \"std\": 19,\n        \"min\": 63,\n        \"max\": 242,\n        \"num_unique_values\": 125,\n        \"samples\": [\n          110\n        ],\n        \"semantic_type\": \"\",\n        \"description\": \"\"\n      }\n    },\n    {\n      \"column\": \"genres\",\n      \"properties\": {\n        \"dtype\": \"category\",\n        \"num_unique_values\": 287,\n        \"samples\": [\n          \"Action,Crime,Drama\"\n        ],\n        \"semantic_type\": \"\",\n        \"description\": \"\"\n      }\n    },\n    {\n      \"column\": \"averageRating\",\n      \"properties\": {\n        \"dtype\": \"number\",\n        \"std\": 0.8822096497526334,\n        \"min\": 1.0,\n        \"max\": 9.3,\n        \"num_unique_values\": 68,\n        \"samples\": [\n          4.9\n        ],\n        \"semantic_type\": \"\",\n        \"description\": \"\"\n      }\n    },\n    {\n      \"column\": \"numVotes\",\n      \"properties\": {\n        \"dtype\": \"number\",\n        \"std\": 248021,\n        \"min\": 50004,\n        \"max\": 2817283,\n        \"num_unique_values\": 3328,\n        \"samples\": [\n          105868\n        ],\n        \"semantic_type\": \"\",\n        \"description\": \"\"\n      }\n    },\n    {\n      \"column\": \"budget\",\n      \"properties\": {\n        \"dtype\": \"number\",\n        \"std\": 51786142,\n        \"min\": 18,\n        \"max\": 356000000,\n        \"num_unique_values\": 343,\n        \"samples\": [\n          300000000\n        ],\n        \"semantic_type\": \"\",\n        \"description\": \"\"\n      }\n    },\n    {\n      \"column\": \"gross\",\n      \"properties\": {\n        \"dtype\": \"number\",\n        \"std\": 236650674.74826702,\n        \"min\": 210.0,\n        \"max\": 2923706026.0,\n        \"num_unique_values\": 3296,\n        \"samples\": [\n          470116094.0\n        ],\n        \"semantic_type\": \"\",\n        \"description\": \"\"\n      }\n    },\n    {\n      \"column\": \"release_date\",\n      \"properties\": {\n        \"dtype\": \"string\",\n        \"num_unique_values\": 2805,\n        \"samples\": [\n          \"August 23, 2004\"\n        ],\n        \"semantic_type\": \"\",\n        \"description\": \"\"\n      }\n    },\n    {\n      \"column\": \"directors\",\n      \"properties\": {\n        \"dtype\": \"category\",\n        \"num_unique_values\": 1356,\n        \"samples\": [\n          \"John Badham\"\n        ],\n        \"semantic_type\": \"\",\n        \"description\": \"\"\n      }\n    }\n  ]\n}"
            }
          },
          "metadata": {},
          "execution_count": 304
        }
      ]
    },
    {
      "cell_type": "code",
      "source": [
        "top_rated_directors=imdb.groupby(\"directors\")[\"averageRating\"].mean().sort_values(ascending=False).head(5)"
      ],
      "metadata": {
        "id": "TDV6zdavr8zZ"
      },
      "execution_count": 312,
      "outputs": []
    },
    {
      "cell_type": "code",
      "source": [
        "top_rated_directors"
      ],
      "metadata": {
        "colab": {
          "base_uri": "https://localhost:8080/",
          "height": 272
        },
        "id": "X8K-qw8asMe3",
        "outputId": "42793888-9014-4506-ce72-acdc1ef3e65a"
      },
      "execution_count": 313,
      "outputs": [
        {
          "output_type": "execute_result",
          "data": {
            "text/plain": [
              "directors\n",
              "Kemp Powers, Joaquim Dos Santos, Justin K. Thompson    8.7\n",
              "Roberto Benigni                                        8.6\n",
              "Tony Kaye                                              8.5\n",
              "Roger Allers, Rob Minkoff                              8.5\n",
              "Isao Takahata                                          8.5\n",
              "Name: averageRating, dtype: float64"
            ],
            "text/html": [
              "<div>\n",
              "<style scoped>\n",
              "    .dataframe tbody tr th:only-of-type {\n",
              "        vertical-align: middle;\n",
              "    }\n",
              "\n",
              "    .dataframe tbody tr th {\n",
              "        vertical-align: top;\n",
              "    }\n",
              "\n",
              "    .dataframe thead th {\n",
              "        text-align: right;\n",
              "    }\n",
              "</style>\n",
              "<table border=\"1\" class=\"dataframe\">\n",
              "  <thead>\n",
              "    <tr style=\"text-align: right;\">\n",
              "      <th></th>\n",
              "      <th>averageRating</th>\n",
              "    </tr>\n",
              "    <tr>\n",
              "      <th>directors</th>\n",
              "      <th></th>\n",
              "    </tr>\n",
              "  </thead>\n",
              "  <tbody>\n",
              "    <tr>\n",
              "      <th>Kemp Powers, Joaquim Dos Santos, Justin K. Thompson</th>\n",
              "      <td>8.7</td>\n",
              "    </tr>\n",
              "    <tr>\n",
              "      <th>Roberto Benigni</th>\n",
              "      <td>8.6</td>\n",
              "    </tr>\n",
              "    <tr>\n",
              "      <th>Tony Kaye</th>\n",
              "      <td>8.5</td>\n",
              "    </tr>\n",
              "    <tr>\n",
              "      <th>Roger Allers, Rob Minkoff</th>\n",
              "      <td>8.5</td>\n",
              "    </tr>\n",
              "    <tr>\n",
              "      <th>Isao Takahata</th>\n",
              "      <td>8.5</td>\n",
              "    </tr>\n",
              "  </tbody>\n",
              "</table>\n",
              "</div><br><label><b>dtype:</b> float64</label>"
            ]
          },
          "metadata": {},
          "execution_count": 313
        }
      ]
    },
    {
      "cell_type": "code",
      "source": [
        "#draw bar plot"
      ],
      "metadata": {
        "id": "HGQ8OsEdsO2W"
      },
      "execution_count": 314,
      "outputs": []
    },
    {
      "cell_type": "code",
      "source": [
        "plt.figure(figsize=(6,5))\n",
        "sns.barplot(y=top_rated_directors.index,x=top_rated_directors.values,palette=\"viridis\")\n",
        "plt.xlabel(\"average rating\")\n",
        "plt.title(\"top 5 directors with most rated movies\")"
      ],
      "metadata": {
        "colab": {
          "base_uri": "https://localhost:8080/",
          "height": 611
        },
        "id": "hhocNfMztUPt",
        "outputId": "9accd80d-0a5a-4456-a827-5d05a96d99c0"
      },
      "execution_count": 319,
      "outputs": [
        {
          "output_type": "stream",
          "name": "stderr",
          "text": [
            "<ipython-input-319-fe04a52891b0>:2: FutureWarning: \n",
            "\n",
            "Passing `palette` without assigning `hue` is deprecated and will be removed in v0.14.0. Assign the `y` variable to `hue` and set `legend=False` for the same effect.\n",
            "\n",
            "  sns.barplot(y=top_rated_directors.index,x=top_rated_directors.values,palette=\"viridis\")\n"
          ]
        },
        {
          "output_type": "execute_result",
          "data": {
            "text/plain": [
              "Text(0.5, 1.0, 'top 5 directors with most rated movies')"
            ]
          },
          "metadata": {},
          "execution_count": 319
        },
        {
          "output_type": "display_data",
          "data": {
            "text/plain": [
              "<Figure size 600x500 with 1 Axes>"
            ],
            "image/png": "[encoded data removed]"
          },
          "metadata": {}
        }
      ]
    },
    {
      "cell_type": "markdown",
      "source": [
        "INSIHTS\n",
        "\n",
        "--Director A leads in average ratings – They consistently deliver highly rated films, suggesting strong critical and audience appreciation.\n",
        "\n",
        "--Close competition among top 3 directors – Their average ratings are similar, indicating consistency in quality.\n",
        "\n",
        "--Small rating gap among all 5 – The difference between the highest and lowest in the top 5 is likely minimal, showing all are top-tier directors.\n",
        "\n",
        "--Possible impact of genre and storytelling – These directors might excel in genres that receive high ratings (e.g., drama, thriller, or biopics).\n",
        "\n",
        "--Quality over quantity – Unlike grossing directors, these filmmakers may focus more on artistic and critically acclaimed works."
      ],
      "metadata": {
        "id": "mFsNOtNfudNu"
      }
    },
    {
      "cell_type": "markdown",
      "source": [
        "**QUE 27) Are there director known for making high budget movies?**"
      ],
      "metadata": {
        "id": "zRb-k5gYvGOy"
      }
    },
    {
      "cell_type": "code",
      "source": [
        "imdb.head(1)"
      ],
      "metadata": {
        "colab": {
          "base_uri": "https://localhost:8080/",
          "height": 118
        },
        "id": "RNbTN5gFv12R",
        "outputId": "119b062b-6483-415b-937a-398aee8c23a9"
      },
      "execution_count": 320,
      "outputs": [
        {
          "output_type": "execute_result",
          "data": {
            "text/plain": [
              "          id    primaryTitle   originalTitle  isAdult  runtimeMinutes  \\\n",
              "0  tt0035423  Kate & Leopold  Kate & Leopold        0             118   \n",
              "\n",
              "                   genres  averageRating  numVotes    budget       gross  \\\n",
              "0  Comedy,Fantasy,Romance            6.4     87925  48000000  76019048.0   \n",
              "\n",
              "        release_date      directors  \n",
              "0  December 11, 2001  James Mangold  "
            ],
            "text/html": [
              "\n",
              "  <div id=\"df-55332e1a-bdfd-4867-821b-db157dfe52d9\" class=\"colab-df-container\">\n",
              "    <div>\n",
              "<style scoped>\n",
              "    .dataframe tbody tr th:only-of-type {\n",
              "        vertical-align: middle;\n",
              "    }\n",
              "\n",
              "    .dataframe tbody tr th {\n",
              "        vertical-align: top;\n",
              "    }\n",
              "\n",
              "    .dataframe thead th {\n",
              "        text-align: right;\n",
              "    }\n",
              "</style>\n",
              "<table border=\"1\" class=\"dataframe\">\n",
              "  <thead>\n",
              "    <tr style=\"text-align: right;\">\n",
              "      <th></th>\n",
              "      <th>id</th>\n",
              "      <th>primaryTitle</th>\n",
              "      <th>originalTitle</th>\n",
              "      <th>isAdult</th>\n",
              "      <th>runtimeMinutes</th>\n",
              "      <th>genres</th>\n",
              "      <th>averageRating</th>\n",
              "      <th>numVotes</th>\n",
              "      <th>budget</th>\n",
              "      <th>gross</th>\n",
              "      <th>release_date</th>\n",
              "      <th>directors</th>\n",
              "    </tr>\n",
              "  </thead>\n",
              "  <tbody>\n",
              "    <tr>\n",
              "      <th>0</th>\n",
              "      <td>tt0035423</td>\n",
              "      <td>Kate &amp; Leopold</td>\n",
              "      <td>Kate &amp; Leopold</td>\n",
              "      <td>0</td>\n",
              "      <td>118</td>\n",
              "      <td>Comedy,Fantasy,Romance</td>\n",
              "      <td>6.4</td>\n",
              "      <td>87925</td>\n",
              "      <td>48000000</td>\n",
              "      <td>76019048.0</td>\n",
              "      <td>December 11, 2001</td>\n",
              "      <td>James Mangold</td>\n",
              "    </tr>\n",
              "  </tbody>\n",
              "</table>\n",
              "</div>\n",
              "    <div class=\"colab-df-buttons\">\n",
              "\n",
              "  <div class=\"colab-df-container\">\n",
              "    <button class=\"colab-df-convert\" onclick=\"convertToInteractive('df-55332e1a-bdfd-4867-821b-db157dfe52d9')\"\n",
              "            title=\"Convert this dataframe to an interactive table.\"\n",
              "            style=\"display:none;\">\n",
              "\n",
              "  <svg xmlns=\"http://www.w3.org/2000/svg\" height=\"24px\" viewBox=\"0 -960 960 960\">\n",
              "    <path d=\"M120-120v-720h720v720H120Zm60-500h600v-160H180v160Zm220 220h160v-160H400v160Zm0 220h160v-160H400v160ZM180-400h160v-160H180v160Zm440 0h160v-160H620v160ZM180-180h160v-160H180v160Zm440 0h160v-160H620v160Z\"/>\n",
              "  </svg>\n",
              "    </button>\n",
              "\n",
              "  <style>\n",
              "    .colab-df-container {\n",
              "      display:flex;\n",
              "      gap: 12px;\n",
              "    }\n",
              "\n",
              "    .colab-df-convert {\n",
              "      background-color: #E8F0FE;\n",
              "      border: none;\n",
              "      border-radius: 50%;\n",
              "      cursor: pointer;\n",
              "      display: none;\n",
              "      fill: #1967D2;\n",
              "      height: 32px;\n",
              "      padding: 0 0 0 0;\n",
              "      width: 32px;\n",
              "    }\n",
              "\n",
              "    .colab-df-convert:hover {\n",
              "      background-color: #E2EBFA;\n",
              "      box-shadow: 0px 1px 2px rgba(60, 64, 67, 0.3), 0px 1px 3px 1px rgba(60, 64, 67, 0.15);\n",
              "      fill: #174EA6;\n",
              "    }\n",
              "\n",
              "    .colab-df-buttons div {\n",
              "      margin-bottom: 4px;\n",
              "    }\n",
              "\n",
              "    [theme=dark] .colab-df-convert {\n",
              "      background-color: #3B4455;\n",
              "      fill: #D2E3FC;\n",
              "    }\n",
              "\n",
              "    [theme=dark] .colab-df-convert:hover {\n",
              "      background-color: #434B5C;\n",
              "      box-shadow: 0px 1px 3px 1px rgba(0, 0, 0, 0.15);\n",
              "      filter: drop-shadow(0px 1px 2px rgba(0, 0, 0, 0.3));\n",
              "      fill: #FFFFFF;\n",
              "    }\n",
              "  </style>\n",
              "\n",
              "    <script>\n",
              "      const buttonEl =\n",
              "        document.querySelector('#df-55332e1a-bdfd-4867-821b-db157dfe52d9 button.colab-df-convert');\n",
              "      buttonEl.style.display =\n",
              "        google.colab.kernel.accessAllowed ? 'block' : 'none';\n",
              "\n",
              "      async function convertToInteractive(key) {\n",
              "        const element = document.querySelector('#df-55332e1a-bdfd-4867-821b-db157dfe52d9');\n",
              "        const dataTable =\n",
              "          await google.colab.kernel.invokeFunction('convertToInteractive',\n",
              "                                                    [key], {});\n",
              "        if (!dataTable) return;\n",
              "\n",
              "        const docLinkHtml = 'Like what you see? Visit the ' +\n",
              "          '<a target=\"_blank\" href=https://colab.research.google.com/notebooks/data_table.ipynb>data table notebook</a>'\n",
              "          + ' to learn more about interactive tables.';\n",
              "        element.innerHTML = '';\n",
              "        dataTable['output_type'] = 'display_data';\n",
              "        await google.colab.output.renderOutput(dataTable, element);\n",
              "        const docLink = document.createElement('div');\n",
              "        docLink.innerHTML = docLinkHtml;\n",
              "        element.appendChild(docLink);\n",
              "      }\n",
              "    </script>\n",
              "  </div>\n",
              "\n",
              "\n",
              "    </div>\n",
              "  </div>\n"
            ],
            "application/vnd.google.colaboratory.intrinsic+json": {
              "type": "dataframe",
              "variable_name": "imdb",
              "summary": "{\n  \"name\": \"imdb\",\n  \"rows\": 3348,\n  \"fields\": [\n    {\n      \"column\": \"id\",\n      \"properties\": {\n        \"dtype\": \"string\",\n        \"num_unique_values\": 3348,\n        \"samples\": [\n          \"tt0816692\",\n          \"tt1840309\",\n          \"tt0424345\"\n        ],\n        \"semantic_type\": \"\",\n        \"description\": \"\"\n      }\n    },\n    {\n      \"column\": \"primaryTitle\",\n      \"properties\": {\n        \"dtype\": \"string\",\n        \"num_unique_values\": 3295,\n        \"samples\": [\n          \"Ocean's Eight\",\n          \"A Bad Moms Christmas\",\n          \"Love, Simon\"\n        ],\n        \"semantic_type\": \"\",\n        \"description\": \"\"\n      }\n    },\n    {\n      \"column\": \"originalTitle\",\n      \"properties\": {\n        \"dtype\": \"string\",\n        \"num_unique_values\": 3298,\n        \"samples\": [\n          \"2012\",\n          \"Stuck on You\",\n          \"Boss Level\"\n        ],\n        \"semantic_type\": \"\",\n        \"description\": \"\"\n      }\n    },\n    {\n      \"column\": \"isAdult\",\n      \"properties\": {\n        \"dtype\": \"number\",\n        \"std\": 0,\n        \"min\": 0,\n        \"max\": 0,\n        \"num_unique_values\": 1,\n        \"samples\": [\n          0\n        ],\n        \"semantic_type\": \"\",\n        \"description\": \"\"\n      }\n    },\n    {\n      \"column\": \"runtimeMinutes\",\n      \"properties\": {\n        \"dtype\": \"number\",\n        \"std\": 19,\n        \"min\": 63,\n        \"max\": 242,\n        \"num_unique_values\": 125,\n        \"samples\": [\n          110\n        ],\n        \"semantic_type\": \"\",\n        \"description\": \"\"\n      }\n    },\n    {\n      \"column\": \"genres\",\n      \"properties\": {\n        \"dtype\": \"category\",\n        \"num_unique_values\": 287,\n        \"samples\": [\n          \"Action,Crime,Drama\"\n        ],\n        \"semantic_type\": \"\",\n        \"description\": \"\"\n      }\n    },\n    {\n      \"column\": \"averageRating\",\n      \"properties\": {\n        \"dtype\": \"number\",\n        \"std\": 0.8822096497526334,\n        \"min\": 1.0,\n        \"max\": 9.3,\n        \"num_unique_values\": 68,\n        \"samples\": [\n          4.9\n        ],\n        \"semantic_type\": \"\",\n        \"description\": \"\"\n      }\n    },\n    {\n      \"column\": \"numVotes\",\n      \"properties\": {\n        \"dtype\": \"number\",\n        \"std\": 248021,\n        \"min\": 50004,\n        \"max\": 2817283,\n        \"num_unique_values\": 3328,\n        \"samples\": [\n          105868\n        ],\n        \"semantic_type\": \"\",\n        \"description\": \"\"\n      }\n    },\n    {\n      \"column\": \"budget\",\n      \"properties\": {\n        \"dtype\": \"number\",\n        \"std\": 51786142,\n        \"min\": 18,\n        \"max\": 356000000,\n        \"num_unique_values\": 343,\n        \"samples\": [\n          300000000\n        ],\n        \"semantic_type\": \"\",\n        \"description\": \"\"\n      }\n    },\n    {\n      \"column\": \"gross\",\n      \"properties\": {\n        \"dtype\": \"number\",\n        \"std\": 236650674.74826702,\n        \"min\": 210.0,\n        \"max\": 2923706026.0,\n        \"num_unique_values\": 3296,\n        \"samples\": [\n          470116094.0\n        ],\n        \"semantic_type\": \"\",\n        \"description\": \"\"\n      }\n    },\n    {\n      \"column\": \"release_date\",\n      \"properties\": {\n        \"dtype\": \"string\",\n        \"num_unique_values\": 2805,\n        \"samples\": [\n          \"August 23, 2004\"\n        ],\n        \"semantic_type\": \"\",\n        \"description\": \"\"\n      }\n    },\n    {\n      \"column\": \"directors\",\n      \"properties\": {\n        \"dtype\": \"category\",\n        \"num_unique_values\": 1356,\n        \"samples\": [\n          \"John Badham\"\n        ],\n        \"semantic_type\": \"\",\n        \"description\": \"\"\n      }\n    }\n  ]\n}"
            }
          },
          "metadata": {},
          "execution_count": 320
        }
      ]
    },
    {
      "cell_type": "code",
      "source": [
        "top_budget_directors=imdb.groupby(\"directors\")[\"budget\"].mean().sort_values(ascending=False).head(5)"
      ],
      "metadata": {
        "id": "zpnyxfnov3L7"
      },
      "execution_count": 325,
      "outputs": []
    },
    {
      "cell_type": "code",
      "source": [
        "top_budget_directors"
      ],
      "metadata": {
        "colab": {
          "base_uri": "https://localhost:8080/",
          "height": 272
        },
        "id": "72DksJFSwGHM",
        "outputId": "737e4e19-524a-43c7-891d-7a4aef7408cb"
      },
      "execution_count": 326,
      "outputs": [
        {
          "output_type": "execute_result",
          "data": {
            "text/plain": [
              "directors\n",
              "Louis Leterrier, Justin Lin        340000000.0\n",
              "Nathan Greno, Byron Howard         260000000.0\n",
              "Espen Sandberg, Joachim Rønning    230000000.0\n",
              "Anthony Russo, Joe Russo           225250000.0\n",
              "Joe Russo, Anthony Russo           225000000.0\n",
              "Name: budget, dtype: float64"
            ],
            "text/html": [
              "<div>\n",
              "<style scoped>\n",
              "    .dataframe tbody tr th:only-of-type {\n",
              "        vertical-align: middle;\n",
              "    }\n",
              "\n",
              "    .dataframe tbody tr th {\n",
              "        vertical-align: top;\n",
              "    }\n",
              "\n",
              "    .dataframe thead th {\n",
              "        text-align: right;\n",
              "    }\n",
              "</style>\n",
              "<table border=\"1\" class=\"dataframe\">\n",
              "  <thead>\n",
              "    <tr style=\"text-align: right;\">\n",
              "      <th></th>\n",
              "      <th>budget</th>\n",
              "    </tr>\n",
              "    <tr>\n",
              "      <th>directors</th>\n",
              "      <th></th>\n",
              "    </tr>\n",
              "  </thead>\n",
              "  <tbody>\n",
              "    <tr>\n",
              "      <th>Louis Leterrier, Justin Lin</th>\n",
              "      <td>340000000.0</td>\n",
              "    </tr>\n",
              "    <tr>\n",
              "      <th>Nathan Greno, Byron Howard</th>\n",
              "      <td>260000000.0</td>\n",
              "    </tr>\n",
              "    <tr>\n",
              "      <th>Espen Sandberg, Joachim Rønning</th>\n",
              "      <td>230000000.0</td>\n",
              "    </tr>\n",
              "    <tr>\n",
              "      <th>Anthony Russo, Joe Russo</th>\n",
              "      <td>225250000.0</td>\n",
              "    </tr>\n",
              "    <tr>\n",
              "      <th>Joe Russo, Anthony Russo</th>\n",
              "      <td>225000000.0</td>\n",
              "    </tr>\n",
              "  </tbody>\n",
              "</table>\n",
              "</div><br><label><b>dtype:</b> float64</label>"
            ]
          },
          "metadata": {},
          "execution_count": 326
        }
      ]
    },
    {
      "cell_type": "code",
      "source": [
        "#draw bar lot"
      ],
      "metadata": {
        "id": "7BfohBaiwHtj"
      },
      "execution_count": 327,
      "outputs": []
    },
    {
      "cell_type": "code",
      "source": [
        "plt.figure(figsize=(6,5))\n",
        "sns.barplot(y=top_budget_directors.index,x=top_budget_directors.values,palette=\"viridis\")\n",
        "plt.xlabel(\"average budget\")\n",
        "plt.title(\"top 5 high budget movies\")\n"
      ],
      "metadata": {
        "colab": {
          "base_uri": "https://localhost:8080/",
          "height": 611
        },
        "id": "QGht7UnqwYBr",
        "outputId": "759fb6fd-a064-49d7-9014-11fc96cbbab4"
      },
      "execution_count": 329,
      "outputs": [
        {
          "output_type": "stream",
          "name": "stderr",
          "text": [
            "<ipython-input-329-1ac5e2089b08>:2: FutureWarning: \n",
            "\n",
            "Passing `palette` without assigning `hue` is deprecated and will be removed in v0.14.0. Assign the `y` variable to `hue` and set `legend=False` for the same effect.\n",
            "\n",
            "  sns.barplot(y=top_budget_directors.index,x=top_budget_directors.values,palette=\"viridis\")\n"
          ]
        },
        {
          "output_type": "execute_result",
          "data": {
            "text/plain": [
              "Text(0.5, 1.0, 'top 5 high budget movies')"
            ]
          },
          "metadata": {},
          "execution_count": 329
        },
        {
          "output_type": "display_data",
          "data": {
            "text/plain": [
              "<Figure size 600x500 with 1 Axes>"
            ],
            "image/png": "[encoded data removed]"
          },
          "metadata": {}
        }
      ]
    },
    {
      "cell_type": "markdown",
      "source": [
        "INSIGHTS\n",
        "\n",
        "--Director A works with the highest budgets – Likely involved in large-scale productions with heavy VFX, star casts, or franchise films.\n",
        "\n",
        "--Top 3 directors have similar budgets – Suggesting they consistently handle big projects.\n",
        "\n",
        "--Significant budget drop after the top 2-3 – Indicates a clear difference in funding levels among directors.\n",
        "\n",
        "--High budgets may correlate with blockbuster movies – These directors might be known for action, sci-fi, or fantasy genres.\n",
        "\n",
        "--Spending ≠ Success – While high budgets allow for grand productions, they don't always guarantee top ratings or revenue."
      ],
      "metadata": {
        "id": "tkCeBgVTw4od"
      }
    },
    {
      "cell_type": "markdown",
      "source": [
        "**QUE 28)Are there any extreme outliers in budget ,gross revenue,or ratings?**"
      ],
      "metadata": {
        "id": "v8nn4W2gxINz"
      }
    },
    {
      "cell_type": "code",
      "source": [
        "#draw subplot for 3 outliers in one plot"
      ],
      "metadata": {
        "id": "xGHfBNpqxUE_"
      },
      "execution_count": 330,
      "outputs": []
    },
    {
      "cell_type": "code",
      "source": [
        "imdb.head(1)"
      ],
      "metadata": {
        "colab": {
          "base_uri": "https://localhost:8080/",
          "height": 118
        },
        "id": "RRM-u_HhxnB4",
        "outputId": "9bcf2384-86b8-4e2e-dedf-b8279434cc92"
      },
      "execution_count": 331,
      "outputs": [
        {
          "output_type": "execute_result",
          "data": {
            "text/plain": [
              "          id    primaryTitle   originalTitle  isAdult  runtimeMinutes  \\\n",
              "0  tt0035423  Kate & Leopold  Kate & Leopold        0             118   \n",
              "\n",
              "                   genres  averageRating  numVotes    budget       gross  \\\n",
              "0  Comedy,Fantasy,Romance            6.4     87925  48000000  76019048.0   \n",
              "\n",
              "        release_date      directors  \n",
              "0  December 11, 2001  James Mangold  "
            ],
            "text/html": [
              "\n",
              "  <div id=\"df-1c681524-5ef7-4ce0-9721-73c28b7da2ea\" class=\"colab-df-container\">\n",
              "    <div>\n",
              "<style scoped>\n",
              "    .dataframe tbody tr th:only-of-type {\n",
              "        vertical-align: middle;\n",
              "    }\n",
              "\n",
              "    .dataframe tbody tr th {\n",
              "        vertical-align: top;\n",
              "    }\n",
              "\n",
              "    .dataframe thead th {\n",
              "        text-align: right;\n",
              "    }\n",
              "</style>\n",
              "<table border=\"1\" class=\"dataframe\">\n",
              "  <thead>\n",
              "    <tr style=\"text-align: right;\">\n",
              "      <th></th>\n",
              "      <th>id</th>\n",
              "      <th>primaryTitle</th>\n",
              "      <th>originalTitle</th>\n",
              "      <th>isAdult</th>\n",
              "      <th>runtimeMinutes</th>\n",
              "      <th>genres</th>\n",
              "      <th>averageRating</th>\n",
              "      <th>numVotes</th>\n",
              "      <th>budget</th>\n",
              "      <th>gross</th>\n",
              "      <th>release_date</th>\n",
              "      <th>directors</th>\n",
              "    </tr>\n",
              "  </thead>\n",
              "  <tbody>\n",
              "    <tr>\n",
              "      <th>0</th>\n",
              "      <td>tt0035423</td>\n",
              "      <td>Kate &amp; Leopold</td>\n",
              "      <td>Kate &amp; Leopold</td>\n",
              "      <td>0</td>\n",
              "      <td>118</td>\n",
              "      <td>Comedy,Fantasy,Romance</td>\n",
              "      <td>6.4</td>\n",
              "      <td>87925</td>\n",
              "      <td>48000000</td>\n",
              "      <td>76019048.0</td>\n",
              "      <td>December 11, 2001</td>\n",
              "      <td>James Mangold</td>\n",
              "    </tr>\n",
              "  </tbody>\n",
              "</table>\n",
              "</div>\n",
              "    <div class=\"colab-df-buttons\">\n",
              "\n",
              "  <div class=\"colab-df-container\">\n",
              "    <button class=\"colab-df-convert\" onclick=\"convertToInteractive('df-1c681524-5ef7-4ce0-9721-73c28b7da2ea')\"\n",
              "            title=\"Convert this dataframe to an interactive table.\"\n",
              "            style=\"display:none;\">\n",
              "\n",
              "  <svg xmlns=\"http://www.w3.org/2000/svg\" height=\"24px\" viewBox=\"0 -960 960 960\">\n",
              "    <path d=\"M120-120v-720h720v720H120Zm60-500h600v-160H180v160Zm220 220h160v-160H400v160Zm0 220h160v-160H400v160ZM180-400h160v-160H180v160Zm440 0h160v-160H620v160ZM180-180h160v-160H180v160Zm440 0h160v-160H620v160Z\"/>\n",
              "  </svg>\n",
              "    </button>\n",
              "\n",
              "  <style>\n",
              "    .colab-df-container {\n",
              "      display:flex;\n",
              "      gap: 12px;\n",
              "    }\n",
              "\n",
              "    .colab-df-convert {\n",
              "      background-color: #E8F0FE;\n",
              "      border: none;\n",
              "      border-radius: 50%;\n",
              "      cursor: pointer;\n",
              "      display: none;\n",
              "      fill: #1967D2;\n",
              "      height: 32px;\n",
              "      padding: 0 0 0 0;\n",
              "      width: 32px;\n",
              "    }\n",
              "\n",
              "    .colab-df-convert:hover {\n",
              "      background-color: #E2EBFA;\n",
              "      box-shadow: 0px 1px 2px rgba(60, 64, 67, 0.3), 0px 1px 3px 1px rgba(60, 64, 67, 0.15);\n",
              "      fill: #174EA6;\n",
              "    }\n",
              "\n",
              "    .colab-df-buttons div {\n",
              "      margin-bottom: 4px;\n",
              "    }\n",
              "\n",
              "    [theme=dark] .colab-df-convert {\n",
              "      background-color: #3B4455;\n",
              "      fill: #D2E3FC;\n",
              "    }\n",
              "\n",
              "    [theme=dark] .colab-df-convert:hover {\n",
              "      background-color: #434B5C;\n",
              "      box-shadow: 0px 1px 3px 1px rgba(0, 0, 0, 0.15);\n",
              "      filter: drop-shadow(0px 1px 2px rgba(0, 0, 0, 0.3));\n",
              "      fill: #FFFFFF;\n",
              "    }\n",
              "  </style>\n",
              "\n",
              "    <script>\n",
              "      const buttonEl =\n",
              "        document.querySelector('#df-1c681524-5ef7-4ce0-9721-73c28b7da2ea button.colab-df-convert');\n",
              "      buttonEl.style.display =\n",
              "        google.colab.kernel.accessAllowed ? 'block' : 'none';\n",
              "\n",
              "      async function convertToInteractive(key) {\n",
              "        const element = document.querySelector('#df-1c681524-5ef7-4ce0-9721-73c28b7da2ea');\n",
              "        const dataTable =\n",
              "          await google.colab.kernel.invokeFunction('convertToInteractive',\n",
              "                                                    [key], {});\n",
              "        if (!dataTable) return;\n",
              "\n",
              "        const docLinkHtml = 'Like what you see? Visit the ' +\n",
              "          '<a target=\"_blank\" href=https://colab.research.google.com/notebooks/data_table.ipynb>data table notebook</a>'\n",
              "          + ' to learn more about interactive tables.';\n",
              "        element.innerHTML = '';\n",
              "        dataTable['output_type'] = 'display_data';\n",
              "        await google.colab.output.renderOutput(dataTable, element);\n",
              "        const docLink = document.createElement('div');\n",
              "        docLink.innerHTML = docLinkHtml;\n",
              "        element.appendChild(docLink);\n",
              "      }\n",
              "    </script>\n",
              "  </div>\n",
              "\n",
              "\n",
              "    </div>\n",
              "  </div>\n"
            ],
            "application/vnd.google.colaboratory.intrinsic+json": {
              "type": "dataframe",
              "variable_name": "imdb",
              "summary": "{\n  \"name\": \"imdb\",\n  \"rows\": 3348,\n  \"fields\": [\n    {\n      \"column\": \"id\",\n      \"properties\": {\n        \"dtype\": \"string\",\n        \"num_unique_values\": 3348,\n        \"samples\": [\n          \"tt0816692\",\n          \"tt1840309\",\n          \"tt0424345\"\n        ],\n        \"semantic_type\": \"\",\n        \"description\": \"\"\n      }\n    },\n    {\n      \"column\": \"primaryTitle\",\n      \"properties\": {\n        \"dtype\": \"string\",\n        \"num_unique_values\": 3295,\n        \"samples\": [\n          \"Ocean's Eight\",\n          \"A Bad Moms Christmas\",\n          \"Love, Simon\"\n        ],\n        \"semantic_type\": \"\",\n        \"description\": \"\"\n      }\n    },\n    {\n      \"column\": \"originalTitle\",\n      \"properties\": {\n        \"dtype\": \"string\",\n        \"num_unique_values\": 3298,\n        \"samples\": [\n          \"2012\",\n          \"Stuck on You\",\n          \"Boss Level\"\n        ],\n        \"semantic_type\": \"\",\n        \"description\": \"\"\n      }\n    },\n    {\n      \"column\": \"isAdult\",\n      \"properties\": {\n        \"dtype\": \"number\",\n        \"std\": 0,\n        \"min\": 0,\n        \"max\": 0,\n        \"num_unique_values\": 1,\n        \"samples\": [\n          0\n        ],\n        \"semantic_type\": \"\",\n        \"description\": \"\"\n      }\n    },\n    {\n      \"column\": \"runtimeMinutes\",\n      \"properties\": {\n        \"dtype\": \"number\",\n        \"std\": 19,\n        \"min\": 63,\n        \"max\": 242,\n        \"num_unique_values\": 125,\n        \"samples\": [\n          110\n        ],\n        \"semantic_type\": \"\",\n        \"description\": \"\"\n      }\n    },\n    {\n      \"column\": \"genres\",\n      \"properties\": {\n        \"dtype\": \"category\",\n        \"num_unique_values\": 287,\n        \"samples\": [\n          \"Action,Crime,Drama\"\n        ],\n        \"semantic_type\": \"\",\n        \"description\": \"\"\n      }\n    },\n    {\n      \"column\": \"averageRating\",\n      \"properties\": {\n        \"dtype\": \"number\",\n        \"std\": 0.8822096497526334,\n        \"min\": 1.0,\n        \"max\": 9.3,\n        \"num_unique_values\": 68,\n        \"samples\": [\n          4.9\n        ],\n        \"semantic_type\": \"\",\n        \"description\": \"\"\n      }\n    },\n    {\n      \"column\": \"numVotes\",\n      \"properties\": {\n        \"dtype\": \"number\",\n        \"std\": 248021,\n        \"min\": 50004,\n        \"max\": 2817283,\n        \"num_unique_values\": 3328,\n        \"samples\": [\n          105868\n        ],\n        \"semantic_type\": \"\",\n        \"description\": \"\"\n      }\n    },\n    {\n      \"column\": \"budget\",\n      \"properties\": {\n        \"dtype\": \"number\",\n        \"std\": 51786142,\n        \"min\": 18,\n        \"max\": 356000000,\n        \"num_unique_values\": 343,\n        \"samples\": [\n          300000000\n        ],\n        \"semantic_type\": \"\",\n        \"description\": \"\"\n      }\n    },\n    {\n      \"column\": \"gross\",\n      \"properties\": {\n        \"dtype\": \"number\",\n        \"std\": 236650674.74826702,\n        \"min\": 210.0,\n        \"max\": 2923706026.0,\n        \"num_unique_values\": 3296,\n        \"samples\": [\n          470116094.0\n        ],\n        \"semantic_type\": \"\",\n        \"description\": \"\"\n      }\n    },\n    {\n      \"column\": \"release_date\",\n      \"properties\": {\n        \"dtype\": \"string\",\n        \"num_unique_values\": 2805,\n        \"samples\": [\n          \"August 23, 2004\"\n        ],\n        \"semantic_type\": \"\",\n        \"description\": \"\"\n      }\n    },\n    {\n      \"column\": \"directors\",\n      \"properties\": {\n        \"dtype\": \"category\",\n        \"num_unique_values\": 1356,\n        \"samples\": [\n          \"John Badham\"\n        ],\n        \"semantic_type\": \"\",\n        \"description\": \"\"\n      }\n    }\n  ]\n}"
            }
          },
          "metadata": {},
          "execution_count": 331
        }
      ]
    },
    {
      "cell_type": "code",
      "source": [
        "plt.figure(figsize=(15,5))\n",
        "plt.subplot(1,3,1)\n",
        "\n",
        "sns.boxplot(imdb['budget'])\n",
        "plt.title(\"budget outliers\")\n",
        "\n",
        "plt.subplot(1,3,2)\n",
        "sns.boxplot(imdb['gross'])\n",
        "plt.title(\"gross outliers\")\n",
        "\n",
        "plt.subplot(1,3,3)\n",
        "sns.boxplot(imdb['averageRating'])\n",
        "plt.title(\"rating outliers\")"
      ],
      "metadata": {
        "colab": {
          "base_uri": "https://localhost:8080/",
          "height": 466
        },
        "id": "4ULzdoSOxal4",
        "outputId": "76c5f520-b480-4eec-962b-b6cd6a143b72"
      },
      "execution_count": 335,
      "outputs": [
        {
          "output_type": "execute_result",
          "data": {
            "text/plain": [
              "Text(0.5, 1.0, 'rating outliers')"
            ]
          },
          "metadata": {},
          "execution_count": 335
        },
        {
          "output_type": "display_data",
          "data": {
            "text/plain": [
              "<Figure size 1500x500 with 3 Axes>"
            ],
            "image/png": "[encoded data removed]"
          },
          "metadata": {}
        }
      ]
    },
    {
      "cell_type": "markdown",
      "source": [
        "INSIGHTS\n",
        "\n",
        "--Budget Outliers:\n",
        "\n",
        "A few movies have exceptionally high budgets, likely major blockbusters or franchise films.\n",
        "\n",
        "Most films have relatively lower budgets, suggesting that big-budget films are rare.\n",
        "\n",
        "--Gross Revenue Outliers:\n",
        "\n",
        "Some movies have extremely high earnings, likely global hits or record-breaking blockbusters.\n",
        "\n",
        "Many movies earn significantly less, indicating a wide gap between successful and underperforming films.\n",
        "\n",
        "--Rating Outliers:\n",
        "\n",
        "A few movies have exceptionally high ratings, suggesting cult classics or critically acclaimed masterpieces.\n",
        "\n",
        "Very low-rated outliers exist, likely poorly received films or those with niche appeal."
      ],
      "metadata": {
        "id": "U3LbwEimy2Ae"
      }
    },
    {
      "cell_type": "markdown",
      "source": [
        "**QUE 29) Do outliers in budget affect movie performance (gross) ?**"
      ],
      "metadata": {
        "id": "pX0AKjr2y7Rd"
      }
    },
    {
      "cell_type": "code",
      "source": [
        "imdb.head(1)"
      ],
      "metadata": {
        "colab": {
          "base_uri": "https://localhost:8080/",
          "height": 118
        },
        "id": "mXuILDp_zGzE",
        "outputId": "7ad8fc7c-a943-42e6-f7fb-942136cc4a31"
      },
      "execution_count": 336,
      "outputs": [
        {
          "output_type": "execute_result",
          "data": {
            "text/plain": [
              "          id    primaryTitle   originalTitle  isAdult  runtimeMinutes  \\\n",
              "0  tt0035423  Kate & Leopold  Kate & Leopold        0             118   \n",
              "\n",
              "                   genres  averageRating  numVotes    budget       gross  \\\n",
              "0  Comedy,Fantasy,Romance            6.4     87925  48000000  76019048.0   \n",
              "\n",
              "        release_date      directors  \n",
              "0  December 11, 2001  James Mangold  "
            ],
            "text/html": [
              "\n",
              "  <div id=\"df-280244b7-17f0-4f35-a9b5-a4c6f4b5b51f\" class=\"colab-df-container\">\n",
              "    <div>\n",
              "<style scoped>\n",
              "    .dataframe tbody tr th:only-of-type {\n",
              "        vertical-align: middle;\n",
              "    }\n",
              "\n",
              "    .dataframe tbody tr th {\n",
              "        vertical-align: top;\n",
              "    }\n",
              "\n",
              "    .dataframe thead th {\n",
              "        text-align: right;\n",
              "    }\n",
              "</style>\n",
              "<table border=\"1\" class=\"dataframe\">\n",
              "  <thead>\n",
              "    <tr style=\"text-align: right;\">\n",
              "      <th></th>\n",
              "      <th>id</th>\n",
              "      <th>primaryTitle</th>\n",
              "      <th>originalTitle</th>\n",
              "      <th>isAdult</th>\n",
              "      <th>runtimeMinutes</th>\n",
              "      <th>genres</th>\n",
              "      <th>averageRating</th>\n",
              "      <th>numVotes</th>\n",
              "      <th>budget</th>\n",
              "      <th>gross</th>\n",
              "      <th>release_date</th>\n",
              "      <th>directors</th>\n",
              "    </tr>\n",
              "  </thead>\n",
              "  <tbody>\n",
              "    <tr>\n",
              "      <th>0</th>\n",
              "      <td>tt0035423</td>\n",
              "      <td>Kate &amp; Leopold</td>\n",
              "      <td>Kate &amp; Leopold</td>\n",
              "      <td>0</td>\n",
              "      <td>118</td>\n",
              "      <td>Comedy,Fantasy,Romance</td>\n",
              "      <td>6.4</td>\n",
              "      <td>87925</td>\n",
              "      <td>48000000</td>\n",
              "      <td>76019048.0</td>\n",
              "      <td>December 11, 2001</td>\n",
              "      <td>James Mangold</td>\n",
              "    </tr>\n",
              "  </tbody>\n",
              "</table>\n",
              "</div>\n",
              "    <div class=\"colab-df-buttons\">\n",
              "\n",
              "  <div class=\"colab-df-container\">\n",
              "    <button class=\"colab-df-convert\" onclick=\"convertToInteractive('df-280244b7-17f0-4f35-a9b5-a4c6f4b5b51f')\"\n",
              "            title=\"Convert this dataframe to an interactive table.\"\n",
              "            style=\"display:none;\">\n",
              "\n",
              "  <svg xmlns=\"http://www.w3.org/2000/svg\" height=\"24px\" viewBox=\"0 -960 960 960\">\n",
              "    <path d=\"M120-120v-720h720v720H120Zm60-500h600v-160H180v160Zm220 220h160v-160H400v160Zm0 220h160v-160H400v160ZM180-400h160v-160H180v160Zm440 0h160v-160H620v160ZM180-180h160v-160H180v160Zm440 0h160v-160H620v160Z\"/>\n",
              "  </svg>\n",
              "    </button>\n",
              "\n",
              "  <style>\n",
              "    .colab-df-container {\n",
              "      display:flex;\n",
              "      gap: 12px;\n",
              "    }\n",
              "\n",
              "    .colab-df-convert {\n",
              "      background-color: #E8F0FE;\n",
              "      border: none;\n",
              "      border-radius: 50%;\n",
              "      cursor: pointer;\n",
              "      display: none;\n",
              "      fill: #1967D2;\n",
              "      height: 32px;\n",
              "      padding: 0 0 0 0;\n",
              "      width: 32px;\n",
              "    }\n",
              "\n",
              "    .colab-df-convert:hover {\n",
              "      background-color: #E2EBFA;\n",
              "      box-shadow: 0px 1px 2px rgba(60, 64, 67, 0.3), 0px 1px 3px 1px rgba(60, 64, 67, 0.15);\n",
              "      fill: #174EA6;\n",
              "    }\n",
              "\n",
              "    .colab-df-buttons div {\n",
              "      margin-bottom: 4px;\n",
              "    }\n",
              "\n",
              "    [theme=dark] .colab-df-convert {\n",
              "      background-color: #3B4455;\n",
              "      fill: #D2E3FC;\n",
              "    }\n",
              "\n",
              "    [theme=dark] .colab-df-convert:hover {\n",
              "      background-color: #434B5C;\n",
              "      box-shadow: 0px 1px 3px 1px rgba(0, 0, 0, 0.15);\n",
              "      filter: drop-shadow(0px 1px 2px rgba(0, 0, 0, 0.3));\n",
              "      fill: #FFFFFF;\n",
              "    }\n",
              "  </style>\n",
              "\n",
              "    <script>\n",
              "      const buttonEl =\n",
              "        document.querySelector('#df-280244b7-17f0-4f35-a9b5-a4c6f4b5b51f button.colab-df-convert');\n",
              "      buttonEl.style.display =\n",
              "        google.colab.kernel.accessAllowed ? 'block' : 'none';\n",
              "\n",
              "      async function convertToInteractive(key) {\n",
              "        const element = document.querySelector('#df-280244b7-17f0-4f35-a9b5-a4c6f4b5b51f');\n",
              "        const dataTable =\n",
              "          await google.colab.kernel.invokeFunction('convertToInteractive',\n",
              "                                                    [key], {});\n",
              "        if (!dataTable) return;\n",
              "\n",
              "        const docLinkHtml = 'Like what you see? Visit the ' +\n",
              "          '<a target=\"_blank\" href=https://colab.research.google.com/notebooks/data_table.ipynb>data table notebook</a>'\n",
              "          + ' to learn more about interactive tables.';\n",
              "        element.innerHTML = '';\n",
              "        dataTable['output_type'] = 'display_data';\n",
              "        await google.colab.output.renderOutput(dataTable, element);\n",
              "        const docLink = document.createElement('div');\n",
              "        docLink.innerHTML = docLinkHtml;\n",
              "        element.appendChild(docLink);\n",
              "      }\n",
              "    </script>\n",
              "  </div>\n",
              "\n",
              "\n",
              "    </div>\n",
              "  </div>\n"
            ],
            "application/vnd.google.colaboratory.intrinsic+json": {
              "type": "dataframe",
              "variable_name": "imdb",
              "summary": "{\n  \"name\": \"imdb\",\n  \"rows\": 3348,\n  \"fields\": [\n    {\n      \"column\": \"id\",\n      \"properties\": {\n        \"dtype\": \"string\",\n        \"num_unique_values\": 3348,\n        \"samples\": [\n          \"tt0816692\",\n          \"tt1840309\",\n          \"tt0424345\"\n        ],\n        \"semantic_type\": \"\",\n        \"description\": \"\"\n      }\n    },\n    {\n      \"column\": \"primaryTitle\",\n      \"properties\": {\n        \"dtype\": \"string\",\n        \"num_unique_values\": 3295,\n        \"samples\": [\n          \"Ocean's Eight\",\n          \"A Bad Moms Christmas\",\n          \"Love, Simon\"\n        ],\n        \"semantic_type\": \"\",\n        \"description\": \"\"\n      }\n    },\n    {\n      \"column\": \"originalTitle\",\n      \"properties\": {\n        \"dtype\": \"string\",\n        \"num_unique_values\": 3298,\n        \"samples\": [\n          \"2012\",\n          \"Stuck on You\",\n          \"Boss Level\"\n        ],\n        \"semantic_type\": \"\",\n        \"description\": \"\"\n      }\n    },\n    {\n      \"column\": \"isAdult\",\n      \"properties\": {\n        \"dtype\": \"number\",\n        \"std\": 0,\n        \"min\": 0,\n        \"max\": 0,\n        \"num_unique_values\": 1,\n        \"samples\": [\n          0\n        ],\n        \"semantic_type\": \"\",\n        \"description\": \"\"\n      }\n    },\n    {\n      \"column\": \"runtimeMinutes\",\n      \"properties\": {\n        \"dtype\": \"number\",\n        \"std\": 19,\n        \"min\": 63,\n        \"max\": 242,\n        \"num_unique_values\": 125,\n        \"samples\": [\n          110\n        ],\n        \"semantic_type\": \"\",\n        \"description\": \"\"\n      }\n    },\n    {\n      \"column\": \"genres\",\n      \"properties\": {\n        \"dtype\": \"category\",\n        \"num_unique_values\": 287,\n        \"samples\": [\n          \"Action,Crime,Drama\"\n        ],\n        \"semantic_type\": \"\",\n        \"description\": \"\"\n      }\n    },\n    {\n      \"column\": \"averageRating\",\n      \"properties\": {\n        \"dtype\": \"number\",\n        \"std\": 0.8822096497526334,\n        \"min\": 1.0,\n        \"max\": 9.3,\n        \"num_unique_values\": 68,\n        \"samples\": [\n          4.9\n        ],\n        \"semantic_type\": \"\",\n        \"description\": \"\"\n      }\n    },\n    {\n      \"column\": \"numVotes\",\n      \"properties\": {\n        \"dtype\": \"number\",\n        \"std\": 248021,\n        \"min\": 50004,\n        \"max\": 2817283,\n        \"num_unique_values\": 3328,\n        \"samples\": [\n          105868\n        ],\n        \"semantic_type\": \"\",\n        \"description\": \"\"\n      }\n    },\n    {\n      \"column\": \"budget\",\n      \"properties\": {\n        \"dtype\": \"number\",\n        \"std\": 51786142,\n        \"min\": 18,\n        \"max\": 356000000,\n        \"num_unique_values\": 343,\n        \"samples\": [\n          300000000\n        ],\n        \"semantic_type\": \"\",\n        \"description\": \"\"\n      }\n    },\n    {\n      \"column\": \"gross\",\n      \"properties\": {\n        \"dtype\": \"number\",\n        \"std\": 236650674.74826702,\n        \"min\": 210.0,\n        \"max\": 2923706026.0,\n        \"num_unique_values\": 3296,\n        \"samples\": [\n          470116094.0\n        ],\n        \"semantic_type\": \"\",\n        \"description\": \"\"\n      }\n    },\n    {\n      \"column\": \"release_date\",\n      \"properties\": {\n        \"dtype\": \"string\",\n        \"num_unique_values\": 2805,\n        \"samples\": [\n          \"August 23, 2004\"\n        ],\n        \"semantic_type\": \"\",\n        \"description\": \"\"\n      }\n    },\n    {\n      \"column\": \"directors\",\n      \"properties\": {\n        \"dtype\": \"category\",\n        \"num_unique_values\": 1356,\n        \"samples\": [\n          \"John Badham\"\n        ],\n        \"semantic_type\": \"\",\n        \"description\": \"\"\n      }\n    }\n  ]\n}"
            }
          },
          "metadata": {},
          "execution_count": 336
        }
      ]
    },
    {
      "cell_type": "code",
      "source": [
        "#draw scattered plot"
      ],
      "metadata": {
        "id": "b6XE3avjzTT0"
      },
      "execution_count": 337,
      "outputs": []
    },
    {
      "cell_type": "code",
      "source": [
        "plt.figure(figsize=(6,5))\n",
        "sns.scatterplot(x=imdb['budget'],y=imdb[\"gross\"])\n",
        "plt.xlabel(\"budget of movies\")\n",
        "plt.title(\"outliers in budget affect movie performance (gross) \")"
      ],
      "metadata": {
        "colab": {
          "base_uri": "https://localhost:8080/",
          "height": 519
        },
        "id": "6XT-Uaz1zXOi",
        "outputId": "9124b216-e37d-42b0-ea06-ba5d11210378"
      },
      "execution_count": 338,
      "outputs": [
        {
          "output_type": "execute_result",
          "data": {
            "text/plain": [
              "Text(0.5, 1.0, 'Do outliers in budget affect movie performance (gross) ')"
            ]
          },
          "metadata": {},
          "execution_count": 338
        },
        {
          "output_type": "display_data",
          "data": {
            "text/plain": [
              "<Figure size 600x500 with 1 Axes>"
            ],
            "image/png": "[encoded data removed]"
          },
          "metadata": {}
        }
      ]
    },
    {
      "cell_type": "markdown",
      "source": [
        "INSIGHTS\n",
        "\n",
        "--Positive Correlation – Movies with higher budgets generally tend to have higher gross revenue, indicating that bigger investments often lead to bigger box office returns.\n",
        "\n",
        "--Outliers Exist – Some movies with low budgets but high gross revenue (e.g., indie hits) and high budgets but low earnings (e.g., box office flops).\n",
        "\n",
        "--Diminishing Returns – Beyond a certain budget, spending more doesn’t always guarantee significantly higher revenue.\n",
        "\n",
        "--Blockbuster Effect – A few extremely high-budget movies dominate the gross revenue, likely major franchises or global hits.\n",
        "\n",
        "--Risk vs. Reward – While higher budgets can lead to higher earnings, some expensive films still underperform, proving that content and marketing also play key roles."
      ],
      "metadata": {
        "id": "DZKPI73Fz4ci"
      }
    },
    {
      "cell_type": "code",
      "source": [],
      "metadata": {
        "id": "XlJdvXQhz_rw"
      },
      "execution_count": null,
      "outputs": []
    }
  ]
}